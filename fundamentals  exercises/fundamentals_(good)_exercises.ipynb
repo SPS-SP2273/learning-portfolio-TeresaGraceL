{
 "cells": [
  {
   "attachments": {},
   "cell_type": "markdown",
   "id": "123456",
   "metadata": {},
   "source": [
    "<div style=\"text-align:left;font-size:2em\"><span style=\"font-weight:bolder;font-size:1.25em\">SP2273 | Learning Portfolio</span><br><br><span style=\"font-weight:bold;color:darkred\">Fundamentals (Good) Exercises</span></div>"
   ]
  },
  {
   "cell_type": "markdown",
   "id": "1cc532c4-2c1f-4d60-a6fb-443f750c2b8a",
   "metadata": {},
   "source": [
    "# Step 1"
   ]
  },
  {
   "cell_type": "code",
   "execution_count": 45,
   "id": "8131f233-900e-4568-b50e-1d0600ef04cd",
   "metadata": {},
   "outputs": [
    {
     "name": "stdin",
     "output_type": "stream",
     "text": [
      "Give me a number? 10\n"
     ]
    },
    {
     "name": "stdout",
     "output_type": "stream",
     "text": [
      "You entered 10\n"
     ]
    }
   ],
   "source": [
    "user_input = input('Give me a number?')\n",
    "print('You entered', user_input)"
   ]
  },
  {
   "cell_type": "markdown",
   "id": "13b36297-dc72-4b24-b559-e08ef2986f59",
   "metadata": {},
   "source": [
    "# Task"
   ]
  },
  {
   "cell_type": "markdown",
   "id": "fbda8dfd-5fe0-417f-8d7c-2480e1357dd1",
   "metadata": {},
   "source": [
    "**Basic function**"
   ]
  },
  {
   "cell_type": "code",
   "execution_count": 11,
   "id": "546722ef-b141-4a65-a919-87831ef56239",
   "metadata": {},
   "outputs": [
    {
     "name": "stdin",
     "output_type": "stream",
     "text": [
      "Give me a number? 33\n"
     ]
    },
    {
     "name": "stdout",
     "output_type": "stream",
     "text": [
      "You entered 33\n",
      "Fail\n"
     ]
    }
   ],
   "source": [
    "user_input = input('Give me a number?')\n",
    "print('You entered', user_input)\n",
    "\n",
    "if 70<=float(user_input)<=100:\n",
    "    print('A')\n",
    "elif 50<=float(user_input)<=69:\n",
    "    print('B')\n",
    "elif 35<=float(user_input)<=49:\n",
    "    print('C')\n",
    "else:\n",
    "    print('Fail')"
   ]
  },
  {
   "cell_type": "code",
   "execution_count": 44,
   "id": "701500f4-a0c2-4d39-baf9-31cb44a0ee8a",
   "metadata": {},
   "outputs": [
    {
     "name": "stdin",
     "output_type": "stream",
     "text": [
      "Please enter the student's score as a whole number:  -1\n"
     ]
    },
    {
     "name": "stdout",
     "output_type": "stream",
     "text": [
      "The student's letter grade is: \n",
      "This is number is too low, please input a non-negative number\n"
     ]
    }
   ],
   "source": [
    "user_input = input('Please enter the student\\'s score as a whole number: ')\n",
    "print('The student\\'s letter grade is: ',)\n",
    "\n",
    "if 70<=float(user_input)<=100:\n",
    "    print('A')\n",
    "elif 50<=float(user_input)<=69:\n",
    "    print('B')\n",
    "elif 35<=float(user_input)<=49:\n",
    "    print('C')\n",
    "elif float(user_input)<0:\n",
    "    print('This is number is too low, please input a non-negative number')\n",
    "elif float(user_input)>100:\n",
    "    print('This is number is too high, please input a number below 100')\n",
    "else:\n",
    "    print('Fail')"
   ]
  },
  {
   "cell_type": "markdown",
   "id": "7cd99f31-069b-465b-b044-4bcdbc3bb60e",
   "metadata": {},
   "source": [
    "**Considerations for error message**\n",
    "1) What if a string is entered\n",
    "2) What if you enter more than 100 or less than 0\n",
    "3) What if the student's score is not a whole number?\n",
    "   - Your score must be a whole number (try coming back after storing data)"
   ]
  },
  {
   "cell_type": "markdown",
   "id": "385f9e59-4430-42d4-a363-61db4bc9c0c9",
   "metadata": {},
   "source": [
    "**Addressing comments**"
   ]
  },
  {
   "cell_type": "markdown",
   "id": "a615d6ad-c3d0-481d-88ae-6afd9c404c0d",
   "metadata": {},
   "source": [
    "- Comment: Modify it using & (Fundamentals (Good) 2.1) to check for whether the value is between 0 and 100 before elif statements that will return the letter grade.\n"
   ]
  },
  {
   "cell_type": "code",
   "execution_count": 36,
   "id": "f66ed3ce-1ae9-4c41-88f8-970511a6ffe0",
   "metadata": {},
   "outputs": [
    {
     "name": "stdin",
     "output_type": "stream",
     "text": [
      "Please enter the student's score as a whole number:  -100\n"
     ]
    },
    {
     "name": "stdout",
     "output_type": "stream",
     "text": [
      "The student's letter grade is: \n",
      "This is not a valid input, please input a number between 0 and 100\n"
     ]
    }
   ],
   "source": [
    "#modified according to comments\n",
    "\n",
    "user_input = input('Please enter the student\\'s score as a whole number: ')\n",
    "print('The student\\'s letter grade is: ',)\n",
    "\n",
    "if user_input.isnumeric()== False & (float(user_input)<0) : \n",
    "    print('This is not a valid input, please input a number between 0 and 100')\n",
    "elif float(user_input)>100:\n",
    "    print('This is number is out of the range, please input a number between 0 and 100')\n",
    "elif 70<=float(user_input)<=100:\n",
    "    print('A')\n",
    "elif 50<=float(user_input)<=69:\n",
    "    print('B')\n",
    "elif 35<=float(user_input)<=49:\n",
    "    print('C')\n",
    "\n",
    "else:\n",
    "    print('Fail')"
   ]
  },
  {
   "cell_type": "code",
   "execution_count": 40,
   "id": "dc2abdf7-777b-4d5f-bc9b-bb487d5689a2",
   "metadata": {},
   "outputs": [
    {
     "name": "stdin",
     "output_type": "stream",
     "text": [
      "Please enter the student's score as a whole number:  -100\n"
     ]
    },
    {
     "name": "stdout",
     "output_type": "stream",
     "text": [
      "The student's letter grade is: \n",
      "This is not a valid input, please input a number between 0 and 100\n"
     ]
    }
   ],
   "source": [
    "#more concise first line\n",
    "\n",
    "user_input = input('Please enter the student\\'s score as a whole number: ')\n",
    "print('The student\\'s letter grade is: ',)\n",
    "\n",
    "if user_input.isnumeric()== False or (float(user_input)<0 or float(user_input)>100) : #more concise\n",
    "    print('This is not a valid input, please input a number between 0 and 100')\n",
    "elif 70<=float(user_input)<=100:\n",
    "    print('A')\n",
    "elif 50<=float(user_input)<=69:\n",
    "    print('B')\n",
    "elif 35<=float(user_input)<=49:\n",
    "    print('C')\n",
    "\n",
    "else:\n",
    "    print('Fail')"
   ]
  },
  {
   "cell_type": "markdown",
   "id": "031fba2d-2103-4e61-b3c7-99c044730118",
   "metadata": {},
   "source": [
    "**NICE-to-know (Optional):** Regarding the decimal point input case, one way to go about this is to not use isnumeric as that checks if the input consists only of numbers from 0-9. It considers decimal points not numeric hence the inability to feed decimal values. Instead, one would want to check if the input is of float data type, and if an error is obtained the next thing to do is for the program to check if it is int data type. If both fail, the input must have contained alphabets in which case a 'Please enter an integer value from 0-100.' string would be generated for the user. This is known as **Exception Handling and one can use Try Except to deal with such an issue**."
   ]
  },
  {
   "cell_type": "code",
   "execution_count": 56,
   "id": "4c7bf147-3425-426c-bb18-2c8fd14340ae",
   "metadata": {},
   "outputs": [
    {
     "name": "stdin",
     "output_type": "stream",
     "text": [
      "Please enter the student's score as a whole number:  -100\n"
     ]
    },
    {
     "name": "stdout",
     "output_type": "stream",
     "text": [
      "The student's letter grade is: \n",
      "This is not a valid input, please input a number between 0 and 100\n"
     ]
    }
   ],
   "source": [
    "user_input = input('Please enter the student\\'s score as a whole number: ')\n",
    "print('The student\\'s letter grade is: ',)\n",
    "\n",
    "try: \n",
    "    score = float(user_input)\n",
    "    if (float(score)<0 or float(score)>100) : \n",
    "        print('This is not a valid input, please input a number between 0 and 100')\n",
    "    elif 70<=float(score)<=100:\n",
    "        print('A')\n",
    "    elif 50<=float(score)<=69:\n",
    "        print('B')\n",
    "    elif 35<=float(user_input)<=49:\n",
    "        print('C')\n",
    "    else:\n",
    "        print('Fail')\n",
    "except ValueError:\n",
    "    print('Please enter an integer value from 0-100')"
   ]
  },
  {
   "cell_type": "code",
   "execution_count": 57,
   "id": "f3333124-a683-40b1-9d7c-211b6234e086",
   "metadata": {},
   "outputs": [
    {
     "name": "stdin",
     "output_type": "stream",
     "text": [
      "Please enter the student's score as a whole number:  100\n"
     ]
    },
    {
     "name": "stdout",
     "output_type": "stream",
     "text": [
      "The student's letter grade is: \n",
      "A\n"
     ]
    }
   ],
   "source": [
    "user_input = input('Please enter the student\\'s score as a whole number: ')\n",
    "print('The student\\'s letter grade is: ',)\n",
    "\n",
    "try: \n",
    "    score = float(user_input)\n",
    "    if (float(score)<0 or float(score)>100) : \n",
    "        print('This is not a valid input, please input a number between 0 and 100')\n",
    "    elif 70<=float(score)<=100:\n",
    "        print('A')\n",
    "    elif 50<=float(score)<=69:\n",
    "        print('B')\n",
    "    elif 35<=float(user_input)<=49:\n",
    "        print('C')\n",
    "    else:\n",
    "        print('Fail')\n",
    "except ValueError:\n",
    "    print('Please enter an integer value from 0-100')"
   ]
  },
  {
   "cell_type": "code",
   "execution_count": 58,
   "id": "8d344084-9e9e-4346-b64a-b49723ecf970",
   "metadata": {},
   "outputs": [
    {
     "name": "stdin",
     "output_type": "stream",
     "text": [
      "Please enter the student's score as a whole number:  hello\n"
     ]
    },
    {
     "name": "stdout",
     "output_type": "stream",
     "text": [
      "The student's letter grade is: \n",
      "Please enter an integer value from 0-100\n"
     ]
    }
   ],
   "source": [
    "user_input = input('Please enter the student\\'s score as a whole number: ')\n",
    "print('The student\\'s letter grade is: ',)\n",
    "\n",
    "try: \n",
    "    score = float(user_input)\n",
    "    if (float(score)<0 or float(score)>100) : \n",
    "        print('This is not a valid input, please input a number between 0 and 100')\n",
    "    elif 70<=float(score)<=100:\n",
    "        print('A')\n",
    "    elif 50<=float(score)<=69:\n",
    "        print('B')\n",
    "    elif 35<=float(user_input)<=49:\n",
    "        print('C')\n",
    "    else:\n",
    "        print('Fail')\n",
    "except ValueError:\n",
    "    print('Please enter an integer value from 0-100')"
   ]
  },
  {
   "cell_type": "markdown",
   "id": "2e212ecf-db8e-40eb-a059-b6a01e5bf273",
   "metadata": {},
   "source": [
    "**original exercise**"
   ]
  },
  {
   "cell_type": "code",
   "execution_count": 40,
   "id": "fc41b491-b1a6-4496-84d5-3c5ef27054ac",
   "metadata": {},
   "outputs": [
    {
     "name": "stdin",
     "output_type": "stream",
     "text": [
      "Please enter the student's score as a whole number:  60\n"
     ]
    },
    {
     "name": "stdout",
     "output_type": "stream",
     "text": [
      "The student's letter grade is: \n",
      "B\n"
     ]
    }
   ],
   "source": [
    "user_input = input('Please enter the student\\'s score as a whole number: ')\n",
    "print('The student\\'s letter grade is: ',)\n",
    "\n",
    "if user_input.isnumeric()== False:\n",
    "    print('This is not a valid input, please input a number')\n",
    "elif 70<=float(user_input)<=100:\n",
    "    print('A')\n",
    "elif 50<=float(user_input)<=69:\n",
    "    print('B')\n",
    "elif 35<=float(user_input)<=49:\n",
    "    print('C')\n",
    "elif float(user_input)<0:\n",
    "    print('This is number is too low, please input a non-negative number')\n",
    "elif float(user_input)>100:\n",
    "    print('This is number is too high, please input a number below 100')\n",
    "else:\n",
    "    print('Fail')"
   ]
  },
  {
   "cell_type": "code",
   "execution_count": 37,
   "id": "b3e3837d-7ae1-466a-8931-732eb15a53ee",
   "metadata": {},
   "outputs": [
    {
     "name": "stdin",
     "output_type": "stream",
     "text": [
      "Please enter the student's score as a whole number:  hello\n"
     ]
    },
    {
     "name": "stdout",
     "output_type": "stream",
     "text": [
      "The student's letter grade is: \n",
      "This is not a valid input, please input a number\n"
     ]
    }
   ],
   "source": [
    "user_input = input('Please enter the student\\'s score as a whole number: ')\n",
    "print('The student\\'s letter grade is: ',)\n",
    "\n",
    "if user_input.isnumeric()== False:\n",
    "    print('This is not a valid input, please input a number')\n",
    "elif 70<=float(user_input)<=100:\n",
    "    print('A')\n",
    "elif 50<=float(user_input)<=69:\n",
    "    print('B')\n",
    "elif 35<=float(user_input)<=49:\n",
    "    print('C')\n",
    "elif float(user_input)<0:\n",
    "    print('This is number is too low, please input a non-negative number')\n",
    "elif float(user_input)>100:\n",
    "    print('This is number is too high, please input a number below 100')\n",
    "else:\n",
    "    print('Fail')"
   ]
  },
  {
   "cell_type": "code",
   "execution_count": 38,
   "id": "28468054-52ad-412e-be24-e25523372e16",
   "metadata": {},
   "outputs": [
    {
     "name": "stdin",
     "output_type": "stream",
     "text": [
      "Please enter the student's score as a whole number:  1001\n"
     ]
    },
    {
     "name": "stdout",
     "output_type": "stream",
     "text": [
      "The student's letter grade is: \n",
      "This is number is too high, please input a number below 100\n"
     ]
    }
   ],
   "source": [
    "user_input = input('Please enter the student\\'s score as a whole number: ')\n",
    "print('The student\\'s letter grade is: ',)\n",
    "\n",
    "if user_input.isnumeric()== False:\n",
    "    print('This is not a valid input, please input a number')\n",
    "elif 70<=float(user_input)<=100:\n",
    "    print('A')\n",
    "elif 50<=float(user_input)<=69:\n",
    "    print('B')\n",
    "elif 35<=float(user_input)<=49:\n",
    "    print('C')\n",
    "elif float(user_input)<0:\n",
    "    print('This is number is too low, please input a non-negative number')\n",
    "elif float(user_input)>100:\n",
    "    print('This is number is too high, please input a number below 100')\n",
    "else:\n",
    "    print('Fail')"
   ]
  },
  {
   "cell_type": "markdown",
   "id": "c7724e47-fddf-4adf-ad80-5415fd9ce7ed",
   "metadata": {},
   "source": [
    "- things to fix in the code: if a number has a decimal place, if the number is negative (not currently working after putting in the isnumeric function)"
   ]
  },
  {
   "cell_type": "markdown",
   "id": "3d646296-6a79-49f1-b5fc-21b93000e137",
   "metadata": {},
   "source": [
    "**A more elegant way to summon the function** will be learned later on\n",
    "- storing data, 'in' and 'split'\n",
    "- possible to create an is.numeric with a dot (and with a negative sign)"
   ]
  }
 ],
 "metadata": {
  "kernelspec": {
   "display_name": "Python 3 (ipykernel)",
   "language": "python",
   "name": "python3"
  },
  "language_info": {
   "codemirror_mode": {
    "name": "ipython",
    "version": 3
   },
   "file_extension": ".py",
   "mimetype": "text/x-python",
   "name": "python",
   "nbconvert_exporter": "python",
   "pygments_lexer": "ipython3",
   "version": "3.11.5"
  },
  "toc": {
   "base_numbering": 1,
   "nav_menu": {},
   "number_sections": true,
   "sideBar": true,
   "skip_h1_title": false,
   "title_cell": "Table of Contents",
   "title_sidebar": "Contents",
   "toc_cell": false,
   "toc_position": {},
   "toc_section_display": true,
   "toc_window_display": false
  },
  "vscode": {
   "interpreter": {
    "hash": "31f2aee4e71d21fbe5cf8b01ff0e069b9275f58929596ceb00d14d90e3e16cd6"
   }
  }
 },
 "nbformat": 4,
 "nbformat_minor": 5
}
