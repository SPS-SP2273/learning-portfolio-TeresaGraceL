{
 "cells": [
  {
   "attachments": {},
   "cell_type": "markdown",
   "id": "123456",
   "metadata": {},
   "source": [
    "<div style=\"text-align:left;font-size:2em\"><span style=\"font-weight:bolder;font-size:1.25em\">SP2273 | Learning Portfolio</span><br><br><span style=\"font-weight:bold;color:darkred\">Loops (Good) Exercises</span></div>"
   ]
  },
  {
   "cell_type": "markdown",
   "id": "1c7a7b9a-44d1-400d-a806-5a8652eba7cf",
   "metadata": {},
   "source": [
    "# Exercise 1 (Make an odd list)"
   ]
  },
  {
   "cell_type": "code",
   "execution_count": 43,
   "id": "47be2242-d095-4de4-897b-5b8b22280b72",
   "metadata": {},
   "outputs": [
    {
     "name": "stdout",
     "output_type": "stream",
     "text": [
      "the square of 1 is 1\n",
      "the square of 3 is 9\n",
      "the square of 5 is 25\n",
      "the square of 7 is 49\n",
      "the square of 9 is 81\n"
     ]
    }
   ],
   "source": [
    "for number in range(10):\n",
    "    if number % 2 == 0:\n",
    "        continue \n",
    "    square = number**2\n",
    "    print(f'the square of {number} is {square}')"
   ]
  },
  {
   "cell_type": "code",
   "execution_count": 50,
   "id": "a17de8e5-ba3a-48dc-8039-3372012c6dde",
   "metadata": {},
   "outputs": [
    {
     "data": {
      "text/plain": [
       "[1, 9, 25, 49, 81]"
      ]
     },
     "execution_count": 50,
     "metadata": {},
     "output_type": "execute_result"
    }
   ],
   "source": [
    "# need to generate a list for fair comparison\n",
    "odd_numbers = []\n",
    "for number in range(10):\n",
    "    if number % 2 == 0:\n",
    "        continue \n",
    "    square = number**2\n",
    "    odd_numbers.append(square)\n",
    "odd_numbers"
   ]
  },
  {
   "cell_type": "markdown",
   "id": "e89cdec9-b44b-489c-8829-1eded31679ff",
   "metadata": {},
   "source": [
    "# Exercise 2 (Make me another odd list)"
   ]
  },
  {
   "cell_type": "code",
   "execution_count": 25,
   "id": "b5f23dac-b470-40e9-a5c9-af45a03288be",
   "metadata": {},
   "outputs": [
    {
     "data": {
      "text/plain": [
       "[1, 9, 25, 49, 81]"
      ]
     },
     "execution_count": 25,
     "metadata": {},
     "output_type": "execute_result"
    }
   ],
   "source": [
    "[number**2 for number in range(10) if number % 2 == 1]"
   ]
  },
  {
   "cell_type": "markdown",
   "id": "e7ccba55-6692-4f46-bc4d-495b9faba0e3",
   "metadata": {},
   "source": [
    "# Exercise 3 (Time me!)"
   ]
  },
  {
   "cell_type": "code",
   "execution_count": 22,
   "id": "b97f157b-3e48-427b-a74c-4dbb3a6428c5",
   "metadata": {},
   "outputs": [
    {
     "name": "stdout",
     "output_type": "stream",
     "text": [
      "389 ns ± 3.13 ns per loop (mean ± std. dev. of 7 runs, 1,000,000 loops each)\n"
     ]
    }
   ],
   "source": [
    "%%timeit \n",
    "[number**2 for number in range(10) if number % 2 == 1]"
   ]
  },
  {
   "cell_type": "code",
   "execution_count": 51,
   "id": "1079ae4c-7699-4e01-86a1-4a5884154eae",
   "metadata": {},
   "outputs": [
    {
     "name": "stdout",
     "output_type": "stream",
     "text": [
      "359 ns ± 4.89 ns per loop (mean ± std. dev. of 7 runs, 1,000,000 loops each)\n"
     ]
    }
   ],
   "source": [
    "%%timeit\n",
    "for number in range(10):\n",
    "    if number % 2 == 0:\n",
    "        continue \n",
    "    square = number**2\n",
    "    odd_numbers.append(square)"
   ]
  },
  {
   "cell_type": "markdown",
   "id": "8e9b3be7-b303-46d5-8192-53c636e60a44",
   "metadata": {},
   "source": [
    "- they are about the same speed? the solution in exercise 1 is very slightly faster"
   ]
  }
 ],
 "metadata": {
  "kernelspec": {
   "display_name": "Python 3 (ipykernel)",
   "language": "python",
   "name": "python3"
  },
  "language_info": {
   "codemirror_mode": {
    "name": "ipython",
    "version": 3
   },
   "file_extension": ".py",
   "mimetype": "text/x-python",
   "name": "python",
   "nbconvert_exporter": "python",
   "pygments_lexer": "ipython3",
   "version": "3.11.5"
  },
  "toc": {
   "base_numbering": 1,
   "nav_menu": {},
   "number_sections": true,
   "sideBar": true,
   "skip_h1_title": false,
   "title_cell": "Table of Contents",
   "title_sidebar": "Contents",
   "toc_cell": false,
   "toc_position": {},
   "toc_section_display": true,
   "toc_window_display": false
  },
  "vscode": {
   "interpreter": {
    "hash": "31f2aee4e71d21fbe5cf8b01ff0e069b9275f58929596ceb00d14d90e3e16cd6"
   }
  }
 },
 "nbformat": 4,
 "nbformat_minor": 5
}
