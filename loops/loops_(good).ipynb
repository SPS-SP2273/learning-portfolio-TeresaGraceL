{
 "cells": [
  {
   "attachments": {},
   "cell_type": "markdown",
   "id": "123456",
   "metadata": {},
   "source": [
    "<div style=\"text-align:left;font-size:2em\"><span style=\"font-weight:bolder;font-size:1.25em\">SP2273 | Learning Portfolio</span><br><br><span style=\"font-weight:bold;color:darkred\">Loops (Good)</span></div>"
   ]
  },
  {
   "attachments": {},
   "cell_type": "markdown",
   "id": "ac5b35d0",
   "metadata": {},
   "source": [
    "# What to expect in this chapter"
   ]
  },
  {
   "cell_type": "markdown",
   "id": "75a476ce-f156-479c-9008-2f7024303dcc",
   "metadata": {},
   "source": [
    "- how to exercise more control over what happens in loops by using the continue and break statements.\n",
    "- break and continue can be used anytime to interrupt the flow of loops\n",
    "- introduction to list comprehension, a super-optimised variant of the for a loop. You can use this to create list from other lists.\n",
    "\n"
   ]
  },
  {
   "attachments": {},
   "cell_type": "markdown",
   "id": "d76773d2",
   "metadata": {},
   "source": [
    "# 1 Interrupting the flow"
   ]
  },
  {
   "cell_type": "markdown",
   "id": "21349c53-6c44-4e8e-bf64-1f0c3921c465",
   "metadata": {},
   "source": [
    "**Example 1** break"
   ]
  },
  {
   "cell_type": "code",
   "execution_count": 2,
   "id": "715cbee4-cab9-448e-bc63-36b038a30da3",
   "metadata": {},
   "outputs": [
    {
     "name": "stdout",
     "output_type": "stream",
     "text": [
      "0 1\n",
      "1 10\n",
      "2 100\n",
      "3 1000\n"
     ]
    }
   ],
   "source": [
    "for power in range(5):\n",
    "    number = 10**power\n",
    "    if number > 5000:\n",
    "        break\n",
    "    print(power, number)"
   ]
  },
  {
   "cell_type": "markdown",
   "id": "047d2e9e-4bed-4552-91cb-cb667562269b",
   "metadata": {},
   "source": [
    "- break is used to break out of the loop and terminate it\n",
    "- typically used with if so you break out if a certain conition is met \n",
    "- break also works with a while loop"
   ]
  },
  {
   "cell_type": "code",
   "execution_count": 5,
   "id": "949dae70-2108-4b9f-ae8a-6b04c19a4a2a",
   "metadata": {},
   "outputs": [
    {
     "name": "stdout",
     "output_type": "stream",
     "text": [
      "10 raised to the power of 0 is 1\n",
      "10 raised to the power of 1 is 10\n",
      "10 raised to the power of 2 is 100\n",
      "10 raised to the power of 3 is 1000\n",
      "10 raised to the power of 4 is 10000\n"
     ]
    }
   ],
   "source": [
    "for power in range(5):\n",
    "    number = 10**power\n",
    "    print(f'10 raised to the power of {power} is {number}')"
   ]
  },
  {
   "cell_type": "code",
   "execution_count": 6,
   "id": "57448766-ff30-4082-b7f7-6a00ee402b17",
   "metadata": {},
   "outputs": [
    {
     "name": "stdout",
     "output_type": "stream",
     "text": [
      "10 raised to the power of 0 is 1\n",
      "10 raised to the power of 1 is 2\n",
      "10 raised to the power of 2 is 4\n",
      "10 raised to the power of 3 is 8\n",
      "10 raised to the power of 4 is 16\n"
     ]
    }
   ],
   "source": [
    "for power in range(5):\n",
    "    number = 2**power\n",
    "    print(f'10 raised to the power of {power} is {number}')"
   ]
  },
  {
   "cell_type": "code",
   "execution_count": 10,
   "id": "33069aef-59c1-4084-995a-afa22c400305",
   "metadata": {},
   "outputs": [
    {
     "name": "stdout",
     "output_type": "stream",
     "text": [
      "10 raised to the power of 0 is 1\n",
      "10 raised to the power of 1 is 2\n",
      "10 raised to the power of 2 is 4\n",
      "10 raised to the power of 3 is 8\n",
      "10 raised to the power of 4 is 16\n",
      "10 raised to the power of 5 is 32\n",
      "10 raised to the power of 6 is 64\n",
      "10 raised to the power of 7 is 128\n",
      "10 raised to the power of 8 is 256\n",
      "10 raised to the power of 9 is 512\n"
     ]
    }
   ],
   "source": [
    "for power in range(50):\n",
    "    number = 2**power\n",
    "    if number > 1000:\n",
    "        break\n",
    "    print(f'10 raised to the power of {power} is {number}')"
   ]
  },
  {
   "cell_type": "markdown",
   "id": "25a5c77e-46b0-472b-8c85-0f78b2568020",
   "metadata": {},
   "source": [
    "**Example 2** continue\n",
    "- skip an iteration and move to the next\n",
    "- skips everything after it\n",
    "- typically used with if but can be used for while"
   ]
  },
  {
   "cell_type": "code",
   "execution_count": 9,
   "id": "75c7e55c-4843-4c82-8a45-81415e538c25",
   "metadata": {},
   "outputs": [
    {
     "name": "stdout",
     "output_type": "stream",
     "text": [
      "0 1\n",
      "1 10\n",
      "2 100\n",
      "4 10000\n"
     ]
    }
   ],
   "source": [
    "for power in range(5):\n",
    "    if power == 3:\n",
    "        continue        # Don't proceed further\n",
    "                        # IN THE CURRENT LOOP\n",
    "                        # if i == 3\n",
    "    number = 10**power\n",
    "    print(power, number)"
   ]
  },
  {
   "cell_type": "markdown",
   "id": "ae28bf04-a2e6-4ace-aa11-5a934a7f9763",
   "metadata": {},
   "source": [
    "**Example 3**"
   ]
  },
  {
   "cell_type": "code",
   "execution_count": 14,
   "id": "53c3b224-9b7c-4ad5-bb99-959f64d4a617",
   "metadata": {},
   "outputs": [
    {
     "name": "stdout",
     "output_type": "stream",
     "text": [
      "1\n",
      "3\n",
      "5\n",
      "7\n",
      "9\n"
     ]
    }
   ],
   "source": [
    "for number in range(10):\n",
    "    # Don't proceed if the remainder is zero\n",
    "    # I.e. if the number is even\n",
    "    if number % 2 == 0:\n",
    "        continue\n",
    "    print(number)"
   ]
  },
  {
   "cell_type": "code",
   "execution_count": 26,
   "id": "3662aa00-ca28-4887-b40f-d55f61b2c821",
   "metadata": {},
   "outputs": [
    {
     "name": "stdout",
     "output_type": "stream",
     "text": [
      "2 raised to the power of 0 is 1\n",
      "2 raised to the power of 2 is 4\n",
      "2 raised to the power of 4 is 16\n",
      "2 raised to the power of 6 is 64\n",
      "2 raised to the power of 8 is 256\n",
      "2 raised to the power of 10 is 1024\n",
      "2 raised to the power of 12 is 4096\n",
      "2 raised to the power of 14 is 16384\n",
      "2 raised to the power of 16 is 65536\n",
      "2 raised to the power of 18 is 262144\n",
      "2 raised to the power of 20 is 1048576\n",
      "2 raised to the power of 22 is 4194304\n",
      "2 raised to the power of 24 is 16777216\n",
      "2 raised to the power of 26 is 67108864\n",
      "2 raised to the power of 28 is 268435456\n",
      "2 raised to the power of 30 is 1073741824\n",
      "2 raised to the power of 32 is 4294967296\n",
      "2 raised to the power of 34 is 17179869184\n",
      "2 raised to the power of 36 is 68719476736\n",
      "2 raised to the power of 38 is 274877906944\n",
      "2 raised to the power of 40 is 1099511627776\n",
      "2 raised to the power of 42 is 4398046511104\n",
      "2 raised to the power of 44 is 17592186044416\n",
      "2 raised to the power of 46 is 70368744177664\n",
      "2 raised to the power of 48 is 281474976710656\n"
     ]
    }
   ],
   "source": [
    "for power in range(50):\n",
    "    if power%2 !=0:\n",
    "        continue        \n",
    "    number = 2**power \n",
    "    print(f'2 raised to the power of {power} is {number}')"
   ]
  },
  {
   "cell_type": "markdown",
   "id": "89f694df-8df2-43bf-8012-a312fea456fa",
   "metadata": {},
   "source": [
    "**Example 4** loop will run forever, break will stop it"
   ]
  },
  {
   "cell_type": "code",
   "execution_count": 16,
   "id": "8bbd630d-0361-4556-8b49-8969994989dd",
   "metadata": {},
   "outputs": [
    {
     "name": "stdout",
     "output_type": "stream",
     "text": [
      "0\n",
      "1\n",
      "2\n",
      "3\n",
      "4\n"
     ]
    }
   ],
   "source": [
    "number=0\n",
    "\n",
    "while True:\n",
    "    print(number)\n",
    "    number += 1\n",
    "    if number > 4: break"
   ]
  },
  {
   "cell_type": "code",
   "execution_count": 17,
   "id": "1656b04e-fd6e-4fd3-9d22-526733f175a6",
   "metadata": {},
   "outputs": [
    {
     "name": "stdout",
     "output_type": "stream",
     "text": [
      "0\n",
      "1\n",
      "2\n",
      "3\n",
      "4\n",
      "5\n",
      "6\n",
      "7\n",
      "8\n",
      "9\n"
     ]
    }
   ],
   "source": [
    "number = 0\n",
    "\n",
    "while number < 10:\n",
    "    print(number)\n",
    "    number += 1"
   ]
  },
  {
   "cell_type": "code",
   "execution_count": 24,
   "id": "d005ebc4-53b1-4a4e-9038-54637c25f1bf",
   "metadata": {},
   "outputs": [
    {
     "name": "stdout",
     "output_type": "stream",
     "text": [
      "1 2\n",
      "2 4\n",
      "3 8\n",
      "4 16\n",
      "5 32\n",
      "6 64\n",
      "7 128\n",
      "8 256\n",
      "9 512\n",
      "10 1024\n"
     ]
    }
   ],
   "source": [
    "power = 0\n",
    "\n",
    "while power < 10:\n",
    "    power += 1\n",
    "    number = 2**power\n",
    "    print(power, number)"
   ]
  },
  {
   "cell_type": "code",
   "execution_count": 25,
   "id": "deb1694a-550c-4c0b-8b22-15b74778b036",
   "metadata": {},
   "outputs": [
    {
     "name": "stdout",
     "output_type": "stream",
     "text": [
      "1 2\n",
      "2 4\n",
      "3 8\n",
      "4 16\n",
      "5 32\n",
      "6 64\n",
      "7 128\n",
      "8 256\n",
      "9 512\n",
      "10 1024\n",
      "11 2048\n"
     ]
    }
   ],
   "source": [
    "power = 0\n",
    "\n",
    "while True:\n",
    "    power += 1\n",
    "    number = 2**power\n",
    "    if number > 2500:\n",
    "        break\n",
    "    print(power, number)"
   ]
  },
  {
   "cell_type": "code",
   "execution_count": 27,
   "id": "358723b2-fc28-459b-a825-8d81a54087ae",
   "metadata": {},
   "outputs": [
    {
     "name": "stdout",
     "output_type": "stream",
     "text": [
      "2 4\n",
      "4 16\n",
      "6 64\n",
      "8 256\n",
      "10 1024\n"
     ]
    }
   ],
   "source": [
    "power = 0\n",
    "\n",
    "while True:\n",
    "    power += 1\n",
    "    number = 2**power\n",
    "    \n",
    "    if power%2 !=0:\n",
    "        continue        \n",
    "        \n",
    "    if number > 2500:\n",
    "        break\n",
    "    print(power, number)"
   ]
  },
  {
   "cell_type": "markdown",
   "id": "c27b2f7b-8605-4880-8d7e-bf93e05e21f7",
   "metadata": {},
   "source": [
    "something about notebook 7: in debug mode can go to view, debugger panel"
   ]
  },
  {
   "attachments": {},
   "cell_type": "markdown",
   "id": "7e941f4b",
   "metadata": {},
   "source": [
    "# 2 List comprehension!"
   ]
  },
  {
   "cell_type": "markdown",
   "id": "46edc07f-2097-4ce4-9c5c-1044b3a65a23",
   "metadata": {},
   "source": [
    "\"syntatic sugars\" - ways to make things go faster"
   ]
  },
  {
   "attachments": {},
   "cell_type": "markdown",
   "id": "b7605f6b",
   "metadata": {},
   "source": [
    "## 2.1 Basic syntax"
   ]
  },
  {
   "cell_type": "code",
   "execution_count": 28,
   "id": "311c157d-b3f9-4bc4-a5d3-82c0f7e28e4e",
   "metadata": {},
   "outputs": [
    {
     "name": "stdout",
     "output_type": "stream",
     "text": [
      "0\n",
      "1\n",
      "2\n",
      "3\n",
      "4\n"
     ]
    }
   ],
   "source": [
    "for number in range(5):\n",
    "    print(number)"
   ]
  },
  {
   "cell_type": "code",
   "execution_count": 31,
   "id": "71f8b0f8-9a17-429d-868f-6acf18a96d44",
   "metadata": {},
   "outputs": [
    {
     "data": {
      "text/plain": [
       "[0, 1, 2, 3, 4]"
      ]
     },
     "execution_count": 31,
     "metadata": {},
     "output_type": "execute_result"
    }
   ],
   "source": [
    "[number for number in range(5)] #you will get a list"
   ]
  },
  {
   "cell_type": "code",
   "execution_count": 32,
   "id": "2fca9117-e47d-4313-81fc-350e5152b224",
   "metadata": {},
   "outputs": [
    {
     "data": {
      "text/plain": [
       "[0, 1, 4, 9, 16]"
      ]
     },
     "execution_count": 32,
     "metadata": {},
     "output_type": "execute_result"
    }
   ],
   "source": [
    "[number**2 for number in range(5)] #you will get a list"
   ]
  },
  {
   "cell_type": "code",
   "execution_count": 33,
   "id": "4c5b2e1e-c782-472c-bec6-9223f07ddbe6",
   "metadata": {},
   "outputs": [
    {
     "data": {
      "text/plain": [
       "[1, 2, 4, 8, 16]"
      ]
     },
     "execution_count": 33,
     "metadata": {},
     "output_type": "execute_result"
    }
   ],
   "source": [
    "[2**number for number in range(5)] #you will get a list"
   ]
  },
  {
   "cell_type": "markdown",
   "id": "5012729d-8e4b-419d-afd8-968243915ce8",
   "metadata": {},
   "source": [
    "- list comprehension is a fast way of creating a list\n",
    "- can be complicated with multiple comprehensions chained together"
   ]
  },
  {
   "attachments": {},
   "cell_type": "markdown",
   "id": "041dcfb2",
   "metadata": {},
   "source": [
    "## 2.2 List comprehension with conditions"
   ]
  },
  {
   "cell_type": "code",
   "execution_count": 35,
   "id": "1d14a15b-c20c-40f1-8e84-71caeaa08d81",
   "metadata": {},
   "outputs": [
    {
     "data": {
      "text/plain": [
       "[0, 2, 4, 6, 8]"
      ]
     },
     "execution_count": 35,
     "metadata": {},
     "output_type": "execute_result"
    }
   ],
   "source": [
    "[number for number in range(10) if number % 2 ==0]"
   ]
  },
  {
   "cell_type": "code",
   "execution_count": 36,
   "id": "1d5330d1-e9bf-4f12-9777-d69ebf06b151",
   "metadata": {},
   "outputs": [
    {
     "data": {
      "text/plain": [
       "[1, 4, 16, 64, 256]"
      ]
     },
     "execution_count": 36,
     "metadata": {},
     "output_type": "execute_result"
    }
   ],
   "source": [
    "[2**power for power in range(10) if power%2==0]"
   ]
  },
  {
   "cell_type": "code",
   "execution_count": 37,
   "id": "4ed58d95-a78b-43d7-8c7e-c1acfe94b567",
   "metadata": {},
   "outputs": [
    {
     "data": {
      "text/plain": [
       "['hello two to the power 0 is 1',\n",
       " 'hello two to the power 2 is 4',\n",
       " 'hello two to the power 4 is 16',\n",
       " 'hello two to the power 6 is 64',\n",
       " 'hello two to the power 8 is 256']"
      ]
     },
     "execution_count": 37,
     "metadata": {},
     "output_type": "execute_result"
    }
   ],
   "source": [
    "[f'hello two to the power {power} is {2**power}' for power in range(10) if power%2==0]"
   ]
  },
  {
   "attachments": {},
   "cell_type": "markdown",
   "id": "f151199f",
   "metadata": {},
   "source": [
    "# 3 Other useful stuff"
   ]
  },
  {
   "attachments": {},
   "cell_type": "markdown",
   "id": "2c084c2a",
   "metadata": {},
   "source": [
    "## 3.1 for with unpacking"
   ]
  },
  {
   "cell_type": "code",
   "execution_count": 41,
   "id": "66335ed3-0817-4433-971d-1144e8b885ca",
   "metadata": {},
   "outputs": [
    {
     "name": "stdout",
     "output_type": "stream",
     "text": [
      "x = 10, y = 20, z = 30\n"
     ]
    }
   ],
   "source": [
    "x, y, z=[10, 20, 30]\n",
    "print(f'x = {x}, y = {y}, z = {z}')"
   ]
  },
  {
   "cell_type": "code",
   "execution_count": 42,
   "id": "5b68864e-2a9a-4d49-89ad-d08f9f1fe128",
   "metadata": {},
   "outputs": [
    {
     "name": "stdout",
     "output_type": "stream",
     "text": [
      "x=10, y=20, z=30\n"
     ]
    }
   ],
   "source": [
    "print(f'{x=}, {y=}, {z=}')"
   ]
  },
  {
   "cell_type": "markdown",
   "id": "9ac152c1-6442-48a2-bbcd-a2ca4a0661dc",
   "metadata": {},
   "source": [
    "**Unpacking with 2D list**\n",
    "- combine unpacking with for loop to extract elements"
   ]
  },
  {
   "cell_type": "code",
   "execution_count": 45,
   "id": "2a502a85-b89a-4a80-a7f4-1e02943ec557",
   "metadata": {},
   "outputs": [
    {
     "name": "stdout",
     "output_type": "stream",
     "text": [
      "Natasha Romanoff is Marvel's Black Widow!\n",
      "Tony Stark is Marvel's Iron Man!\n",
      "Stephen Strange is Marvel's Doctor Strange!\n"
     ]
    }
   ],
   "source": [
    "py_superhero_info = [['Natasha Romanoff', 'Black Widow'],\n",
    "                     ['Tony Stark', 'Iron Man'],\n",
    "                     ['Stephen Strange', 'Doctor Strange']]\n",
    "\n",
    "for real_name, super_name in py_superhero_info:\n",
    "    print(f\"{real_name} is Marvel's {super_name}!\")"
   ]
  },
  {
   "cell_type": "code",
   "execution_count": 51,
   "id": "653c67c3-3823-4c41-a116-a497b7c501b1",
   "metadata": {},
   "outputs": [
    {
     "name": "stdout",
     "output_type": "stream",
     "text": [
      "Black Widow is Marvel's Natasha Romanoff!\n",
      "Iron Man is Marvel's Tony Stark!\n",
      "Doctor Strange is Marvel's Stephen Strange!\n"
     ]
    }
   ],
   "source": [
    "py_superhero_info = [['Natasha Romanoff', 'Black Widow'],\n",
    "                     ['Tony Stark', 'Iron Man'],\n",
    "                     ['Stephen Strange', 'Doctor Strange']]\n",
    "\n",
    "for real_name, super_name in py_superhero_info:\n",
    "    print(f\"{super_name} is Marvel's {real_name}!\") #unpacks in the opposite order"
   ]
  },
  {
   "attachments": {},
   "cell_type": "markdown",
   "id": "c27f2ae1",
   "metadata": {},
   "source": [
    "## 3.2 for with zip()"
   ]
  },
  {
   "cell_type": "markdown",
   "id": "8a8db99d-c490-4666-a809-b7c2975e8ba1",
   "metadata": {},
   "source": [
    "- zip can combine 2 lists or more together\n",
    "- very useful"
   ]
  },
  {
   "cell_type": "code",
   "execution_count": 53,
   "id": "62fe5646-208d-4d4c-9b21-da423aa60542",
   "metadata": {},
   "outputs": [],
   "source": [
    "super_names = [\"Black Widow\", \"Iron Man\", \"Doctor Strange\"]\n",
    "real_names = [\"Natasha Romanoff\", \"Tony Stark\", \"Stephen Strange\"]"
   ]
  },
  {
   "cell_type": "code",
   "execution_count": 57,
   "id": "b59a5e47-3dc0-4d29-a0db-fdd6860c7c09",
   "metadata": {},
   "outputs": [
    {
     "data": {
      "text/plain": [
       "<zip at 0x10561f0c0>"
      ]
     },
     "execution_count": 57,
     "metadata": {},
     "output_type": "execute_result"
    }
   ],
   "source": [
    "zip(real_names,super_names)"
   ]
  },
  {
   "cell_type": "code",
   "execution_count": 58,
   "id": "79c1c740-913b-4af1-867f-0b6566aae5cf",
   "metadata": {},
   "outputs": [
    {
     "data": {
      "text/plain": [
       "[('Natasha Romanoff', 'Black Widow'),\n",
       " ('Tony Stark', 'Iron Man'),\n",
       " ('Stephen Strange', 'Doctor Strange')]"
      ]
     },
     "execution_count": 58,
     "metadata": {},
     "output_type": "execute_result"
    }
   ],
   "source": [
    "list(zip(real_names,super_names))"
   ]
  },
  {
   "cell_type": "code",
   "execution_count": 59,
   "id": "af9a3797-f31f-4971-ae2a-88b999f34f59",
   "metadata": {},
   "outputs": [
    {
     "name": "stdout",
     "output_type": "stream",
     "text": [
      "Natasha Romanoff is Marvel's Black Widow!\n",
      "Tony Stark is Marvel's Iron Man!\n",
      "Stephen Strange is Marvel's Doctor Strange!\n"
     ]
    }
   ],
   "source": [
    "for real_name, super_name in zip(real_names,super_names):\n",
    "    print(f\"{real_name} is Marvel's {super_name}!\")"
   ]
  },
  {
   "attachments": {},
   "cell_type": "markdown",
   "id": "de426365",
   "metadata": {},
   "source": [
    "## 3.3 for with dictionaries"
   ]
  },
  {
   "cell_type": "markdown",
   "id": "f771745c-0b8d-4c52-a749-63b5ea8e14c2",
   "metadata": {},
   "source": [
    "- keys, values, items functions"
   ]
  },
  {
   "cell_type": "code",
   "execution_count": 60,
   "id": "97dd41f2-055f-4957-8260-f7bd3d0f7695",
   "metadata": {},
   "outputs": [
    {
     "name": "stdout",
     "output_type": "stream",
     "text": [
      "Natasha Romanoff is Marvel's Black Widow!\n",
      "Tony Stark is Marvel's Iron Man!\n",
      "Stephen Strange is Marvel's Doctor Strange!\n"
     ]
    }
   ],
   "source": [
    "superhero_info={\"Natasha Romanoff\": \"Black Widow\",\n",
    "                \"Tony Stark\": \"Iron Man\",\n",
    "                \"Stephen Strange\": \"Doctor Strange\"}\n",
    "\n",
    "for key, value in superhero_info.items():\n",
    "    print(f\"{key} is Marvel's {value}!\")"
   ]
  },
  {
   "cell_type": "markdown",
   "id": "636bcd89-3929-4a74-8a1c-33a961f3af10",
   "metadata": {},
   "source": [
    "- The ‘hidden’ function items() spits out both the key and the corresponding value.\n",
    "- you can access keys using:"
   ]
  },
  {
   "cell_type": "code",
   "execution_count": 63,
   "id": "f1f0f97f-22c5-482e-a067-cdf7a5e1f83c",
   "metadata": {},
   "outputs": [
    {
     "name": "stdout",
     "output_type": "stream",
     "text": [
      "Natasha Romanoff is Marvel's Black Widow!\n",
      "Tony Stark is Marvel's Iron Man!\n",
      "Stephen Strange is Marvel's Doctor Strange!\n"
     ]
    }
   ],
   "source": [
    "for key in superhero_info.keys(): # don't really have a reason to use this if can use items instead\n",
    "    value=superhero_info[key]\n",
    "    print(f\"{key} is Marvel's {value}!\")"
   ]
  },
  {
   "cell_type": "markdown",
   "id": "f4b9832c-de1c-4804-b7ba-c0d678458ff0",
   "metadata": {},
   "source": [
    "in this example the variable names key and value are used to show their role in the dictionary  \n",
    "but preferably name it something clearer eg real_name and superhero_name as before"
   ]
  },
  {
   "attachments": {},
   "cell_type": "markdown",
   "id": "7e3f82bb",
   "metadata": {},
   "source": [
    "## Footnotes"
   ]
  },
  {
   "cell_type": "markdown",
   "id": "f1a57dd3-b0dc-457f-8675-deed24f2f78a",
   "metadata": {},
   "source": [
    "summary: \n",
    "- interrupt flow,\n",
    "- list comprehension,\n",
    "- unpacking"
   ]
  }
 ],
 "metadata": {
  "kernelspec": {
   "display_name": "Python 3 (ipykernel)",
   "language": "python",
   "name": "python3"
  },
  "language_info": {
   "codemirror_mode": {
    "name": "ipython",
    "version": 3
   },
   "file_extension": ".py",
   "mimetype": "text/x-python",
   "name": "python",
   "nbconvert_exporter": "python",
   "pygments_lexer": "ipython3",
   "version": "3.11.5"
  },
  "toc": {
   "base_numbering": 1,
   "nav_menu": {},
   "number_sections": true,
   "sideBar": true,
   "skip_h1_title": false,
   "title_cell": "Table of Contents",
   "title_sidebar": "Contents",
   "toc_cell": false,
   "toc_position": {},
   "toc_section_display": true,
   "toc_window_display": false
  },
  "vscode": {
   "interpreter": {
    "hash": "31f2aee4e71d21fbe5cf8b01ff0e069b9275f58929596ceb00d14d90e3e16cd6"
   }
  }
 },
 "nbformat": 4,
 "nbformat_minor": 5
}
