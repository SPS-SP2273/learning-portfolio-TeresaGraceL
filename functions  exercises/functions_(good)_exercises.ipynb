{
 "cells": [
  {
   "attachments": {},
   "cell_type": "markdown",
   "id": "123456",
   "metadata": {},
   "source": [
    "<div style=\"text-align:left;font-size:2em\"><span style=\"font-weight:bolder;font-size:1.25em\">SP2273 | Learning Portfolio</span><br><br><span style=\"font-weight:bold;color:darkred\">Functions (Good) Exercises</span></div>"
   ]
  },
  {
   "cell_type": "markdown",
   "id": "ef34cac1-9200-4b41-9998-1286db66c407",
   "metadata": {},
   "source": [
    "# Exercise 1 (Celsius to Fahrenheit or Kelvin)"
   ]
  },
  {
   "cell_type": "markdown",
   "id": "62617220-54e5-4512-b698-6330b8362cc8",
   "metadata": {},
   "source": [
    "- Develop a function named convert_celsius() to convert temperatures from Celsius to either Fahrenheit or Kelvin.\n",
    "- The function should take two arguments:\n",
    "    - temperature_celsius: The temperature in Celsius.\n",
    "    - target_scale (string): The target scale for conversion, with the default value set to 'Fahrenheit'. \n",
    "- The function should return the temperature in Kelvin if target_scale is 'Kelvin'; otherwise, it should return the temperature in Fahrenheit."
   ]
  },
  {
   "cell_type": "code",
   "execution_count": 46,
   "id": "de569b25-0905-4451-8a5c-0a21ce0b1dc8",
   "metadata": {},
   "outputs": [],
   "source": [
    "def convert_celsius(temperature_celsius, target_scale='Farenheit'):\n",
    "    if target_scale == 'Kelvin':\n",
    "        return temperature_celsius + 273.15\n",
    "    else:\n",
    "        return (temperature_celsius * 9/5) + 32"
   ]
  },
  {
   "cell_type": "code",
   "execution_count": 47,
   "id": "f93d021c-0011-49f5-9ab3-9b0b804fa7af",
   "metadata": {},
   "outputs": [
    {
     "data": {
      "text/plain": [
       "273.15"
      ]
     },
     "execution_count": 47,
     "metadata": {},
     "output_type": "execute_result"
    }
   ],
   "source": [
    "convert_celsius(0, 'Kelvin')"
   ]
  },
  {
   "cell_type": "code",
   "execution_count": 48,
   "id": "eb3d7039-3083-4e99-9b35-bb2038afda27",
   "metadata": {},
   "outputs": [
    {
     "data": {
      "text/plain": [
       "32.0"
      ]
     },
     "execution_count": 48,
     "metadata": {},
     "output_type": "execute_result"
    }
   ],
   "source": [
    "convert_celsius(0, 'Farenheit')"
   ]
  },
  {
   "cell_type": "code",
   "execution_count": 49,
   "id": "fcc6f023-6a26-4366-96fa-25f1d3cd39ea",
   "metadata": {},
   "outputs": [
    {
     "data": {
      "text/plain": [
       "32.0"
      ]
     },
     "execution_count": 49,
     "metadata": {},
     "output_type": "execute_result"
    }
   ],
   "source": [
    "convert_celsius(0)"
   ]
  },
  {
   "cell_type": "code",
   "execution_count": 50,
   "id": "ab29861e-cdea-4287-9fb4-95406c1355fc",
   "metadata": {},
   "outputs": [
    {
     "data": {
      "text/plain": [
       "173.14999999999998"
      ]
     },
     "execution_count": 50,
     "metadata": {},
     "output_type": "execute_result"
    }
   ],
   "source": [
    "convert_celsius(-100, 'Kelvin')"
   ]
  },
  {
   "cell_type": "code",
   "execution_count": 15,
   "id": "027be36d-6397-43da-a3c8-d2d29dea081e",
   "metadata": {},
   "outputs": [
    {
     "data": {
      "text/plain": [
       "-148.0"
      ]
     },
     "execution_count": 15,
     "metadata": {},
     "output_type": "execute_result"
    }
   ],
   "source": [
    "convert_celsius(-100, 'Farenheit')"
   ]
  },
  {
   "cell_type": "code",
   "execution_count": 30,
   "id": "fa3e3511-e832-4943-ad60-8700298429aa",
   "metadata": {},
   "outputs": [
    {
     "data": {
      "text/plain": [
       "-148.0"
      ]
     },
     "execution_count": 30,
     "metadata": {},
     "output_type": "execute_result"
    }
   ],
   "source": [
    "convert_celsius(-100)"
   ]
  },
  {
   "cell_type": "code",
   "execution_count": 16,
   "id": "f88cd074-ddc6-48b4-971b-0bd1d4f66291",
   "metadata": {},
   "outputs": [
    {
     "data": {
      "text/plain": [
       "573.15"
      ]
     },
     "execution_count": 16,
     "metadata": {},
     "output_type": "execute_result"
    }
   ],
   "source": [
    "convert_celsius(300, 'Kelvin')"
   ]
  },
  {
   "cell_type": "code",
   "execution_count": 20,
   "id": "df273bc0-64f3-46d7-bb27-0e834b919069",
   "metadata": {},
   "outputs": [
    {
     "data": {
      "text/plain": [
       "572.0"
      ]
     },
     "execution_count": 20,
     "metadata": {},
     "output_type": "execute_result"
    }
   ],
   "source": [
    "convert_celsius(300, 'Farenheit')"
   ]
  },
  {
   "cell_type": "markdown",
   "id": "837fe664-27de-4aa7-b8ec-794106c79169",
   "metadata": {},
   "source": [
    "# Exercise 2 (Fahrenheit to Celsius or Kelvin)"
   ]
  },
  {
   "cell_type": "markdown",
   "id": "567feec8-61bb-495d-af59-a7aece81f602",
   "metadata": {},
   "source": [
    "- Develop a function called convert_fahrenheit() for converting temperatures from Fahrenheit to either Celsius or Kelvin.\n",
    "- The function should take two arguments:\n",
    "    - temperature_fahrenheit: The temperature in Fahrenheit.\n",
    "    - target_scale (string): The target scale for conversion, defaulting to 'Celsius'.\n",
    "- The function should return the temperature in Kelvin if target_scale is 'Kelvin'; otherwise, return it in Celsius."
   ]
  },
  {
   "cell_type": "code",
   "execution_count": 42,
   "id": "e2b0454c-8f81-4346-abe7-c452faa53bb4",
   "metadata": {},
   "outputs": [],
   "source": [
    "def convert_farenheit(temperature_farenheit, target_scale='Celsius'):\n",
    "    if target_scale == 'Kelvin':\n",
    "        return ((temperature_farenheit - 32) * 5/9) + 273.15\n",
    "    else:\n",
    "        return (temperature_farenheit - 32) * 5/9"
   ]
  },
  {
   "cell_type": "code",
   "execution_count": 36,
   "id": "2559cf0b-6915-4b6a-8781-c598f6fa8b65",
   "metadata": {},
   "outputs": [
    {
     "data": {
      "text/plain": [
       "148.88888888888889"
      ]
     },
     "execution_count": 36,
     "metadata": {},
     "output_type": "execute_result"
    }
   ],
   "source": [
    "convert_farenheit(300)"
   ]
  },
  {
   "cell_type": "code",
   "execution_count": 38,
   "id": "18dcbe5f-3396-4505-a35c-507b6f693414",
   "metadata": {},
   "outputs": [
    {
     "data": {
      "text/plain": [
       "422.0388888888889"
      ]
     },
     "execution_count": 38,
     "metadata": {},
     "output_type": "execute_result"
    }
   ],
   "source": [
    "convert_farenheit(300, 'Kelvin')"
   ]
  },
  {
   "cell_type": "code",
   "execution_count": 40,
   "id": "b15df83b-ed5e-4f12-8254-2eb293c0f6f6",
   "metadata": {},
   "outputs": [
    {
     "data": {
      "text/plain": [
       "148.88888888888889"
      ]
     },
     "execution_count": 40,
     "metadata": {},
     "output_type": "execute_result"
    }
   ],
   "source": [
    "convert_farenheit(300, 'Celsius')"
   ]
  },
  {
   "cell_type": "markdown",
   "id": "57002a5a-cfde-4dbf-a9ad-6250fef55ae4",
   "metadata": {},
   "source": [
    "# Exercise 3 (General Temperature Conversion)"
   ]
  },
  {
   "cell_type": "markdown",
   "id": "ef669933-08bd-4b2c-9e1f-5e431b9055cb",
   "metadata": {},
   "source": [
    "- Implement a function named convert_temperature() to perform general temperature conversions.\n",
    "- The function should take three arguments:\n",
    "    - temperature: The temperature to be converted.\n",
    "    - source_scale (string): The scale of the input temperature (either 'Celsius', 'Fahrenheit', or 'Kelvin').\n",
    "    - target_scale (string): The desired scale for the output temperature.\n",
    "- Remember to reuse your previous functions!"
   ]
  },
  {
   "cell_type": "code",
   "execution_count": 54,
   "id": "c19c9e44-0d8b-4001-8706-880fed5280e5",
   "metadata": {},
   "outputs": [],
   "source": [
    "def convert_temperature(temperature, source_scale, target_scale): \n",
    "    if source_scale == 'Celsius':\n",
    "        return convert_celsius(temperature_celsius, target_scale='Farenheit')\n",
    "    elif source_scale == 'Farenheit':\n",
    "        return convert_farenheit(temperature_farenheit, target_scale='Celsius')"
   ]
  },
  {
   "cell_type": "code",
   "execution_count": 53,
   "id": "fef2284a-e7a5-4625-a1d1-f9ee824b5e41",
   "metadata": {},
   "outputs": [
    {
     "ename": "TypeError",
     "evalue": "convert_celsius() missing 1 required positional argument: 'temperature_celsius'",
     "output_type": "error",
     "traceback": [
      "\u001b[0;31m---------------------------------------------------------------------------\u001b[0m",
      "\u001b[0;31mTypeError\u001b[0m                                 Traceback (most recent call last)",
      "Cell \u001b[0;32mIn[53], line 1\u001b[0m\n\u001b[0;32m----> 1\u001b[0m convert_temperature(\u001b[38;5;241m0\u001b[39m, \u001b[38;5;124m'\u001b[39m\u001b[38;5;124mCelsius\u001b[39m\u001b[38;5;124m'\u001b[39m, \u001b[38;5;124m'\u001b[39m\u001b[38;5;124mFarenheit\u001b[39m\u001b[38;5;124m'\u001b[39m)\n",
      "Cell \u001b[0;32mIn[52], line 3\u001b[0m, in \u001b[0;36mconvert_temperature\u001b[0;34m(temperature, source_scale, target_scale)\u001b[0m\n\u001b[1;32m      1\u001b[0m \u001b[38;5;28;01mdef\u001b[39;00m \u001b[38;5;21mconvert_temperature\u001b[39m(temperature, source_scale, target_scale): \n\u001b[1;32m      2\u001b[0m     \u001b[38;5;28;01mif\u001b[39;00m source_scale \u001b[38;5;241m==\u001b[39m \u001b[38;5;124m'\u001b[39m\u001b[38;5;124mCelsius\u001b[39m\u001b[38;5;124m'\u001b[39m:\n\u001b[0;32m----> 3\u001b[0m         \u001b[38;5;28;01mreturn\u001b[39;00m convert_celsius()\n\u001b[1;32m      4\u001b[0m     \u001b[38;5;28;01melif\u001b[39;00m source_scale \u001b[38;5;241m==\u001b[39m \u001b[38;5;124m'\u001b[39m\u001b[38;5;124mFarenheit\u001b[39m\u001b[38;5;124m'\u001b[39m:\n\u001b[1;32m      5\u001b[0m         \u001b[38;5;28;01mreturn\u001b[39;00m convert_farenheit()\n",
      "\u001b[0;31mTypeError\u001b[0m: convert_celsius() missing 1 required positional argument: 'temperature_celsius'"
     ]
    }
   ],
   "source": [
    "convert_temperature(0, 'Celsius', 'Farenheit')"
   ]
  }
 ],
 "metadata": {
  "kernelspec": {
   "display_name": "Python 3 (ipykernel)",
   "language": "python",
   "name": "python3"
  },
  "language_info": {
   "codemirror_mode": {
    "name": "ipython",
    "version": 3
   },
   "file_extension": ".py",
   "mimetype": "text/x-python",
   "name": "python",
   "nbconvert_exporter": "python",
   "pygments_lexer": "ipython3",
   "version": "3.11.5"
  },
  "toc": {
   "base_numbering": 1,
   "nav_menu": {},
   "number_sections": true,
   "sideBar": true,
   "skip_h1_title": false,
   "title_cell": "Table of Contents",
   "title_sidebar": "Contents",
   "toc_cell": false,
   "toc_position": {},
   "toc_section_display": true,
   "toc_window_display": false
  },
  "vscode": {
   "interpreter": {
    "hash": "31f2aee4e71d21fbe5cf8b01ff0e069b9275f58929596ceb00d14d90e3e16cd6"
   }
  }
 },
 "nbformat": 4,
 "nbformat_minor": 5
}
