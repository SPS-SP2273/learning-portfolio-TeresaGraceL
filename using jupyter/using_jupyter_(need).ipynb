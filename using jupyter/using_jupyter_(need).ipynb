{
 "cells": [
  {
   "cell_type": "markdown",
   "id": "123456",
   "metadata": {},
   "source": [
    "<div style=\"text-align:left;font-size:2em\"><span style=\"font-weight:bolder;font-size:1.25em\">SP2273 | Learning Portfolio</span><br><br><span style=\"font-weight:bold;color:darkred\">Using Jupyter (Need)</span></div>"
   ]
  },
  {
   "cell_type": "code",
   "execution_count": 1,
   "id": "db2ecba6",
   "metadata": {},
   "outputs": [
    {
     "name": "stdout",
     "output_type": "stream",
     "text": [
      "Hello World!\n"
     ]
    }
   ],
   "source": [
    "print('Hello World!')"
   ]
  },
  {
   "cell_type": "markdown",
   "id": "2e4a85cb",
   "metadata": {},
   "source": [
    "# 1 What to expect in this chapter"
   ]
  },
  {
   "cell_type": "markdown",
   "id": "31f18b36",
   "metadata": {},
   "source": [
    "# 2 Getting ready"
   ]
  },
  {
   "cell_type": "markdown",
   "id": "7ce6916a",
   "metadata": {},
   "source": [
    "# 3 Getting started with Jupyter"
   ]
  },
  {
   "cell_type": "markdown",
   "id": "08795090",
   "metadata": {},
   "source": [
    "## 3.1 It is all about running cells"
   ]
  },
  {
   "cell_type": "markdown",
   "id": "00d87562",
   "metadata": {},
   "source": [
    "## 3.2 A traditional start"
   ]
  },
  {
   "cell_type": "markdown",
   "id": "6f37fd02",
   "metadata": {},
   "source": [
    "insert a cell for code and type print('Hello World!').\n",
    "Press Run to run the cell (see above)"
   ]
  },
  {
   "cell_type": "markdown",
   "id": "6bbdeb5a",
   "metadata": {},
   "source": [
    "# 4 All about Markdown"
   ]
  },
  {
   "cell_type": "markdown",
   "id": "7e1f93c4",
   "metadata": {},
   "source": [
    "You can use the buttons to change the type of cell to convert\n",
    "\n",
    "keyboard shortcut: esc + M to convert to markdown\n",
    "keyboard shortcut: esc + Y to convert to python\n",
    "\n",
    "press \"Run\" to convert it to the nicer-looking text. Additionally, Markdown has a much **richer** syntax that you can use for text "
   ]
  },
  {
   "cell_type": "markdown",
   "id": "54b111d5",
   "metadata": {},
   "source": [
    "## 4.1 Rendering Markdown cells"
   ]
  },
  {
   "cell_type": "markdown",
   "id": "5159f9cf",
   "metadata": {},
   "source": [
    "The ships *hung in the sky* in much the same way that **bricks don’t.**<sup>1</sup><sub>QUOTE</sub>"
   ]
  },
  {
   "cell_type": "markdown",
   "id": "c670924d",
   "metadata": {},
   "source": [
    "## 4.2 Some basic syntax"
   ]
  },
  {
   "cell_type": "markdown",
   "id": "8fe1f902",
   "metadata": {},
   "source": [
    "Bold, italics, subscripts and superscripts"
   ]
  },
  {
   "cell_type": "markdown",
   "id": "22bf8139",
   "metadata": {},
   "source": [
    "## 4.3 Headings"
   ]
  },
  {
   "cell_type": "markdown",
   "id": "77dd689a",
   "metadata": {},
   "source": [
    "the new notebook numbers automatically. Use hashtag to insert headings.\n",
    "\n",
    "Headings are an easy way to break content into sections and label it.\n",
    "\n",
    "The more hashtags, the smaller the heading - up to 4\n"
   ]
  },
  {
   "cell_type": "markdown",
   "id": "a024629a",
   "metadata": {},
   "source": [
    "## 4.4 Displaying Code"
   ]
  },
  {
   "cell_type": "markdown",
   "id": "1cee9938",
   "metadata": {},
   "source": [
    "to mention code use 3 backticks (above the tab button) for example:\n",
    "\n",
    "```python\n",
    "print('Hello World!')\n",
    "```"
   ]
  },
  {
   "cell_type": "markdown",
   "id": "53f91ce2",
   "metadata": {},
   "source": [
    "## 4.5 Links"
   ]
  },
  {
   "cell_type": "markdown",
   "id": "8e66bdb6",
   "metadata": {},
   "source": [
    "Use square brackets with the text you want to display, followed by round brackets containing the hyperlink, including the https:// section \n",
    "\n",
    "[SP2273 Website for Juypter](https://sps.nus.edu.sg/sp2273/docs/python_basics/01_using_jupyter/1_using-jupyter_need.html)"
   ]
  },
  {
   "cell_type": "markdown",
   "id": "a41d27f5",
   "metadata": {},
   "source": [
    "## 4.6 Images"
   ]
  },
  {
   "cell_type": "markdown",
   "id": "94a66233",
   "metadata": {},
   "source": [
    "Exclamation mark followed by square brackets, then the image address within the brackets\n",
    "\n",
    "![](https://nus.edu.sg/images/default-source/base/logo.png)"
   ]
  },
  {
   "cell_type": "markdown",
   "id": "1aec71f6",
   "metadata": {},
   "source": [
    "## 4.7 Tables"
   ]
  },
  {
   "cell_type": "markdown",
   "id": "d5bce543",
   "metadata": {},
   "source": [
    "Making tables -- You can copy and paste markdown table code rather than copy and pasting excel sheet image using tablesgenerator website.  \n",
    "example:\n",
    "\n",
    "| A    | B  | C  |\n",
    "|------|----|----|\n",
    "| a1   | b1 | c1 |\n",
    "| a1.1 | b2 | c2 |"
   ]
  },
  {
   "cell_type": "markdown",
   "id": "95cca65a",
   "metadata": {},
   "source": [
    "## 4.8 Lists"
   ]
  },
  {
   "cell_type": "markdown",
   "id": "411b250b",
   "metadata": {},
   "source": [
    "To make a list - \n",
    "With Jyupter you can hold the command button down and click to work on multiple lines at one go (getting an additional cursor to do stuff)\n",
    "\n",
    "Press tab - \n",
    "1. Hello\n",
    "    1. beautiful\n",
    "    2. world \n",
    "1. Goodbye\n",
    "1. Use markdown to\n",
    "    - make nice lists\n",
    "    - markdown likes to convert the tabbed part of the list to alphabet"
   ]
  },
  {
   "cell_type": "markdown",
   "id": "1c24eb55",
   "metadata": {},
   "source": [
    "## 4.9 Equations"
   ]
  },
  {
   "cell_type": "markdown",
   "id": "19d2710b",
   "metadata": {},
   "source": [
    "Easy way to do equations: put it within 2 dollar sign to indicate, figure out how to write different things for equations. You need to know the commands to write it - refer to the SP2273 website or also [Detailed Math documentation at Overleaf](https://www.overleaf.com/learn/latex/Mathematical_expressions)\n",
    "\n",
    "This is a square $\\int x^ 2$\n",
    "\n",
    "For fractions and squareroots, use curly bracket to indicate what belongs where.  \n",
    "To write capitalised Greek letters, capitalise the first letter of the greek letter.\n",
    "\n",
    "For tables with equations, use double dollar sign for the first one.  This is because the width of the table is decided by the content in the first box, so if it's only single dollar sign then it's treated like an in line equation so the spacing will be weird but double dollar sign the box will fit the length of the equation.\n",
    "\n",
    "Inserting line breaks in Juypter:\n",
    "- 2 spaces, then enter\n",
    "- to leave one line in between: enter twice"
   ]
  },
  {
   "cell_type": "markdown",
   "id": "721a60e1",
   "metadata": {},
   "source": [
    "## Footnotes"
   ]
  },
  {
   "cell_type": "markdown",
   "id": "bde85b31",
   "metadata": {},
   "source": [
    "Markdown online - Markdown live preview \n",
    "Typora"
   ]
  },
  {
   "cell_type": "markdown",
   "id": "fa154293",
   "metadata": {},
   "source": [
    "This is a footnote hello^[footnote] -- \n",
    "figure out how to fix footnote \n",
    "superscript with square brackets perhaps\n",
    "\n",
    "usually it will appear as a superscript and a footnote"
   ]
  },
  {
   "cell_type": "code",
   "execution_count": null,
   "id": "975e8c1e",
   "metadata": {},
   "outputs": [],
   "source": []
  },
  {
   "cell_type": "code",
   "execution_count": null,
   "id": "c83b0209",
   "metadata": {},
   "outputs": [],
   "source": []
  }
 ],
 "metadata": {
  "kernelspec": {
   "display_name": "Python 3 (ipykernel)",
   "language": "python",
   "name": "python3"
  },
  "language_info": {
   "codemirror_mode": {
    "name": "ipython",
    "version": 3
   },
   "file_extension": ".py",
   "mimetype": "text/x-python",
   "name": "python",
   "nbconvert_exporter": "python",
   "pygments_lexer": "ipython3",
   "version": "3.11.5"
  },
  "toc": {
   "base_numbering": 1,
   "nav_menu": {},
   "number_sections": true,
   "sideBar": true,
   "skip_h1_title": false,
   "title_cell": "Table of Contents",
   "title_sidebar": "Contents",
   "toc_cell": false,
   "toc_position": {},
   "toc_section_display": true,
   "toc_window_display": false
  },
  "vscode": {
   "interpreter": {
    "hash": "31f2aee4e71d21fbe5cf8b01ff0e069b9275f58929596ceb00d14d90e3e16cd6"
   }
  }
 },
 "nbformat": 4,
 "nbformat_minor": 5
}
