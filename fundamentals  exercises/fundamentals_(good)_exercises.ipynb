{
 "cells": [
  {
   "attachments": {},
   "cell_type": "markdown",
   "id": "123456",
   "metadata": {},
   "source": [
    "<div style=\"text-align:left;font-size:2em\"><span style=\"font-weight:bolder;font-size:1.25em\">SP2273 | Learning Portfolio</span><br><br><span style=\"font-weight:bold;color:darkred\">Fundamentals (Good) Exercises</span></div>"
   ]
  },
  {
   "cell_type": "markdown",
   "id": "1cc532c4-2c1f-4d60-a6fb-443f750c2b8a",
   "metadata": {},
   "source": [
    "# Step 1"
   ]
  },
  {
   "cell_type": "code",
   "execution_count": 45,
   "id": "8131f233-900e-4568-b50e-1d0600ef04cd",
   "metadata": {},
   "outputs": [
    {
     "name": "stdin",
     "output_type": "stream",
     "text": [
      "Give me a number? 10\n"
     ]
    },
    {
     "name": "stdout",
     "output_type": "stream",
     "text": [
      "You entered 10\n"
     ]
    }
   ],
   "source": [
    "user_input = input('Give me a number?')\n",
    "print('You entered', user_input)"
   ]
  },
  {
   "cell_type": "markdown",
   "id": "13b36297-dc72-4b24-b559-e08ef2986f59",
   "metadata": {},
   "source": [
    "# Task"
   ]
  },
  {
   "cell_type": "markdown",
   "id": "fbda8dfd-5fe0-417f-8d7c-2480e1357dd1",
   "metadata": {},
   "source": [
    "**Basic function**"
   ]
  },
  {
   "cell_type": "code",
   "execution_count": 11,
   "id": "546722ef-b141-4a65-a919-87831ef56239",
   "metadata": {},
   "outputs": [
    {
     "name": "stdin",
     "output_type": "stream",
     "text": [
      "Give me a number? 33\n"
     ]
    },
    {
     "name": "stdout",
     "output_type": "stream",
     "text": [
      "You entered 33\n",
      "Fail\n"
     ]
    }
   ],
   "source": [
    "user_input = input('Give me a number?')\n",
    "print('You entered', user_input)\n",
    "\n",
    "if 70<=float(user_input)<=100:\n",
    "    print('A')\n",
    "elif 50<=float(user_input)<=69:\n",
    "    print('B')\n",
    "elif 35<=float(user_input)<=49:\n",
    "    print('C')\n",
    "else:\n",
    "    print('Fail')"
   ]
  },
  {
   "cell_type": "code",
   "execution_count": 44,
   "id": "701500f4-a0c2-4d39-baf9-31cb44a0ee8a",
   "metadata": {},
   "outputs": [
    {
     "name": "stdin",
     "output_type": "stream",
     "text": [
      "Please enter the student's score as a whole number:  -1\n"
     ]
    },
    {
     "name": "stdout",
     "output_type": "stream",
     "text": [
      "The student's letter grade is: \n",
      "This is number is too low, please input a non-negative number\n"
     ]
    }
   ],
   "source": [
    "user_input = input('Please enter the student\\'s score as a whole number: ')\n",
    "print('The student\\'s letter grade is: ',)\n",
    "\n",
    "if 70<=float(user_input)<=100:\n",
    "    print('A')\n",
    "elif 50<=float(user_input)<=69:\n",
    "    print('B')\n",
    "elif 35<=float(user_input)<=49:\n",
    "    print('C')\n",
    "elif float(user_input)<0:\n",
    "    print('This is number is too low, please input a non-negative number')\n",
    "elif float(user_input)>100:\n",
    "    print('This is number is too high, please input a number below 100')\n",
    "else:\n",
    "    print('Fail')"
   ]
  },
  {
   "cell_type": "markdown",
   "id": "7cd99f31-069b-465b-b044-4bcdbc3bb60e",
   "metadata": {},
   "source": [
    "**Considerations for error message**\n",
    "1) What if a string is entered\n",
    "2) What if you enter more than 100 or less than 0\n",
    "3) What if the student's score is not a whole number?\n",
    "   - Your score must be a whole number (try coming back after storing data)"
   ]
  },
  {
   "cell_type": "code",
   "execution_count": 35,
   "id": "fe33bf95-2478-4785-a49b-3e67bdb99b3e",
   "metadata": {},
   "outputs": [
    {
     "name": "stdin",
     "output_type": "stream",
     "text": [
      "Please enter the student's score as a whole number:  100\n"
     ]
    },
    {
     "name": "stdout",
     "output_type": "stream",
     "text": [
      "The student's letter grade is: \n",
      "A\n"
     ]
    }
   ],
   "source": [
    "user_input = input('Please enter the student\\'s score as a whole number: ')\n",
    "print('The student\\'s letter grade is: ',)\n",
    "\n",
    "if user_input.isnumeric()== False:\n",
    "    print('This is not a valid input, please input a number')\n",
    "elif 70<=float(user_input)<=100:\n",
    "    print('A')\n",
    "elif 50<=float(user_input)<=69:\n",
    "    print('B')\n",
    "elif 35<=float(user_input)<=49:\n",
    "    print('C')\n",
    "elif float(user_input)<0:\n",
    "    print('This is number is too low, please input a non-negative number')\n",
    "elif float(user_input)>100:\n",
    "    print('This is number is too high, please input a number below 100')\n",
    "else:\n",
    "    print('Fail')"
   ]
  },
  {
   "cell_type": "code",
   "execution_count": 40,
   "id": "fc41b491-b1a6-4496-84d5-3c5ef27054ac",
   "metadata": {},
   "outputs": [
    {
     "name": "stdin",
     "output_type": "stream",
     "text": [
      "Please enter the student's score as a whole number:  60\n"
     ]
    },
    {
     "name": "stdout",
     "output_type": "stream",
     "text": [
      "The student's letter grade is: \n",
      "B\n"
     ]
    }
   ],
   "source": [
    "user_input = input('Please enter the student\\'s score as a whole number: ')\n",
    "print('The student\\'s letter grade is: ',)\n",
    "\n",
    "if user_input.isnumeric()== False:\n",
    "    print('This is not a valid input, please input a number')\n",
    "elif 70<=float(user_input)<=100:\n",
    "    print('A')\n",
    "elif 50<=float(user_input)<=69:\n",
    "    print('B')\n",
    "elif 35<=float(user_input)<=49:\n",
    "    print('C')\n",
    "elif float(user_input)<0:\n",
    "    print('This is number is too low, please input a non-negative number')\n",
    "elif float(user_input)>100:\n",
    "    print('This is number is too high, please input a number below 100')\n",
    "else:\n",
    "    print('Fail')"
   ]
  },
  {
   "cell_type": "code",
   "execution_count": 37,
   "id": "b3e3837d-7ae1-466a-8931-732eb15a53ee",
   "metadata": {},
   "outputs": [
    {
     "name": "stdin",
     "output_type": "stream",
     "text": [
      "Please enter the student's score as a whole number:  hello\n"
     ]
    },
    {
     "name": "stdout",
     "output_type": "stream",
     "text": [
      "The student's letter grade is: \n",
      "This is not a valid input, please input a number\n"
     ]
    }
   ],
   "source": [
    "user_input = input('Please enter the student\\'s score as a whole number: ')\n",
    "print('The student\\'s letter grade is: ',)\n",
    "\n",
    "if user_input.isnumeric()== False:\n",
    "    print('This is not a valid input, please input a number')\n",
    "elif 70<=float(user_input)<=100:\n",
    "    print('A')\n",
    "elif 50<=float(user_input)<=69:\n",
    "    print('B')\n",
    "elif 35<=float(user_input)<=49:\n",
    "    print('C')\n",
    "elif float(user_input)<0:\n",
    "    print('This is number is too low, please input a non-negative number')\n",
    "elif float(user_input)>100:\n",
    "    print('This is number is too high, please input a number below 100')\n",
    "else:\n",
    "    print('Fail')"
   ]
  },
  {
   "cell_type": "code",
   "execution_count": 38,
   "id": "28468054-52ad-412e-be24-e25523372e16",
   "metadata": {},
   "outputs": [
    {
     "name": "stdin",
     "output_type": "stream",
     "text": [
      "Please enter the student's score as a whole number:  1001\n"
     ]
    },
    {
     "name": "stdout",
     "output_type": "stream",
     "text": [
      "The student's letter grade is: \n",
      "This is number is too high, please input a number below 100\n"
     ]
    }
   ],
   "source": [
    "user_input = input('Please enter the student\\'s score as a whole number: ')\n",
    "print('The student\\'s letter grade is: ',)\n",
    "\n",
    "if user_input.isnumeric()== False:\n",
    "    print('This is not a valid input, please input a number')\n",
    "elif 70<=float(user_input)<=100:\n",
    "    print('A')\n",
    "elif 50<=float(user_input)<=69:\n",
    "    print('B')\n",
    "elif 35<=float(user_input)<=49:\n",
    "    print('C')\n",
    "elif float(user_input)<0:\n",
    "    print('This is number is too low, please input a non-negative number')\n",
    "elif float(user_input)>100:\n",
    "    print('This is number is too high, please input a number below 100')\n",
    "else:\n",
    "    print('Fail')"
   ]
  },
  {
   "cell_type": "markdown",
   "id": "c7724e47-fddf-4adf-ad80-5415fd9ce7ed",
   "metadata": {},
   "source": [
    "- things to fix in the code: if a number has a decimal place, if the number is negative (not currently working after putting in the isnumeric function)"
   ]
  },
  {
   "cell_type": "markdown",
   "id": "3d646296-6a79-49f1-b5fc-21b93000e137",
   "metadata": {},
   "source": [
    "**A more elegant way to summon the function** will be learned later on\n",
    "- storing data, 'in' and 'split'\n",
    "- possible to create an is.numeric with a dot (and with a negative sign)"
   ]
  }
 ],
 "metadata": {
  "kernelspec": {
   "display_name": "Python 3 (ipykernel)",
   "language": "python",
   "name": "python3"
  },
  "language_info": {
   "codemirror_mode": {
    "name": "ipython",
    "version": 3
   },
   "file_extension": ".py",
   "mimetype": "text/x-python",
   "name": "python",
   "nbconvert_exporter": "python",
   "pygments_lexer": "ipython3",
   "version": "3.11.5"
  },
  "toc": {
   "base_numbering": 1,
   "nav_menu": {},
   "number_sections": true,
   "sideBar": true,
   "skip_h1_title": false,
   "title_cell": "Table of Contents",
   "title_sidebar": "Contents",
   "toc_cell": false,
   "toc_position": {},
   "toc_section_display": true,
   "toc_window_display": false
  },
  "vscode": {
   "interpreter": {
    "hash": "31f2aee4e71d21fbe5cf8b01ff0e069b9275f58929596ceb00d14d90e3e16cd6"
   }
  }
 },
 "nbformat": 4,
 "nbformat_minor": 5
}
