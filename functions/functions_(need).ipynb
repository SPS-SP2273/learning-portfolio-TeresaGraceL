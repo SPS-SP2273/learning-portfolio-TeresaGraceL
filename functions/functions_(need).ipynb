{
 "cells": [
  {
   "attachments": {},
   "cell_type": "markdown",
   "id": "123456",
   "metadata": {},
   "source": [
    "<div style=\"text-align:left;font-size:2em\"><span style=\"font-weight:bolder;font-size:1.25em\">SP2273 | Learning Portfolio</span><br><br><span style=\"font-weight:bold;color:darkred\">Functions (Need)</span></div>"
   ]
  },
  {
   "attachments": {},
   "cell_type": "markdown",
   "id": "fa3d7431",
   "metadata": {},
   "source": [
    "# What to expect in this chapter"
   ]
  },
  {
   "cell_type": "markdown",
   "id": "c600588d-7a43-41f7-8660-e4aceaaf2f0d",
   "metadata": {},
   "source": [
    "A function is a chunk of code that does a specific conceptual task.  \n",
    "There are internal functions in Python like print() but you can also create your own functions.\n",
    "\n",
    "- we can think of functions as pieces of Lego that can be put together to create strategies and solutions\n",
    "- side note: you can have a function within a function but it will be self-contained/ only exist within the function that it was written in (see lecture video for example)"
   ]
  },
  {
   "attachments": {},
   "cell_type": "markdown",
   "id": "7e9f4b28",
   "metadata": {},
   "source": [
    "# 1 User-defined functions"
   ]
  },
  {
   "attachments": {},
   "cell_type": "markdown",
   "id": "af786ddc",
   "metadata": {},
   "source": [
    "## 1.1 Named Functions"
   ]
  },
  {
   "attachments": {},
   "cell_type": "markdown",
   "id": "1b4b6b40",
   "metadata": {},
   "source": [
    "### Named functions that return"
   ]
  },
  {
   "cell_type": "markdown",
   "id": "700f7ac3-1ad4-461a-80d4-a69dcc0aa573",
   "metadata": {},
   "source": [
    "Define the function by using the keyword def"
   ]
  },
  {
   "cell_type": "code",
   "execution_count": 3,
   "id": "e676bc82",
   "metadata": {},
   "outputs": [],
   "source": [
    "def greeting(name):\n",
    "    if name == 'Batman':\n",
    "        return 'Hello Batman! So, nice to meet you!'\n",
    "    else:\n",
    "        return f'Hello {name}!'"
   ]
  },
  {
   "cell_type": "markdown",
   "id": "16f65221-7c88-4047-89fd-7623d977b397",
   "metadata": {},
   "source": [
    "- the function's name is greeting\n",
    "- it accepts a single argument called name\n",
    "\n",
    "The keyword def, the colon : and the indentation demarcates the function's code block.  \n",
    "The keyword return gets an output from the function."
   ]
  },
  {
   "cell_type": "markdown",
   "id": "1b4cfe82-578c-4d8f-9078-f1cf5bc760e2",
   "metadata": {},
   "source": [
    "- you can return only within a function\n",
    "- you can return almost anything"
   ]
  },
  {
   "cell_type": "markdown",
   "id": "0ad3c0dd-0e32-4d0a-894c-b1f0212e2b56",
   "metadata": {},
   "source": [
    "### How to call a function"
   ]
  },
  {
   "cell_type": "code",
   "execution_count": 29,
   "id": "1fae4bb2-4f9d-4e1d-af39-b9079ce11ddf",
   "metadata": {},
   "outputs": [
    {
     "data": {
      "text/plain": [
       "'Hello Super Man!'"
      ]
     },
     "execution_count": 29,
     "metadata": {},
     "output_type": "execute_result"
    }
   ],
   "source": [
    "greeting(name=\"Super Man\")"
   ]
  },
  {
   "cell_type": "code",
   "execution_count": 44,
   "id": "9b960a97-923c-4fb0-8d45-87b6fab97949",
   "metadata": {},
   "outputs": [
    {
     "data": {
      "text/plain": [
       "'Hello Super Man!'"
      ]
     },
     "execution_count": 44,
     "metadata": {},
     "output_type": "execute_result"
    }
   ],
   "source": [
    "greeting(\"Super Man\")"
   ]
  },
  {
   "attachments": {},
   "cell_type": "markdown",
   "id": "f3e3e63d",
   "metadata": {},
   "source": [
    "### Named functions that don’t return"
   ]
  },
  {
   "cell_type": "code",
   "execution_count": 11,
   "id": "b868af2f-a027-410e-86a6-898f753f8aea",
   "metadata": {},
   "outputs": [],
   "source": [
    "def greeting_again(name):\n",
    "    if name == 'Batman':\n",
    "        print('Hello Batman! So, nice to meet you!')\n",
    "    else:\n",
    "        print(f'Hello {name}!')"
   ]
  },
  {
   "cell_type": "code",
   "execution_count": 36,
   "id": "bc37633f-8284-45d8-bca6-b0a1af13712e",
   "metadata": {},
   "outputs": [
    {
     "name": "stdout",
     "output_type": "stream",
     "text": [
      "Hello Robin!\n"
     ]
    }
   ],
   "source": [
    "output_A=greeting(\"Robin\")\n",
    "print(output_A)"
   ]
  },
  {
   "cell_type": "code",
   "execution_count": 37,
   "id": "633a2a11-4eae-4afb-9354-86689700ab3c",
   "metadata": {},
   "outputs": [
    {
     "data": {
      "text/plain": [
       "'Hello Robin!'"
      ]
     },
     "execution_count": 37,
     "metadata": {},
     "output_type": "execute_result"
    }
   ],
   "source": [
    "output_A"
   ]
  },
  {
   "cell_type": "code",
   "execution_count": 38,
   "id": "e8036825-6657-472d-9d9e-bd88f3661042",
   "metadata": {},
   "outputs": [
    {
     "name": "stdout",
     "output_type": "stream",
     "text": [
      "Hello Robin!\n",
      "None\n"
     ]
    }
   ],
   "source": [
    "output_B=greeting_again(\"Robin\")\n",
    "print(output_B) # nothing to print, state of emptiness so it gives the output of none"
   ]
  },
  {
   "cell_type": "code",
   "execution_count": 39,
   "id": "b6f89106-6fe6-48c2-be3e-fb0a201d27e8",
   "metadata": {},
   "outputs": [
    {
     "name": "stdout",
     "output_type": "stream",
     "text": [
      "Hello Robin! None\n"
     ]
    }
   ],
   "source": [
    "print(output_A, output_B)"
   ]
  },
  {
   "cell_type": "markdown",
   "id": "208b3432-e85f-4a00-b1e7-a8bcb3ae75f7",
   "metadata": {},
   "source": [
    "**significance of return**\n",
    "- when function has a return, it jumps out of the function with the return value ie kicks that value out and stops the function. You can pick up the returned value by assigning it to a variable or using it directly like this:"
   ]
  },
  {
   "cell_type": "code",
   "execution_count": 8,
   "id": "9f412079-6689-4c83-a012-a703ba3e0159",
   "metadata": {},
   "outputs": [
    {
     "name": "stdout",
     "output_type": "stream",
     "text": [
      "Hello Super Man!\n"
     ]
    }
   ],
   "source": [
    "greet=greeting(name='Super Man')\n",
    "print(greet)"
   ]
  },
  {
   "cell_type": "code",
   "execution_count": 9,
   "id": "d7278e06-11db-4880-897d-6d34238a5e08",
   "metadata": {},
   "outputs": [
    {
     "name": "stdout",
     "output_type": "stream",
     "text": [
      "Hello Super Man!\n"
     ]
    }
   ],
   "source": [
    "print(greeting(name='Super Man'))"
   ]
  },
  {
   "cell_type": "markdown",
   "id": "8d20c319-116c-4554-bd70-184d2850d615",
   "metadata": {},
   "source": [
    "### Functions: Returning multiple values"
   ]
  },
  {
   "cell_type": "code",
   "execution_count": 40,
   "id": "15ab8360-d55c-403e-aa62-09062c732c0d",
   "metadata": {},
   "outputs": [],
   "source": [
    "import numpy as np"
   ]
  },
  {
   "cell_type": "code",
   "execution_count": 47,
   "id": "c3c11cc0-4719-44ca-97ff-0d9a8910069c",
   "metadata": {},
   "outputs": [],
   "source": [
    "def basic_stats(numbers):\n",
    "    np_numbers = np.array(numbers)\n",
    "    my_min = np_numbers.min()\n",
    "    my_max = np_numbers.max()\n",
    "    my_mean = np_numbers.mean()\n",
    "    return [my_max, my_min, my_mean]"
   ]
  },
  {
   "cell_type": "code",
   "execution_count": 51,
   "id": "c4ac347a-a7fa-492b-bc3d-ca64dc22d8e6",
   "metadata": {},
   "outputs": [
    {
     "data": {
      "text/plain": [
       "[5, 1, 3.0]"
      ]
     },
     "execution_count": 51,
     "metadata": {},
     "output_type": "execute_result"
    }
   ],
   "source": [
    "basic_stats([1, 2, 3, 4, 5])"
   ]
  },
  {
   "cell_type": "code",
   "execution_count": 52,
   "id": "14f0bc44-78df-437b-939f-7bff26649d29",
   "metadata": {},
   "outputs": [],
   "source": [
    "list_min, list_max, list_mean = basic_stats([1, 2, 3, 4, 5])"
   ]
  },
  {
   "cell_type": "code",
   "execution_count": 55,
   "id": "07a93e92-ef8f-4c9b-90e7-90d98a85aa64",
   "metadata": {},
   "outputs": [
    {
     "name": "stdout",
     "output_type": "stream",
     "text": [
      "list_min=5, list_max=1, list_mean=3.0\n"
     ]
    }
   ],
   "source": [
    "print(f'{list_min=}, {list_max=}, {list_mean=}')"
   ]
  },
  {
   "attachments": {},
   "cell_type": "markdown",
   "id": "f78f6a3d",
   "metadata": {},
   "source": [
    "## 1.2 Anonymous functions"
   ]
  },
  {
   "cell_type": "markdown",
   "id": "cd285667-5c71-41e4-90e4-d4d39745a412",
   "metadata": {},
   "source": [
    "- Anonymous or lambda functions are suitable for short one-liners.\n",
    "- Lambda functions always return the value of the last statement."
   ]
  },
  {
   "cell_type": "code",
   "execution_count": 59,
   "id": "46ef606a-da63-434c-95f7-ef2d974be3aa",
   "metadata": {},
   "outputs": [],
   "source": [
    "my_short_function = lambda name: f\"Hello {name}!\" #my_short_function is a name"
   ]
  },
  {
   "cell_type": "code",
   "execution_count": 57,
   "id": "b32b2c0d-515b-4acc-a5b0-b3962eb1130f",
   "metadata": {},
   "outputs": [
    {
     "data": {
      "text/plain": [
       "'Hello Super Man!'"
      ]
     },
     "execution_count": 57,
     "metadata": {},
     "output_type": "execute_result"
    }
   ],
   "source": [
    "my_short_function(name=\"Super Man\")"
   ]
  },
  {
   "cell_type": "markdown",
   "id": "bca6877d-2fbe-4422-b7ed-3a9b6740a0b9",
   "metadata": {},
   "source": [
    "**Example 2**"
   ]
  },
  {
   "cell_type": "code",
   "execution_count": 60,
   "id": "8e40472d-2911-47cd-a86c-866ed5b94687",
   "metadata": {},
   "outputs": [],
   "source": [
    "numbers=[[9, 0, -10],\n",
    "         [8, 1, -11],\n",
    "         [7, 2, -12],\n",
    "         [6, 3, -13],\n",
    "         [5, 4, -14],\n",
    "         [4, 5, -15],\n",
    "         [3, 6, -16],\n",
    "         [2, 7, -17],\n",
    "         [1, 8, -18],\n",
    "         [0, 9, -19]]"
   ]
  },
  {
   "cell_type": "code",
   "execution_count": 61,
   "id": "e3c2cff0-a334-49c7-8fbc-c7a8ef92a126",
   "metadata": {},
   "outputs": [
    {
     "data": {
      "text/plain": [
       "[[0, 9, -19],\n",
       " [1, 8, -18],\n",
       " [2, 7, -17],\n",
       " [3, 6, -16],\n",
       " [4, 5, -15],\n",
       " [5, 4, -14],\n",
       " [6, 3, -13],\n",
       " [7, 2, -12],\n",
       " [8, 1, -11],\n",
       " [9, 0, -10]]"
      ]
     },
     "execution_count": 61,
     "metadata": {},
     "output_type": "execute_result"
    }
   ],
   "source": [
    "# Sort by comparing the default key\n",
    "# (i.e., the 1st element)\n",
    "sorted(numbers)"
   ]
  },
  {
   "cell_type": "code",
   "execution_count": 62,
   "id": "8ce58b11-2351-4c39-a043-0d99970981d4",
   "metadata": {},
   "outputs": [
    {
     "data": {
      "text/plain": [
       "[[9, 0, -10],\n",
       " [8, 1, -11],\n",
       " [7, 2, -12],\n",
       " [6, 3, -13],\n",
       " [5, 4, -14],\n",
       " [4, 5, -15],\n",
       " [3, 6, -16],\n",
       " [2, 7, -17],\n",
       " [1, 8, -18],\n",
       " [0, 9, -19]]"
      ]
     },
     "execution_count": 62,
     "metadata": {},
     "output_type": "execute_result"
    }
   ],
   "source": [
    "# Sort by comparing a custom key\n",
    "# that uses the 2nd element (index=1)\n",
    "sorted(numbers, key=lambda x: x[1])"
   ]
  },
  {
   "cell_type": "markdown",
   "id": "b0ddf1c3-2d83-4990-9fa7-ebaef26ca61a",
   "metadata": {},
   "source": [
    "- sort, the key used for sorting is the output of the function\n",
    "- if sorting by another criteria need to specify a key that sorted can use for comparison."
   ]
  },
  {
   "attachments": {},
   "cell_type": "markdown",
   "id": "a6f9ce02",
   "metadata": {},
   "source": [
    "## 1.3 Optional arguments"
   ]
  },
  {
   "cell_type": "markdown",
   "id": "00920039-6950-49d1-abae-5aac37dc225c",
   "metadata": {},
   "source": [
    "- we need to give the argument a default value so it always has something to work with without throwing an error."
   ]
  },
  {
   "cell_type": "code",
   "execution_count": 65,
   "id": "9bf2ffbb-2c15-4cbc-8c2d-f6f097f0fa05",
   "metadata": {},
   "outputs": [],
   "source": [
    "def greeting(name='no one'):\n",
    "    if name == 'Batman':\n",
    "        return 'Hello Batman! So, nice to meet you!'\n",
    "    else:\n",
    "        return f'Hello {name}!'"
   ]
  },
  {
   "cell_type": "code",
   "execution_count": 66,
   "id": "19294eaa-217c-488b-8617-72347aa69bbc",
   "metadata": {},
   "outputs": [
    {
     "data": {
      "text/plain": [
       "'Hello no one!'"
      ]
     },
     "execution_count": 66,
     "metadata": {},
     "output_type": "execute_result"
    }
   ],
   "source": [
    "greeting()"
   ]
  },
  {
   "cell_type": "code",
   "execution_count": 70,
   "id": "a793b4bf-dc3c-4301-83ff-69636d2f1565",
   "metadata": {},
   "outputs": [
    {
     "data": {
      "text/plain": [
       "\u001b[0;31mSignature:\u001b[0m \u001b[0mprint\u001b[0m\u001b[0;34m(\u001b[0m\u001b[0;34m*\u001b[0m\u001b[0margs\u001b[0m\u001b[0;34m,\u001b[0m \u001b[0msep\u001b[0m\u001b[0;34m=\u001b[0m\u001b[0;34m' '\u001b[0m\u001b[0;34m,\u001b[0m \u001b[0mend\u001b[0m\u001b[0;34m=\u001b[0m\u001b[0;34m'\\n'\u001b[0m\u001b[0;34m,\u001b[0m \u001b[0mfile\u001b[0m\u001b[0;34m=\u001b[0m\u001b[0;32mNone\u001b[0m\u001b[0;34m,\u001b[0m \u001b[0mflush\u001b[0m\u001b[0;34m=\u001b[0m\u001b[0;32mFalse\u001b[0m\u001b[0;34m)\u001b[0m\u001b[0;34m\u001b[0m\u001b[0;34m\u001b[0m\u001b[0m\n",
       "\u001b[0;31mDocstring:\u001b[0m\n",
       "Prints the values to a stream, or to sys.stdout by default.\n",
       "\n",
       "sep\n",
       "  string inserted between values, default a space.\n",
       "end\n",
       "  string appended after the last value, default a newline.\n",
       "file\n",
       "  a file-like object (stream); defaults to the current sys.stdout.\n",
       "flush\n",
       "  whether to forcibly flush the stream.\n",
       "\u001b[0;31mType:\u001b[0m      builtin_function_or_method"
      ]
     },
     "metadata": {},
     "output_type": "display_data"
    }
   ],
   "source": [
    "# documentation for the print function\n",
    "?print "
   ]
  },
  {
   "cell_type": "code",
   "execution_count": 71,
   "id": "ca90b99e-4c99-4ae1-9823-400081cf5791",
   "metadata": {},
   "outputs": [
    {
     "name": "stdout",
     "output_type": "stream",
     "text": [
      "I am Batman!\n",
      "I---am---Batman!\n"
     ]
    }
   ],
   "source": [
    "# Using default values\n",
    "print('I', 'am', 'Batman!')\n",
    "# Specifying an optional argument\n",
    "print('I', 'am', 'Batman!', sep='---')  "
   ]
  },
  {
   "attachments": {},
   "cell_type": "markdown",
   "id": "a5b215af",
   "metadata": {},
   "source": [
    "## 1.4 The importance of functions?"
   ]
  },
  {
   "attachments": {},
   "cell_type": "markdown",
   "id": "1b8aeb86",
   "metadata": {},
   "source": [
    "### An argument for functions"
   ]
  },
  {
   "cell_type": "markdown",
   "id": "e5c87b91-fa5e-48f1-9540-bf47229d332d",
   "metadata": {},
   "source": [
    "- hiding unnecessary details makes it easier to think and write code: abstraction\n",
    "- encapsulating code in function makes code shorter and more compact: reusability of code\n",
    "- code is easier to change and mantain as you only need to make changes at the function definition -- maintainability of code"
   ]
  },
  {
   "attachments": {},
   "cell_type": "markdown",
   "id": "e4bed7d7",
   "metadata": {},
   "source": [
    "### A word of caution"
   ]
  },
  {
   "cell_type": "markdown",
   "id": "3edd038b-6b6c-48ec-9914-6e63f28688b2",
   "metadata": {},
   "source": [
    "- functions may be abused by trying to do too many things or have too many arguments. \n",
    "- functions may be overused, having too many makes code harder to read and increase computational overheads\n"
   ]
  }
 ],
 "metadata": {
  "kernelspec": {
   "display_name": "Python 3 (ipykernel)",
   "language": "python",
   "name": "python3"
  },
  "language_info": {
   "codemirror_mode": {
    "name": "ipython",
    "version": 3
   },
   "file_extension": ".py",
   "mimetype": "text/x-python",
   "name": "python",
   "nbconvert_exporter": "python",
   "pygments_lexer": "ipython3",
   "version": "3.11.5"
  },
  "toc": {
   "base_numbering": 1,
   "nav_menu": {},
   "number_sections": true,
   "sideBar": true,
   "skip_h1_title": false,
   "title_cell": "Table of Contents",
   "title_sidebar": "Contents",
   "toc_cell": false,
   "toc_position": {},
   "toc_section_display": true,
   "toc_window_display": false
  },
  "vscode": {
   "interpreter": {
    "hash": "31f2aee4e71d21fbe5cf8b01ff0e069b9275f58929596ceb00d14d90e3e16cd6"
   }
  }
 },
 "nbformat": 4,
 "nbformat_minor": 5
}
