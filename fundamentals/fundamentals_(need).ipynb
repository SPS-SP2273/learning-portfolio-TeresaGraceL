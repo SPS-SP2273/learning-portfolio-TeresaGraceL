{
 "cells": [
  {
   "cell_type": "markdown",
   "id": "123456",
   "metadata": {},
   "source": [
    "<div style=\"text-align:left;font-size:2em\"><span style=\"font-weight:bolder;font-size:1.25em\">SP2273 | Learning Portfolio</span><br><br><span style=\"font-weight:bold;color:darkred\">Fundamentals (Need)</span></div>"
   ]
  },
  {
   "cell_type": "markdown",
   "id": "3dc8147f",
   "metadata": {},
   "source": [
    "# 1 Functions"
   ]
  },
  {
   "cell_type": "code",
   "execution_count": 2,
   "id": "75f39202",
   "metadata": {},
   "outputs": [
    {
     "name": "stdout",
     "output_type": "stream",
     "text": [
      "Hello world!\n"
     ]
    }
   ],
   "source": [
    "print('Hello world!')"
   ]
  },
  {
   "cell_type": "markdown",
   "id": "3f27b580",
   "metadata": {},
   "source": [
    "# 2 Remember"
   ]
  },
  {
   "cell_type": "markdown",
   "id": "995fbed1",
   "metadata": {},
   "source": [
    "function: does a specific task\n",
    "- always followed by parenthesis\n",
    "there are in-built/ core functions that come with Python.  \n",
    "We can also specify our own functions, which is very useful.\n",
    "\n",
    "- syntax highlighting: defined functions in green\n"
   ]
  },
  {
   "cell_type": "markdown",
   "id": "c54c727b",
   "metadata": {},
   "source": [
    "# 3 Python is interpreted"
   ]
  },
  {
   "cell_type": "code",
   "execution_count": 3,
   "id": "8568a884",
   "metadata": {},
   "outputs": [
    {
     "name": "stdout",
     "output_type": "stream",
     "text": [
      "Hello World\n",
      "Hello World again\n"
     ]
    }
   ],
   "source": [
    "print('Hello World')\n",
    "print('Hello World again')"
   ]
  },
  {
   "cell_type": "markdown",
   "id": "d833d34b",
   "metadata": {},
   "source": [
    "# 4 Python is sensitive."
   ]
  },
  {
   "cell_type": "code",
   "execution_count": 6,
   "id": "2985a1d2-2f67-4e5d-9b2e-3651bd9d3bb5",
   "metadata": {},
   "outputs": [
    {
     "name": "stdout",
     "output_type": "stream",
     "text": [
      "Hello World\n"
     ]
    },
    {
     "ename": "NameError",
     "evalue": "name 'Print' is not defined",
     "output_type": "error",
     "traceback": [
      "\u001b[0;31m---------------------------------------------------------------------------\u001b[0m",
      "\u001b[0;31mNameError\u001b[0m                                 Traceback (most recent call last)",
      "Cell \u001b[0;32mIn[6], line 2\u001b[0m\n\u001b[1;32m      1\u001b[0m \u001b[38;5;28mprint\u001b[39m(\u001b[38;5;124m'\u001b[39m\u001b[38;5;124mHello World\u001b[39m\u001b[38;5;124m'\u001b[39m) \u001b[38;5;66;03m#this works\u001b[39;00m\n\u001b[0;32m----> 2\u001b[0m Print(\u001b[38;5;124m'\u001b[39m\u001b[38;5;124mHello World\u001b[39m\u001b[38;5;124m'\u001b[39m)\n",
      "\u001b[0;31mNameError\u001b[0m: name 'Print' is not defined"
     ]
    }
   ],
   "source": [
    "print('Hello World') #this works\n",
    "Print('Hello World') #this does not work because Print is not recognised by python"
   ]
  },
  {
   "cell_type": "markdown",
   "id": "daa0141e",
   "metadata": {},
   "source": [
    "# 5 Remember"
   ]
  },
  {
   "cell_type": "markdown",
   "id": "19f84323-e5a2-45c0-a2f2-415feb5218cc",
   "metadata": {},
   "source": [
    "Python is case sensetive"
   ]
  },
  {
   "cell_type": "markdown",
   "id": "099892b3",
   "metadata": {},
   "source": [
    "# 6 Comments"
   ]
  },
  {
   "cell_type": "markdown",
   "id": "b37f5cb6-6d7b-4dfd-a5a5-fd5b7b3d4714",
   "metadata": {},
   "source": [
    "Comments are useful - Python allows you to write after # to comment on what is happening  \n",
    "It can also be used to break code into chunks to make to nore readable #-----------# but there are other ways to improve readability\n"
   ]
  },
  {
   "cell_type": "code",
   "execution_count": 9,
   "id": "95bd9980-4d05-43dc-be99-f1e14e5e748a",
   "metadata": {},
   "outputs": [
    {
     "name": "stdout",
     "output_type": "stream",
     "text": [
      "Hello World\n"
     ]
    }
   ],
   "source": [
    "print(\"Hello World\")   #this is a comment"
   ]
  },
  {
   "cell_type": "markdown",
   "id": "a12ca64e",
   "metadata": {},
   "source": [
    "# 7 Remember"
   ]
  },
  {
   "cell_type": "markdown",
   "id": "3ef9d6d1-b4d6-4de8-9d75-25a50823e446",
   "metadata": {},
   "source": [
    "- Comments are to emphasise the purpose of the code, help you to remember what you wrote the code for\n",
    "- Use comments meaningfully and not redundantly\n",
    "- The keyboard shortcut for commenting is control \\ or command \\"
   ]
  },
  {
   "cell_type": "markdown",
   "id": "446c3a99",
   "metadata": {},
   "source": [
    "# 8 = is not the same as =="
   ]
  },
  {
   "cell_type": "markdown",
   "id": "00cb38bc-f192-436c-a7dd-e1e62bb9c68e",
   "metadata": {},
   "source": [
    "= is used to set something as equal  \n",
    "== is used to check if something is true"
   ]
  },
  {
   "cell_type": "markdown",
   "id": "04074353",
   "metadata": {},
   "source": [
    "# 9 Remember"
   ]
  },
  {
   "cell_type": "markdown",
   "id": "b202336b",
   "metadata": {},
   "source": [
    "# 10 Use if to make decisions"
   ]
  },
  {
   "cell_type": "code",
   "execution_count": 8,
   "id": "4b2fe94e-8927-4566-adbd-a25a72667545",
   "metadata": {},
   "outputs": [
    {
     "name": "stdout",
     "output_type": "stream",
     "text": [
      "Hello Batman!\n"
     ]
    }
   ],
   "source": [
    "name = 'Batman'\n",
    "\n",
    "if name == 'Batman':\n",
    "    print('Hello Batman!') #THINGS YOU DO WHEN IT IS TRUE\n",
    "else:\n",
    "    print('Hello World!') #WHEN IT IS FALSE"
   ]
  },
  {
   "cell_type": "markdown",
   "id": "24963625",
   "metadata": {},
   "source": [
    "# 11 Remember"
   ]
  },
  {
   "cell_type": "markdown",
   "id": "a6203469-5130-443e-b869-5ef744daaf32",
   "metadata": {},
   "source": [
    "- indentations are important in Python\n",
    "- the colon : designates a block of code"
   ]
  },
  {
   "cell_type": "markdown",
   "id": "48350c25",
   "metadata": {},
   "source": [
    "# 12 Indentations (spaces) are sooo IMPORTANT!"
   ]
  },
  {
   "cell_type": "code",
   "execution_count": 14,
   "id": "cc0b85e0-4567-4615-9192-b3f1a545d549",
   "metadata": {},
   "outputs": [
    {
     "name": "stdout",
     "output_type": "stream",
     "text": [
      "10\n"
     ]
    }
   ],
   "source": [
    "x = 10\n",
    "print(x)"
   ]
  },
  {
   "cell_type": "code",
   "execution_count": 15,
   "id": "eddba4d5-1079-45d1-aab6-8ce3ac628c9b",
   "metadata": {},
   "outputs": [
    {
     "ename": "IndentationError",
     "evalue": "unexpected indent (1537435392.py, line 2)",
     "output_type": "error",
     "traceback": [
      "\u001b[0;36m  Cell \u001b[0;32mIn[15], line 2\u001b[0;36m\u001b[0m\n\u001b[0;31m    print(x)\u001b[0m\n\u001b[0m    ^\u001b[0m\n\u001b[0;31mIndentationError\u001b[0m\u001b[0;31m:\u001b[0m unexpected indent\n"
     ]
    }
   ],
   "source": [
    "x = 10\n",
    " print(x)"
   ]
  },
  {
   "cell_type": "markdown",
   "id": "c46035e7",
   "metadata": {},
   "source": [
    "# 13 Remember"
   ]
  },
  {
   "cell_type": "markdown",
   "id": "5255b562-9654-40b1-891c-6daecf33a50a",
   "metadata": {},
   "source": [
    "- don't use indentations indiscriminately\n",
    "- use a tab for indentations, not spaces"
   ]
  },
  {
   "cell_type": "markdown",
   "id": "478c5433",
   "metadata": {},
   "source": [
    "# 14 ‘age’ is English, age is a variable."
   ]
  },
  {
   "cell_type": "code",
   "execution_count": 13,
   "id": "f64027c9-ffc8-4c9c-bea4-b96c75ab0f67",
   "metadata": {},
   "outputs": [
    {
     "name": "stdout",
     "output_type": "stream",
     "text": [
      "age 10000\n",
      "age\n"
     ]
    }
   ],
   "source": [
    "student_age=10000\n",
    "x = 10000\n",
    "\n",
    "print(\"age\",age)   #print the value of the variable age\n",
    "print(\"age\")       #print the English word 'age'"
   ]
  },
  {
   "cell_type": "markdown",
   "id": "c3723d35-ecf6-4440-bc80-6dac83505a7d",
   "metadata": {},
   "source": [
    "- Be as descriptive as possible for variable names to sound more refined and make the code clearer\n",
    "- Additionally: be consistent with using \" or ' double or single quotation marks "
   ]
  },
  {
   "cell_type": "code",
   "execution_count": 17,
   "id": "f64b3b4c-3f13-40ee-a9c2-476f4ec0e900",
   "metadata": {},
   "outputs": [
    {
     "ename": "SyntaxError",
     "evalue": "invalid syntax (1239851497.py, line 1)",
     "output_type": "error",
     "traceback": [
      "\u001b[0;36m  Cell \u001b[0;32mIn[17], line 1\u001b[0;36m\u001b[0m\n\u001b[0;31m    for=10 #KEYWORD CANNOT BE USED AS VARIABLE\u001b[0m\n\u001b[0m       ^\u001b[0m\n\u001b[0;31mSyntaxError\u001b[0m\u001b[0;31m:\u001b[0m invalid syntax\n"
     ]
    }
   ],
   "source": [
    "for=10 #KEYWORD CANNOT BE USED AS VARIABLE"
   ]
  },
  {
   "cell_type": "markdown",
   "id": "d8e78387",
   "metadata": {},
   "source": [
    "# 15 Brackets"
   ]
  },
  {
   "cell_type": "code",
   "execution_count": 18,
   "id": "b7c06afa-12bf-4081-9e4b-8c0aa928ce84",
   "metadata": {},
   "outputs": [
    {
     "name": "stdout",
     "output_type": "stream",
     "text": [
      "Hello!\n"
     ]
    },
    {
     "ename": "TypeError",
     "evalue": "unsupported operand type(s) for +: 'int' and 'list'",
     "output_type": "error",
     "traceback": [
      "\u001b[0;31m---------------------------------------------------------------------------\u001b[0m",
      "\u001b[0;31mTypeError\u001b[0m                                 Traceback (most recent call last)",
      "Cell \u001b[0;32mIn[18], line 3\u001b[0m\n\u001b[1;32m      1\u001b[0m \u001b[38;5;28mprint\u001b[39m(\u001b[38;5;124m'\u001b[39m\u001b[38;5;124mHello!\u001b[39m\u001b[38;5;124m'\u001b[39m) \u001b[38;5;66;03m#in functionst\u001b[39;00m\n\u001b[1;32m      2\u001b[0m (\u001b[38;5;241m1\u001b[39m \u001b[38;5;241m+\u001b[39m \u001b[38;5;241m2\u001b[39m) \u001b[38;5;241m*\u001b[39m \u001b[38;5;241m5\u001b[39m     \u001b[38;5;66;03m#for math, must used curved brackets\u001b[39;00m\n\u001b[0;32m----> 3\u001b[0m (\u001b[38;5;241m1\u001b[39m \u001b[38;5;241m+\u001b[39m [\u001b[38;5;241m3\u001b[39m\u001b[38;5;241m*\u001b[39m\u001b[38;5;241m5\u001b[39m]) \u001b[38;5;241m*\u001b[39m \u001b[38;5;241m5\u001b[39m\n",
      "\u001b[0;31mTypeError\u001b[0m: unsupported operand type(s) for +: 'int' and 'list'"
     ]
    }
   ],
   "source": [
    "print('Hello!') #in functionst\n",
    "(1 + 2) * 5     #for math, must used curved brackets\n",
    "(1 + [3*5]) * 5 #DO NOT DO THIS"
   ]
  },
  {
   "cell_type": "markdown",
   "id": "28253c98-e8cd-4d8e-9519-a827f5500f7b",
   "metadata": {},
   "source": [
    "- lists uses square brackets []"
   ]
  },
  {
   "cell_type": "code",
   "execution_count": 24,
   "id": "2fa7c7d1-b9f7-412c-838f-01babdddd97f",
   "metadata": {},
   "outputs": [],
   "source": [
    "py_list = [1, 2, 3, 4, 5]   # A 1D list\n",
    "\n",
    "py_list_2 = [               # A 2D list\n",
    "                [1, \"A\"],      \n",
    "                [2, \"B\"],\n",
    "                [3, \"C\"],\n",
    "                [4, \"D\"],\n",
    "                [5, \"E\"]\n",
    "            ]"
   ]
  },
  {
   "cell_type": "markdown",
   "id": "336914a6-193b-43fe-b3c3-823b4620c2dd",
   "metadata": {},
   "source": [
    "- dictionary uses curly brackets {} to store \n",
    "    - need to put a comma after each entry (except for the last one)\n",
    "- dictionary uses key to identify a value\n",
    "- this makes it easy to extract and update information"
   ]
  },
  {
   "cell_type": "code",
   "execution_count": 21,
   "id": "a994dca3-1c41-42d0-9137-a42460cc30bc",
   "metadata": {},
   "outputs": [],
   "source": [
    "personal_info = {\n",
    "    'Names': 'Batman',\n",
    "    'Real Name': 'Bruce Wayne',\n",
    "    'Age': 55,\n",
    "    'Affiliation': 'Justice League',\n",
    "    'Universe': 'DC'\n",
    "}\n",
    "#a dictionary"
   ]
  },
  {
   "cell_type": "code",
   "execution_count": 22,
   "id": "c8d8f927-4852-4c98-a3e0-0c02e2f349b5",
   "metadata": {},
   "outputs": [
    {
     "name": "stdout",
     "output_type": "stream",
     "text": [
      "Bruce Wayne\n"
     ]
    }
   ],
   "source": [
    "print(personal_info['Real Name'])    "
   ]
  },
  {
   "cell_type": "code",
   "execution_count": 8,
   "id": "e5fd32bb-4602-4fff-b1d9-fd3ad3802b1b",
   "metadata": {},
   "outputs": [
    {
     "name": "stdout",
     "output_type": "stream",
     "text": [
      "CC22\n",
      "CC23\n"
     ]
    }
   ],
   "source": [
    "mrt_stations = {\n",
    "    'Kent Ridge': 'CC24',\n",
    "    'One North': 'CC23',\n",
    "    'Buona Vista': 'CC22'\n",
    "}\n",
    "\n",
    "print(mrt_stations['Buona Vista'])\n",
    "print(mrt_stations['One North'])"
   ]
  },
  {
   "cell_type": "code",
   "execution_count": 7,
   "id": "ba111333-189a-4d62-9958-1caeaeeb513f",
   "metadata": {},
   "outputs": [
    {
     "name": "stdout",
     "output_type": "stream",
     "text": [
      "yellow\n",
      "green\n"
     ]
    }
   ],
   "source": [
    "fruit_colours = {\n",
    "    'banana': 'yellow',\n",
    "    'apple': 'red',\n",
    "    'mandarin': 'orange',\n",
    "    'lime': 'green'\n",
    "}\n",
    "\n",
    "print(fruit_colours['banana'])\n",
    "print(fruit_colours['lime'])"
   ]
  },
  {
   "cell_type": "markdown",
   "id": "09d9ce37",
   "metadata": {},
   "source": [
    "# 16 Giving Python superpowers with Packages"
   ]
  },
  {
   "cell_type": "code",
   "execution_count": 30,
   "id": "5a03534f-fa06-44f4-9bce-43ea78318489",
   "metadata": {},
   "outputs": [
    {
     "ename": "NameError",
     "evalue": "name 'sqrt' is not defined",
     "output_type": "error",
     "traceback": [
      "\u001b[0;31m---------------------------------------------------------------------------\u001b[0m",
      "\u001b[0;31mNameError\u001b[0m                                 Traceback (most recent call last)",
      "Cell \u001b[0;32mIn[30], line 1\u001b[0m\n\u001b[0;32m----> 1\u001b[0m sqrt(\u001b[38;5;241m4\u001b[39m)\n",
      "\u001b[0;31mNameError\u001b[0m: name 'sqrt' is not defined"
     ]
    }
   ],
   "source": [
    "sqrt(4)"
   ]
  },
  {
   "cell_type": "markdown",
   "id": "cd2143e1",
   "metadata": {},
   "source": [
    "## 16.1 Some Context"
   ]
  },
  {
   "cell_type": "markdown",
   "id": "d139b18d-0034-4430-aa30-30c41817c71e",
   "metadata": {},
   "source": [
    "This does not work because basic Python is limited, need to import math package"
   ]
  },
  {
   "cell_type": "markdown",
   "id": "c76adfd8",
   "metadata": {},
   "source": [
    "## 16.2 Importing the math package"
   ]
  },
  {
   "cell_type": "code",
   "execution_count": 26,
   "id": "2e31fdfd-c888-4bd6-911d-675fe62a7f46",
   "metadata": {},
   "outputs": [],
   "source": [
    "import math"
   ]
  },
  {
   "cell_type": "code",
   "execution_count": 27,
   "id": "c087076a-ae90-4ad8-9d86-bdf7f7164e81",
   "metadata": {},
   "outputs": [
    {
     "data": {
      "text/plain": [
       "2.0"
      ]
     },
     "execution_count": 27,
     "metadata": {},
     "output_type": "execute_result"
    }
   ],
   "source": [
    "math.sqrt(4)"
   ]
  },
  {
   "cell_type": "markdown",
   "id": "a891a810",
   "metadata": {},
   "source": [
    "## 16.3 Importing the numpy package"
   ]
  },
  {
   "cell_type": "code",
   "execution_count": 28,
   "id": "b739485b-bd52-4350-b7aa-0f5d63d17db2",
   "metadata": {},
   "outputs": [],
   "source": [
    "import numpy"
   ]
  },
  {
   "cell_type": "code",
   "execution_count": 29,
   "id": "3a162fd6-2edb-4f28-95b7-9f34e3b4436b",
   "metadata": {},
   "outputs": [
    {
     "data": {
      "text/plain": [
       "array([2., 3., 4.])"
      ]
     },
     "execution_count": 29,
     "metadata": {},
     "output_type": "execute_result"
    }
   ],
   "source": [
    "numpy.sqrt([4,9,16])"
   ]
  },
  {
   "cell_type": "markdown",
   "id": "d1876988",
   "metadata": {},
   "source": [
    "## 16.4 Why so many packages?"
   ]
  },
  {
   "cell_type": "markdown",
   "id": "6629171e-8227-49e7-b5e0-962db41dec2f",
   "metadata": {},
   "source": [
    "- the different packages are designed for different things thus, having different packages are useful\n",
    "  - multiple numbers cannot be square rooted using math\n",
    "- usually import at the start of your code so you can use it throughout  \n",
    "- you can give the package an alias when importing to make it easier to type\n",
    "  - if you restart the kernel it will forget what packages you have imported"
   ]
  },
  {
   "cell_type": "code",
   "execution_count": 31,
   "id": "41a71862-dbad-42de-af13-9b422f9fcebf",
   "metadata": {},
   "outputs": [],
   "source": [
    "import numpy as np"
   ]
  },
  {
   "cell_type": "code",
   "execution_count": 32,
   "id": "d374d401-ec08-4c46-90ec-4b50bc54d51b",
   "metadata": {},
   "outputs": [
    {
     "data": {
      "text/plain": [
       "10.0"
      ]
     },
     "execution_count": 32,
     "metadata": {},
     "output_type": "execute_result"
    }
   ],
   "source": [
    "np.sqrt(100)"
   ]
  },
  {
   "cell_type": "markdown",
   "id": "a245dd52",
   "metadata": {},
   "source": [
    "# 17 Remember"
   ]
  },
  {
   "cell_type": "markdown",
   "id": "60ee42a8-dea9-4f9f-959b-1be03db9b5b8",
   "metadata": {},
   "source": [
    "- you must tell python to use the package\n",
    "- you only need to import the pacakge once"
   ]
  },
  {
   "cell_type": "markdown",
   "id": "23c54d71",
   "metadata": {},
   "source": [
    "# 18 The dot (.)"
   ]
  },
  {
   "cell_type": "code",
   "execution_count": 34,
   "id": "de6b894d-9883-4605-bd3d-57d9f80e2d43",
   "metadata": {},
   "outputs": [
    {
     "data": {
      "text/plain": [
       "2.0"
      ]
     },
     "execution_count": 34,
     "metadata": {},
     "output_type": "execute_result"
    }
   ],
   "source": [
    "math.sqrt(4)\n",
    "np.sqrt(4)"
   ]
  },
  {
   "cell_type": "markdown",
   "id": "61cff6b1-1baf-444f-9dd3-0b9436b290cb",
   "metadata": {},
   "source": [
    "- these are functions so they have brackets"
   ]
  },
  {
   "cell_type": "code",
   "execution_count": 35,
   "id": "c4b39738-3ada-4464-80d9-22dd5d5b652e",
   "metadata": {},
   "outputs": [
    {
     "data": {
      "text/plain": [
       "'APPLE'"
      ]
     },
     "execution_count": 35,
     "metadata": {},
     "output_type": "execute_result"
    }
   ],
   "source": [
    "'apple'.upper()"
   ]
  },
  {
   "cell_type": "code",
   "execution_count": 36,
   "id": "90cfda82-689c-4b1f-be0b-1611b366c015",
   "metadata": {},
   "outputs": [
    {
     "data": {
      "text/plain": [
       "'Apple'"
      ]
     },
     "execution_count": 36,
     "metadata": {},
     "output_type": "execute_result"
    }
   ],
   "source": [
    "'apple'.title()"
   ]
  },
  {
   "cell_type": "code",
   "execution_count": 43,
   "id": "7f71bb49-1f98-43b7-a9c5-c16034de546b",
   "metadata": {},
   "outputs": [
    {
     "ename": "TypeError",
     "evalue": "str.title() takes no arguments (1 given)",
     "output_type": "error",
     "traceback": [
      "\u001b[0;31m---------------------------------------------------------------------------\u001b[0m",
      "\u001b[0;31mTypeError\u001b[0m                                 Traceback (most recent call last)",
      "Cell \u001b[0;32mIn[43], line 3\u001b[0m\n\u001b[1;32m      1\u001b[0m \u001b[38;5;66;03m#you cannot put things inside the bracket (as an argument) for example below, it will not work\u001b[39;00m\n\u001b[0;32m----> 3\u001b[0m \u001b[38;5;124m'\u001b[39m\u001b[38;5;124mapple\u001b[39m\u001b[38;5;124m'\u001b[39m\u001b[38;5;241m.\u001b[39mtitle(\u001b[38;5;124m'\u001b[39m\u001b[38;5;124mapple\u001b[39m\u001b[38;5;124m'\u001b[39m)\n",
      "\u001b[0;31mTypeError\u001b[0m: str.title() takes no arguments (1 given)"
     ]
    }
   ],
   "source": [
    "#you cannot put things inside the bracket (as an argument) for example below, it will not work\n",
    "\n",
    "'apple'.title('apple')"
   ]
  },
  {
   "cell_type": "markdown",
   "id": "778f1cb0-0b4b-44c0-bad2-4c5480f68c32",
   "metadata": {},
   "source": [
    "- the following are properties so they do not have brackets"
   ]
  },
  {
   "cell_type": "code",
   "execution_count": 37,
   "id": "e1980d22-c760-4799-ade0-17aab48e9afd",
   "metadata": {},
   "outputs": [],
   "source": [
    "x=1j+10"
   ]
  },
  {
   "cell_type": "code",
   "execution_count": 38,
   "id": "5af65ad2-4cc4-4d4e-ae71-c9c7b686c50a",
   "metadata": {},
   "outputs": [
    {
     "data": {
      "text/plain": [
       "10.0"
      ]
     },
     "execution_count": 38,
     "metadata": {},
     "output_type": "execute_result"
    }
   ],
   "source": [
    "x.real"
   ]
  },
  {
   "cell_type": "code",
   "execution_count": 39,
   "id": "50ab499c-2414-4e4c-8936-1b79c9726809",
   "metadata": {},
   "outputs": [
    {
     "data": {
      "text/plain": [
       "1.0"
      ]
     },
     "execution_count": 39,
     "metadata": {},
     "output_type": "execute_result"
    }
   ],
   "source": [
    "x.imag"
   ]
  },
  {
   "cell_type": "code",
   "execution_count": 41,
   "id": "971d117d-c501-4894-aa07-73eb2a4fb931",
   "metadata": {},
   "outputs": [
    {
     "data": {
      "text/plain": [
       "'AAAAAAAAAAAAAAAAAAAAAAAAAAAAAAAAAAAAAAAAAAAAAAAAAAAAAAAAAAAAAAAAAAAAAAAAAAAAAAAAAAAAAAAAAAAAAAAAAAAABBBBBBBBBB'"
      ]
     },
     "execution_count": 41,
     "metadata": {},
     "output_type": "execute_result"
    }
   ],
   "source": [
    "'A'*100+'B'*10"
   ]
  },
  {
   "cell_type": "markdown",
   "id": "c282abd3-4bb8-4566-96cc-31fc293cadf3",
   "metadata": {},
   "source": [
    "- division is not defined"
   ]
  },
  {
   "cell_type": "code",
   "execution_count": 42,
   "id": "e87e1423-3f0a-4bcd-b478-6ad1d755dae3",
   "metadata": {},
   "outputs": [
    {
     "ename": "SyntaxError",
     "evalue": "unexpected character after line continuation character (2345606419.py, line 1)",
     "output_type": "error",
     "traceback": [
      "\u001b[0;36m  Cell \u001b[0;32mIn[42], line 1\u001b[0;36m\u001b[0m\n\u001b[0;31m    'A'*100+'B'\\10\u001b[0m\n\u001b[0m                ^\u001b[0m\n\u001b[0;31mSyntaxError\u001b[0m\u001b[0;31m:\u001b[0m unexpected character after line continuation character\n"
     ]
    }
   ],
   "source": [
    "'A'*100+'B'\\10"
   ]
  },
  {
   "cell_type": "markdown",
   "id": "3e9aab36",
   "metadata": {},
   "source": [
    "# 19 Remember"
   ]
  },
  {
   "cell_type": "markdown",
   "id": "c8f16d31-7633-44c1-ae70-2ba38bedd74d",
   "metadata": {},
   "source": [
    "Dots indicate ownership. \n",
    "- everything in python is an object, which has class and attributes (means there are hidden things you can do)\n",
    "- if you do something that does not make sense, like in the example below, it will not work"
   ]
  },
  {
   "cell_type": "code",
   "execution_count": 40,
   "id": "e601d798-39d1-4762-abc3-f5f1894a4c16",
   "metadata": {},
   "outputs": [
    {
     "ename": "SyntaxError",
     "evalue": "invalid decimal literal (2879081738.py, line 1)",
     "output_type": "error",
     "traceback": [
      "\u001b[0;36m  Cell \u001b[0;32mIn[40], line 1\u001b[0;36m\u001b[0m\n\u001b[0;31m    10.title()\u001b[0m\n\u001b[0m      ^\u001b[0m\n\u001b[0;31mSyntaxError\u001b[0m\u001b[0;31m:\u001b[0m invalid decimal literal\n"
     ]
    }
   ],
   "source": [
    "10.title()"
   ]
  },
  {
   "cell_type": "markdown",
   "id": "ba0a3907",
   "metadata": {},
   "source": [
    "## Footnotes"
   ]
  },
  {
   "cell_type": "markdown",
   "id": "3ef7c78a-2f69-4216-867d-f0e50b8329ec",
   "metadata": {},
   "source": [
    "You can modify and embellish functions (make them do more things), for example the function print\n",
    "\n",
    "side note: to turn on or off automatic numbering of the headings\n",
    "- go to \"table of contents\" under view\n",
    "- click on the numbers button (the small upper right hand button)"
   ]
  },
  {
   "cell_type": "markdown",
   "id": "d9c74963-08f1-4a8f-a345-170f4654c1b7",
   "metadata": {},
   "source": [
    "**optional**"
   ]
  },
  {
   "cell_type": "code",
   "execution_count": 9,
   "id": "82a7d28c-6eb7-4d27-87b4-91145eddb282",
   "metadata": {},
   "outputs": [
    {
     "name": "stdout",
     "output_type": "stream",
     "text": [
      "Batman\n"
     ]
    }
   ],
   "source": [
    "name = 'Batman'\n",
    "if name:\n",
    "  print(name)"
   ]
  },
  {
   "cell_type": "markdown",
   "id": "af2c289b-ff60-4b09-b990-bc4734e49fbf",
   "metadata": {},
   "source": [
    "what happens? why?"
   ]
  }
 ],
 "metadata": {
  "kernelspec": {
   "display_name": "Python 3 (ipykernel)",
   "language": "python",
   "name": "python3"
  },
  "language_info": {
   "codemirror_mode": {
    "name": "ipython",
    "version": 3
   },
   "file_extension": ".py",
   "mimetype": "text/x-python",
   "name": "python",
   "nbconvert_exporter": "python",
   "pygments_lexer": "ipython3",
   "version": "3.11.5"
  },
  "toc": {
   "base_numbering": 1,
   "nav_menu": {},
   "number_sections": true,
   "sideBar": true,
   "skip_h1_title": false,
   "title_cell": "Table of Contents",
   "title_sidebar": "Contents",
   "toc_cell": false,
   "toc_position": {},
   "toc_section_display": true,
   "toc_window_display": false
  },
  "vscode": {
   "interpreter": {
    "hash": "31f2aee4e71d21fbe5cf8b01ff0e069b9275f58929596ceb00d14d90e3e16cd6"
   }
  }
 },
 "nbformat": 4,
 "nbformat_minor": 5
}
