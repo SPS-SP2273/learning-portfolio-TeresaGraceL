{
 "cells": [
  {
   "attachments": {},
   "cell_type": "markdown",
   "id": "123456",
   "metadata": {},
   "source": [
    "<div style=\"text-align:left;font-size:2em\"><span style=\"font-weight:bolder;font-size:1.25em\">SP2273 | Learning Portfolio</span><br><br><span style=\"font-weight:bold;color:darkred\">Fundamentals (Good)</span></div>"
   ]
  },
  {
   "attachments": {},
   "cell_type": "markdown",
   "id": "7463b5de",
   "metadata": {},
   "source": [
    "# What to expect in this chapter"
   ]
  },
  {
   "attachments": {},
   "cell_type": "markdown",
   "id": "29b60b41",
   "metadata": {},
   "source": [
    "# 1 There is more to if"
   ]
  },
  {
   "cell_type": "markdown",
   "id": "5fccf7e4-a13b-4ab9-b07c-5f0c0cbfa634",
   "metadata": {},
   "source": [
    "- **elif** stands for else if\n",
    "- elif allows us to add more conditions/ branches to the if statement"
   ]
  },
  {
   "cell_type": "code",
   "execution_count": 44,
   "id": "8831f71f-3a5d-475d-89dc-e9e6e1fb5661",
   "metadata": {},
   "outputs": [
    {
     "name": "stdout",
     "output_type": "stream",
     "text": [
      "Hello Batman!\n"
     ]
    }
   ],
   "source": [
    "name = 'Batman'\n",
    "\n",
    "if name == 'Batman':\n",
    "    print('Hello Batman!')\n",
    "elif name == 'Robin':\n",
    "    print('Hello Sidekick!')\n",
    "elif name == 'Jason':\n",
    "    print('Hello Todd!')\n",
    "elif name == 'Alfred':\n",
    "    print('Hello Alfred')\n",
    "else:\n",
    "    print('Hello World!')"
   ]
  },
  {
   "attachments": {},
   "cell_type": "markdown",
   "id": "92a50b90",
   "metadata": {},
   "source": [
    "# 2 Asking questions"
   ]
  },
  {
   "cell_type": "markdown",
   "id": "d4388272-c976-44db-84d5-9cc5880232c0",
   "metadata": {},
   "source": [
    "You can ask Python questions and they will give logical answers (true or false)\n",
    "\n",
    "- You can compare two things of the same type:\n",
    "  - letters and letters\n",
    "  - numbers and numbers"
   ]
  },
  {
   "cell_type": "code",
   "execution_count": 45,
   "id": "3947840b-9939-4236-bf40-50ff435dd202",
   "metadata": {},
   "outputs": [],
   "source": [
    "fruits = ['apple', 'banana', 'pineapple', 'jackfruit']\n",
    "vegetables = ['celery', 'potato', 'broccoli', 'kale']"
   ]
  },
  {
   "cell_type": "code",
   "execution_count": 46,
   "id": "8d0fdcfd-3bd4-4576-b5c4-8b3c4a44da4a",
   "metadata": {},
   "outputs": [
    {
     "data": {
      "text/plain": [
       "True"
      ]
     },
     "execution_count": 46,
     "metadata": {},
     "output_type": "execute_result"
    }
   ],
   "source": [
    "'apple' in fruits"
   ]
  },
  {
   "cell_type": "code",
   "execution_count": 47,
   "id": "7a1c2faa-f155-4e50-aad5-623c40466369",
   "metadata": {},
   "outputs": [
    {
     "data": {
      "text/plain": [
       "False"
      ]
     },
     "execution_count": 47,
     "metadata": {},
     "output_type": "execute_result"
    }
   ],
   "source": [
    "'peach' in fruits"
   ]
  },
  {
   "cell_type": "code",
   "execution_count": 48,
   "id": "d13d42ec-eb96-430f-b569-eb977fe83a19",
   "metadata": {},
   "outputs": [
    {
     "data": {
      "text/plain": [
       "True"
      ]
     },
     "execution_count": 48,
     "metadata": {},
     "output_type": "execute_result"
    }
   ],
   "source": [
    "'peach' not in fruits"
   ]
  },
  {
   "cell_type": "code",
   "execution_count": 49,
   "id": "6745fe39-949f-446b-bca1-d82cff88edd2",
   "metadata": {},
   "outputs": [
    {
     "data": {
      "text/plain": [
       "False"
      ]
     },
     "execution_count": 49,
     "metadata": {},
     "output_type": "execute_result"
    }
   ],
   "source": [
    "'PP' in 'apple'"
   ]
  },
  {
   "cell_type": "code",
   "execution_count": 50,
   "id": "259c67bf-1a94-4296-a2d6-9b5448b9245b",
   "metadata": {},
   "outputs": [
    {
     "data": {
      "text/plain": [
       "True"
      ]
     },
     "execution_count": 50,
     "metadata": {},
     "output_type": "execute_result"
    }
   ],
   "source": [
    "'app' in 'apple'"
   ]
  },
  {
   "cell_type": "code",
   "execution_count": 51,
   "id": "2fc3a6b8-0e25-4a4f-a0ca-43d3ae410c44",
   "metadata": {},
   "outputs": [
    {
     "data": {
      "text/plain": [
       "True"
      ]
     },
     "execution_count": 51,
     "metadata": {},
     "output_type": "execute_result"
    }
   ],
   "source": [
    "('apple' in fruits) and ('celery' in vegetables)"
   ]
  },
  {
   "cell_type": "code",
   "execution_count": 52,
   "id": "fa33ff4f-0bed-48ba-8b53-1835c563b5f7",
   "metadata": {},
   "outputs": [
    {
     "data": {
      "text/plain": [
       "True"
      ]
     },
     "execution_count": 52,
     "metadata": {},
     "output_type": "execute_result"
    }
   ],
   "source": [
    "('apple' in fruits) or ('celery' in vegetables)"
   ]
  },
  {
   "cell_type": "code",
   "execution_count": 53,
   "id": "b55e64cb-3e7b-485b-b413-6c14b40df63a",
   "metadata": {},
   "outputs": [
    {
     "data": {
      "text/plain": [
       "False"
      ]
     },
     "execution_count": 53,
     "metadata": {},
     "output_type": "execute_result"
    }
   ],
   "source": [
    "'apple' > 'orange'"
   ]
  },
  {
   "cell_type": "code",
   "execution_count": 54,
   "id": "cd047fb2-3658-438f-9b50-890fa4250f09",
   "metadata": {},
   "outputs": [
    {
     "data": {
      "text/plain": [
       "False"
      ]
     },
     "execution_count": 54,
     "metadata": {},
     "output_type": "execute_result"
    }
   ],
   "source": [
    "a > 10"
   ]
  },
  {
   "attachments": {},
   "cell_type": "markdown",
   "id": "1260d0b2",
   "metadata": {},
   "source": [
    "# 3 Remember"
   ]
  },
  {
   "cell_type": "markdown",
   "id": "bcdd3e5b-95f6-4071-aba2-a5592f0e58d9",
   "metadata": {},
   "source": [
    "Useful keywords for asking Python questions:\n",
    "- not\n",
    "- in\n",
    "- and\n",
    "- or"
   ]
  },
  {
   "attachments": {},
   "cell_type": "markdown",
   "id": "661405ad",
   "metadata": {},
   "source": [
    "## 3.1 Asking Math questions"
   ]
  },
  {
   "cell_type": "code",
   "execution_count": 55,
   "id": "b4fc586b-c136-434d-b267-01363de18bf0",
   "metadata": {},
   "outputs": [
    {
     "data": {
      "text/plain": [
       "True"
      ]
     },
     "execution_count": 55,
     "metadata": {},
     "output_type": "execute_result"
    }
   ],
   "source": [
    "10 >= 3"
   ]
  },
  {
   "cell_type": "code",
   "execution_count": 56,
   "id": "6e70c294-3b21-4a59-b287-60604bbe8d8a",
   "metadata": {},
   "outputs": [],
   "source": [
    "x=3"
   ]
  },
  {
   "cell_type": "code",
   "execution_count": 57,
   "id": "c8bd0cf2-6ee6-4e19-95dd-0bd90e0e3e0a",
   "metadata": {},
   "outputs": [
    {
     "data": {
      "text/plain": [
       "False"
      ]
     },
     "execution_count": 57,
     "metadata": {},
     "output_type": "execute_result"
    }
   ],
   "source": [
    "x > 5 and x < 15"
   ]
  },
  {
   "cell_type": "code",
   "execution_count": 58,
   "id": "b55dc0cd-45e8-472d-83b1-c8695c5006c2",
   "metadata": {},
   "outputs": [
    {
     "data": {
      "text/plain": [
       "False"
      ]
     },
     "execution_count": 58,
     "metadata": {},
     "output_type": "execute_result"
    }
   ],
   "source": [
    "(x > 5) and (x <15)"
   ]
  },
  {
   "cell_type": "code",
   "execution_count": 59,
   "id": "fcdc51e3-10ae-4f26-a48e-28b043058f32",
   "metadata": {},
   "outputs": [
    {
     "data": {
      "text/plain": [
       "False"
      ]
     },
     "execution_count": 59,
     "metadata": {},
     "output_type": "execute_result"
    }
   ],
   "source": [
    "5 <= x < 15 #Only in python"
   ]
  },
  {
   "attachments": {},
   "cell_type": "markdown",
   "id": "5c6cc633",
   "metadata": {},
   "source": [
    "# 4 Python stores information in different formats or types"
   ]
  },
  {
   "cell_type": "markdown",
   "id": "7fab9750-c4eb-42d1-84fc-2df283ec7852",
   "metadata": {},
   "source": [
    "You can figure out what the type is by using the function type"
   ]
  },
  {
   "cell_type": "code",
   "execution_count": 60,
   "id": "0a6b8481-8f05-4aab-b906-7c280f61df91",
   "metadata": {},
   "outputs": [
    {
     "name": "stdout",
     "output_type": "stream",
     "text": [
      "1 <class 'int'>\n"
     ]
    }
   ],
   "source": [
    "x = int(1.234)\n",
    "print(x, type(x))"
   ]
  },
  {
   "cell_type": "code",
   "execution_count": 61,
   "id": "0ba4af54-aef0-40d3-913c-0e5d6e0c4cd6",
   "metadata": {},
   "outputs": [
    {
     "name": "stdout",
     "output_type": "stream",
     "text": [
      "1.234 <class 'str'>\n"
     ]
    }
   ],
   "source": [
    "x = str(1.234)\n",
    "print(x, type(x))\n",
    "#cannot do comparisons with the string class"
   ]
  },
  {
   "cell_type": "code",
   "execution_count": 62,
   "id": "ae34923f-17aa-4092-acfb-311594e9c8f8",
   "metadata": {},
   "outputs": [
    {
     "name": "stdout",
     "output_type": "stream",
     "text": [
      "1.234 <class 'float'>\n"
     ]
    }
   ],
   "source": [
    "x = float(1.234)\n",
    "print(x, type(x))"
   ]
  },
  {
   "cell_type": "code",
   "execution_count": 63,
   "id": "13e462d8-14c3-47c7-89e8-9203b797b837",
   "metadata": {},
   "outputs": [
    {
     "name": "stdout",
     "output_type": "stream",
     "text": [
      "(1.234+0j) <class 'complex'>\n"
     ]
    }
   ],
   "source": [
    "x = complex(1.234)\n",
    "print(x, type(x))"
   ]
  },
  {
   "cell_type": "markdown",
   "id": "0162dd36-b51f-42ff-a29c-e45e418e4787",
   "metadata": {},
   "source": [
    "- computers do not have infinite resources, although computers can handle more numbers now than in the past\n",
    "- 16 bit,32 bit, 64 bit integers etc\n",
    "- different types of variables makes the most of computer resources"
   ]
  },
  {
   "attachments": {},
   "cell_type": "markdown",
   "id": "7cfae8d5",
   "metadata": {},
   "source": [
    "# 5 Never compare floats directly"
   ]
  },
  {
   "cell_type": "markdown",
   "id": "acb5772b-2416-4a1b-aa8b-26f5bdc72ea7",
   "metadata": {},
   "source": [
    "Computer has limited precision"
   ]
  },
  {
   "cell_type": "code",
   "execution_count": 64,
   "id": "436c788d-b1aa-435b-a3a6-84486fc8f5ca",
   "metadata": {},
   "outputs": [
    {
     "data": {
      "text/plain": [
       "False"
      ]
     },
     "execution_count": 64,
     "metadata": {},
     "output_type": "execute_result"
    }
   ],
   "source": [
    "a = 0.1\n",
    "a3 = 0.3\n",
    "a * 3 == a3"
   ]
  },
  {
   "cell_type": "code",
   "execution_count": 65,
   "id": "14fa5de6-fd9d-4834-badd-57145680d9bb",
   "metadata": {},
   "outputs": [
    {
     "data": {
      "text/plain": [
       "'0.29999999999999999'"
      ]
     },
     "execution_count": 65,
     "metadata": {},
     "output_type": "execute_result"
    }
   ],
   "source": [
    "f'{0.3:.17f}'"
   ]
  },
  {
   "attachments": {},
   "cell_type": "markdown",
   "id": "9ffa0d77",
   "metadata": {},
   "source": [
    "## 5.1 The Problem"
   ]
  },
  {
   "cell_type": "code",
   "execution_count": 66,
   "id": "ed80757e-3ca0-49ec-98fa-5e23c653020a",
   "metadata": {},
   "outputs": [
    {
     "data": {
      "text/plain": [
       "5.551115123125783e-17"
      ]
     },
     "execution_count": 66,
     "metadata": {},
     "output_type": "execute_result"
    }
   ],
   "source": [
    "a*3 -a3"
   ]
  },
  {
   "attachments": {},
   "cell_type": "markdown",
   "id": "abdd867e",
   "metadata": {},
   "source": [
    "## 5.2 A solution"
   ]
  },
  {
   "cell_type": "code",
   "execution_count": 67,
   "id": "2ff30ebb-f55f-497d-9dde-626f0143c6d7",
   "metadata": {},
   "outputs": [
    {
     "data": {
      "text/plain": [
       "True"
      ]
     },
     "execution_count": 67,
     "metadata": {},
     "output_type": "execute_result"
    }
   ],
   "source": [
    "abs(a*3 -a3) < 1E-10"
   ]
  },
  {
   "cell_type": "code",
   "execution_count": 68,
   "id": "fa224b64-1a9b-4aa3-9935-ab6d0f81494b",
   "metadata": {},
   "outputs": [
    {
     "data": {
      "text/plain": [
       "True"
      ]
     },
     "execution_count": 68,
     "metadata": {},
     "output_type": "execute_result"
    }
   ],
   "source": [
    "abs(a3 - a*3) < 1E-10"
   ]
  },
  {
   "cell_type": "markdown",
   "id": "2dc2e5ea-1cbb-43d3-b03c-06109de3c73d",
   "metadata": {},
   "source": [
    "Compare absolute value by adding \"abs\""
   ]
  },
  {
   "cell_type": "code",
   "execution_count": 69,
   "id": "bce22c3e-dda4-4232-a1e6-8da93930a718",
   "metadata": {},
   "outputs": [],
   "source": [
    "import numpy as np"
   ]
  },
  {
   "cell_type": "code",
   "execution_count": 71,
   "id": "da78fd14-812c-4c8e-88b4-91aa6cc68cad",
   "metadata": {},
   "outputs": [
    {
     "data": {
      "text/plain": [
       "True"
      ]
     },
     "execution_count": 71,
     "metadata": {},
     "output_type": "execute_result"
    }
   ],
   "source": [
    "np.isclose(a * 3, a3)"
   ]
  },
  {
   "cell_type": "markdown",
   "id": "bcc7643c-610b-4c64-8603-fd729f8473ad",
   "metadata": {},
   "source": [
    "- isclose checks the two values and compares it by a certain amount\n",
    "- you can change it from the default threshold\n",
    "- https://numpy.org/doc/stable/reference/generated/numpy.isclose.html"
   ]
  },
  {
   "attachments": {},
   "cell_type": "markdown",
   "id": "5132507b",
   "metadata": {},
   "source": [
    "# 6 Combining English and variables"
   ]
  },
  {
   "attachments": {},
   "cell_type": "markdown",
   "id": "31c1e4b4",
   "metadata": {},
   "source": [
    "## 6.1 Structure of f-strings"
   ]
  },
  {
   "attachments": {},
   "cell_type": "markdown",
   "id": "4bc5295e",
   "metadata": {},
   "source": [
    "# 7 Escape sequences"
   ]
  },
  {
   "attachments": {},
   "cell_type": "markdown",
   "id": "c897c229",
   "metadata": {},
   "source": [
    "# 8 Computers read = from Right to Left!"
   ]
  },
  {
   "attachments": {},
   "cell_type": "markdown",
   "id": "cbcaf4b3",
   "metadata": {},
   "source": [
    "# 9 Shorter and Cleaner Code"
   ]
  },
  {
   "attachments": {},
   "cell_type": "markdown",
   "id": "d1b73ed9",
   "metadata": {},
   "source": [
    "# 10 Python can be a prima-donna."
   ]
  },
  {
   "attachments": {},
   "cell_type": "markdown",
   "id": "33b30c5c",
   "metadata": {},
   "source": [
    "# 11 Best Practices for Scientific Computing"
   ]
  },
  {
   "attachments": {},
   "cell_type": "markdown",
   "id": "6c3fffe8",
   "metadata": {},
   "source": [
    "# 12 Looking for help"
   ]
  },
  {
   "attachments": {},
   "cell_type": "markdown",
   "id": "8f083875",
   "metadata": {},
   "source": [
    "## References"
   ]
  },
  {
   "attachments": {},
   "cell_type": "markdown",
   "id": "34f4c35e",
   "metadata": {},
   "source": [
    "## Footnotes"
   ]
  }
 ],
 "metadata": {
  "kernelspec": {
   "display_name": "Python 3 (ipykernel)",
   "language": "python",
   "name": "python3"
  },
  "language_info": {
   "codemirror_mode": {
    "name": "ipython",
    "version": 3
   },
   "file_extension": ".py",
   "mimetype": "text/x-python",
   "name": "python",
   "nbconvert_exporter": "python",
   "pygments_lexer": "ipython3",
   "version": "3.11.5"
  },
  "toc": {
   "base_numbering": 1,
   "nav_menu": {},
   "number_sections": true,
   "sideBar": true,
   "skip_h1_title": false,
   "title_cell": "Table of Contents",
   "title_sidebar": "Contents",
   "toc_cell": false,
   "toc_position": {},
   "toc_section_display": true,
   "toc_window_display": false
  },
  "vscode": {
   "interpreter": {
    "hash": "31f2aee4e71d21fbe5cf8b01ff0e069b9275f58929596ceb00d14d90e3e16cd6"
   }
  }
 },
 "nbformat": 4,
 "nbformat_minor": 5
}
