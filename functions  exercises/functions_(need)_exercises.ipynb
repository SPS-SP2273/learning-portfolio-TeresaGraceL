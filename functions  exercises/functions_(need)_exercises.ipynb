{
 "cells": [
  {
   "attachments": {},
   "cell_type": "markdown",
   "id": "123456",
   "metadata": {},
   "source": [
    "<div style=\"text-align:left;font-size:2em\"><span style=\"font-weight:bolder;font-size:1.25em\">SP2273 | Learning Portfolio</span><br><br><span style=\"font-weight:bold;color:darkred\">Functions (Need) Exercises</span></div>"
   ]
  },
  {
   "cell_type": "markdown",
   "id": "67e800a8-668b-48dc-9132-243447b41016",
   "metadata": {},
   "source": [
    "# Exercise 1 (Do you know why?)"
   ]
  },
  {
   "cell_type": "code",
   "execution_count": 2,
   "id": "342eb85b-01a9-48cb-a896-1fa9df7d0736",
   "metadata": {},
   "outputs": [],
   "source": [
    "def greeting(name):\n",
    "    if name == 'Batman':\n",
    "        return 'Hello Batman! So, nice to meet you!'\n",
    "    return f'Hello {name}!'"
   ]
  },
  {
   "cell_type": "code",
   "execution_count": 7,
   "id": "541fec63-71ef-4af5-81eb-5d7e8cd38565",
   "metadata": {},
   "outputs": [
    {
     "data": {
      "text/plain": [
       "'Hello apple!'"
      ]
     },
     "execution_count": 7,
     "metadata": {},
     "output_type": "execute_result"
    }
   ],
   "source": [
    "greeting('apple')"
   ]
  },
  {
   "cell_type": "markdown",
   "id": "046663cf-c8d4-4949-83e3-9718ceb08eab",
   "metadata": {},
   "source": [
    "**Why does this code work as expected despite not having an else statement?**  \n",
    "The code works as expected because of the return statement at the end.  \n",
    "This return statement causes the function to stop and returns the return value.  "
   ]
  },
  {
   "cell_type": "markdown",
   "id": "c6bcde21-e44b-49af-8699-161cdcd598c4",
   "metadata": {},
   "source": [
    "# Exercise 2 (Chubby or not)"
   ]
  },
  {
   "cell_type": "markdown",
   "id": "65735172-781f-4e64-82d2-4b19037efb09",
   "metadata": {},
   "source": [
    "Write a Python function named calculate_bmi.\n",
    "\n",
    "- The function should take two parameters: weight (in kilograms) and height (in meters).\n",
    "- The function should calculate the BMI (Body Mass Index) using the formula BMI = weight / (height ** 2).\n",
    "- Based on the calculated BMI, the function should return a string indicating the BMI category."
   ]
  },
  {
   "cell_type": "code",
   "execution_count": 8,
   "id": "f67b7e74-4534-45e8-8bf6-3f18f3b09f57",
   "metadata": {},
   "outputs": [],
   "source": [
    "def calculate_bmi(weight, height):\n",
    "    BMI = weight / (height ** 2)\n",
    "    if BMI < 18.5:\n",
    "        return 'Underweight'\n",
    "    elif 18.5 < BMI < 24.9:\n",
    "        return 'Normal weight'\n",
    "    elif 25 < BMI < 29.9:\n",
    "        return 'Overweight'\n",
    "    elif BMI > 30:\n",
    "        return 'Obesity'"
   ]
  },
  {
   "cell_type": "code",
   "execution_count": 25,
   "id": "a53c1d73-a13a-4c4c-987d-07c2614542d8",
   "metadata": {},
   "outputs": [
    {
     "data": {
      "text/plain": [
       "'Underweight'"
      ]
     },
     "execution_count": 25,
     "metadata": {},
     "output_type": "execute_result"
    }
   ],
   "source": [
    "calculate_bmi(35, 1.6)"
   ]
  },
  {
   "cell_type": "code",
   "execution_count": 26,
   "id": "ac5bcf5d-98cc-49d1-823f-e1e39f552b0a",
   "metadata": {},
   "outputs": [
    {
     "data": {
      "text/plain": [
       "'Normal weight'"
      ]
     },
     "execution_count": 26,
     "metadata": {},
     "output_type": "execute_result"
    }
   ],
   "source": [
    "calculate_bmi(45, 1.5)"
   ]
  },
  {
   "cell_type": "code",
   "execution_count": 32,
   "id": "60c50625-da38-4e81-afbf-3aa84d2bb9e4",
   "metadata": {},
   "outputs": [
    {
     "data": {
      "text/plain": [
       "'Overweight'"
      ]
     },
     "execution_count": 32,
     "metadata": {},
     "output_type": "execute_result"
    }
   ],
   "source": [
    "calculate_bmi(65, 1.6)"
   ]
  },
  {
   "cell_type": "code",
   "execution_count": 21,
   "id": "447518c1-3f5b-472c-8dd0-829739b8a528",
   "metadata": {},
   "outputs": [
    {
     "data": {
      "text/plain": [
       "'Obesity'"
      ]
     },
     "execution_count": 21,
     "metadata": {},
     "output_type": "execute_result"
    }
   ],
   "source": [
    "calculate_bmi(60, 1)"
   ]
  }
 ],
 "metadata": {
  "kernelspec": {
   "display_name": "Python 3 (ipykernel)",
   "language": "python",
   "name": "python3"
  },
  "language_info": {
   "codemirror_mode": {
    "name": "ipython",
    "version": 3
   },
   "file_extension": ".py",
   "mimetype": "text/x-python",
   "name": "python",
   "nbconvert_exporter": "python",
   "pygments_lexer": "ipython3",
   "version": "3.11.5"
  },
  "toc": {
   "base_numbering": 1,
   "nav_menu": {},
   "number_sections": true,
   "sideBar": true,
   "skip_h1_title": false,
   "title_cell": "Table of Contents",
   "title_sidebar": "Contents",
   "toc_cell": false,
   "toc_position": {},
   "toc_section_display": true,
   "toc_window_display": false
  },
  "vscode": {
   "interpreter": {
    "hash": "31f2aee4e71d21fbe5cf8b01ff0e069b9275f58929596ceb00d14d90e3e16cd6"
   }
  }
 },
 "nbformat": 4,
 "nbformat_minor": 5
}
