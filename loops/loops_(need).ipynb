{
 "cells": [
  {
   "attachments": {},
   "cell_type": "markdown",
   "id": "123456",
   "metadata": {},
   "source": [
    "<div style=\"text-align:left;font-size:2em\"><span style=\"font-weight:bolder;font-size:1.25em\">SP2273 | Learning Portfolio</span><br><br><span style=\"font-weight:bold;color:darkred\">Loops (Need)</span></div>"
   ]
  },
  {
   "cell_type": "markdown",
   "id": "37c4b3e0-34c1-427c-998b-b604ca2c59f4",
   "metadata": {},
   "source": [
    "requirements of a programming langauage:\n",
    "- statement that you can branch with\n",
    "- mindlessly repeat things over and over, quickly"
   ]
  },
  {
   "attachments": {},
   "cell_type": "markdown",
   "id": "ea4cc801",
   "metadata": {},
   "source": [
    "# What to expect in this chapter"
   ]
  },
  {
   "cell_type": "markdown",
   "id": "d3735bbe-b3a0-4ed5-bea2-e31e44543820",
   "metadata": {},
   "source": [
    "- repeat a task over and over again.\n",
    "  - eg running the same statistical analysis on many experimental data sets or rename files\n",
    "  \n",
    "Loops (aka iterations): one of the most valuable features of any programming language.\n",
    "\n",
    "Python offers two mechanisms for looping. \n",
    "- for statement: more used of the two.\n",
    "- while statement"
   ]
  },
  {
   "attachments": {},
   "cell_type": "markdown",
   "id": "5e0f240d",
   "metadata": {},
   "source": [
    "# 1 The for iterator"
   ]
  },
  {
   "cell_type": "code",
   "execution_count": 5,
   "id": "00bfc5b0-bf8f-45d6-a48b-8cc64c316c49",
   "metadata": {},
   "outputs": [],
   "source": [
    "real_names = [\"Natasha Romanoff\", \"Tony Stark\", \"Stephen Strange\"]"
   ]
  },
  {
   "cell_type": "markdown",
   "id": "e5685440-78a6-40be-9140-993b6200c4e7",
   "metadata": {},
   "source": [
    "Poor way of doing this:"
   ]
  },
  {
   "cell_type": "code",
   "execution_count": 4,
   "id": "07a04284-9570-44f4-8257-e0aa3a2ab904",
   "metadata": {},
   "outputs": [
    {
     "name": "stdout",
     "output_type": "stream",
     "text": [
      "Natasha Romanoff is a Marvel superhero!\n",
      "Tony Stark is a Marvel superhero!\n",
      "Stephen Strange is a Marvel superhero!\n"
     ]
    }
   ],
   "source": [
    "name=real_names[0]\n",
    "print(f\"{name} is a Marvel superhero!\")\n",
    "\n",
    "name=real_names[1]\n",
    "print(f\"{name} is a Marvel superhero!\")\n",
    "\n",
    "name=real_names[2]\n",
    "print(f\"{name} is a Marvel superhero!\")"
   ]
  },
  {
   "cell_type": "markdown",
   "id": "a669fd92-3752-4b3b-b0c5-6b446de9235c",
   "metadata": {},
   "source": [
    "1. does scale very well (imagine if you have a 100 names!),\n",
    "2. cumbersome to make changes, you have to do it three times - annoying and inefficient\n",
    "3. highly error prone, since you need to type something new (even if you are copying and pasting most of it).\n",
    "- better to let computer repeat things with loop"
   ]
  },
  {
   "attachments": {},
   "cell_type": "markdown",
   "id": "6e97262d",
   "metadata": {},
   "source": [
    "## 1.1 for with a list"
   ]
  },
  {
   "cell_type": "code",
   "execution_count": 6,
   "id": "357b3c48-cc01-4879-bac1-84c02a6dc0f3",
   "metadata": {},
   "outputs": [
    {
     "name": "stdout",
     "output_type": "stream",
     "text": [
      "Natasha Romanoff is a Marvel superhero!\n",
      "Tony Stark is a Marvel superhero!\n",
      "Stephen Strange is a Marvel superhero!\n"
     ]
    }
   ],
   "source": [
    "for name in real_names:\n",
    "    print(f\"{name} is a Marvel superhero!\")"
   ]
  },
  {
   "cell_type": "code",
   "execution_count": 7,
   "id": "ca9bac8d-2ea0-4d2a-a015-392a0ba8c939",
   "metadata": {},
   "outputs": [
    {
     "name": "stdout",
     "output_type": "stream",
     "text": [
      "NATASHA ROMANOFF is a Marvel superhero!\n",
      "TONY STARK is a Marvel superhero!\n",
      "STEPHEN STRANGE is a Marvel superhero!\n"
     ]
    }
   ],
   "source": [
    "for name in real_names:\n",
    "    print(f\"{name.upper()} is a Marvel superhero!\")"
   ]
  },
  {
   "cell_type": "code",
   "execution_count": 8,
   "id": "5d319ffc-e2f3-4197-952a-6ac37fae254c",
   "metadata": {},
   "outputs": [
    {
     "name": "stdout",
     "output_type": "stream",
     "text": [
      "natasha romanoff is a Marvel superhero!\n",
      "--------------------------------------------------\n",
      "tony stark is a Marvel superhero!\n",
      "--------------------------------------------------\n",
      "stephen strange is a Marvel superhero!\n",
      "--------------------------------------------------\n"
     ]
    }
   ],
   "source": [
    "for name in real_names:\n",
    "    print(f\"{name.lower()} is a Marvel superhero!\")\n",
    "    print('-'*50)"
   ]
  },
  {
   "cell_type": "markdown",
   "id": "30f6c3bc-e221-41ff-9cb5-58f57cc4df67",
   "metadata": {},
   "source": [
    "Structure of the loop:\n",
    "- it goes through the list and assigns name the value of each element of the list.\n",
    "- runs the code-block using this value of name -- mindless repetition only works for things within the block\n",
    "\n",
    "the code block is designated by using : and tabs like with if."
   ]
  },
  {
   "cell_type": "markdown",
   "id": "08e968a9-4720-4735-bfda-5e8223cad757",
   "metadata": {},
   "source": [
    "- take note ofindentation since the loop only works for things within the block\n",
    "- keep what you want to run in the loop inside the block, what you don't want run in the block outside\n",
    "\n",
    "example:"
   ]
  },
  {
   "cell_type": "code",
   "execution_count": 14,
   "id": "fa2b2b97-5e02-444c-a562-8450e42ee484",
   "metadata": {},
   "outputs": [
    {
     "name": "stdout",
     "output_type": "stream",
     "text": [
      "--------------------------------------------------\n",
      "NATASHA ROMANOFF is a Marvel superhero!\n",
      "--------------------------------------------------\n",
      "TONY STARK is a Marvel superhero!\n",
      "--------------------------------------------------\n",
      "STEPHEN STRANGE is a Marvel superhero!\n",
      "--------------------------------------------------\n"
     ]
    }
   ],
   "source": [
    "for name in real_names:\n",
    "    print('-'*50)\n",
    "    print(f\"{name.upper()} is a Marvel superhero!\")\n",
    "print('-'*50)"
   ]
  },
  {
   "cell_type": "code",
   "execution_count": 15,
   "id": "d8f531aa-7a42-4b1a-8edb-a2a758366501",
   "metadata": {},
   "outputs": [
    {
     "name": "stdout",
     "output_type": "stream",
     "text": [
      "--------------------------------------------------\n",
      "NATASHA ROMANOFF is a Marvel superhero!\n",
      "--------------------------------------------------\n",
      "--------------------------------------------------\n",
      "TONY STARK is a Marvel superhero!\n",
      "--------------------------------------------------\n",
      "--------------------------------------------------\n",
      "STEPHEN STRANGE is a Marvel superhero!\n",
      "--------------------------------------------------\n"
     ]
    }
   ],
   "source": [
    "for name in real_names:\n",
    "    print('-'*50)\n",
    "    print(f\"{name.upper()} is a Marvel superhero!\")\n",
    "    print('-'*50)"
   ]
  },
  {
   "cell_type": "markdown",
   "id": "0fc22240-0fbe-4162-93d9-ca1d188a2492",
   "metadata": {},
   "source": [
    "- the variable that you use can be anything but it will be difficult to understand because x is cryptic\n",
    "- use something that is easy to understand"
   ]
  },
  {
   "cell_type": "code",
   "execution_count": 16,
   "id": "19a05004-c776-4114-a9f7-5633620d664c",
   "metadata": {},
   "outputs": [
    {
     "name": "stdout",
     "output_type": "stream",
     "text": [
      "Natasha Romanoff is a Marvel superhero!\n",
      "Tony Stark is a Marvel superhero!\n",
      "Stephen Strange is a Marvel superhero!\n"
     ]
    }
   ],
   "source": [
    "for x in real_names:\n",
    "    print(f\"{x} is a Marvel superhero!\") #variable that you use can be anything"
   ]
  },
  {
   "attachments": {},
   "cell_type": "markdown",
   "id": "f4bdfcd8",
   "metadata": {},
   "source": [
    "## 1.2 for with enumerate"
   ]
  },
  {
   "cell_type": "code",
   "execution_count": 95,
   "id": "4574f4b0-0de8-4947-8b76-dcee553fcf0c",
   "metadata": {},
   "outputs": [],
   "source": [
    "super_names = [\"Black Widow\", \"Iron Man\", \"Doctor Strange\"]\n",
    "real_names = [\"Natasha Romanoff\", \"Tony Stark\", \"Stephen Strange\"]"
   ]
  },
  {
   "cell_type": "markdown",
   "id": "accde1c7-0bd3-4d29-af71-805a8b88cdd3",
   "metadata": {},
   "source": [
    "**Count with enumerate**"
   ]
  },
  {
   "cell_type": "code",
   "execution_count": 96,
   "id": "f5a2e7d6-12a0-4654-a585-8ceea0b5416e",
   "metadata": {},
   "outputs": [
    {
     "name": "stdout",
     "output_type": "stream",
     "text": [
      "0: Natasha Romanoff is a Marvel Superhero\n",
      "1: Tony Stark is a Marvel Superhero\n",
      "2: Stephen Strange is a Marvel Superhero\n"
     ]
    }
   ],
   "source": [
    "count = 0\n",
    "for real_name in real_names:\n",
    "    print(f'{count}: {real_name} is a Marvel Superhero')\n",
    "    count = count + 1"
   ]
  },
  {
   "cell_type": "markdown",
   "id": "da9593c3-78eb-4c24-b691-42fe57c37cc0",
   "metadata": {},
   "source": [
    "- the for loop only accepts one list, we need to do something else to access the data in both lists.\n",
    "- One option is to use enumerate().\n",
    "- Enumerate - something that keeps count\n"
   ]
  },
  {
   "cell_type": "code",
   "execution_count": 97,
   "id": "b6e03bb8-9ee2-4b23-95d2-9b6086e4edc5",
   "metadata": {},
   "outputs": [
    {
     "name": "stdout",
     "output_type": "stream",
     "text": [
      "0: Natasha Romanoff is a Marvel superhero!\n",
      "1: Tony Stark is a Marvel superhero!\n",
      "2: Stephen Strange is a Marvel superhero!\n"
     ]
    }
   ],
   "source": [
    "for count, real_name in enumerate(real_names):\n",
    "    print(f'{count}: {real_name} is a Marvel superhero!')"
   ]
  },
  {
   "cell_type": "markdown",
   "id": "ae3bf36a-2b5d-4017-96c5-8c32872203fe",
   "metadata": {},
   "source": [
    "**Index other lists with enumerate**"
   ]
  },
  {
   "cell_type": "markdown",
   "id": "01f330d0-1ff9-4aab-bcf8-ae391502f00b",
   "metadata": {},
   "source": [
    "- enumerate() not only gives the elements of the list, it also gives a number (that is stored in count).\n",
    "- besides counting, we can use the count given by enumerate() to index the other list"
   ]
  },
  {
   "cell_type": "code",
   "execution_count": 98,
   "id": "c005d384-edf2-46a0-9ccc-731e8e4d2084",
   "metadata": {},
   "outputs": [
    {
     "name": "stdout",
     "output_type": "stream",
     "text": [
      "Natasha Romanoff is Black Widow!\n",
      "Tony Stark is Iron Man!\n",
      "Stephen Strange is Doctor Strange!\n"
     ]
    }
   ],
   "source": [
    "for index, real_name in enumerate(real_names):\n",
    "    superhero_name = super_names[index]\n",
    "    print(f'{real_name} is {superhero_name}!')"
   ]
  },
  {
   "cell_type": "markdown",
   "id": "46ad86cc-5eed-4c84-bc7b-aa122729887d",
   "metadata": {},
   "source": [
    "- changed the variable name used with enumerate() to (count and index): matches their logical use.\n",
    "- only rule for variables is not to use keywords\n",
    "- make it it easy to immediately see what you are doing (i.e., the intention) wiht the code.\n"
   ]
  },
  {
   "cell_type": "code",
   "execution_count": 99,
   "id": "2ff26aa7-85b9-46f7-aa43-891b3be4532c",
   "metadata": {},
   "outputs": [
    {
     "name": "stdout",
     "output_type": "stream",
     "text": [
      "Steve Rogers is Captain America in the Marvel Universe!\n",
      "Bruce Wayne is Batman in the DC Universe!\n",
      "Bruce Banner is Hulk in the Marvel Universe!\n",
      "Clark Kent is Super Man in the DC Universe!\n"
     ]
    }
   ],
   "source": [
    "hero_ids = [\"Captain America\", \"Batman\", \"Hulk\", \"Super Man\",]\n",
    "civilian_ids = [\"Steve Rogers\", \"Bruce Wayne\",\"Bruce Banner\", \"Clark Kent\"]\n",
    "universe = [\"Marvel\", \"DC\", \"Marvel\", \"DC\"]\n",
    "\n",
    "for new_index, civ_id in enumerate(civilian_ids):\n",
    "    hero_id = hero_ids[new_index]\n",
    "    which_universe = universe[new_index]\n",
    "    print(f'{civ_id} is {hero_id} in the {which_universe} Universe!')"
   ]
  },
  {
   "cell_type": "markdown",
   "id": "9cf68d43-4904-4a8d-b3dc-da4c13a40cf2",
   "metadata": {},
   "source": [
    "**can start counting anywhere**  \n",
    "Although by default, enumerate() starts counting from 0, can change it to start at another value, say 100."
   ]
  },
  {
   "cell_type": "code",
   "execution_count": 100,
   "id": "e8d1b3a4-666c-4308-a950-30239189c0ba",
   "metadata": {},
   "outputs": [
    {
     "name": "stdout",
     "output_type": "stream",
     "text": [
      "100: Natasha Romanoff is a Marvel superhero!\n",
      "101: Tony Stark is a Marvel superhero!\n",
      "102: Stephen Strange is a Marvel superhero!\n"
     ]
    }
   ],
   "source": [
    "for count, name in enumerate(real_names, 100):\n",
    "    print(f'{count}: {name} is a Marvel superhero!')"
   ]
  },
  {
   "attachments": {},
   "cell_type": "markdown",
   "id": "f7f4754d",
   "metadata": {},
   "source": [
    "## 1.3 for with range"
   ]
  },
  {
   "cell_type": "markdown",
   "id": "0c5208f5-9f4f-447e-a4c8-53607999ab71",
   "metadata": {},
   "source": [
    "**Example 1**   \n",
    "We can use range() to get the for loop to run a given number of loops (5 in this example)."
   ]
  },
  {
   "cell_type": "code",
   "execution_count": 101,
   "id": "c2c4289f-4765-4186-8a50-328329a19838",
   "metadata": {},
   "outputs": [
    {
     "name": "stdout",
     "output_type": "stream",
     "text": [
      "0\n",
      "1\n",
      "2\n",
      "3\n",
      "4\n"
     ]
    }
   ],
   "source": [
    "for i in range(5):\n",
    "    print(i)"
   ]
  },
  {
   "cell_type": "markdown",
   "id": "09d2d28e-2197-428f-a7e5-4b22b938b243",
   "metadata": {},
   "source": [
    "**Example 2**\n",
    "We can tailor the start and end values"
   ]
  },
  {
   "cell_type": "code",
   "execution_count": 102,
   "id": "16de2224-3f8a-459d-b516-5b8144c0cbaa",
   "metadata": {},
   "outputs": [
    {
     "name": "stdout",
     "output_type": "stream",
     "text": [
      "5\n",
      "6\n",
      "7\n",
      "8\n",
      "9\n"
     ]
    }
   ],
   "source": [
    "for i in range(5, 10):\n",
    "    print(i)"
   ]
  },
  {
   "cell_type": "markdown",
   "id": "d8163a2c-15d6-4d18-a1e0-e3d7bf93a3ee",
   "metadata": {},
   "source": [
    "**Example 3**  \n",
    "We can adjust the step size."
   ]
  },
  {
   "cell_type": "code",
   "execution_count": 103,
   "id": "b2b30150-768d-4ab3-a445-bb219cf56bfa",
   "metadata": {},
   "outputs": [
    {
     "name": "stdout",
     "output_type": "stream",
     "text": [
      "1\n",
      "4\n",
      "7\n"
     ]
    }
   ],
   "source": [
    "for i in range(1, 10, 3):\n",
    "    print(i)"
   ]
  },
  {
   "cell_type": "code",
   "execution_count": 104,
   "id": "f7dc6dd3-9f84-48ec-8b97-5fd56a768900",
   "metadata": {},
   "outputs": [
    {
     "name": "stdout",
     "output_type": "stream",
     "text": [
      "10\n",
      "7\n",
      "4\n"
     ]
    }
   ],
   "source": [
    "for i in range(10, 1, -3):\n",
    "    print(i)"
   ]
  },
  {
   "cell_type": "markdown",
   "id": "72d4bcf6-dd40-435d-a1e5-8582935b4a5c",
   "metadata": {},
   "source": [
    "**Note**\n",
    "- Functions like range() and enumerate() only work with looping structures.\n",
    "- range() always ends one short of the ending number."
   ]
  },
  {
   "cell_type": "markdown",
   "id": "30d3e1a4-b9bb-4b03-872e-3ce55e6f7d90",
   "metadata": {},
   "source": [
    "**back to the superhero names example** "
   ]
  },
  {
   "cell_type": "code",
   "execution_count": 105,
   "id": "839cda81-fb26-420d-b241-e0aef5030326",
   "metadata": {},
   "outputs": [],
   "source": [
    "super_names = [\"Black Widow\", \"Iron Man\", \"Doctor Strange\"]\n",
    "real_names = [\"Natasha Romanoff\", \"Tony Stark\", \"Stephen Strange\"]\n",
    "universe = [\"Marvel\", \"Marvel\", \"Marvel\"]"
   ]
  },
  {
   "cell_type": "code",
   "execution_count": 106,
   "id": "9db07bed-25c7-4d92-898f-a6881f7ea7d5",
   "metadata": {},
   "outputs": [
    {
     "data": {
      "text/plain": [
       "3"
      ]
     },
     "execution_count": 106,
     "metadata": {},
     "output_type": "execute_result"
    }
   ],
   "source": [
    "len(real_names)"
   ]
  },
  {
   "cell_type": "code",
   "execution_count": 107,
   "id": "04f43b0f-b3cc-4fad-9646-aa0df1172590",
   "metadata": {},
   "outputs": [
    {
     "name": "stdout",
     "output_type": "stream",
     "text": [
      "0 : Natasha Romanoff is Doctor Strange in the Marvel Universe!\n",
      "1 : Tony Stark is Doctor Strange in the Marvel Universe!\n",
      "2 : Stephen Strange is Doctor Strange in the Marvel Universe!\n"
     ]
    }
   ],
   "source": [
    "for index in range(len(real_names)):   #range(3)\n",
    "    real_name = real_names[index]\n",
    "    super_name = super_names[index]\n",
    "    which_universe = universe[index]\n",
    "    print(f'{index} : {real_name} is {superhero_name} in the {which_universe} Universe!')"
   ]
  },
  {
   "cell_type": "markdown",
   "id": "e1e5b630-b453-4927-948b-bf1bb5cda280",
   "metadata": {},
   "source": [
    "- for loops are essential\n",
    "- used len(real_names) to get how many times the loop should run"
   ]
  },
  {
   "cell_type": "code",
   "execution_count": 108,
   "id": "0278a6cf-3bff-4234-9fe4-5a9774cd8813",
   "metadata": {},
   "outputs": [
    {
     "name": "stdout",
     "output_type": "stream",
     "text": [
      "apples and oranges\n",
      "apples and oranges\n",
      "apples and oranges\n",
      "apples and oranges\n",
      "apples and oranges\n",
      "apples and oranges\n",
      "apples and oranges\n",
      "apples and oranges\n",
      "apples and oranges\n",
      "apples and oranges\n"
     ]
    }
   ],
   "source": [
    "for n in range(10):\n",
    "    print('apples and oranges')"
   ]
  },
  {
   "attachments": {},
   "cell_type": "markdown",
   "id": "e0292f3c",
   "metadata": {},
   "source": [
    "# 2 while"
   ]
  },
  {
   "cell_type": "markdown",
   "id": "339bcae6-4efd-437c-83ac-ba4ad2973c56",
   "metadata": {},
   "source": [
    "- run the loop while the condition is true\n",
    "- check condition at the start and begin another loop if it is true\n",
    "- **do not need to know beforehand how many iterations are needed**"
   ]
  },
  {
   "cell_type": "code",
   "execution_count": 109,
   "id": "7985bc4c-4233-451e-8385-c719086781f4",
   "metadata": {},
   "outputs": [
    {
     "name": "stdout",
     "output_type": "stream",
     "text": [
      "0\n",
      "1\n",
      "2\n",
      "3\n",
      "4\n"
     ]
    }
   ],
   "source": [
    "number = 0\n",
    "\n",
    "while number < 5: #loop keeps going when number less than 5\n",
    "    print(number)\n",
    "    number += 1"
   ]
  }
 ],
 "metadata": {
  "kernelspec": {
   "display_name": "Python 3 (ipykernel)",
   "language": "python",
   "name": "python3"
  },
  "language_info": {
   "codemirror_mode": {
    "name": "ipython",
    "version": 3
   },
   "file_extension": ".py",
   "mimetype": "text/x-python",
   "name": "python",
   "nbconvert_exporter": "python",
   "pygments_lexer": "ipython3",
   "version": "3.11.5"
  },
  "toc": {
   "base_numbering": 1,
   "nav_menu": {},
   "number_sections": true,
   "sideBar": true,
   "skip_h1_title": false,
   "title_cell": "Table of Contents",
   "title_sidebar": "Contents",
   "toc_cell": false,
   "toc_position": {},
   "toc_section_display": true,
   "toc_window_display": false
  },
  "vscode": {
   "interpreter": {
    "hash": "31f2aee4e71d21fbe5cf8b01ff0e069b9275f58929596ceb00d14d90e3e16cd6"
   }
  }
 },
 "nbformat": 4,
 "nbformat_minor": 5
}
