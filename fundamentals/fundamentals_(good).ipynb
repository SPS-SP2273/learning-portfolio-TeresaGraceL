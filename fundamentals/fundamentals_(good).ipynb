{
 "cells": [
  {
   "attachments": {},
   "cell_type": "markdown",
   "id": "123456",
   "metadata": {},
   "source": [
    "<div style=\"text-align:left;font-size:2em\"><span style=\"font-weight:bolder;font-size:1.25em\">SP2273 | Learning Portfolio</span><br><br><span style=\"font-weight:bold;color:darkred\">Fundamentals (Good)</span></div>"
   ]
  },
  {
   "attachments": {},
   "cell_type": "markdown",
   "id": "7463b5de",
   "metadata": {},
   "source": [
    "# What to expect in this chapter"
   ]
  },
  {
   "attachments": {},
   "cell_type": "markdown",
   "id": "29b60b41",
   "metadata": {},
   "source": [
    "# 1 There is more to if"
   ]
  },
  {
   "cell_type": "markdown",
   "id": "5fccf7e4-a13b-4ab9-b07c-5f0c0cbfa634",
   "metadata": {},
   "source": [
    "- **elif** stands for else if\n",
    "- elif allows us to add more conditions/ branches to the if statement"
   ]
  },
  {
   "cell_type": "code",
   "execution_count": 44,
   "id": "8831f71f-3a5d-475d-89dc-e9e6e1fb5661",
   "metadata": {},
   "outputs": [
    {
     "name": "stdout",
     "output_type": "stream",
     "text": [
      "Hello Batman!\n"
     ]
    }
   ],
   "source": [
    "name = 'Batman'\n",
    "\n",
    "if name == 'Batman':\n",
    "    print('Hello Batman!')\n",
    "elif name == 'Robin':\n",
    "    print('Hello Sidekick!')\n",
    "elif name == 'Jason':\n",
    "    print('Hello Todd!')\n",
    "elif name == 'Alfred':\n",
    "    print('Hello Alfred')\n",
    "else:\n",
    "    print('Hello World!')"
   ]
  },
  {
   "attachments": {},
   "cell_type": "markdown",
   "id": "92a50b90",
   "metadata": {},
   "source": [
    "# 2 Asking questions"
   ]
  },
  {
   "cell_type": "markdown",
   "id": "d4388272-c976-44db-84d5-9cc5880232c0",
   "metadata": {},
   "source": [
    "You can ask Python questions and they will give logical answers (true or false)\n",
    "\n",
    "- You can compare two things of the same type:\n",
    "  - letters and letters\n",
    "  - numbers and numbers"
   ]
  },
  {
   "cell_type": "code",
   "execution_count": 45,
   "id": "3947840b-9939-4236-bf40-50ff435dd202",
   "metadata": {},
   "outputs": [],
   "source": [
    "fruits = ['apple', 'banana', 'pineapple', 'jackfruit']\n",
    "vegetables = ['celery', 'potato', 'broccoli', 'kale']"
   ]
  },
  {
   "cell_type": "code",
   "execution_count": 46,
   "id": "8d0fdcfd-3bd4-4576-b5c4-8b3c4a44da4a",
   "metadata": {},
   "outputs": [
    {
     "data": {
      "text/plain": [
       "True"
      ]
     },
     "execution_count": 46,
     "metadata": {},
     "output_type": "execute_result"
    }
   ],
   "source": [
    "'apple' in fruits"
   ]
  },
  {
   "cell_type": "code",
   "execution_count": 47,
   "id": "7a1c2faa-f155-4e50-aad5-623c40466369",
   "metadata": {},
   "outputs": [
    {
     "data": {
      "text/plain": [
       "False"
      ]
     },
     "execution_count": 47,
     "metadata": {},
     "output_type": "execute_result"
    }
   ],
   "source": [
    "'peach' in fruits"
   ]
  },
  {
   "cell_type": "code",
   "execution_count": 48,
   "id": "d13d42ec-eb96-430f-b569-eb977fe83a19",
   "metadata": {},
   "outputs": [
    {
     "data": {
      "text/plain": [
       "True"
      ]
     },
     "execution_count": 48,
     "metadata": {},
     "output_type": "execute_result"
    }
   ],
   "source": [
    "'peach' not in fruits"
   ]
  },
  {
   "cell_type": "code",
   "execution_count": 49,
   "id": "6745fe39-949f-446b-bca1-d82cff88edd2",
   "metadata": {},
   "outputs": [
    {
     "data": {
      "text/plain": [
       "False"
      ]
     },
     "execution_count": 49,
     "metadata": {},
     "output_type": "execute_result"
    }
   ],
   "source": [
    "'PP' in 'apple'"
   ]
  },
  {
   "cell_type": "code",
   "execution_count": 50,
   "id": "259c67bf-1a94-4296-a2d6-9b5448b9245b",
   "metadata": {},
   "outputs": [
    {
     "data": {
      "text/plain": [
       "True"
      ]
     },
     "execution_count": 50,
     "metadata": {},
     "output_type": "execute_result"
    }
   ],
   "source": [
    "'app' in 'apple'"
   ]
  },
  {
   "cell_type": "code",
   "execution_count": 51,
   "id": "2fc3a6b8-0e25-4a4f-a0ca-43d3ae410c44",
   "metadata": {},
   "outputs": [
    {
     "data": {
      "text/plain": [
       "True"
      ]
     },
     "execution_count": 51,
     "metadata": {},
     "output_type": "execute_result"
    }
   ],
   "source": [
    "('apple' in fruits) and ('celery' in vegetables)"
   ]
  },
  {
   "cell_type": "code",
   "execution_count": 52,
   "id": "fa33ff4f-0bed-48ba-8b53-1835c563b5f7",
   "metadata": {},
   "outputs": [
    {
     "data": {
      "text/plain": [
       "True"
      ]
     },
     "execution_count": 52,
     "metadata": {},
     "output_type": "execute_result"
    }
   ],
   "source": [
    "('apple' in fruits) or ('celery' in vegetables)"
   ]
  },
  {
   "cell_type": "code",
   "execution_count": 53,
   "id": "b55e64cb-3e7b-485b-b413-6c14b40df63a",
   "metadata": {},
   "outputs": [
    {
     "data": {
      "text/plain": [
       "False"
      ]
     },
     "execution_count": 53,
     "metadata": {},
     "output_type": "execute_result"
    }
   ],
   "source": [
    "'apple' > 'orange'"
   ]
  },
  {
   "cell_type": "code",
   "execution_count": 54,
   "id": "cd047fb2-3658-438f-9b50-890fa4250f09",
   "metadata": {},
   "outputs": [
    {
     "data": {
      "text/plain": [
       "False"
      ]
     },
     "execution_count": 54,
     "metadata": {},
     "output_type": "execute_result"
    }
   ],
   "source": [
    "a > 10"
   ]
  },
  {
   "attachments": {},
   "cell_type": "markdown",
   "id": "1260d0b2",
   "metadata": {},
   "source": [
    "# 3 Remember"
   ]
  },
  {
   "cell_type": "markdown",
   "id": "bcdd3e5b-95f6-4071-aba2-a5592f0e58d9",
   "metadata": {},
   "source": [
    "Useful keywords for asking Python questions:\n",
    "- not\n",
    "- in\n",
    "- and\n",
    "- or"
   ]
  },
  {
   "attachments": {},
   "cell_type": "markdown",
   "id": "661405ad",
   "metadata": {},
   "source": [
    "## 3.1 Asking Math questions"
   ]
  },
  {
   "cell_type": "code",
   "execution_count": 55,
   "id": "b4fc586b-c136-434d-b267-01363de18bf0",
   "metadata": {},
   "outputs": [
    {
     "data": {
      "text/plain": [
       "True"
      ]
     },
     "execution_count": 55,
     "metadata": {},
     "output_type": "execute_result"
    }
   ],
   "source": [
    "10 >= 3"
   ]
  },
  {
   "cell_type": "code",
   "execution_count": 56,
   "id": "6e70c294-3b21-4a59-b287-60604bbe8d8a",
   "metadata": {},
   "outputs": [],
   "source": [
    "x=3"
   ]
  },
  {
   "cell_type": "code",
   "execution_count": 57,
   "id": "c8bd0cf2-6ee6-4e19-95dd-0bd90e0e3e0a",
   "metadata": {},
   "outputs": [
    {
     "data": {
      "text/plain": [
       "False"
      ]
     },
     "execution_count": 57,
     "metadata": {},
     "output_type": "execute_result"
    }
   ],
   "source": [
    "x > 5 and x < 15"
   ]
  },
  {
   "cell_type": "code",
   "execution_count": 58,
   "id": "b55dc0cd-45e8-472d-83b1-c8695c5006c2",
   "metadata": {},
   "outputs": [
    {
     "data": {
      "text/plain": [
       "False"
      ]
     },
     "execution_count": 58,
     "metadata": {},
     "output_type": "execute_result"
    }
   ],
   "source": [
    "(x > 5) and (x <15)"
   ]
  },
  {
   "cell_type": "code",
   "execution_count": 59,
   "id": "fcdc51e3-10ae-4f26-a48e-28b043058f32",
   "metadata": {},
   "outputs": [
    {
     "data": {
      "text/plain": [
       "False"
      ]
     },
     "execution_count": 59,
     "metadata": {},
     "output_type": "execute_result"
    }
   ],
   "source": [
    "5 <= x < 15 #Only in python"
   ]
  },
  {
   "attachments": {},
   "cell_type": "markdown",
   "id": "5c6cc633",
   "metadata": {},
   "source": [
    "# 4 Python stores information in different formats or types"
   ]
  },
  {
   "cell_type": "markdown",
   "id": "7fab9750-c4eb-42d1-84fc-2df283ec7852",
   "metadata": {},
   "source": [
    "You can figure out what the type is by using the function type"
   ]
  },
  {
   "cell_type": "code",
   "execution_count": 60,
   "id": "0a6b8481-8f05-4aab-b906-7c280f61df91",
   "metadata": {},
   "outputs": [
    {
     "name": "stdout",
     "output_type": "stream",
     "text": [
      "1 <class 'int'>\n"
     ]
    }
   ],
   "source": [
    "x = int(1.234)\n",
    "print(x, type(x))"
   ]
  },
  {
   "cell_type": "code",
   "execution_count": 61,
   "id": "0ba4af54-aef0-40d3-913c-0e5d6e0c4cd6",
   "metadata": {},
   "outputs": [
    {
     "name": "stdout",
     "output_type": "stream",
     "text": [
      "1.234 <class 'str'>\n"
     ]
    }
   ],
   "source": [
    "x = str(1.234)\n",
    "print(x, type(x))\n",
    "#cannot do comparisons with the string class"
   ]
  },
  {
   "cell_type": "code",
   "execution_count": 62,
   "id": "ae34923f-17aa-4092-acfb-311594e9c8f8",
   "metadata": {},
   "outputs": [
    {
     "name": "stdout",
     "output_type": "stream",
     "text": [
      "1.234 <class 'float'>\n"
     ]
    }
   ],
   "source": [
    "x = float(1.234)\n",
    "print(x, type(x))"
   ]
  },
  {
   "cell_type": "code",
   "execution_count": 63,
   "id": "13e462d8-14c3-47c7-89e8-9203b797b837",
   "metadata": {},
   "outputs": [
    {
     "name": "stdout",
     "output_type": "stream",
     "text": [
      "(1.234+0j) <class 'complex'>\n"
     ]
    }
   ],
   "source": [
    "x = complex(1.234)\n",
    "print(x, type(x))"
   ]
  },
  {
   "cell_type": "markdown",
   "id": "0162dd36-b51f-42ff-a29c-e45e418e4787",
   "metadata": {},
   "source": [
    "- computers do not have infinite resources, although computers can handle more numbers now than in the past\n",
    "- 16 bit,32 bit, 64 bit integers etc\n",
    "- different types of variables makes the most of computer resources"
   ]
  },
  {
   "attachments": {},
   "cell_type": "markdown",
   "id": "7cfae8d5",
   "metadata": {},
   "source": [
    "# 5 Never compare floats directly"
   ]
  },
  {
   "cell_type": "markdown",
   "id": "acb5772b-2416-4a1b-aa8b-26f5bdc72ea7",
   "metadata": {},
   "source": [
    "Computer has limited precision"
   ]
  },
  {
   "cell_type": "code",
   "execution_count": 64,
   "id": "436c788d-b1aa-435b-a3a6-84486fc8f5ca",
   "metadata": {},
   "outputs": [
    {
     "data": {
      "text/plain": [
       "False"
      ]
     },
     "execution_count": 64,
     "metadata": {},
     "output_type": "execute_result"
    }
   ],
   "source": [
    "a = 0.1\n",
    "a3 = 0.3\n",
    "a * 3 == a3"
   ]
  },
  {
   "cell_type": "code",
   "execution_count": 65,
   "id": "14fa5de6-fd9d-4834-badd-57145680d9bb",
   "metadata": {},
   "outputs": [
    {
     "data": {
      "text/plain": [
       "'0.29999999999999999'"
      ]
     },
     "execution_count": 65,
     "metadata": {},
     "output_type": "execute_result"
    }
   ],
   "source": [
    "f'{0.3:.17f}'"
   ]
  },
  {
   "attachments": {},
   "cell_type": "markdown",
   "id": "9ffa0d77",
   "metadata": {},
   "source": [
    "## 5.1 The Problem"
   ]
  },
  {
   "cell_type": "code",
   "execution_count": 66,
   "id": "ed80757e-3ca0-49ec-98fa-5e23c653020a",
   "metadata": {},
   "outputs": [
    {
     "data": {
      "text/plain": [
       "5.551115123125783e-17"
      ]
     },
     "execution_count": 66,
     "metadata": {},
     "output_type": "execute_result"
    }
   ],
   "source": [
    "a*3 -a3"
   ]
  },
  {
   "attachments": {},
   "cell_type": "markdown",
   "id": "abdd867e",
   "metadata": {},
   "source": [
    "## 5.2 A solution"
   ]
  },
  {
   "cell_type": "code",
   "execution_count": 67,
   "id": "2ff30ebb-f55f-497d-9dde-626f0143c6d7",
   "metadata": {},
   "outputs": [
    {
     "data": {
      "text/plain": [
       "True"
      ]
     },
     "execution_count": 67,
     "metadata": {},
     "output_type": "execute_result"
    }
   ],
   "source": [
    "abs(a*3 -a3) < 1E-10"
   ]
  },
  {
   "cell_type": "code",
   "execution_count": 68,
   "id": "fa224b64-1a9b-4aa3-9935-ab6d0f81494b",
   "metadata": {},
   "outputs": [
    {
     "data": {
      "text/plain": [
       "True"
      ]
     },
     "execution_count": 68,
     "metadata": {},
     "output_type": "execute_result"
    }
   ],
   "source": [
    "abs(a3 - a*3) < 1E-10"
   ]
  },
  {
   "cell_type": "markdown",
   "id": "2dc2e5ea-1cbb-43d3-b03c-06109de3c73d",
   "metadata": {},
   "source": [
    "Compare absolute value by adding \"abs\""
   ]
  },
  {
   "cell_type": "code",
   "execution_count": 69,
   "id": "bce22c3e-dda4-4232-a1e6-8da93930a718",
   "metadata": {},
   "outputs": [],
   "source": [
    "import numpy as np"
   ]
  },
  {
   "cell_type": "code",
   "execution_count": 71,
   "id": "da78fd14-812c-4c8e-88b4-91aa6cc68cad",
   "metadata": {},
   "outputs": [
    {
     "data": {
      "text/plain": [
       "True"
      ]
     },
     "execution_count": 71,
     "metadata": {},
     "output_type": "execute_result"
    }
   ],
   "source": [
    "np.isclose(a * 3, a3)"
   ]
  },
  {
   "cell_type": "markdown",
   "id": "bcc7643c-610b-4c64-8603-fd729f8473ad",
   "metadata": {},
   "source": [
    "- isclose checks the two values and compares it by a certain amount\n",
    "- you can change it from the default threshold\n",
    "- https://numpy.org/doc/stable/reference/generated/numpy.isclose.html"
   ]
  },
  {
   "attachments": {},
   "cell_type": "markdown",
   "id": "5132507b",
   "metadata": {},
   "source": [
    "# 6 Combining English and variables"
   ]
  },
  {
   "cell_type": "markdown",
   "id": "2072c82f-cbdd-49ad-8b1a-70f59addec95",
   "metadata": {},
   "source": [
    "many instances when you want to combine English/ text and variables \n",
    "- eg when you want to create files automatically, pass data, or send an automated email \n",
    "\n",
    "f and {} for f-string / string interpolation"
   ]
  },
  {
   "cell_type": "code",
   "execution_count": 15,
   "id": "419228e2-fdef-4290-96df-e94fa763b84e",
   "metadata": {},
   "outputs": [
    {
     "name": "stdout",
     "output_type": "stream",
     "text": [
      "Hello Batman!\n"
     ]
    }
   ],
   "source": [
    "name = \"Batman\"\n",
    "print(f\"Hello {name}!\")"
   ]
  },
  {
   "cell_type": "markdown",
   "id": "e2a805c1-af37-4834-92ec-c4b996d7b89a",
   "metadata": {},
   "source": [
    "there is an f in front - 'f' tells the string to treat whatever is inside as a variable (python 3.9 onwards feature)\n",
    "- elegant and intuitive\n",
    "- powerful as it allows a lot of formatting"
   ]
  },
  {
   "cell_type": "code",
   "execution_count": 16,
   "id": "aadf3cea-94af-4c10-b44d-0a1bf59c3862",
   "metadata": {},
   "outputs": [
    {
     "name": "stdout",
     "output_type": "stream",
     "text": [
      "Hello BATMAN!\n"
     ]
    }
   ],
   "source": [
    "name = \"Batman\"\n",
    "print(f\"Hello {name.upper()}!\")"
   ]
  },
  {
   "cell_type": "markdown",
   "id": "247b5973-e047-4caa-a09f-3eb2ece97040",
   "metadata": {},
   "source": [
    "This example uses the hidden function upper to make the words capslocked. Strings have more functions than this."
   ]
  },
  {
   "cell_type": "code",
   "execution_count": 17,
   "id": "275532bd-c622-452f-b64a-fe6c16f55a5c",
   "metadata": {},
   "outputs": [
    {
     "name": "stdout",
     "output_type": "stream",
     "text": [
      "The value of 10 squared is 100!\n"
     ]
    }
   ],
   "source": [
    "x = 10\n",
    "print(f\"The value of {x} squared is {x**2}!\")"
   ]
  },
  {
   "cell_type": "code",
   "execution_count": 18,
   "id": "225b7950-426d-4df4-ad18-5e4264c63c4a",
   "metadata": {},
   "outputs": [
    {
     "name": "stdout",
     "output_type": "stream",
     "text": [
      "Bruce Wayne is Batman.\n"
     ]
    }
   ],
   "source": [
    "text = 'Bruce Wayne is Batman.'\n",
    "print(f'{text}')"
   ]
  },
  {
   "cell_type": "markdown",
   "id": "050c753b-af3d-40e6-b1a0-b66cf5e363d1",
   "metadata": {},
   "source": [
    "#### more examples of formatting with f-strings"
   ]
  },
  {
   "cell_type": "markdown",
   "id": "c45c928f-f912-4e92-a1aa-f2a50a3a710d",
   "metadata": {},
   "source": [
    "**Example 1: formatting text**"
   ]
  },
  {
   "cell_type": "code",
   "execution_count": 19,
   "id": "67e9b02b-05ea-4427-99a7-8e1d58ba05de",
   "metadata": {},
   "outputs": [
    {
     "name": "stdout",
     "output_type": "stream",
     "text": [
      "Clark Kent is Superman.\n"
     ]
    }
   ],
   "source": [
    "text = 'Clark Kent is Superman.'\n",
    "print(f'{text}')"
   ]
  },
  {
   "cell_type": "code",
   "execution_count": 20,
   "id": "5608001e-7056-413e-8e6f-d9b7cd91b693",
   "metadata": {},
   "outputs": [
    {
     "name": "stdout",
     "output_type": "stream",
     "text": [
      "       Clark Kent is Superman.\n"
     ]
    }
   ],
   "source": [
    "print(f'{text:>30}')      # A block of 30 characters;\n",
    "                          # aligned right"
   ]
  },
  {
   "cell_type": "code",
   "execution_count": 30,
   "id": "636e5295-5b61-4efb-a44d-78277827454b",
   "metadata": {},
   "outputs": [
    {
     "name": "stdout",
     "output_type": "stream",
     "text": [
      "                                     Clark Kent is Superman.\n"
     ]
    }
   ],
   "source": [
    "print(f'{text:>60}')      # A block of 60 characters;\n",
    "                          # aligned right"
   ]
  },
  {
   "cell_type": "code",
   "execution_count": 21,
   "id": "2e93bd7b-d473-4c8b-b840-6b85cb29a832",
   "metadata": {},
   "outputs": [
    {
     "name": "stdout",
     "output_type": "stream",
     "text": [
      "   Clark Kent is Superman.    \n"
     ]
    }
   ],
   "source": [
    "print(f'{text:^30}')      # A block of 30 characters;\n",
    "                          # aligned centre"
   ]
  },
  {
   "cell_type": "code",
   "execution_count": 22,
   "id": "c6bc4c45-6f30-46ce-b476-38dfea89d6d5",
   "metadata": {},
   "outputs": [
    {
     "name": "stdout",
     "output_type": "stream",
     "text": [
      "Clark Kent is Superman.       \n"
     ]
    }
   ],
   "source": [
    "print(f'{text:<30}')      # A block of 30 characters;\n",
    "                          # aligned left"
   ]
  },
  {
   "cell_type": "code",
   "execution_count": 35,
   "id": "d317f371-2542-4e4e-8145-66880697ee35",
   "metadata": {},
   "outputs": [
    {
     "name": "stdout",
     "output_type": "stream",
     "text": [
      "------------------Clark Kent is Superman.-------------------\n"
     ]
    }
   ],
   "source": [
    "print(f'{text:-^60}') "
   ]
  },
  {
   "cell_type": "markdown",
   "id": "47d105d5-11d0-4ab6-9b75-29890bdf431c",
   "metadata": {},
   "source": [
    "- if you don't put anything in front, it will fill up the space with spaces\n",
    "- if you put a dash or other symbol in front, it can fill it up with whatever variable you want"
   ]
  },
  {
   "cell_type": "code",
   "execution_count": 32,
   "id": "4ac33aa4-bede-4ebf-8e68-b6950a08042d",
   "metadata": {},
   "outputs": [
    {
     "name": "stdout",
     "output_type": "stream",
     "text": [
      "xxxxxxxxxxxxxxxxxxClark Kent is Superman.xxxxxxxxxxxxxxxxxxx\n"
     ]
    }
   ],
   "source": [
    "print(f'{text:x^60}') "
   ]
  },
  {
   "cell_type": "code",
   "execution_count": 33,
   "id": "251dbdde-315c-4b8b-a614-e26534cecf0f",
   "metadata": {},
   "outputs": [
    {
     "name": "stdout",
     "output_type": "stream",
     "text": [
      "xxxxxxxxxxxxxxxxxxxxxxxxxxxxxxxxxxxxxClark Kent is Superman.\n"
     ]
    }
   ],
   "source": [
    "print(f'{text:x>60}') "
   ]
  },
  {
   "cell_type": "code",
   "execution_count": 34,
   "id": "a72b96e7-545b-478f-a016-89be7ef1e468",
   "metadata": {},
   "outputs": [
    {
     "name": "stdout",
     "output_type": "stream",
     "text": [
      "Clark Kent is Superman.xxxxxxxxxxxxxxxxxxxxxxxxxxxxxxxxxxxxx\n"
     ]
    }
   ],
   "source": [
    "print(f'{text:x<60}') "
   ]
  },
  {
   "cell_type": "markdown",
   "id": "b386eb34-0344-401d-a0b8-863bf7d5b26a",
   "metadata": {},
   "source": [
    "**Example 2: formatting numbers in decimal notation**"
   ]
  },
  {
   "cell_type": "code",
   "execution_count": 26,
   "id": "485c128c-2141-4285-ac66-48937b5679d8",
   "metadata": {},
   "outputs": [],
   "source": [
    "import numpy as np"
   ]
  },
  {
   "cell_type": "code",
   "execution_count": 27,
   "id": "705df03f-fa88-489d-99d4-47019cb000ba",
   "metadata": {},
   "outputs": [
    {
     "name": "stdout",
     "output_type": "stream",
     "text": [
      "The cube of pi to 6 decimal places is 31.006277\n"
     ]
    }
   ],
   "source": [
    "print(f'The cube of pi to 6 decimal places is {np.pi**3:.6f}')"
   ]
  },
  {
   "cell_type": "markdown",
   "id": "ee730374-4f15-4996-b693-035c06cfe28b",
   "metadata": {},
   "source": [
    "- The f in .6f tells the f-string to output the number in decimal notation.\n",
    "- the number in front of f is how many decimal places there are in the number."
   ]
  },
  {
   "cell_type": "code",
   "execution_count": 40,
   "id": "e2d93e80-1fc5-423f-b63d-090096e64a23",
   "metadata": {},
   "outputs": [
    {
     "name": "stdout",
     "output_type": "stream",
     "text": [
      "The cube of pi to 6 decimal places is            31.006277\n"
     ]
    }
   ],
   "source": [
    "print(f'The cube of pi to 6 decimal places is {np.pi**3:20.6f}')"
   ]
  },
  {
   "cell_type": "markdown",
   "id": "3df3e3ec-c86e-404d-aa0b-86cedf34e1cf",
   "metadata": {},
   "source": [
    "- this gives you a number 20 digits long with 6 decimal places\n",
    "- if you want to add 0s in front:"
   ]
  },
  {
   "cell_type": "code",
   "execution_count": 41,
   "id": "6a6ad29f-a214-45e7-a5fc-b2880d115c3f",
   "metadata": {},
   "outputs": [
    {
     "name": "stdout",
     "output_type": "stream",
     "text": [
      "The cube of pi to 6 decimal places is 0000000000031.006277\n"
     ]
    }
   ],
   "source": [
    "print(f'The cube of pi to 6 decimal places is {np.pi**3:020.6f}')"
   ]
  },
  {
   "cell_type": "markdown",
   "id": "14fc1aa1-3406-41c7-a464-cea2e4fa6730",
   "metadata": {},
   "source": [
    "**Example 3: formatting numbers in scientific notation**"
   ]
  },
  {
   "cell_type": "code",
   "execution_count": 36,
   "id": "d4f0239b-991f-4e8a-a893-2858d1766cf4",
   "metadata": {},
   "outputs": [
    {
     "name": "stdout",
     "output_type": "stream",
     "text": [
      "The cube of pi to 6 decimal places is 3.100628e+01\n"
     ]
    }
   ],
   "source": [
    "print(f'The cube of pi to 6 decimal places is {np.pi**3:.6e}')"
   ]
  },
  {
   "cell_type": "markdown",
   "id": "99897163-7733-4a32-b240-d86a34424ad4",
   "metadata": {},
   "source": [
    "- The e in .6e is tells the f-string to output the number in scientific notation."
   ]
  },
  {
   "attachments": {},
   "cell_type": "markdown",
   "id": "31c1e4b4",
   "metadata": {},
   "source": [
    "## 6.1 Structure of f-strings"
   ]
  },
  {
   "cell_type": "markdown",
   "id": "77d0c8a7-368b-4d1f-87a7-3cb9660a0772",
   "metadata": {},
   "source": [
    "f-strings might seem cryptic but the structure is :{X:>0Y.ZW}\n",
    "\n",
    "- X is what you want printed out (can be a variable or string\n",
    "- the colon tells python what you want to be formatted\n",
    "- </^/> is how the line is justified\n",
    "- Python will put spaces if you do not specify, but you can use other charaters like a space eg 0, x, -\n",
    "    - formatting depends on what is being formatted\n",
    "- Y is the total number of characters\n",
    "- Z is total number of decimal places\n",
    "- w specifies the type of variable\n",
    "    - f for float\n",
    "    - d for integer\n",
    "    - s for string (text)\n",
    "    - g is like a wildcard - asking python to figure out\n",
    "\n",
    "It is useful and often necessary to format numbers.\n",
    "You can also say how the number is justified although it is not needed to."
   ]
  },
  {
   "attachments": {},
   "cell_type": "markdown",
   "id": "4bc5295e",
   "metadata": {},
   "source": [
    "# 7 Escape sequences"
   ]
  },
  {
   "cell_type": "markdown",
   "id": "a2a9548c-bd7b-4197-b6d0-eb674dae140d",
   "metadata": {},
   "source": [
    "this refers to special charaters that we need when we are writing English that we take for granted eg going to new line  \n",
    "for example, newline characters (not show, hidden character) \n",
    "\n",
    "- \\n is newline or to break the line\n",
    "- \\t is a tab\n",
    "- \\ ' is a single quotation mark\n",
    "\n",
    "be careful because \\x may be read as part of an escape sequence, must use double backslash\n",
    "- \\ \\ for backslash\n",
    "\n",
    "there are others eg carriage return (can go to the start of the line)  \n",
    "for now we just need breakline, tab and backslash. "
   ]
  },
  {
   "cell_type": "code",
   "execution_count": 44,
   "id": "7eac7480-2eec-499f-b290-f5c4efca1b54",
   "metadata": {},
   "outputs": [
    {
     "name": "stdout",
     "output_type": "stream",
     "text": [
      "Line 1\n",
      "\tLine 2\n",
      "\t\tLine 3\n"
     ]
    }
   ],
   "source": [
    "print('Line 1\\n\\tLine 2\\n\\t\\tLine 3')"
   ]
  },
  {
   "cell_type": "markdown",
   "id": "4e765295-1592-4583-b242-00047c058905",
   "metadata": {},
   "source": [
    "**example 1: quotation marks: printing quotation marks**"
   ]
  },
  {
   "cell_type": "code",
   "execution_count": 47,
   "id": "f7ae5a46-4543-4e99-a39c-c2aa55c51355",
   "metadata": {},
   "outputs": [
    {
     "name": "stdout",
     "output_type": "stream",
     "text": [
      "You're twenty years old.\n"
     ]
    }
   ],
   "source": [
    "print(\"You're twenty years old.\") "
   ]
  },
  {
   "cell_type": "code",
   "execution_count": 48,
   "id": "4c75d3f6-2f96-47ca-a4b0-1fee05029183",
   "metadata": {},
   "outputs": [
    {
     "ename": "SyntaxError",
     "evalue": "unterminated string literal (detected at line 1) (2717985741.py, line 1)",
     "output_type": "error",
     "traceback": [
      "\u001b[0;36m  Cell \u001b[0;32mIn[48], line 1\u001b[0;36m\u001b[0m\n\u001b[0;31m    print('You're twenty years old.')\u001b[0m\n\u001b[0m                                   ^\u001b[0m\n\u001b[0;31mSyntaxError\u001b[0m\u001b[0;31m:\u001b[0m unterminated string literal (detected at line 1)\n"
     ]
    }
   ],
   "source": [
    "print('You're twenty years old.') "
   ]
  },
  {
   "cell_type": "markdown",
   "id": "c2f0e578-c5f5-48a9-adc2-e09d05aa218b",
   "metadata": {},
   "source": [
    "Printing this sentence when using \"\" works but when using the single quotation marks you need to escape the ' to print it."
   ]
  },
  {
   "cell_type": "code",
   "execution_count": 45,
   "id": "d91fb06f-a1a0-4174-85cc-7bb9dd8e691c",
   "metadata": {},
   "outputs": [
    {
     "name": "stdout",
     "output_type": "stream",
     "text": [
      "You're twenty years old.\n"
     ]
    }
   ],
   "source": [
    "print('You\\'re twenty years old.') "
   ]
  },
  {
   "cell_type": "markdown",
   "id": "571edf3c-0b88-412c-81ca-b4da4a67355c",
   "metadata": {},
   "source": [
    "**example 2: backslashes**"
   ]
  },
  {
   "cell_type": "code",
   "execution_count": 46,
   "id": "cef34e94-267d-4f41-a448-90d24267a026",
   "metadata": {},
   "outputs": [
    {
     "name": "stdout",
     "output_type": "stream",
     "text": [
      "A\\B\\C\n"
     ]
    }
   ],
   "source": [
    "print('A\\\\B\\\\C')"
   ]
  },
  {
   "cell_type": "markdown",
   "id": "0f454990-27ca-4120-9249-f99ec5717823",
   "metadata": {},
   "source": [
    "**example 3: line breaks**"
   ]
  },
  {
   "cell_type": "code",
   "execution_count": 50,
   "id": "999c6e2e-8806-4c53-81e1-f38aa4f2f03e",
   "metadata": {},
   "outputs": [
    {
     "name": "stdout",
     "output_type": "stream",
     "text": [
      "A\n",
      "B\n",
      "C\n"
     ]
    }
   ],
   "source": [
    "print('A\\nB\\nC')"
   ]
  },
  {
   "cell_type": "markdown",
   "id": "28a12800-7514-41f7-9ba9-2a821da826a2",
   "metadata": {},
   "source": [
    "**example 4: tabs**"
   ]
  },
  {
   "cell_type": "code",
   "execution_count": 52,
   "id": "73dac489-2fd1-4015-977c-e0010092df0b",
   "metadata": {},
   "outputs": [
    {
     "name": "stdout",
     "output_type": "stream",
     "text": [
      "A\tB\tC\n"
     ]
    }
   ],
   "source": [
    "print('A\\tB\\tC')"
   ]
  },
  {
   "cell_type": "markdown",
   "id": "a46aedcf-1046-4f08-9faf-837f7b1cbfc6",
   "metadata": {},
   "source": [
    "**additionally: carriage return** represented by \\r\n",
    "- A carriage return tells Python to move the cursor back to the beginning of the current line.\n",
    "    - similar effect as typewriters where it moves tge carriage to the beginning(hence the name)\n",
    "- overwrites whatever is at the beginning of the line "
   ]
  },
  {
   "cell_type": "code",
   "execution_count": 58,
   "id": "e7f5c6ae-f270-4750-84c3-ffc9edb6d124",
   "metadata": {},
   "outputs": [
    {
     "name": "stdout",
     "output_type": "stream",
     "text": [
      "world what a beautiful\n"
     ]
    }
   ],
   "source": [
    "print('Hello what a beautiful\\rworld')"
   ]
  },
  {
   "cell_type": "code",
   "execution_count": 65,
   "id": "b9d17072-e851-4c4b-8367-1e516e22d3bb",
   "metadata": {},
   "outputs": [
    {
     "name": "stdout",
     "output_type": "stream",
     "text": [
      "Worlds\n"
     ]
    }
   ],
   "source": [
    "print('Hellos\\rWorld')"
   ]
  },
  {
   "attachments": {},
   "cell_type": "markdown",
   "id": "c897c229",
   "metadata": {},
   "source": [
    "# 8 Computers read = from Right to Left!"
   ]
  },
  {
   "cell_type": "code",
   "execution_count": 67,
   "id": "683e5de4-5c6d-41a5-b65e-cf6b308c4f78",
   "metadata": {},
   "outputs": [],
   "source": [
    "x = 40\n",
    "y = x + 2"
   ]
  },
  {
   "cell_type": "code",
   "execution_count": 68,
   "id": "e6e6f5e0-e815-48c0-a031-ee5e19232523",
   "metadata": {},
   "outputs": [
    {
     "data": {
      "text/plain": [
       "42"
      ]
     },
     "execution_count": 68,
     "metadata": {},
     "output_type": "execute_result"
    }
   ],
   "source": [
    "y"
   ]
  },
  {
   "cell_type": "markdown",
   "id": "829863d2-816f-4385-b906-c3030b72d8bd",
   "metadata": {},
   "source": [
    "this means that you can write the following in coding but not in math, since **computers working right to left**.\n",
    "(because mathematically the following would mean 0 = 2 which does not make sense)\n",
    "\n",
    "the first line, y is equal to 40. The computer evaluates the right side first and gets the value 42,  \n",
    "then it comes to the next line and sees 2, thinks what must it do next? it holds it somewhere and makes y equals 42."
   ]
  },
  {
   "cell_type": "code",
   "execution_count": 69,
   "id": "9280e74d-1ca0-4932-a96b-42cf73d0edda",
   "metadata": {},
   "outputs": [
    {
     "name": "stdout",
     "output_type": "stream",
     "text": [
      "42\n"
     ]
    }
   ],
   "source": [
    "y = 40\n",
    "y = y + 2\n",
    "print(y)"
   ]
  },
  {
   "attachments": {},
   "cell_type": "markdown",
   "id": "cbcaf4b3",
   "metadata": {},
   "source": [
    "# 9 Shorter and Cleaner Code"
   ]
  },
  {
   "cell_type": "code",
   "execution_count": null,
   "id": "55f69f34-c1c2-4c0d-b8dd-d42639646d05",
   "metadata": {},
   "outputs": [],
   "source": []
  },
  {
   "attachments": {},
   "cell_type": "markdown",
   "id": "d1b73ed9",
   "metadata": {},
   "source": [
    "# 10 Python can be a prima-donna."
   ]
  },
  {
   "attachments": {},
   "cell_type": "markdown",
   "id": "33b30c5c",
   "metadata": {},
   "source": [
    "# 11 Best Practices for Scientific Computing"
   ]
  },
  {
   "attachments": {},
   "cell_type": "markdown",
   "id": "6c3fffe8",
   "metadata": {},
   "source": [
    "# 12 Looking for help"
   ]
  },
  {
   "attachments": {},
   "cell_type": "markdown",
   "id": "8f083875",
   "metadata": {},
   "source": [
    "## References"
   ]
  },
  {
   "attachments": {},
   "cell_type": "markdown",
   "id": "34f4c35e",
   "metadata": {},
   "source": [
    "## Footnotes"
   ]
  }
 ],
 "metadata": {
  "kernelspec": {
   "display_name": "Python 3 (ipykernel)",
   "language": "python",
   "name": "python3"
  },
  "language_info": {
   "codemirror_mode": {
    "name": "ipython",
    "version": 3
   },
   "file_extension": ".py",
   "mimetype": "text/x-python",
   "name": "python",
   "nbconvert_exporter": "python",
   "pygments_lexer": "ipython3",
   "version": "3.11.5"
  },
  "toc": {
   "base_numbering": 1,
   "nav_menu": {},
   "number_sections": true,
   "sideBar": true,
   "skip_h1_title": false,
   "title_cell": "Table of Contents",
   "title_sidebar": "Contents",
   "toc_cell": false,
   "toc_position": {},
   "toc_section_display": true,
   "toc_window_display": false
  },
  "vscode": {
   "interpreter": {
    "hash": "31f2aee4e71d21fbe5cf8b01ff0e069b9275f58929596ceb00d14d90e3e16cd6"
   }
  }
 },
 "nbformat": 4,
 "nbformat_minor": 5
}
