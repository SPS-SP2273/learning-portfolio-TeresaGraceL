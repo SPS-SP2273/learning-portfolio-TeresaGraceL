{
 "cells": [
  {
   "attachments": {},
   "cell_type": "markdown",
   "id": "123456",
   "metadata": {},
   "source": [
    "<div style=\"text-align:left;font-size:2em\"><span style=\"font-weight:bolder;font-size:1.25em\">SP2273 | Learning Portfolio</span><br><br><span style=\"font-weight:bold;color:darkred\">Storing Data (Need)</span></div>"
   ]
  },
  {
   "cell_type": "markdown",
   "id": "0dc51bd5-2312-46b0-b90b-057fab69773f",
   "metadata": {},
   "source": [
    "# Comments"
   ]
  },
  {
   "cell_type": "markdown",
   "id": "163c50f8-f82b-40e2-9f50-33097a23b95b",
   "metadata": {},
   "source": [
    "**What's good:** Most of the examples are alright.\n",
    "\n",
    "**What's not good:** \n",
    "\n",
    "VS the python array only has letters\n",
    "...a numpy array can only hold a single type of variable (eg float, letter, number)\n",
    "In the example of code above these lines, yournp_array_2d was an array made up of a kind of element that is not necessarily letters or float values.\n",
    "\n",
    "**Actionable:** Could you amend the text in the example above so that they match your code?\n",
    "\n",
    "Good-to-know (Optional): NIL"
   ]
  },
  {
   "cell_type": "code",
   "execution_count": 2,
   "id": "7045087e-4b99-46ac-827a-258dae00df28",
   "metadata": {},
   "outputs": [],
   "source": [
    "import numpy as np"
   ]
  },
  {
   "attachments": {},
   "cell_type": "markdown",
   "id": "76045d60",
   "metadata": {},
   "source": [
    "# What to expect in this chapter"
   ]
  },
  {
   "cell_type": "markdown",
   "id": "e8071f63-130b-4d62-9fcf-90974a4e504e",
   "metadata": {},
   "source": [
    "It's very important to understand how to store, retrieve and modify data in programming.\n",
    "- **influence how you think about data**\n",
    "- ability to make algorithms to solve problems\n",
    "- going from original data to final solution is affected by the form that you store your solution.\n",
    "\n",
    "Ways to store and manipulate data eg:\n",
    "1. List\n",
    "2. Numpy arrrays\n",
    "3. Dictionaries\n",
    "4. Tuples\n",
    "\n",
    "others: Applications - Data Processing - Data frames; Classes (advanced topic in nice)"
   ]
  },
  {
   "attachments": {},
   "cell_type": "markdown",
   "id": "5d787c61",
   "metadata": {},
   "source": [
    "# 1 Lists, Arrays & Dictionaries"
   ]
  },
  {
   "attachments": {},
   "cell_type": "markdown",
   "id": "3c9f8e4e",
   "metadata": {},
   "source": [
    "## 1.1 Let’s compare"
   ]
  },
  {
   "cell_type": "markdown",
   "id": "62f4453c-8082-4184-857c-40622ec0d150",
   "metadata": {},
   "source": [
    "Dictionaries use a key and an associated value separated by a ':'. The dictionary very elegantly holds the real and superhero names in one structure while we need two lists (or arrays) for the same data.\n",
    "\n",
    "For lists and arrays, the order matters. I.e. ‘Iron Man’ must be in the same position as ‘Tony Stark’ for things to work."
   ]
  },
  {
   "cell_type": "markdown",
   "id": "8a863898-d871-4fd6-9b7e-55a9597f2e07",
   "metadata": {},
   "source": [
    "**Python lists**"
   ]
  },
  {
   "cell_type": "code",
   "execution_count": 6,
   "id": "875a4680-cb80-4e0e-9c4e-865935ce1045",
   "metadata": {},
   "outputs": [],
   "source": [
    "py_super_names = [\"Black Widow\", \"Iron Man\", \"Doctor Strange\"]\n",
    "py_real_names = [\"Natasha Romanoff\", \"Tony Stark\", \"Stephen Strange\"]"
   ]
  },
  {
   "cell_type": "markdown",
   "id": "976b05f5-f8ea-4388-a043-eebd7cfae414",
   "metadata": {},
   "source": [
    "**Numpy Arrays**"
   ]
  },
  {
   "cell_type": "code",
   "execution_count": 3,
   "id": "a3db756e-9e5b-4b82-ac12-f0306a272002",
   "metadata": {},
   "outputs": [],
   "source": [
    "np_super_names = np.array([\"Black Widow\", \"Iron Man\", \"Doctor Strange\"])\n",
    "np_real_names = np.array([\"Natasha Romanoff\", \"Tony Stark\", \"Stephen Strange\"])"
   ]
  },
  {
   "cell_type": "markdown",
   "id": "5cbf4181-faac-4767-a479-e143dcb79acd",
   "metadata": {},
   "source": [
    "**Dictionaries**"
   ]
  },
  {
   "cell_type": "code",
   "execution_count": 4,
   "id": "bc137447-ff0a-4b78-8bd8-fab67bd6d3ed",
   "metadata": {},
   "outputs": [],
   "source": [
    "superhero_info = {\n",
    "    \"Natasha Romanoff\": \"Black Widow\",\n",
    "    \"Tony Stark\": \"Iron Man\",\n",
    "    \"Stephen Strange\": \"Doctor Strange\"\n",
    "}"
   ]
  },
  {
   "cell_type": "markdown",
   "id": "8acdd86a-40b5-4a72-9d2a-68dae0750f74",
   "metadata": {},
   "source": [
    "The problem you try to solve affects what you choose to store your data. Each has different functions.   \n",
    "Lists and arrays offer features that dictionaries don't, and vice versa."
   ]
  },
  {
   "attachments": {},
   "cell_type": "markdown",
   "id": "2be286b9",
   "metadata": {},
   "source": [
    "## 1.2 Accessing data from a list (or array)"
   ]
  },
  {
   "cell_type": "markdown",
   "id": "56c61958-09cc-4186-8286-b05b75d41f32",
   "metadata": {},
   "source": [
    "A few things you can do: make a list, extract information or do calculations with the data.  \n",
    "Python is a zero-indexed language, compared to R which starts at 1.\n",
    "- this means it starts counting from 0.\n",
    "- the first thing is the zeroth-index, so if you have 10 things in the list it will be numbered from 0-9"
   ]
  },
  {
   "cell_type": "code",
   "execution_count": 5,
   "id": "0cb7f494-134c-42c7-93f1-8229c20fe13c",
   "metadata": {},
   "outputs": [
    {
     "data": {
      "text/plain": [
       "'Natasha Romanoff'"
      ]
     },
     "execution_count": 5,
     "metadata": {},
     "output_type": "execute_result"
    }
   ],
   "source": [
    "py_real_names[0]"
   ]
  },
  {
   "cell_type": "code",
   "execution_count": 7,
   "id": "b3e00cbc-7436-4a1d-a19c-5426e7cf92cc",
   "metadata": {},
   "outputs": [
    {
     "data": {
      "text/plain": [
       "'Black Widow'"
      ]
     },
     "execution_count": 7,
     "metadata": {},
     "output_type": "execute_result"
    }
   ],
   "source": [
    "py_super_names[0]"
   ]
  },
  {
   "cell_type": "markdown",
   "id": "bd0efb0a-26bc-4ed0-beb5-cc2ae3506131",
   "metadata": {},
   "source": [
    "- data in 2 lists, correspondence is by position. to get both the names, put same index in both."
   ]
  },
  {
   "cell_type": "code",
   "execution_count": 13,
   "id": "82ec1b39-b238-4b32-b4cb-0a871709dd94",
   "metadata": {},
   "outputs": [
    {
     "name": "stdout",
     "output_type": "stream",
     "text": [
      "Tony Stark is Iron Man\n"
     ]
    }
   ],
   "source": [
    "print(py_real_names[1], 'is', py_super_names[1])"
   ]
  },
  {
   "cell_type": "markdown",
   "id": "89bb9f30-09e2-40df-af85-a67fc3dd4a02",
   "metadata": {},
   "source": [
    "another way to do this is to use a variable to index, reusing rather than retyping it.  \n",
    "- it is important to get the correspondence right."
   ]
  },
  {
   "cell_type": "code",
   "execution_count": 12,
   "id": "17f472cf-127a-4683-8d98-289c8dddd8f9",
   "metadata": {},
   "outputs": [
    {
     "name": "stdout",
     "output_type": "stream",
     "text": [
      "Tony Stark is Iron Man\n"
     ]
    }
   ],
   "source": [
    "i = 1\n",
    "print(py_real_names[i], 'is', py_super_names[i])"
   ]
  },
  {
   "cell_type": "markdown",
   "id": "5102ce84-4508-4bf9-9d0f-e5e43c37b684",
   "metadata": {},
   "source": [
    "**reverse indexing** using a negative index to count from the back of the list\n",
    "- using the index -1 will give the last element\n",
    "- useful to access the last element without knowing list size (VS forward index, need to know size)"
   ]
  },
  {
   "cell_type": "code",
   "execution_count": 14,
   "id": "d1c5e14f-b56f-4200-9c6a-887c68be7ee1",
   "metadata": {},
   "outputs": [
    {
     "data": {
      "text/plain": [
       "'Doctor Strange'"
      ]
     },
     "execution_count": 14,
     "metadata": {},
     "output_type": "execute_result"
    }
   ],
   "source": [
    "py_super_names[-1]"
   ]
  },
  {
   "attachments": {},
   "cell_type": "markdown",
   "id": "cd6d14c7",
   "metadata": {},
   "source": [
    "## 1.3 Accessing data from a dictionary"
   ]
  },
  {
   "cell_type": "code",
   "execution_count": 20,
   "id": "49a27d91-8c22-481d-a5e6-617ab2f48a9f",
   "metadata": {},
   "outputs": [
    {
     "data": {
      "text/plain": [
       "'Black Widow'"
      ]
     },
     "execution_count": 20,
     "metadata": {},
     "output_type": "execute_result"
    }
   ],
   "source": [
    "superhero_info[\"Natasha Romanoff\"]"
   ]
  },
  {
   "cell_type": "code",
   "execution_count": 21,
   "id": "78a2af30-8284-4c7e-b8b6-c44922a91298",
   "metadata": {},
   "outputs": [
    {
     "ename": "KeyError",
     "evalue": "'Black Widow'",
     "output_type": "error",
     "traceback": [
      "\u001b[0;31m---------------------------------------------------------------------------\u001b[0m",
      "\u001b[0;31mKeyError\u001b[0m                                  Traceback (most recent call last)",
      "Cell \u001b[0;32mIn[21], line 1\u001b[0m\n\u001b[0;32m----> 1\u001b[0m superhero_info[\u001b[38;5;124m\"\u001b[39m\u001b[38;5;124mBlack Widow\u001b[39m\u001b[38;5;124m\"\u001b[39m]\n",
      "\u001b[0;31mKeyError\u001b[0m: 'Black Widow'"
     ]
    }
   ],
   "source": [
    "superhero_info[\"Black Widow\"]"
   ]
  },
  {
   "cell_type": "markdown",
   "id": "0fa5d3b1-f48b-4e73-9a1c-c8c3667d1d7f",
   "metadata": {},
   "source": [
    "- dictionaries have a key-value structure\n",
    "- \"key\" : \"value\"\n",
    "- you cannot use the value to get the key"
   ]
  },
  {
   "cell_type": "code",
   "execution_count": 22,
   "id": "17a6efd6-4a10-474b-adf9-64ca26531556",
   "metadata": {},
   "outputs": [
    {
     "data": {
      "text/plain": [
       "dict_keys(['Natasha Romanoff', 'Tony Stark', 'Stephen Strange'])"
      ]
     },
     "execution_count": 22,
     "metadata": {},
     "output_type": "execute_result"
    }
   ],
   "source": [
    "superhero_info.keys() #access all the keys"
   ]
  },
  {
   "cell_type": "code",
   "execution_count": 18,
   "id": "2624c1de-b00a-4be6-87e2-1ceb408f1536",
   "metadata": {},
   "outputs": [
    {
     "data": {
      "text/plain": [
       "dict_values(['Black Widow', 'Iron Man', 'Doctor Strange'])"
      ]
     },
     "execution_count": 18,
     "metadata": {},
     "output_type": "execute_result"
    }
   ],
   "source": [
    "superhero_info.values() #access all the values"
   ]
  },
  {
   "attachments": {},
   "cell_type": "markdown",
   "id": "a98b2a88",
   "metadata": {},
   "source": [
    "## 1.4 Higher dimensional lists"
   ]
  },
  {
   "cell_type": "markdown",
   "id": "49e9d709-cd43-4dc8-b232-871b735b861b",
   "metadata": {},
   "source": [
    "Instead of having 2 lists, can have a single 2D list (or array) to store the same information.  \n",
    "This 2D list is a **list of lists**. [[]]\n",
    "- Need to have an understanding: eg first item is real name, second item is superhero name"
   ]
  },
  {
   "cell_type": "code",
   "execution_count": 23,
   "id": "e295ab28-165f-40d9-93d4-12bcf7e02b55",
   "metadata": {},
   "outputs": [],
   "source": [
    "py_superhero_info = [['Natasha Romanoff', 'Black Widow'],\n",
    "                     ['Tony Stark', 'Iron Man'],\n",
    "                     ['Stephen Strange', 'Doctor Strange']]"
   ]
  },
  {
   "attachments": {},
   "cell_type": "markdown",
   "id": "32ceb6df",
   "metadata": {},
   "source": [
    "# 2 Lists vs. Arrays"
   ]
  },
  {
   "cell_type": "markdown",
   "id": "daa6f535-0978-4444-855d-62229ead807c",
   "metadata": {},
   "source": [
    "\"one of the most annoying things to do with a list is indexing: getting things out of the list.\"  \n",
    "This is where slicing and indexing is important.\n",
    "\n",
    "Knowing the strengths and weaknesses of lists and arrays \n",
    "- Understanding the differences between list and arrays so you know which to use to store your data"
   ]
  },
  {
   "cell_type": "code",
   "execution_count": 3,
   "id": "f7ff4d14-3b3f-4da7-9131-69a6d64dc61e",
   "metadata": {},
   "outputs": [],
   "source": [
    "py_list_2d = [\n",
    "    [1, \"A\"], \n",
    "    [2, \"B\"], \n",
    "    [3, \"C\"], \n",
    "    [4, \"D\"],             \n",
    "    [5, \"E\"], \n",
    "    [6, \"F\"], \n",
    "    [7, \"G\"], \n",
    "    [8, \"H\"],\n",
    "    [9,  \"I\"], \n",
    "    [10, \"J\"]\n",
    "    ]\n",
    "\n",
    "np_array_2d = np.array(py_list_2d)      # Reusing the Python list \n",
    "                                        # to create a NEW\n",
    "                                        # NumPy array"
   ]
  },
  {
   "cell_type": "code",
   "execution_count": 30,
   "id": "0df236e4-525f-4a09-a582-d214c0693a15",
   "metadata": {},
   "outputs": [
    {
     "data": {
      "text/plain": [
       "[[1, 'A'],\n",
       " [2, 'B'],\n",
       " [3, 'C'],\n",
       " [4, 'D'],\n",
       " [5, 'E'],\n",
       " [6, 'F'],\n",
       " [7, 'G'],\n",
       " [8, 'H'],\n",
       " [9, 'I'],\n",
       " [10, 'J']]"
      ]
     },
     "execution_count": 30,
     "metadata": {},
     "output_type": "execute_result"
    }
   ],
   "source": [
    "py_list_2d"
   ]
  },
  {
   "cell_type": "code",
   "execution_count": 31,
   "id": "b4e8b50b-3554-4539-a89b-a3a32f2d7033",
   "metadata": {},
   "outputs": [
    {
     "data": {
      "text/plain": [
       "array([['1', 'A'],\n",
       "       ['2', 'B'],\n",
       "       ['3', 'C'],\n",
       "       ['4', 'D'],\n",
       "       ['5', 'E'],\n",
       "       ['6', 'F'],\n",
       "       ['7', 'G'],\n",
       "       ['8', 'H'],\n",
       "       ['9', 'I'],\n",
       "       ['10', 'J']], dtype='<U21')"
      ]
     },
     "execution_count": 31,
     "metadata": {},
     "output_type": "execute_result"
    }
   ],
   "source": [
    "np_array_2d"
   ]
  },
  {
   "cell_type": "markdown",
   "id": "b6a446e7-f134-4238-bd4c-0661f34c543f",
   "metadata": {},
   "source": [
    "- lists have numbers and letters\n",
    "- VS the python array only has letters\n",
    "\n",
    "fundamental characteristic of a numpy array: can only hold a single type of variable (in this case, np_array_2d contains strings.)  \n",
    "\n",
    "Lists can have combinations of different types of variables\n",
    "\n",
    "- (np_array_2d is an array of an array of strings, because it is a 2d array)  \n",
    "An array can hold a single type of other types of variables eg if there are a mix of floats and integers, the array will convert all the variables into integers since integers are a more general variable type, and floats can be converted to integers.  "
   ]
  },
  {
   "attachments": {},
   "cell_type": "markdown",
   "id": "c630aa14",
   "metadata": {},
   "source": [
    "## 2.1 Size"
   ]
  },
  {
   "cell_type": "markdown",
   "id": "ea65221f-86cc-4b19-a32f-d499faa384a2",
   "metadata": {},
   "source": [
    "**Lists**"
   ]
  },
  {
   "cell_type": "code",
   "execution_count": 35,
   "id": "a02ac20b-8a60-4719-8017-6c3b482dfbbd",
   "metadata": {},
   "outputs": [
    {
     "data": {
      "text/plain": [
       "10"
      ]
     },
     "execution_count": 35,
     "metadata": {},
     "output_type": "execute_result"
    }
   ],
   "source": [
    "len(py_list_2d)"
   ]
  },
  {
   "cell_type": "markdown",
   "id": "965dd68b-e7fd-48e9-96df-3dd45562b92d",
   "metadata": {},
   "source": [
    "**Arrays**"
   ]
  },
  {
   "cell_type": "code",
   "execution_count": 33,
   "id": "1d89a495-14ec-4811-a470-79b3b104a3aa",
   "metadata": {},
   "outputs": [
    {
     "data": {
      "text/plain": [
       "10"
      ]
     },
     "execution_count": 33,
     "metadata": {},
     "output_type": "execute_result"
    }
   ],
   "source": [
    "len(np_array_2d)"
   ]
  },
  {
   "cell_type": "code",
   "execution_count": 34,
   "id": "480dae62-cf18-4937-978b-3246890407aa",
   "metadata": {},
   "outputs": [
    {
     "data": {
      "text/plain": [
       "(10, 2)"
      ]
     },
     "execution_count": 34,
     "metadata": {},
     "output_type": "execute_result"
    }
   ],
   "source": [
    "np_array_2d.shape\n"
   ]
  },
  {
   "cell_type": "markdown",
   "id": "5496e8d2-007d-468d-9eea-637b82ded3a5",
   "metadata": {},
   "source": [
    "more information from arrays using shape.  \n",
    "if the subarrays have different elements / not consistent size you will not get the size\n",
    "- shape is not a function, it is a property/ attribute of NumPy arrays."
   ]
  },
  {
   "attachments": {},
   "cell_type": "markdown",
   "id": "57b5271c",
   "metadata": {},
   "source": [
    "## 2.2 Arrays are fussy about type"
   ]
  },
  {
   "cell_type": "markdown",
   "id": "035cb987-1139-4874-a248-00ebe65465d9",
   "metadata": {},
   "source": [
    "- NumPy arrays only tolerate 1 type - be mindful of this when dealing with datasets with both number and text\n",
    "- We easily change type (typecast) using the ‘hidden’ function astypes() \n",
    "  - covered in a later chapter"
   ]
  },
  {
   "cell_type": "code",
   "execution_count": 44,
   "id": "cda089d8-5474-4b0a-b39b-9f07c96cf4b5",
   "metadata": {},
   "outputs": [],
   "source": [
    "py_list = [1, 1.5, 'A']\n",
    "np_array = np.array(py_list)"
   ]
  },
  {
   "cell_type": "code",
   "execution_count": 45,
   "id": "a81c6faa-7f1f-45bb-8a10-0fa54b1b0667",
   "metadata": {},
   "outputs": [
    {
     "data": {
      "text/plain": [
       "[1, 1.5, 'A']"
      ]
     },
     "execution_count": 45,
     "metadata": {},
     "output_type": "execute_result"
    }
   ],
   "source": [
    "py_list"
   ]
  },
  {
   "cell_type": "code",
   "execution_count": 43,
   "id": "d0250b6b-bfc3-44da-9098-da080f97e050",
   "metadata": {},
   "outputs": [
    {
     "data": {
      "text/plain": [
       "array(['1', '1.5', 'A'], dtype='<U32')"
      ]
     },
     "execution_count": 43,
     "metadata": {},
     "output_type": "execute_result"
    }
   ],
   "source": [
    "np_array"
   ]
  },
  {
   "attachments": {},
   "cell_type": "markdown",
   "id": "d2f837e2",
   "metadata": {},
   "source": [
    "## 2.3 Adding a number"
   ]
  },
  {
   "cell_type": "code",
   "execution_count": 47,
   "id": "f8d79be9-64ad-44e9-b1e1-430b069b1be5",
   "metadata": {},
   "outputs": [],
   "source": [
    "py_list = [1, 2, 3, 4, 5]\n",
    "np_array = np.array(py_list)         # Reusing the Python list\n",
    "                                     # to create a NEW\n",
    "                                     # NumPy array"
   ]
  },
  {
   "cell_type": "code",
   "execution_count": 49,
   "id": "748503ca-73b5-41fb-9e18-905ce367bb13",
   "metadata": {},
   "outputs": [
    {
     "data": {
      "text/plain": [
       "[1, 2, 3, 4, 5]"
      ]
     },
     "execution_count": 49,
     "metadata": {},
     "output_type": "execute_result"
    }
   ],
   "source": [
    "py_list"
   ]
  },
  {
   "cell_type": "code",
   "execution_count": 50,
   "id": "42e36fad-e211-47fc-b3aa-eb03f05dca59",
   "metadata": {},
   "outputs": [
    {
     "data": {
      "text/plain": [
       "array([1, 2, 3, 4, 5])"
      ]
     },
     "execution_count": 50,
     "metadata": {},
     "output_type": "execute_result"
    }
   ],
   "source": [
    "np_array"
   ]
  },
  {
   "cell_type": "markdown",
   "id": "2deebb68-b46f-4577-be39-c2c9b0995c2b",
   "metadata": {},
   "source": [
    "**Arrays**"
   ]
  },
  {
   "cell_type": "code",
   "execution_count": 51,
   "id": "2883fff9-6a48-4415-a8cf-a4bdf999ea7c",
   "metadata": {},
   "outputs": [
    {
     "data": {
      "text/plain": [
       "array([101, 102, 103, 104, 105])"
      ]
     },
     "execution_count": 51,
     "metadata": {},
     "output_type": "execute_result"
    }
   ],
   "source": [
    "np_array + 100"
   ]
  },
  {
   "cell_type": "markdown",
   "id": "6e1f2f6f-b9b4-40d5-ae1e-72f1a308fd54",
   "metadata": {},
   "source": [
    "**Lists**"
   ]
  },
  {
   "cell_type": "code",
   "execution_count": 55,
   "id": "3c913440-e897-4b31-bc89-1d92967da7e7",
   "metadata": {},
   "outputs": [
    {
     "ename": "TypeError",
     "evalue": "can only concatenate list (not \"int\") to list",
     "output_type": "error",
     "traceback": [
      "\u001b[0;31m---------------------------------------------------------------------------\u001b[0m",
      "\u001b[0;31mTypeError\u001b[0m                                 Traceback (most recent call last)",
      "Cell \u001b[0;32mIn[55], line 1\u001b[0m\n\u001b[0;32m----> 1\u001b[0m py_list \u001b[38;5;241m+\u001b[39m \u001b[38;5;241m100\u001b[39m\n",
      "\u001b[0;31mTypeError\u001b[0m: can only concatenate list (not \"int\") to list"
     ]
    }
   ],
   "source": [
    "py_list + 100        # Won't work! cannot add number to elements in list"
   ]
  },
  {
   "attachments": {},
   "cell_type": "markdown",
   "id": "8e03b81d",
   "metadata": {},
   "source": [
    "## 2.4 Adding another list"
   ]
  },
  {
   "cell_type": "code",
   "execution_count": 59,
   "id": "5b8d7e30-9a7b-427b-85f0-ad794bc58594",
   "metadata": {},
   "outputs": [],
   "source": [
    "py_list_1 = [1, 2, 3, 4, 5]\n",
    "py_list_2 = [10, 20, 30, 40, 50]\n",
    "\n",
    "np_array_1 = np.array(py_list_1)\n",
    "np_array_2 = np.array(py_list_2)"
   ]
  },
  {
   "cell_type": "markdown",
   "id": "a3230ca5-dbca-4946-8a2b-8a417527ed17",
   "metadata": {},
   "source": [
    "**Lists**"
   ]
  },
  {
   "cell_type": "code",
   "execution_count": 60,
   "id": "86394370-1df0-49b7-beb0-3eca02d612d6",
   "metadata": {},
   "outputs": [
    {
     "data": {
      "text/plain": [
       "[1, 2, 3, 4, 5, 10, 20, 30, 40, 50]"
      ]
     },
     "execution_count": 60,
     "metadata": {},
     "output_type": "execute_result"
    }
   ],
   "source": [
    "py_list_1 + py_list_2 #combine to give you a bigger lists"
   ]
  },
  {
   "cell_type": "markdown",
   "id": "1e196a3d-2f19-4983-920b-c545361f505b",
   "metadata": {},
   "source": [
    "**Arrays**"
   ]
  },
  {
   "cell_type": "code",
   "execution_count": 58,
   "id": "2cf51ea2-b13e-4e7e-aa24-cba5fd9e6931",
   "metadata": {},
   "outputs": [
    {
     "data": {
      "text/plain": [
       "array([11, 22, 33, 44, 55])"
      ]
     },
     "execution_count": 58,
     "metadata": {},
     "output_type": "execute_result"
    }
   ],
   "source": [
    "np_array_1 + np_array_2 #individual elements are added"
   ]
  },
  {
   "cell_type": "markdown",
   "id": "766f5994-ca19-4b50-b746-bb30c8101c3f",
   "metadata": {},
   "source": [
    "for mathematical operations, use arrays. (cannot do math with lists)"
   ]
  },
  {
   "attachments": {},
   "cell_type": "markdown",
   "id": "b63cd80b",
   "metadata": {},
   "source": [
    "## 2.5 Multiplying by a Number"
   ]
  },
  {
   "cell_type": "code",
   "execution_count": 61,
   "id": "b72660e7-eee8-4815-8d7c-3a0350b22974",
   "metadata": {},
   "outputs": [],
   "source": [
    "py_list = [1, 2, 3, 4, 5]\n",
    "np_array = np.array(py_list)         "
   ]
  },
  {
   "cell_type": "markdown",
   "id": "54119e72-771d-4678-8100-37f7cfec3373",
   "metadata": {},
   "source": [
    "**Lists**"
   ]
  },
  {
   "cell_type": "code",
   "execution_count": 66,
   "id": "7c9bc990-0495-4b06-9232-231c5c6110b0",
   "metadata": {},
   "outputs": [
    {
     "data": {
      "text/plain": [
       "[1, 2, 3, 4, 5, 1, 2, 3, 4, 5]"
      ]
     },
     "execution_count": 66,
     "metadata": {},
     "output_type": "execute_result"
    }
   ],
   "source": [
    "py_list*2 #like adding the list together twice, causes list to grow"
   ]
  },
  {
   "cell_type": "markdown",
   "id": "588a8d60-bf3c-45e6-be40-09649212de16",
   "metadata": {},
   "source": [
    "**Arrays**"
   ]
  },
  {
   "cell_type": "code",
   "execution_count": 67,
   "id": "7a398b16-5c84-4ecb-b3b5-3340152f0c39",
   "metadata": {},
   "outputs": [
    {
     "data": {
      "text/plain": [
       "array([ 2,  4,  6,  8, 10])"
      ]
     },
     "execution_count": 67,
     "metadata": {},
     "output_type": "execute_result"
    }
   ],
   "source": [
    "np_array*2 #multiplies the elements by the number"
   ]
  },
  {
   "attachments": {},
   "cell_type": "markdown",
   "id": "f1314df9",
   "metadata": {},
   "source": [
    "## 2.6 Squaring"
   ]
  },
  {
   "cell_type": "markdown",
   "id": "d90eb89f-ca1a-45c7-9d5a-4dd9135fc44f",
   "metadata": {},
   "source": [
    "**Array**"
   ]
  },
  {
   "cell_type": "code",
   "execution_count": 70,
   "id": "1a218c0e-56c3-4eba-a782-c4850dd47b56",
   "metadata": {},
   "outputs": [
    {
     "data": {
      "text/plain": [
       "array([ 1,  4,  9, 16, 25])"
      ]
     },
     "execution_count": 70,
     "metadata": {},
     "output_type": "execute_result"
    }
   ],
   "source": [
    "np_array**2"
   ]
  },
  {
   "cell_type": "markdown",
   "id": "a2550d28-bcef-42fe-860a-68afa245edc1",
   "metadata": {},
   "source": [
    "**List**"
   ]
  },
  {
   "cell_type": "code",
   "execution_count": 74,
   "id": "30b8efab-e92e-4182-b45a-294a35b1f693",
   "metadata": {},
   "outputs": [
    {
     "ename": "TypeError",
     "evalue": "unsupported operand type(s) for ** or pow(): 'list' and 'int'",
     "output_type": "error",
     "traceback": [
      "\u001b[0;31m---------------------------------------------------------------------------\u001b[0m",
      "\u001b[0;31mTypeError\u001b[0m                                 Traceback (most recent call last)",
      "Cell \u001b[0;32mIn[74], line 1\u001b[0m\n\u001b[0;32m----> 1\u001b[0m py_list\u001b[38;5;241m*\u001b[39m\u001b[38;5;241m*\u001b[39m\u001b[38;5;241m2\u001b[39m\n",
      "\u001b[0;31mTypeError\u001b[0m: unsupported operand type(s) for ** or pow(): 'list' and 'int'"
     ]
    }
   ],
   "source": [
    "py_list**2                      # doesn't work!  "
   ]
  },
  {
   "attachments": {},
   "cell_type": "markdown",
   "id": "cf7e95a8",
   "metadata": {},
   "source": [
    "## 2.7 Asking questions"
   ]
  },
  {
   "cell_type": "code",
   "execution_count": 75,
   "id": "82bcf77f-3cfb-4d91-8a64-c41a98f3e141",
   "metadata": {},
   "outputs": [],
   "source": [
    "py_list = [1, 2, 3, 4, 5]\n",
    "np_array = np.array(py_list)         "
   ]
  },
  {
   "cell_type": "code",
   "execution_count": 80,
   "id": "efc82599-80b6-473d-8aca-85585ce43d58",
   "metadata": {},
   "outputs": [
    {
     "data": {
      "text/plain": [
       "False"
      ]
     },
     "execution_count": 80,
     "metadata": {},
     "output_type": "execute_result"
    }
   ],
   "source": [
    "py_list == 3     # Works, but what IS the question? not what you are asking"
   ]
  },
  {
   "cell_type": "markdown",
   "id": "a70148f9-a070-438e-af25-386188fa144d",
   "metadata": {},
   "source": [
    "- never ask questions like this off a list - use arrays instead"
   ]
  },
  {
   "cell_type": "code",
   "execution_count": 78,
   "id": "ecdb9c6d-74d3-4884-8c12-9c17144911c1",
   "metadata": {},
   "outputs": [
    {
     "data": {
      "text/plain": [
       "array([False, False,  True, False, False])"
      ]
     },
     "execution_count": 78,
     "metadata": {},
     "output_type": "execute_result"
    }
   ],
   "source": [
    "np_array == 3 "
   ]
  },
  {
   "cell_type": "code",
   "execution_count": 82,
   "id": "b66dbb4b-3c75-475a-b633-79eb2c9c7a14",
   "metadata": {},
   "outputs": [
    {
     "data": {
      "text/plain": [
       "array([False, False, False,  True,  True])"
      ]
     },
     "execution_count": 82,
     "metadata": {},
     "output_type": "execute_result"
    }
   ],
   "source": [
    "np_array > 3  "
   ]
  },
  {
   "cell_type": "code",
   "execution_count": 96,
   "id": "86aff1e1-88ec-45df-af2f-08fa65341631",
   "metadata": {},
   "outputs": [
    {
     "data": {
      "text/plain": [
       "2"
      ]
     },
     "execution_count": 96,
     "metadata": {},
     "output_type": "execute_result"
    }
   ],
   "source": [
    "sum(np_array > 3) #powerful way to gifure out how many numbers greater than 3 eg if list was longer"
   ]
  },
  {
   "attachments": {},
   "cell_type": "markdown",
   "id": "9e95852b",
   "metadata": {},
   "source": [
    "## 2.8 Mathematics"
   ]
  },
  {
   "cell_type": "code",
   "execution_count": 98,
   "id": "23008822-0940-4e4d-9c86-aa7c6d4c8fed",
   "metadata": {},
   "outputs": [],
   "source": [
    "py_list = [1, 2, 3, 4, 5]\n",
    "np_array = np.array(py_list)         "
   ]
  },
  {
   "cell_type": "markdown",
   "id": "a8653b75-f3c9-48e3-b536-7adb877254fe",
   "metadata": {},
   "source": [
    "**Lists**"
   ]
  },
  {
   "cell_type": "code",
   "execution_count": 86,
   "id": "f749a4bc-f0b0-4678-a187-9441ce1cbbdc",
   "metadata": {},
   "outputs": [
    {
     "data": {
      "text/plain": [
       "15"
      ]
     },
     "execution_count": 86,
     "metadata": {},
     "output_type": "execute_result"
    }
   ],
   "source": [
    "sum(py_list)     # sum() is a base Python function"
   ]
  },
  {
   "cell_type": "code",
   "execution_count": 106,
   "id": "0f14b3f8-736f-4ab0-a0de-f9efafe64aa2",
   "metadata": {},
   "outputs": [
    {
     "ename": "AttributeError",
     "evalue": "'list' object has no attribute 'sum'",
     "output_type": "error",
     "traceback": [
      "\u001b[0;31m---------------------------------------------------------------------------\u001b[0m",
      "\u001b[0;31mAttributeError\u001b[0m                            Traceback (most recent call last)",
      "Cell \u001b[0;32mIn[106], line 1\u001b[0m\n\u001b[0;32m----> 1\u001b[0m py_list\u001b[38;5;241m.\u001b[39msum()\n",
      "\u001b[0;31mAttributeError\u001b[0m: 'list' object has no attribute 'sum'"
     ]
    }
   ],
   "source": [
    "py_list.sum() #won't work, not defined for lists"
   ]
  },
  {
   "cell_type": "code",
   "execution_count": 87,
   "id": "cceeae9f-3dd5-459a-bbba-a754f38b44f7",
   "metadata": {},
   "outputs": [
    {
     "data": {
      "text/plain": [
       "5"
      ]
     },
     "execution_count": 87,
     "metadata": {},
     "output_type": "execute_result"
    }
   ],
   "source": [
    "max(py_list)     # max() is a base Python function"
   ]
  },
  {
   "cell_type": "code",
   "execution_count": 88,
   "id": "e6d8d700-260d-437a-a760-be66f0de60a9",
   "metadata": {},
   "outputs": [
    {
     "data": {
      "text/plain": [
       "1"
      ]
     },
     "execution_count": 88,
     "metadata": {},
     "output_type": "execute_result"
    }
   ],
   "source": [
    "min(py_list)     # min() is a base Python function"
   ]
  },
  {
   "cell_type": "markdown",
   "id": "339c37c2-eaff-41a6-a813-a993ca25549d",
   "metadata": {},
   "source": [
    "**Arrays**"
   ]
  },
  {
   "cell_type": "code",
   "execution_count": 104,
   "id": "85674acb-e326-4710-ade2-0c680abe7968",
   "metadata": {},
   "outputs": [
    {
     "data": {
      "text/plain": [
       "15"
      ]
     },
     "execution_count": 104,
     "metadata": {},
     "output_type": "execute_result"
    }
   ],
   "source": [
    "sum(np_array) #general python sum function, using this is slower than the other one using NumPy "
   ]
  },
  {
   "cell_type": "code",
   "execution_count": 105,
   "id": "b1ce5213-deca-4e38-a158-ff46f18925bc",
   "metadata": {},
   "outputs": [
    {
     "data": {
      "text/plain": [
       "15"
      ]
     },
     "execution_count": 105,
     "metadata": {},
     "output_type": "execute_result"
    }
   ],
   "source": [
    "np_array.sum() #optimised sum function, faster"
   ]
  },
  {
   "cell_type": "code",
   "execution_count": 90,
   "id": "098db5ee-93fd-4630-a7ab-7aaab99b73ae",
   "metadata": {},
   "outputs": [
    {
     "data": {
      "text/plain": [
       "5"
      ]
     },
     "execution_count": 90,
     "metadata": {},
     "output_type": "execute_result"
    }
   ],
   "source": [
    "np_array.max()"
   ]
  },
  {
   "cell_type": "code",
   "execution_count": 91,
   "id": "58f66f62-65ae-4c92-89c3-0c4573512df1",
   "metadata": {},
   "outputs": [
    {
     "data": {
      "text/plain": [
       "1"
      ]
     },
     "execution_count": 91,
     "metadata": {},
     "output_type": "execute_result"
    }
   ],
   "source": [
    "np_array.min()"
   ]
  },
  {
   "cell_type": "code",
   "execution_count": 93,
   "id": "83ebe351-a1bd-4bcd-9a6c-f981e34b3cf7",
   "metadata": {},
   "outputs": [
    {
     "data": {
      "text/plain": [
       "3.0"
      ]
     },
     "execution_count": 93,
     "metadata": {},
     "output_type": "execute_result"
    }
   ],
   "source": [
    "np_array.mean()"
   ]
  },
  {
   "cell_type": "code",
   "execution_count": 102,
   "id": "90596d4d-1bb3-46dc-98e4-db80e7cebe0f",
   "metadata": {},
   "outputs": [
    {
     "data": {
      "text/plain": [
       "1.4142135623730951"
      ]
     },
     "execution_count": 102,
     "metadata": {},
     "output_type": "execute_result"
    }
   ],
   "source": [
    "np_array.std()"
   ]
  },
  {
   "cell_type": "markdown",
   "id": "7e09484e-ca1a-41aa-ac96-3ccf2295913f",
   "metadata": {},
   "source": [
    "- (roughly speaking) an operation on a list works on the **whole list**.\n",
    "- VS an operation on an array works on the **individual elements of the array**.\n",
    "\n",
    "Lists can be very fast to grow, (VS array not fast to grow but fast to play with)\n",
    "Arrays have the ability to do other math beyond sum, max and min. (since numpy is optimised for math)\n",
    "\n",
    "- creating lists\n",
    "- convert to array, do math\n",
    "- can go back to list because faster to grow\n"
   ]
  },
  {
   "attachments": {},
   "cell_type": "markdown",
   "id": "3d66046b",
   "metadata": {},
   "source": [
    "# Exercises & Self-Assessment"
   ]
  },
  {
   "cell_type": "code",
   "execution_count": null,
   "id": "0dea526e",
   "metadata": {},
   "outputs": [],
   "source": [
    "\n",
    "\n",
    "\n",
    "# Your solution here\n",
    "\n",
    "\n"
   ]
  },
  {
   "attachments": {},
   "cell_type": "markdown",
   "id": "5e07232e",
   "metadata": {},
   "source": [
    "## Footnotes"
   ]
  }
 ],
 "metadata": {
  "kernelspec": {
   "display_name": "Python 3 (ipykernel)",
   "language": "python",
   "name": "python3"
  },
  "language_info": {
   "codemirror_mode": {
    "name": "ipython",
    "version": 3
   },
   "file_extension": ".py",
   "mimetype": "text/x-python",
   "name": "python",
   "nbconvert_exporter": "python",
   "pygments_lexer": "ipython3",
   "version": "3.11.5"
  },
  "toc": {
   "base_numbering": 1,
   "nav_menu": {},
   "number_sections": true,
   "sideBar": true,
   "skip_h1_title": false,
   "title_cell": "Table of Contents",
   "title_sidebar": "Contents",
   "toc_cell": false,
   "toc_position": {},
   "toc_section_display": true,
   "toc_window_display": false
  },
  "vscode": {
   "interpreter": {
    "hash": "31f2aee4e71d21fbe5cf8b01ff0e069b9275f58929596ceb00d14d90e3e16cd6"
   }
  }
 },
 "nbformat": 4,
 "nbformat_minor": 5
}
