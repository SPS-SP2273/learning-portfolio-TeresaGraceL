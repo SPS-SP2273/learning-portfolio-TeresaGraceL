{
 "cells": [
  {
   "attachments": {},
   "cell_type": "markdown",
   "id": "123456",
   "metadata": {},
   "source": [
    "<div style=\"text-align:left;font-size:2em\"><span style=\"font-weight:bolder;font-size:1.25em\">SP2273 | Learning Portfolio</span><br><br><span style=\"font-weight:bold;color:darkred\">Functions (Good)</span></div>"
   ]
  },
  {
   "cell_type": "markdown",
   "id": "acc60051-7c3a-4527-8df1-4c72f447e090",
   "metadata": {},
   "source": [
    "# Comments"
   ]
  },
  {
   "cell_type": "markdown",
   "id": "b118acb0-fa32-4f34-82a8-c9d4f686fa52",
   "metadata": {},
   "source": [
    "**What's good:** No problems with the code in these exercises, well done! Do fix the typos here and there when you've the time though.\n",
    "\n",
    "What's not good: NIL\n",
    "\n",
    "Actionable: NIL\n",
    "\n",
    "**Good-to-know (Optional):** A quick bonus exercise:\n",
    "\n",
    "Write a function that checks if a sentence, integer or float is a palindrome. Use your function to check if the following are palindromes:\n",
    "\n",
    "- Level\n",
    "- 123.21\n",
    "- Did Hannah see bees? Hannah did.\n",
    "\n",
    "You can ignore decimal points and punctuation (commas, question marks, exclamation marks etc.) by removing them in the function.  \n",
    "(the stuff above shouldn't be changed when being used as arguments)"
   ]
  },
  {
   "cell_type": "markdown",
   "id": "0728d7f8-4529-47fe-b9d5-2e87d7dc6c73",
   "metadata": {},
   "source": [
    "## **palindrome exercise**"
   ]
  },
  {
   "cell_type": "markdown",
   "id": "897a422b-382f-4a1a-94ff-27882cea4f48",
   "metadata": {},
   "source": [
    "**Comment about removing punctuation** It's good enough to try to think through the problem and devise a solution.   \n",
    "To remove punctuation you can use .replace() as a simple solution that's sufficient for this (and remember convert the argument into a string first)."
   ]
  },
  {
   "cell_type": "code",
   "execution_count": 24,
   "id": "3966e6dc-b254-42fe-a93b-d77da2e079a9",
   "metadata": {},
   "outputs": [
    {
     "name": "stdout",
     "output_type": "stream",
     "text": [
      "did hannah see bees  hannah did \n"
     ]
    }
   ],
   "source": [
    "#combining the functions to remove punctuation\n",
    "def punctuationremoval(input_wpunctuation):\n",
    "    cleanedupstring = str(input_wpunctuation).lower().replace(\",\",\" \").replace(\"?\",\" \").replace(\"?\",\" \").replace(\".\",\" \")\n",
    "    print(cleanedupstring)\n",
    "\n",
    "punctuationremoval('Did Hannah see bees? Hannah did.')"
   ]
  },
  {
   "cell_type": "code",
   "execution_count": 30,
   "id": "fc8e7bd3-c773-4846-b757-37bfcb187492",
   "metadata": {
    "scrolled": true
   },
   "outputs": [
    {
     "name": "stdout",
     "output_type": "stream",
     "text": [
      "The input Level is a palindrome!\n",
      "The input Did Hannah see bees? Hannah did. is a palindrome!\n",
      "The input 123.21 is a palindrome!\n",
      "The input 1.2321 is a palindrome!\n",
      "The input 45654 is a palindrome!\n",
      "This 1234321 test is not a palindrome.\n"
     ]
    }
   ],
   "source": [
    "#FINAL VERSION OF PALINDROME CHECKER\n",
    "def palindromewreplace(exampleinput):\n",
    "\n",
    "    '''\n",
    "    A function that checks if a sentence, integer or float is a palindrome (final version using replace to remove punctuation)\n",
    "    '''\n",
    "    \n",
    "    cleanedup = str(exampleinput).lower().replace(\",\",\"\").replace(\"?\",\"\").replace(\"?\",\"\").replace(\".\",\"\").replace(\" \",\"\") \n",
    "    #replace punctuation w empty string, need to remove the spaces to ensure the palindrome check works for sentences\n",
    "    yesorno = (cleanedup==cleanedup[::-1])      #check if it is the same as its reverse, print statements\n",
    "    if yesorno == True:\n",
    "        print(f'The input {exampleinput} is a palindrome!')\n",
    "    if yesorno == False:\n",
    "        print(f'This {exampleinput} is not a palindrome.')\n",
    "\n",
    "palindromewreplace('Level') #works for words/ strings\n",
    "palindromewreplace('Did Hannah see bees? Hannah did.') #finally working for this\n",
    "palindromewreplace(123.21)\n",
    "palindromewreplace(1.2321) #works for floats\n",
    "palindromewreplace(45654)  #works for integers\n",
    "palindromewreplace('1234321 test') #to check"
   ]
  },
  {
   "cell_type": "markdown",
   "id": "12b89f58-16f4-4830-9304-e3f2413c5369",
   "metadata": {},
   "source": [
    "**improvements:** use list comprehension to make application of the function more elegant"
   ]
  },
  {
   "cell_type": "code",
   "execution_count": 35,
   "id": "6ffbcaff-91d6-4f78-9b3a-c712bd37f10d",
   "metadata": {},
   "outputs": [
    {
     "name": "stdout",
     "output_type": "stream",
     "text": [
      "The input Level is a palindrome!\n",
      "The input Did Hannah see bees? Hannah did. is a palindrome!\n",
      "The input 1.2321 is a palindrome!\n",
      "The input 45654 is a palindrome!\n",
      "This 1234321 test is not a palindrome.\n",
      "The input 1.0101 is a palindrome!\n",
      "The input Was it a car or a cat I saw? is a palindrome!\n"
     ]
    }
   ],
   "source": [
    "#palindrome checker applied using list comprehension\n",
    "list_ofexamples = ['Level', 'Did Hannah see bees? Hannah did.', 1.2321, 45654, '1234321 test', 1.0101, 'Was it a car or a cat I saw?']\n",
    "\n",
    "checked_examples = [palindromewreplace(eachexample) for eachexample in list_ofexamples ]  #final palindrome checker"
   ]
  },
  {
   "cell_type": "markdown",
   "id": "f491a097-c310-402f-9cbe-189b7d4be429",
   "metadata": {},
   "source": [
    "**steps to write the function to check whether something is a palindrome:**\n",
    "\n",
    "- Define the function\n",
    "- prepare the examples by removing things that should be ignored\n",
    "- check if it is a palindrome\n",
    "- print whether the example is a palindrome or not\n",
    "\n",
    "considerations:\n",
    "- need to remove decimal points and punctuation within the function\n",
    "- another thing to note - case sensitivity for example with the 'd' in the sentence\n",
    "   - can use the lowercase function?\n",
    "- are there considerations about data type - lowercase needs string to work\n",
    "    - what about the data type that the example is?\n",
    "- what order should the lowercase and removal be in?\n",
    "\n",
    "checking if it is a palindrome -- need to compare it to its reversed self\n",
    "- possibly using the reverse of itself in a list?\n",
    "\n",
    "improvements: for loop so the function can loop through the examples (put the examples in a list?) "
   ]
  },
  {
   "cell_type": "code",
   "execution_count": 20,
   "id": "d8791baf-3fe3-4c98-8c26-8609a3d637d3",
   "metadata": {},
   "outputs": [
    {
     "name": "stdout",
     "output_type": "stream",
     "text": [
      "The input Level is a palindrome!\n",
      "This Did Hannah see bees? Hannah did. is not a palindrome.\n",
      "The input 123.21 is a palindrome!\n",
      "The input 1.2321 is a palindrome!\n",
      "The input 45654 is a palindrome!\n",
      "This 1234321 test is not a palindrome.\n"
     ]
    }
   ],
   "source": [
    "#draft 5 function can now accept floats as arguments, but the removal of punctuation is not working within the function\n",
    "def palindrome5(examples):\n",
    "\n",
    "    '''\n",
    "    A function that checks if a sentence, integer or float is a palindrome (but it does not yet work if the sentence contains punctuation)\n",
    "    '''\n",
    "    input = str(examples).lower()\n",
    "    cleaned = [s for s in input if s.isalnum() or s.isspace()] #list comprehension to remove punctuation\n",
    "    cleaned = \"\".join(cleaned)\n",
    "    \n",
    "    yesorno = (cleaned==cleaned[::-1])      #check if it is the same as its reverse, print statements\n",
    "    if yesorno == True:\n",
    "        print(f'The input {examples} is a palindrome!')\n",
    "    if yesorno == False:\n",
    "        print(f'This {examples} is not a palindrome.')\n",
    "\n",
    "palindrome5('Level') #works for words/ strings\n",
    "palindrome5('Did Hannah see bees? Hannah did.') #not working for this\n",
    "palindrome5(123.21)\n",
    "palindrome5(1.2321) #works for floats\n",
    "palindrome5(45654)  #works for integers\n",
    "palindrome5('1234321 test') #to check"
   ]
  },
  {
   "cell_type": "markdown",
   "id": "45995500-2b13-498d-be52-31514666fdd3",
   "metadata": {},
   "source": [
    "**draft notes:**\n",
    "1. lowercase and flipped\n",
    "1. check if palindrome\n",
    "1. function that checks for palindromes, tries to clean using list comprehension\n",
    "1. function that checks for palindromes, tries to clean using filter\n",
    "1. function that can accept floats, integers as well as punctuationless strings and checks for palindromes\n",
    "1. function that tries to check for palindromes that tries to clean using regex (Regular Expressions)\n",
    "\n",
    "   \n",
    "- the basic function to check if a lowercase string is a palindrome works\n",
    "- function in draft 5 can handle floats\n",
    "- cleaning out puncutation still not working\n",
    "- tried alternative in draft 6 to clean out punctuation but not fully understanding regex"
   ]
  },
  {
   "cell_type": "code",
   "execution_count": 10,
   "id": "72e799f4-7d7c-48d3-95d9-90984b58c441",
   "metadata": {},
   "outputs": [
    {
     "name": "stdout",
     "output_type": "stream",
     "text": [
      "Hello World 5678\n"
     ]
    }
   ],
   "source": [
    "# Method 3 from https://nadeauinnovations.com/post/2020/11/python-tricks-replace-all-non-alphanumeric-characters-in-a-string/\n",
    "\n",
    "# import the built-in regex library\n",
    "import re\n",
    "# define our regex expression\n",
    "pattern = \"[^0-9a-zA-Z\\s]+\"\n",
    "\n",
    "ugly_strings = \"Hello, World! 5678\"\n",
    "# perform a regex substitution to clean the string\n",
    "clean_strings = re.sub(pattern, \"\", ugly_strings)\n",
    "\n",
    " \n",
    "print(clean_strings)"
   ]
  },
  {
   "cell_type": "code",
   "execution_count": 25,
   "id": "1ef98ba7-7c63-4469-b0e8-229fd87dac44",
   "metadata": {},
   "outputs": [
    {
     "name": "stdout",
     "output_type": "stream",
     "text": [
      "None\n",
      "None\n",
      "None\n",
      "None\n",
      "None\n",
      "None\n"
     ]
    }
   ],
   "source": [
    "#not working\n",
    "def method3clean(things):\n",
    "    input = str(things).lower()\n",
    "    cleaned = re.sub(pattern, \"\", input)\n",
    "\n",
    "new = method3clean('Level')\n",
    "print(new)\n",
    "\n",
    "print(method3clean('Did Hannah see bees? Hannah did.'))\n",
    "print(method3clean(123.21))\n",
    "print(method3clean(1.2321)) \n",
    "print(method3clean(45654)) \n",
    "print(method3clean('hello! 1234321 test'))"
   ]
  },
  {
   "cell_type": "code",
   "execution_count": 19,
   "id": "f6c0f68d-c837-4942-a7b2-438b47db1b70",
   "metadata": {},
   "outputs": [
    {
     "name": "stdout",
     "output_type": "stream",
     "text": [
      "The input Level is a palindrome!\n",
      "This Did Hannah see bees? Hannah did. is not a palindrome.\n",
      "The input 123.21 is a palindrome!\n",
      "The input 1.2321 is a palindrome!\n",
      "The input 45654 is a palindrome!\n",
      "This hello! 1234321 test is not a palindrome.\n",
      "-------------------------------\n",
      "The input Level is a palindrome!\n",
      "This Did Hannah see bees? Hannah did. is not a palindrome.\n",
      "The input 1.2321 is a palindrome!\n",
      "The input 45654 is a palindrome!\n",
      "This 1234321 test is not a palindrome.\n",
      "[None, None, None, None, None, None, None, None, None, None, None, None, None, None, None, None, None, None, None, None, None, None, None, None, None]\n"
     ]
    }
   ],
   "source": [
    "#draft 6\n",
    "\n",
    "import re\n",
    "pattern = \"[^0-9a-zA-Z\\s]+\"\n",
    "\n",
    "def palindrome6(examples):\n",
    "\n",
    "    '''\n",
    "    An alternative function that checks if a sentence, integer or float is a palindrome (does not works if the sentence contains punctuation)\n",
    "    cleans strings using re package\n",
    "    '''\n",
    "    input = str(examples).lower()\n",
    "    #clean out punctuation\n",
    "    cleaned = re.sub(pattern, \"\", input)\n",
    "\n",
    "    #check if cleaned string is a palindrome and print\n",
    "    yesorno = (cleaned==cleaned[::-1])      \n",
    "    if yesorno == True:\n",
    "        print(f'The input {examples} is a palindrome!')\n",
    "    if yesorno == False:\n",
    "        print(f'This {examples} is not a palindrome.')\n",
    "\n",
    "palindrome6('Level') #works for words/ strings\n",
    "palindrome6('Did Hannah see bees? Hannah did.') #not working for this\n",
    "palindrome6(123.21)\n",
    "palindrome6(1.2321) #works for floats\n",
    "palindrome6(45654)  #works for integers\n",
    "palindrome6('hello! 1234321 test') #to check\n",
    "print('-------------------------------')\n",
    "\n",
    "# loop does not yet work, indended to make it so that do not need to type out palindrome6 so many times\n",
    "list_examples = ['Level', 'Did Hannah see bees? Hannah did.',  1.2321, 45654, '1234321 test']\n",
    "\n",
    "result1_palindrome = []\n",
    "\n",
    "for element in list_examples:\n",
    "    result_palindrome.append(palindrome6(element))\n",
    "\n",
    "print(result_palindrome)"
   ]
  },
  {
   "cell_type": "code",
   "execution_count": 80,
   "id": "5d6aa954-535d-4cd9-a2e8-95f688408bf1",
   "metadata": {},
   "outputs": [
    {
     "name": "stdout",
     "output_type": "stream",
     "text": [
      "Help on function palindrome5 in module __main__:\n",
      "\n",
      "palindrome5(examples)\n",
      "    A function that checks if a sentence, integer or float is a palindrome (but it does not yet work if the sentence contains punctuation)\n",
      "\n"
     ]
    }
   ],
   "source": [
    "help(palindrome5)"
   ]
  },
  {
   "cell_type": "markdown",
   "id": "84a08625-52d2-4e21-b1dd-5eea657ba3d5",
   "metadata": {},
   "source": [
    "- **ways to remove non alphanumeric characters**: https://nadeauinnovations.com/post/2020/11/python-tricks-replace-all-non-alphanumeric-characters-in-a-string/"
   ]
  },
  {
   "cell_type": "code",
   "execution_count": 28,
   "id": "2382747d-cb8d-43df-8740-8076b2587f12",
   "metadata": {},
   "outputs": [
    {
     "name": "stdout",
     "output_type": "stream",
     "text": [
      "The input Level is a palindrome!\n",
      "This Did Hannah see bees? Hannah did. is not a palindrome.\n",
      "The input 1234321 is a palindrome!\n"
     ]
    },
    {
     "ename": "TypeError",
     "evalue": "'float' object is not iterable",
     "output_type": "error",
     "traceback": [
      "\u001b[0;31m---------------------------------------------------------------------------\u001b[0m",
      "\u001b[0;31mTypeError\u001b[0m                                 Traceback (most recent call last)",
      "Cell \u001b[0;32mIn[28], line 19\u001b[0m\n\u001b[1;32m     16\u001b[0m palindrome4(\u001b[38;5;124m'\u001b[39m\u001b[38;5;124mDid Hannah see bees? Hannah did.\u001b[39m\u001b[38;5;124m'\u001b[39m)\n\u001b[1;32m     17\u001b[0m palindrome4(\u001b[38;5;124m'\u001b[39m\u001b[38;5;124m1234321\u001b[39m\u001b[38;5;124m'\u001b[39m)\n\u001b[0;32m---> 19\u001b[0m palindrome4(\u001b[38;5;241m123.21\u001b[39m)\n",
      "Cell \u001b[0;32mIn[28], line 5\u001b[0m, in \u001b[0;36mpalindrome4\u001b[0;34m(input)\u001b[0m\n\u001b[1;32m      3\u001b[0m \u001b[38;5;28;01mdef\u001b[39;00m \u001b[38;5;21mpalindrome4\u001b[39m(\u001b[38;5;28minput\u001b[39m):\n\u001b[0;32m----> 5\u001b[0m     cleaned \u001b[38;5;241m=\u001b[39m [s \u001b[38;5;28;01mfor\u001b[39;00m s \u001b[38;5;129;01min\u001b[39;00m \u001b[38;5;28minput\u001b[39m \u001b[38;5;28;01mif\u001b[39;00m s\u001b[38;5;241m.\u001b[39misalnum() \u001b[38;5;129;01mor\u001b[39;00m s\u001b[38;5;241m.\u001b[39misspace()] \u001b[38;5;66;03m#list comprehension to remove punctuation\u001b[39;00m\n\u001b[1;32m      6\u001b[0m     cleaned \u001b[38;5;241m=\u001b[39m \u001b[38;5;124m\"\u001b[39m\u001b[38;5;124m\"\u001b[39m\u001b[38;5;241m.\u001b[39mjoin(cleaned)\n\u001b[1;32m      8\u001b[0m     lowercase \u001b[38;5;241m=\u001b[39m \u001b[38;5;28mstr\u001b[39m(cleaned)\u001b[38;5;241m.\u001b[39mlower()\n",
      "\u001b[0;31mTypeError\u001b[0m: 'float' object is not iterable"
     ]
    }
   ],
   "source": [
    "#draft 4 the function needs to be able to accept floats\n",
    "# need to figure out how to combine draft 3 with method 1?\n",
    "def palindrome4(input):\n",
    "    \n",
    "    cleaned = [s for s in input if s.isalnum() or s.isspace()] #list comprehension to remove punctuation\n",
    "    cleaned = \"\".join(cleaned)\n",
    "    \n",
    "    lowercase = str(cleaned).lower()\n",
    "    yesorno = (lowercase==lowercase[::-1])      #check if it is the same as its reverse\n",
    "    if yesorno == True:\n",
    "        print(f'The input {input} is a palindrome!')\n",
    "    if yesorno == False:\n",
    "        print(f'This {input} is not a palindrome.')\n",
    "\n",
    "palindrome4('Level')\n",
    "palindrome4('Did Hannah see bees? Hannah did.')\n",
    "palindrome4('1234321')\n",
    "\n",
    "palindrome4(123.21) #the function is not working for floats"
   ]
  },
  {
   "cell_type": "markdown",
   "id": "c84c476a-6e4f-4c7e-85cc-6ed329f0b18c",
   "metadata": {},
   "source": [
    "**more notes** on how to remove the punctuation"
   ]
  },
  {
   "cell_type": "markdown",
   "id": "c743105e-b6f9-4380-b471-48db0b5a3d9f",
   "metadata": {},
   "source": [
    "- trying to integrate either one of the methods from the website into the palindrome function to allow it to ignore the punctuation and decimal\n",
    "- (float may need to be dealt with in another way)"
   ]
  },
  {
   "cell_type": "code",
   "execution_count": 38,
   "id": "c637d417-4687-4a0f-9fff-c2c533d8575e",
   "metadata": {},
   "outputs": [
    {
     "data": {
      "text/plain": [
       "'Did Hannah see bees Hannah did'"
      ]
     },
     "execution_count": 38,
     "metadata": {},
     "output_type": "execute_result"
    }
   ],
   "source": [
    "#Method 1 list comprehension\n",
    "\n",
    "# list comprehension to remove punctuation marks/ things that are not numbers or letters\n",
    "ugly_string = 'Did Hannah see bees? Hannah did.'\n",
    "clean_string = [s for s in ugly_string if s.isalnum() or s.isspace()]\n",
    "\n",
    "# rejoin intermediate list into a string\n",
    "clean_strings = \"\".join(clean_string)\n",
    "\n",
    "clean_strings"
   ]
  },
  {
   "cell_type": "code",
   "execution_count": 57,
   "id": "7342d48a-2952-4554-8f99-45948b19bfa8",
   "metadata": {},
   "outputs": [
    {
     "data": {
      "text/plain": [
       "'Did Hannah see bees Hannah did'"
      ]
     },
     "execution_count": 57,
     "metadata": {},
     "output_type": "execute_result"
    }
   ],
   "source": [
    "# Method 2 filter\n",
    "\n",
    "#use filter to keep just alphanumeric characters\n",
    "\n",
    "filter(str.isalnum, ugly_string)\n",
    "\n",
    "# or use filter to return alphanumeric and whitespace\n",
    "clean_string2 = filter(lambda x: x.isalnum() or x.isspace(), ugly_string)\n",
    "\n",
    "# filter returns a generator, so we need to re-join the string\n",
    "clean_string2 = \"\".join(clean_string2)\n",
    "\n",
    "clean_string2\n"
   ]
  },
  {
   "cell_type": "markdown",
   "id": "d01353ad-bf6f-4691-9920-9499bafb49c4",
   "metadata": {},
   "source": [
    "**old drafts**"
   ]
  },
  {
   "cell_type": "code",
   "execution_count": 48,
   "id": "2c734e32-7d2b-40ee-ae62-5c0ddbe6fa00",
   "metadata": {},
   "outputs": [
    {
     "name": "stdout",
     "output_type": "stream",
     "text": [
      "The input Level is a palindrome!\n",
      "This test is not a palindrome.\n"
     ]
    }
   ],
   "source": [
    "#draft 3, need to remove the things to ignore\n",
    "def palindrome3(input):\n",
    "    lowercase = str(input).lower() #make the input a lowercase string\n",
    "    yesorno = (lowercase ==lowercase[::-1])      #check if it is the same as its reverse\n",
    "    if yesorno == True:\n",
    "        print(f'The input {input} is a palindrome!')\n",
    "    if yesorno == False:\n",
    "        print(f'This {input} is not a palindrome.')\n",
    "\n",
    "palindrome3('Level')\n",
    "\n",
    "palindrome3('test')\n",
    "\n",
    "#palindrome3(123.21)\n",
    "#palindrome3('Did Hannah see bees? Hannah did.')"
   ]
  },
  {
   "cell_type": "code",
   "execution_count": 42,
   "id": "cc1015b6-e41b-4fc1-b533-31bf3440ac0c",
   "metadata": {},
   "outputs": [
    {
     "name": "stdout",
     "output_type": "stream",
     "text": [
      "True\n",
      "False\n"
     ]
    }
   ],
   "source": [
    "#draft 2 check if palindrome\n",
    "def palindrome2(input):\n",
    "    lowercase = str(input).lower() #make the input a lowercase string\n",
    "    yesorno = (lowercase ==lowercase[::-1])      #check if it is the same as its reverse\n",
    "    print(yesorno)\n",
    "    \n",
    "palindrome2('level')\n",
    "palindrome2('llevel')"
   ]
  },
  {
   "cell_type": "code",
   "execution_count": 18,
   "id": "d5b22822-33fd-454f-a477-139fd959f68d",
   "metadata": {},
   "outputs": [
    {
     "name": "stdout",
     "output_type": "stream",
     "text": [
      "ti esrever ot krow siht seod\n"
     ]
    }
   ],
   "source": [
    "#draft function to make lowercase and flipped\n",
    "def palindrome1(input):\n",
    "    lowercase = str(input).lower()\n",
    "    flipped = lowercase[::-1] \n",
    "    print(flipped)\n",
    "\n",
    "palindrome1('Does this work to reverse it')"
   ]
  },
  {
   "attachments": {},
   "cell_type": "markdown",
   "id": "73d91463",
   "metadata": {},
   "source": [
    "# What to expect in this chapter"
   ]
  },
  {
   "cell_type": "markdown",
   "id": "cd4ff584-67b7-40ae-af3d-9b9bd9dcca20",
   "metadata": {},
   "source": [
    "- when you are seeing yourself reusing code again and again, packaging it into a function makes it easy to reuse but ideally functions should not have thousands of arguments, dunctions should noemally do one logical piece of a logical action\n",
    "\n",
    "types of arguments, docstrings, exception handling + how to deal with errors\n",
    "- difference between positional, keyword and default arguments of functions\n",
    "- code to check and handle potential problems"
   ]
  },
  {
   "attachments": {},
   "cell_type": "markdown",
   "id": "7c59d38d",
   "metadata": {},
   "source": [
    "# 1 Checks, balances, and contingencies"
   ]
  },
  {
   "cell_type": "markdown",
   "id": "62ce4f27-fbde-4a63-8d09-8d9ed00a33b5",
   "metadata": {},
   "source": [
    "pre-empting problems using 2 standard ways in Python: assert and try-except  \n",
    "good to have checks and balances to make sure things are making sense"
   ]
  },
  {
   "attachments": {},
   "cell_type": "markdown",
   "id": "c571a907",
   "metadata": {},
   "source": [
    "## 1.1 assert"
   ]
  },
  {
   "cell_type": "markdown",
   "id": "2b99d5bb-7821-4917-81ea-abf1a9be258d",
   "metadata": {},
   "source": [
    "- assert can check a condition and halt execution if necessary.\n",
    "- gives the option of printing a message."
   ]
  },
  {
   "cell_type": "markdown",
   "id": "cccd9ff5-ae32-493d-9693-bc2abe10da09",
   "metadata": {},
   "source": [
    "**basic syntax** assert condition-to-check, message\n",
    "\n",
    "assert stops the flow if the condition fails. The program will run for as long as the condition is True; if it fails, an AssertationError is raised, and the program will stop running.\n"
   ]
  },
  {
   "cell_type": "code",
   "execution_count": 3,
   "id": "08bdb3c8-8b88-44cd-b3a1-e34634f8d842",
   "metadata": {},
   "outputs": [],
   "source": [
    "x = 10\n",
    "assert x >= 0, \"x is becoming negative!\""
   ]
  },
  {
   "cell_type": "code",
   "execution_count": 4,
   "id": "10d823ae-c70f-4228-b49f-1a2152eba8f7",
   "metadata": {},
   "outputs": [
    {
     "ename": "AssertionError",
     "evalue": "x is becoming negative!",
     "output_type": "error",
     "traceback": [
      "\u001b[0;31m---------------------------------------------------------------------------\u001b[0m",
      "\u001b[0;31mAssertionError\u001b[0m                            Traceback (most recent call last)",
      "Cell \u001b[0;32mIn[4], line 2\u001b[0m\n\u001b[1;32m      1\u001b[0m x \u001b[38;5;241m=\u001b[39m \u001b[38;5;241m-\u001b[39m\u001b[38;5;241m1\u001b[39m\n\u001b[0;32m----> 2\u001b[0m \u001b[38;5;28;01massert\u001b[39;00m x \u001b[38;5;241m>\u001b[39m\u001b[38;5;241m=\u001b[39m \u001b[38;5;241m0\u001b[39m, \u001b[38;5;124m\"\u001b[39m\u001b[38;5;124mx is becoming negative!\u001b[39m\u001b[38;5;124m\"\u001b[39m\n",
      "\u001b[0;31mAssertionError\u001b[0m: x is becoming negative!"
     ]
    }
   ],
   "source": [
    "x = -1\n",
    "assert x >= 0, \"x is becoming negative!\""
   ]
  },
  {
   "attachments": {},
   "cell_type": "markdown",
   "id": "b6f92cc8",
   "metadata": {},
   "source": [
    "## 1.2 try-except"
   ]
  },
  {
   "cell_type": "code",
   "execution_count": 5,
   "id": "55a70e8e-ff91-404f-bea4-a8f6680e2e7f",
   "metadata": {},
   "outputs": [
    {
     "name": "stdin",
     "output_type": "stream",
     "text": [
      "Give me a number and I will calculate its square. 4\n"
     ]
    },
    {
     "name": "stdout",
     "output_type": "stream",
     "text": [
      "The square of 4 is 16!\n"
     ]
    }
   ],
   "source": [
    "number=input(\"Give me a number and I will calculate its square.\")\n",
    "square=int(number)**2              # Convert English to number\n",
    "print(f'The square of {number} is {square}!')"
   ]
  },
  {
   "cell_type": "markdown",
   "id": "c935fbc2-f227-4b6d-ae72-f3c3a02bca5c",
   "metadata": {},
   "source": [
    "**example of something that can go wrong**"
   ]
  },
  {
   "cell_type": "code",
   "execution_count": 7,
   "id": "5bab8a3f-8061-42ca-9669-da24267d5257",
   "metadata": {},
   "outputs": [
    {
     "name": "stdin",
     "output_type": "stream",
     "text": [
      "Give me a number and I will calculate its square. four\n"
     ]
    },
    {
     "ename": "ValueError",
     "evalue": "invalid literal for int() with base 10: 'four'",
     "output_type": "error",
     "traceback": [
      "\u001b[0;31m---------------------------------------------------------------------------\u001b[0m",
      "\u001b[0;31mValueError\u001b[0m                                Traceback (most recent call last)",
      "Cell \u001b[0;32mIn[7], line 2\u001b[0m\n\u001b[1;32m      1\u001b[0m number\u001b[38;5;241m=\u001b[39m\u001b[38;5;28minput\u001b[39m(\u001b[38;5;124m\"\u001b[39m\u001b[38;5;124mGive me a number and I will calculate its square.\u001b[39m\u001b[38;5;124m\"\u001b[39m)\n\u001b[0;32m----> 2\u001b[0m square\u001b[38;5;241m=\u001b[39m\u001b[38;5;28mint\u001b[39m(number)\u001b[38;5;241m*\u001b[39m\u001b[38;5;241m*\u001b[39m\u001b[38;5;241m2\u001b[39m              \u001b[38;5;66;03m# Convert English to number\u001b[39;00m\n\u001b[1;32m      3\u001b[0m \u001b[38;5;28mprint\u001b[39m(\u001b[38;5;124mf\u001b[39m\u001b[38;5;124m'\u001b[39m\u001b[38;5;124mThe square of \u001b[39m\u001b[38;5;132;01m{\u001b[39;00mnumber\u001b[38;5;132;01m}\u001b[39;00m\u001b[38;5;124m is \u001b[39m\u001b[38;5;132;01m{\u001b[39;00msquare\u001b[38;5;132;01m}\u001b[39;00m\u001b[38;5;124m!\u001b[39m\u001b[38;5;124m'\u001b[39m)\n",
      "\u001b[0;31mValueError\u001b[0m: invalid literal for int() with base 10: 'four'"
     ]
    }
   ],
   "source": [
    "number=input(\"Give me a number and I will calculate its square.\")\n",
    "square=int(number)**2              # Convert English to number\n",
    "print(f'The square of {number} is {square}!')"
   ]
  },
  {
   "cell_type": "markdown",
   "id": "2813c7ad-19b9-4d5c-a2a3-0986f26890bf",
   "metadata": {},
   "source": [
    "**Protecting with try-except**"
   ]
  },
  {
   "cell_type": "code",
   "execution_count": 8,
   "id": "d1851fa5-9095-46c8-8cb4-5de48d776406",
   "metadata": {},
   "outputs": [
    {
     "name": "stdin",
     "output_type": "stream",
     "text": [
      "Give me a number and I will calculate its square. four\n"
     ]
    },
    {
     "name": "stdout",
     "output_type": "stream",
     "text": [
      "Oh oh! I cannot square four!\n"
     ]
    }
   ],
   "source": [
    "try:\n",
    "    number=input(\"Give me a number and I will calculate its square.\")\n",
    "    square=int(number)**2\n",
    "    print(f'The square of {number} is {square}!')\n",
    "except:\n",
    "    print(f\"Oh oh! I cannot square {number}!\")"
   ]
  },
  {
   "cell_type": "markdown",
   "id": "4434099b-64f5-48bc-bf2f-00b3901e63ca",
   "metadata": {},
   "source": [
    "- you can have more control over how exceptions are handled\n",
    "- eg. a response for each type of error"
   ]
  },
  {
   "attachments": {},
   "cell_type": "markdown",
   "id": "ca05fb24",
   "metadata": {},
   "source": [
    "## 1.3 A simple suggestion"
   ]
  },
  {
   "cell_type": "markdown",
   "id": "036cabde-69a7-44c8-a94b-1ab3e865b9f6",
   "metadata": {},
   "source": [
    "It's always good to know what is happening inside your program. A 'soft' way to do this is to add print statements here and there to let you know what is happening inside the program."
   ]
  },
  {
   "cell_type": "code",
   "execution_count": 34,
   "id": "94bcf906-5295-4191-9441-cee72b137eb2",
   "metadata": {},
   "outputs": [],
   "source": [
    "numbers=[]\n",
    "for i in range(10000):\n",
    "    #if i%10000==0:\n",
    "    #   print(f'I am adding {i} now, to your list.')\n",
    "    numbers.append(i)"
   ]
  },
  {
   "attachments": {},
   "cell_type": "markdown",
   "id": "37f73139",
   "metadata": {},
   "source": [
    "# 2 Some loose ends"
   ]
  },
  {
   "attachments": {},
   "cell_type": "markdown",
   "id": "2776204e",
   "metadata": {},
   "source": [
    "## 2.1 Positional, keyword and default arguments"
   ]
  },
  {
   "cell_type": "code",
   "execution_count": 37,
   "id": "a35924ba-3586-483e-b9ff-e12e1bb3f68c",
   "metadata": {},
   "outputs": [],
   "source": [
    "def side_by_side(a, b, c=42):\n",
    "    return f'{a: 2d}---{b: 2d}---{c: 2d}'"
   ]
  },
  {
   "cell_type": "markdown",
   "id": "ffc91071-b674-48d1-a6de-d69c64182d9a",
   "metadata": {},
   "source": [
    "**positional** how you attatch 1 to a, 2 to b, 3 to c is by position."
   ]
  },
  {
   "cell_type": "code",
   "execution_count": 41,
   "id": "b2a2e89f-1a93-4103-aaac-2bc1fc14ef65",
   "metadata": {},
   "outputs": [
    {
     "data": {
      "text/plain": [
       "' 1--- 2--- 3'"
      ]
     },
     "execution_count": 41,
     "metadata": {},
     "output_type": "execute_result"
    }
   ],
   "source": [
    "side_by_side(1,2,3)"
   ]
  },
  {
   "cell_type": "markdown",
   "id": "c37ed9de-334c-4fc2-97cb-3790078bf5d6",
   "metadata": {},
   "source": [
    "**keyword** explicitly specify keyword to assign values, order does not matter, cleaner"
   ]
  },
  {
   "cell_type": "code",
   "execution_count": 42,
   "id": "f3e01f60-1ab2-4e02-971c-0b02f0840132",
   "metadata": {},
   "outputs": [
    {
     "data": {
      "text/plain": [
       "' 2--- 1--- 3'"
      ]
     },
     "execution_count": 42,
     "metadata": {},
     "output_type": "execute_result"
    }
   ],
   "source": [
    "side_by_side(c=3, b=1, a=2)"
   ]
  },
  {
   "cell_type": "markdown",
   "id": "9c323831-94db-4c6b-b0cb-e3ee7bc10597",
   "metadata": {},
   "source": [
    "**default** can choose not to specify since c is optional."
   ]
  },
  {
   "cell_type": "code",
   "execution_count": 43,
   "id": "b184b6f1-edae-459c-8b0d-c09cafadb6ed",
   "metadata": {},
   "outputs": [
    {
     "data": {
      "text/plain": [
       "' 1--- 2--- 42'"
      ]
     },
     "execution_count": 43,
     "metadata": {},
     "output_type": "execute_result"
    }
   ],
   "source": [
    "side_by_side(1, b=2)"
   ]
  },
  {
   "cell_type": "code",
   "execution_count": 45,
   "id": "b7a7d2fc-98ed-4bf8-9b4f-f0e9a60b4974",
   "metadata": {},
   "outputs": [
    {
     "ename": "SyntaxError",
     "evalue": "positional argument follows keyword argument (1484676368.py, line 1)",
     "output_type": "error",
     "traceback": [
      "\u001b[0;36m  Cell \u001b[0;32mIn[45], line 1\u001b[0;36m\u001b[0m\n\u001b[0;31m    side_by_side(b=2, 1) #cannot have positional argument after a keyword argument.\u001b[0m\n\u001b[0m                       ^\u001b[0m\n\u001b[0;31mSyntaxError\u001b[0m\u001b[0;31m:\u001b[0m positional argument follows keyword argument\n"
     ]
    }
   ],
   "source": [
    "side_by_side(b=2, 1) #cannot have positional argument after a keyword argument."
   ]
  },
  {
   "cell_type": "markdown",
   "id": "6b692c60-d32b-4b54-8f73-d36fd4443d94",
   "metadata": {},
   "source": [
    "**ways to combine**"
   ]
  },
  {
   "cell_type": "code",
   "execution_count": 47,
   "id": "05f33533-066f-4f70-9ee3-ac338630a224",
   "metadata": {},
   "outputs": [
    {
     "data": {
      "text/plain": [
       "' 1--- 2--- 42'"
      ]
     },
     "execution_count": 47,
     "metadata": {},
     "output_type": "execute_result"
    }
   ],
   "source": [
    "side_by_side(1, 2)           # Two positional, 1 default"
   ]
  },
  {
   "cell_type": "code",
   "execution_count": 48,
   "id": "15b03705-e07a-4213-a35b-fdcb4d60da46",
   "metadata": {},
   "outputs": [
    {
     "data": {
      "text/plain": [
       "' 1--- 2--- 3'"
      ]
     },
     "execution_count": 48,
     "metadata": {},
     "output_type": "execute_result"
    }
   ],
   "source": [
    "side_by_side(1, 2, 3)        # Three positional"
   ]
  },
  {
   "cell_type": "code",
   "execution_count": 49,
   "id": "0bf099d4-4cbf-4d62-92a1-b9fb60628e50",
   "metadata": {},
   "outputs": [
    {
     "data": {
      "text/plain": [
       "' 1--- 2--- 42'"
      ]
     },
     "execution_count": 49,
     "metadata": {},
     "output_type": "execute_result"
    }
   ],
   "source": [
    "side_by_side(a=1, b=2)       # Two keyword, 1 default"
   ]
  },
  {
   "cell_type": "code",
   "execution_count": 55,
   "id": "519a8d6a-a748-484b-bf8a-05d3d6310024",
   "metadata": {},
   "outputs": [
    {
     "data": {
      "text/plain": [
       "' 2| 1| 3'"
      ]
     },
     "execution_count": 55,
     "metadata": {},
     "output_type": "execute_result"
    }
   ],
   "source": [
    "side_by_side(\n",
    "    c=3, \n",
    "    b=1, \n",
    "    a=2)  # Three keyword"
   ]
  },
  {
   "cell_type": "code",
   "execution_count": 51,
   "id": "e5ccbd99-2a55-45d4-9df9-ae7ddb65b7bc",
   "metadata": {},
   "outputs": [
    {
     "data": {
      "text/plain": [
       "' 1--- 2--- 3'"
      ]
     },
     "execution_count": 51,
     "metadata": {},
     "output_type": "execute_result"
    }
   ],
   "source": [
    "side_by_side(1, c=3, b=2)    # One positional, 2 keyword"
   ]
  },
  {
   "cell_type": "code",
   "execution_count": 52,
   "id": "87ae620c-a4d6-49d9-ba24-3cb630644c65",
   "metadata": {},
   "outputs": [
    {
     "data": {
      "text/plain": [
       "' 1--- 2--- 42'"
      ]
     },
     "execution_count": 52,
     "metadata": {},
     "output_type": "execute_result"
    }
   ],
   "source": [
    "side_by_side(1, b=2)         # One positional, 1 keyword, 1 default"
   ]
  },
  {
   "attachments": {},
   "cell_type": "markdown",
   "id": "4e050e1c",
   "metadata": {},
   "source": [
    "## 2.2 Docstrings"
   ]
  },
  {
   "cell_type": "markdown",
   "id": "41918c54-9dde-486b-bb3f-169abd78e939",
   "metadata": {},
   "source": [
    "Docstring allow us to document what a function does inside the function.\n",
    "- needs to be sandwiched between a pair of ''' (or \"\"\") and can span multiple lines.\n",
    "- can be used for writing multiline comments but may be frowned upon."
   ]
  },
  {
   "cell_type": "code",
   "execution_count": 56,
   "id": "7a8c424a-cc33-4886-842e-3824bf2aa9cc",
   "metadata": {},
   "outputs": [],
   "source": [
    "def side_by_side(a, b, c=42):\n",
    "    '''\n",
    "    A test function to demonstrate how \n",
    "    positional, keyword and default arguments \n",
    "    work.\n",
    "    '''\n",
    "    return f'{a: 2d}|{b: 2d}|{c: 2d}'"
   ]
  },
  {
   "cell_type": "code",
   "execution_count": 57,
   "id": "2d050655-14cf-4e3d-9088-3c5f5ab7f6b7",
   "metadata": {},
   "outputs": [
    {
     "name": "stdout",
     "output_type": "stream",
     "text": [
      "Help on function side_by_side in module __main__:\n",
      "\n",
      "side_by_side(a, b, c=42)\n",
      "    A test function to demonstrate how \n",
      "    positional, keyword and default arguments \n",
      "    work.\n",
      "\n"
     ]
    }
   ],
   "source": [
    "help(side_by_side)"
   ]
  },
  {
   "cell_type": "code",
   "execution_count": 58,
   "id": "53851832-c5b1-4251-a332-1749f1585b50",
   "metadata": {},
   "outputs": [
    {
     "data": {
      "text/plain": [
       "\u001b[0;31mSignature:\u001b[0m \u001b[0mside_by_side\u001b[0m\u001b[0;34m(\u001b[0m\u001b[0ma\u001b[0m\u001b[0;34m,\u001b[0m \u001b[0mb\u001b[0m\u001b[0;34m,\u001b[0m \u001b[0mc\u001b[0m\u001b[0;34m=\u001b[0m\u001b[0;36m42\u001b[0m\u001b[0;34m)\u001b[0m\u001b[0;34m\u001b[0m\u001b[0;34m\u001b[0m\u001b[0m\n",
       "\u001b[0;31mDocstring:\u001b[0m\n",
       "A test function to demonstrate how \n",
       "positional, keyword and default arguments \n",
       "work.\n",
       "\u001b[0;31mFile:\u001b[0m      /var/folders/bg/6t7lsn_14xx1h2h0lk5p7w6m0000gn/T/ipykernel_4956/1004240342.py\n",
       "\u001b[0;31mType:\u001b[0m      function"
      ]
     },
     "metadata": {},
     "output_type": "display_data"
    }
   ],
   "source": [
    "?side_by_side"
   ]
  },
  {
   "attachments": {},
   "cell_type": "markdown",
   "id": "ba1be611",
   "metadata": {},
   "source": [
    "## 2.3 Function are first-class citizens"
   ]
  },
  {
   "cell_type": "markdown",
   "id": "2bb69594-500b-4ea2-8961-3dc36e697ef5",
   "metadata": {},
   "source": [
    "Functions have the same privileges as variables. You can pass function as arguments to another function.\n",
    "- very useful, many possibilities for writing scientific code\n",
    "\n",
    "Syntax\n",
    "- when you use a function you always have the ()\n",
    "- when you feed a function it does not have the (), just put the name in."
   ]
  },
  {
   "cell_type": "code",
   "execution_count": 63,
   "id": "341bcfc3-6f3a-4ea9-bf91-859469b306b4",
   "metadata": {},
   "outputs": [],
   "source": [
    "import numpy as np"
   ]
  },
  {
   "cell_type": "code",
   "execution_count": 75,
   "id": "220db683-56de-47eb-ae80-32f4f408ec45",
   "metadata": {},
   "outputs": [],
   "source": [
    "def my_function(angle, trig_input_function):\n",
    "        return trig_input_function(angle)"
   ]
  },
  {
   "cell_type": "code",
   "execution_count": 82,
   "id": "996b3b90-c29a-4812-bb69-fe4a87078bfd",
   "metadata": {},
   "outputs": [
    {
     "data": {
      "text/plain": [
       "1.2246467991473532e-16"
      ]
     },
     "execution_count": 82,
     "metadata": {},
     "output_type": "execute_result"
    }
   ],
   "source": [
    "my_function(angle=np.pi, trig_input_function=np.sin) #np.sin(angle)"
   ]
  },
  {
   "cell_type": "code",
   "execution_count": 83,
   "id": "e1db9f71-efe4-4cb5-870c-3bc0060c214a",
   "metadata": {},
   "outputs": [
    {
     "data": {
      "text/plain": [
       "-1.0"
      ]
     },
     "execution_count": 83,
     "metadata": {},
     "output_type": "execute_result"
    }
   ],
   "source": [
    "my_function(angle=np.pi, trig_input_function=np.cos) #np.cos(angle)"
   ]
  },
  {
   "cell_type": "code",
   "execution_count": 84,
   "id": "0e34ea74-a0ca-4bcc-b876-3d12271552c3",
   "metadata": {},
   "outputs": [
    {
     "name": "stdout",
     "output_type": "stream",
     "text": [
      "3.141592653589793\n"
     ]
    }
   ],
   "source": [
    "my_function(angle=np.pi, trig_input_function=print) #print(angle)"
   ]
  },
  {
   "cell_type": "code",
   "execution_count": 85,
   "id": "e8073727-c6dc-4b03-960d-064992551944",
   "metadata": {},
   "outputs": [
    {
     "data": {
      "text/plain": [
       "23.01119705467915"
      ]
     },
     "execution_count": 85,
     "metadata": {},
     "output_type": "execute_result"
    }
   ],
   "source": [
    "my_function(angle=np.pi, trig_input_function=lambda x:x**2+x+10)"
   ]
  },
  {
   "cell_type": "code",
   "execution_count": 65,
   "id": "9a1933b4-2288-4065-a6e5-3a76377c7d82",
   "metadata": {},
   "outputs": [
    {
     "data": {
      "text/plain": [
       "1.0"
      ]
     },
     "execution_count": 65,
     "metadata": {},
     "output_type": "execute_result"
    }
   ],
   "source": [
    "my_function(np.pi/2, np.sin)        "
   ]
  },
  {
   "cell_type": "code",
   "execution_count": 67,
   "id": "8062eb0a-5ca8-4260-93e3-7919de60c242",
   "metadata": {},
   "outputs": [
    {
     "data": {
      "text/plain": [
       "6.123233995736766e-17"
      ]
     },
     "execution_count": 67,
     "metadata": {},
     "output_type": "execute_result"
    }
   ],
   "source": [
    "my_function(np.pi/2, np.cos)        "
   ]
  },
  {
   "cell_type": "code",
   "execution_count": 69,
   "id": "e1a78e49-b275-4ca7-97a9-68be87408964",
   "metadata": {},
   "outputs": [
    {
     "data": {
      "text/plain": [
       "-1.0"
      ]
     },
     "execution_count": 69,
     "metadata": {},
     "output_type": "execute_result"
    }
   ],
   "source": [
    "my_function(np.pi/2, lambda x: np.cos(2*x))  "
   ]
  },
  {
   "attachments": {},
   "cell_type": "markdown",
   "id": "8095d7fd",
   "metadata": {},
   "source": [
    "## 2.4 More about unpacking"
   ]
  },
  {
   "cell_type": "code",
   "execution_count": 86,
   "id": "29bbe603-e9e8-4073-a35e-58fe05a28d03",
   "metadata": {},
   "outputs": [
    {
     "data": {
      "text/plain": [
       "(1, 2, 3)"
      ]
     },
     "execution_count": 86,
     "metadata": {},
     "output_type": "execute_result"
    }
   ],
   "source": [
    "x, y, z = [1, 2, 3]\n",
    "x, y, z"
   ]
  },
  {
   "cell_type": "code",
   "execution_count": 87,
   "id": "8568ed7e-2beb-49b0-b30c-cd54d4482ac5",
   "metadata": {},
   "outputs": [
    {
     "data": {
      "text/plain": [
       "(1, 2, 3)"
      ]
     },
     "execution_count": 87,
     "metadata": {},
     "output_type": "execute_result"
    }
   ],
   "source": [
    "x, y, z = np.array([1, 2, 3])\n",
    "x, y, z"
   ]
  },
  {
   "cell_type": "code",
   "execution_count": 91,
   "id": "a4b9c546-139c-4fe4-919e-f675eb485ec1",
   "metadata": {},
   "outputs": [
    {
     "data": {
      "text/plain": [
       "(1, [2, 3, 4], 5)"
      ]
     },
     "execution_count": 91,
     "metadata": {},
     "output_type": "execute_result"
    }
   ],
   "source": [
    "x, *y, z = np.array([1, 2, 3, 4, 5])\n",
    "x, y, z"
   ]
  },
  {
   "cell_type": "code",
   "execution_count": 92,
   "id": "71e21b83-53f6-48fa-9b63-9e0f23b22a2e",
   "metadata": {},
   "outputs": [
    {
     "data": {
      "text/plain": [
       "([1, 2, 3], 4, 5)"
      ]
     },
     "execution_count": 92,
     "metadata": {},
     "output_type": "execute_result"
    }
   ],
   "source": [
    "*x, y, z = np.array([1, 2, 3, 4, 5])\n",
    "x, y, z"
   ]
  },
  {
   "cell_type": "code",
   "execution_count": 89,
   "id": "904ab1cb-5553-4612-b57f-a4261d5459fb",
   "metadata": {},
   "outputs": [
    {
     "data": {
      "text/plain": [
       "(1, 5)"
      ]
     },
     "execution_count": 89,
     "metadata": {},
     "output_type": "execute_result"
    }
   ],
   "source": [
    "x, *_, y = [1, 2, 3, 4, 5]\n",
    "x, y"
   ]
  },
  {
   "cell_type": "code",
   "execution_count": 90,
   "id": "f571c98a-e993-46b5-a181-3a8d84584d79",
   "metadata": {},
   "outputs": [
    {
     "name": "stdout",
     "output_type": "stream",
     "text": [
      "haha\n",
      "haha\n",
      "haha\n",
      "haha\n",
      "haha\n"
     ]
    }
   ],
   "source": [
    "for _ in range(5):\n",
    "    print(\"haha\")"
   ]
  }
 ],
 "metadata": {
  "kernelspec": {
   "display_name": "Python 3 (ipykernel)",
   "language": "python",
   "name": "python3"
  },
  "language_info": {
   "codemirror_mode": {
    "name": "ipython",
    "version": 3
   },
   "file_extension": ".py",
   "mimetype": "text/x-python",
   "name": "python",
   "nbconvert_exporter": "python",
   "pygments_lexer": "ipython3",
   "version": "3.11.5"
  },
  "toc": {
   "base_numbering": 1,
   "nav_menu": {},
   "number_sections": true,
   "sideBar": true,
   "skip_h1_title": false,
   "title_cell": "Table of Contents",
   "title_sidebar": "Contents",
   "toc_cell": false,
   "toc_position": {},
   "toc_section_display": true,
   "toc_window_display": false
  },
  "vscode": {
   "interpreter": {
    "hash": "31f2aee4e71d21fbe5cf8b01ff0e069b9275f58929596ceb00d14d90e3e16cd6"
   }
  }
 },
 "nbformat": 4,
 "nbformat_minor": 5
}
