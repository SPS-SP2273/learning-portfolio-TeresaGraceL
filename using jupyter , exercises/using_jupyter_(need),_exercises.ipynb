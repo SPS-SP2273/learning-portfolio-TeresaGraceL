{
 "cells": [
  {
   "cell_type": "markdown",
   "id": "123456",
   "metadata": {},
   "source": [
    "<div style=\"text-align:left;font-size:2em\"><span style=\"font-weight:bolder;font-size:1.25em\">SP2273 | Learning Portfolio</span><br><br><span style=\"font-weight:bold;color:darkred\">Using Jupyter (Need), Exercises</span></div>"
   ]
  },
  {
   "cell_type": "markdown",
   "id": "0c2419c4",
   "metadata": {},
   "source": [
    "## Quadratic Equations"
   ]
  },
  {
   "cell_type": "markdown",
   "id": "8ecad771",
   "metadata": {},
   "source": [
    "### Introduction"
   ]
  },
  {
   "cell_type": "markdown",
   "id": "42a8baa3",
   "metadata": {},
   "source": [
    "![](https://upload.wikimedia.org/wikipedia/commons/thumb/f/f8/Polynomialdeg2.svg/300px-Polynomialdeg2.svg.png)\n",
    "\n",
    "(Image from the [*Wikipedia page on Quadratic equations*](https://en.wikipedia.org/wiki/Quadratic_equation))"
   ]
  },
  {
   "cell_type": "markdown",
   "id": "bab61022",
   "metadata": {},
   "source": [
    "The general form of a quadratic equation is:\n",
    "\n",
    "$$\n",
    "ax^2+bx+c=0\n",
    "$$\n"
   ]
  },
  {
   "cell_type": "markdown",
   "id": "dca34b64",
   "metadata": {},
   "source": [
    "### Solutions"
   ]
  },
  {
   "cell_type": "markdown",
   "id": "8ae8dac2",
   "metadata": {},
   "source": [
    "Provided $a\\ne0$ we can use an elementary algebraic method called [completeing the square](https://en.wikipedia.org/wiki/Completing_the_square) to show that a quadratic equation has the following solution:\n",
    "\n",
    "$$ \n",
    "x = \\dfrac{-b\\pm \\sqrt{b^2-4ac}}{2a}\n",
    "$$"
   ]
  },
  {
   "cell_type": "markdown",
   "id": "2f6a8ebd",
   "metadata": {},
   "source": [
    "### Discriminant"
   ]
  },
  {
   "cell_type": "markdown",
   "id": "b6dca887",
   "metadata": {},
   "source": [
    "The quantity $\\Delta = b^2-4ac$ is called the **discriminant** of the equation and decides the nature of its solutions. The table below shows the various possibilities."
   ]
  },
  {
   "cell_type": "markdown",
   "id": "465632c9",
   "metadata": {},
   "source": [
    "|     **Discriminat**    | **Roots**                      |\n",
    "|:-----------------------:|--------------------------------|\n",
    "| $$\\Delta = b^2-4ac=0$$    | A single solution of $-b/(2a)$ |\n",
    "| $\\Delta =  b^2-4ac\\gt0$ | Two distinct solutions         |\n",
    "| $\\Delta =  b^2-4ac\\lt0$ | No Solution                    |"
   ]
  },
  {
   "cell_type": "markdown",
   "id": "b080720f",
   "metadata": {},
   "source": [
    "# Exercise 2"
   ]
  },
  {
   "cell_type": "markdown",
   "id": "c0498ad3",
   "metadata": {},
   "source": [
    "1. What is a Git **repository**?\n",
    "1. Git keeps tracks of ____BLANK____ in the files in our repository.\n",
    "1. What is a **commit**?\n",
    "1. What is a **push**?\n",
    "1. What is a **pull**?\n",
    "1. What is the difference between **GitHub** and **GitHub Desktop**?"
   ]
  },
  {
   "cell_type": "markdown",
   "id": "de970e2f",
   "metadata": {},
   "source": [
    "1. A Git repository is the main storage for the files and keeping track of changes to these files in GitHub.\n",
    "\n",
    "2. Git keeps track of changes in files.\n",
    "\n",
    "3. A commit tells Github what changes to keep track of and allows you to write a note of what these changes are. The commits made live on the computer and not the cloud.\n",
    "\n",
    "4. A push shares the commit with other people by uploading the commit from Github desktop to Github in the cloud.\n",
    "\n",
    "5. A pull saves the changes made in the repository in the cloud to the to the local computer.\n",
    "\n",
    "6. Github is in the cloud and Github Desktop is on the local device eg computer. When using Github desktop you need to commit and push your changes for it to be reflected in GitHub in the cloud."
   ]
  },
  {
   "cell_type": "code",
   "execution_count": null,
   "id": "0a8374b3",
   "metadata": {},
   "outputs": [],
   "source": []
  }
 ],
 "metadata": {
  "kernelspec": {
   "display_name": "Python 3 (ipykernel)",
   "language": "python",
   "name": "python3"
  },
  "language_info": {
   "codemirror_mode": {
    "name": "ipython",
    "version": 3
   },
   "file_extension": ".py",
   "mimetype": "text/x-python",
   "name": "python",
   "nbconvert_exporter": "python",
   "pygments_lexer": "ipython3",
   "version": "3.11.5"
  },
  "toc": {
   "base_numbering": 1,
   "nav_menu": {},
   "number_sections": true,
   "sideBar": true,
   "skip_h1_title": false,
   "title_cell": "Table of Contents",
   "title_sidebar": "Contents",
   "toc_cell": false,
   "toc_position": {},
   "toc_section_display": true,
   "toc_window_display": false
  },
  "vscode": {
   "interpreter": {
    "hash": "31f2aee4e71d21fbe5cf8b01ff0e069b9275f58929596ceb00d14d90e3e16cd6"
   }
  }
 },
 "nbformat": 4,
 "nbformat_minor": 5
}
