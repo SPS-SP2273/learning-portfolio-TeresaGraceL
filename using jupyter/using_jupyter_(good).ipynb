{
 "cells": [
  {
   "cell_type": "markdown",
   "id": "123456",
   "metadata": {},
   "source": [
    "<div style=\"text-align:left;font-size:2em\"><span style=\"font-weight:bolder;font-size:1.25em\">SP2273 | Learning Portfolio</span><br><br><span style=\"font-weight:bold;color:darkred\">Using Jupyter (Good)</span></div>"
   ]
  },
  {
   "cell_type": "markdown",
   "id": "f52cf45d",
   "metadata": {},
   "source": [
    "# What to expect in this chapter"
   ]
  },
  {
   "cell_type": "markdown",
   "id": "40349db5",
   "metadata": {},
   "source": [
    "# 1 Some tips and tricks"
   ]
  },
  {
   "cell_type": "markdown",
   "id": "fb56e332",
   "metadata": {},
   "source": [
    "## 1.1 Keyboard Shortcuts"
   ]
  },
  {
   "cell_type": "markdown",
   "id": "6e3a142d",
   "metadata": {},
   "source": [
    " A, B creates cell above and below\n",
    "\n",
    "Dangerous - Esc delete because you are deleting it\n",
    "\n",
    "to run a cell instead of pressing play can press command enter to run\n",
    "\n",
    "Press Edit button to view more shortcuts like copy, merge"
   ]
  },
  {
   "cell_type": "markdown",
   "id": "45cd1175",
   "metadata": {},
   "source": [
    "### Things to note"
   ]
  },
  {
   "cell_type": "code",
   "execution_count": 10,
   "id": "c712eb20",
   "metadata": {},
   "outputs": [],
   "source": [
    "\n",
    "# Your code here\n"
   ]
  },
  {
   "cell_type": "markdown",
   "id": "8b80980c",
   "metadata": {},
   "source": [
    "## 1.2 Shell commands"
   ]
  },
  {
   "cell_type": "markdown",
   "id": "a538f753",
   "metadata": {},
   "source": [
    "must put an exclamation mark, what can be done in a terminal can be done here \n",
    "\n",
    "(mac is an expensive version of linux machines).\n",
    "\n",
    "Clear outputs of cells under edit"
   ]
  },
  {
   "cell_type": "code",
   "execution_count": 3,
   "id": "781768d7",
   "metadata": {},
   "outputs": [
    {
     "name": "stdout",
     "output_type": "stream",
     "text": [
      "using_jupyter_(good).ipynb using_jupyter_(need).ipynb\r\n"
     ]
    }
   ],
   "source": [
    "!ls"
   ]
  },
  {
   "cell_type": "markdown",
   "id": "e80318ce",
   "metadata": {},
   "source": [
    "# 2 Jupyter Extensions"
   ]
  },
  {
   "cell_type": "markdown",
   "id": "2a8ea68e",
   "metadata": {
    "jp-MarkdownHeadingCollapsed": true
   },
   "source": [
    "## 2.1 Installing the extensions"
   ]
  },
  {
   "cell_type": "markdown",
   "id": "c582508b",
   "metadata": {},
   "source": [
    "## 2.2 Enabling the extensions"
   ]
  },
  {
   "cell_type": "markdown",
   "id": "8c123fc6",
   "metadata": {},
   "source": [
    "# 3 Shell Magic"
   ]
  },
  {
   "cell_type": "code",
   "execution_count": 6,
   "id": "8c7a000d",
   "metadata": {},
   "outputs": [
    {
     "name": "stdout",
     "output_type": "stream",
     "text": [
      "12 ns ± 0.055 ns per loop (mean ± std. dev. of 7 runs, 100,000,000 loops each)\n"
     ]
    }
   ],
   "source": [
    "%%timeit #need 2 percentage signs to run as intended\n",
    "\n",
    "x=10\n",
    "y=x^2"
   ]
  },
  {
   "cell_type": "markdown",
   "id": "216cbad8",
   "metadata": {},
   "source": [
    "# 4 The Kernel"
   ]
  },
  {
   "cell_type": "markdown",
   "id": "db2fbc0b",
   "metadata": {},
   "source": [
    "\"a good way to kill stuff off\"\n",
    "\n",
    "Kernel button - restart and kill things"
   ]
  },
  {
   "cell_type": "markdown",
   "id": "57852775",
   "metadata": {},
   "source": [
    "# 5 EX"
   ]
  }
 ],
 "metadata": {
  "kernelspec": {
   "display_name": "Python 3 (ipykernel)",
   "language": "python",
   "name": "python3"
  },
  "language_info": {
   "codemirror_mode": {
    "name": "ipython",
    "version": 3
   },
   "file_extension": ".py",
   "mimetype": "text/x-python",
   "name": "python",
   "nbconvert_exporter": "python",
   "pygments_lexer": "ipython3",
   "version": "3.11.5"
  },
  "toc": {
   "base_numbering": 1,
   "nav_menu": {},
   "number_sections": true,
   "sideBar": true,
   "skip_h1_title": false,
   "title_cell": "Table of Contents",
   "title_sidebar": "Contents",
   "toc_cell": false,
   "toc_position": {},
   "toc_section_display": true,
   "toc_window_display": false
  },
  "vscode": {
   "interpreter": {
    "hash": "31f2aee4e71d21fbe5cf8b01ff0e069b9275f58929596ceb00d14d90e3e16cd6"
   }
  }
 },
 "nbformat": 4,
 "nbformat_minor": 5
}
