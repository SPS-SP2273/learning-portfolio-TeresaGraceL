{
 "cells": [
  {
   "attachments": {},
   "cell_type": "markdown",
   "id": "123456",
   "metadata": {},
   "source": [
    "<div style=\"text-align:left;font-size:2em\"><span style=\"font-weight:bolder;font-size:1.25em\">SP2273 | Learning Portfolio</span><br><br><span style=\"font-weight:bold;color:darkred\">Fundamentals (Need) Exercises</span></div>"
   ]
  },
  {
   "cell_type": "markdown",
   "id": "f8906a70-3119-471b-9617-faae398d7588",
   "metadata": {},
   "source": [
    "# Comments"
   ]
  },
  {
   "cell_type": "markdown",
   "id": "d2509502-7683-41a1-af84-f950e016658d",
   "metadata": {},
   "source": [
    "**What's good:** Good job with Ex. 1, 2, 4 and most of Ex. 3. Good that you're messing around with stuff. You may have noticed in Trial and Error that % is an easy way to check for whether a number is even or odd based on whether the result is 0 or 1 respectively. This may come in useful in future exercises, so do keep a look out.\n",
    "\n",
    "**What's not good:** In Ex.3, the description given for arguments is rather vague. See this example:\n",
    "\n",
    "def multiplication(input_1, input_2):\n",
    "  return input_1*input_2\n",
    "\n",
    "multiplication(1,2)\n",
    "\n",
    "In the above example, both input_1 and input_2 are given to the function, just as 1 and 2. But the former are really parameters while the latter are arguments. Also, functions can manipulate arguments so they aren't just 'written inside the function.'\n",
    "\n",
    "**Actionable:** Find out the difference between parameters and arguments. Improve your answer in Ex.3 on what are arguments.\n",
    "\n"
   ]
  },
  {
   "cell_type": "markdown",
   "id": "b1fca2e7-fb6a-4a47-910a-93c2b586bcf7",
   "metadata": {},
   "source": [
    "# Exercise 1 Recall"
   ]
  },
  {
   "cell_type": "markdown",
   "id": "a4b6af63-9463-42d6-94c1-87596034f21e",
   "metadata": {},
   "source": [
    "**Basic Python Functions**\n",
    "- core / built-in functions such as print()\n",
    "- comments using # to make the purpose of the code clearer\n",
    "- importing packages to do more things with *give python more skills*, importing packages with an alias so don't need to type so much\n",
    "   - math\n",
    "   - numpy\n",
    "- creating your own functions\n",
    "- conditions *to make decisions based on data*\n",
    "    - if\n",
    "    - elif (if else)\n",
    "    - else\n",
    "- lists\n",
    "- dictionaries to store data\n",
    "- doing math\n",
    "- check if something is equal using == *and using = to set something as equal*\n",
    "- hidden functions like .upper()"
   ]
  },
  {
   "cell_type": "markdown",
   "id": "277cb9f1-4f0a-47a9-9c6c-927bd5257673",
   "metadata": {},
   "source": [
    "# Exercise 2 Debug"
   ]
  },
  {
   "cell_type": "code",
   "execution_count": 2,
   "id": "e2eed3bd-1f04-4a82-91b8-858596db27fc",
   "metadata": {},
   "outputs": [
    {
     "ename": "IndentationError",
     "evalue": "unindent does not match any outer indentation level (<tokenize>, line 3)",
     "output_type": "error",
     "traceback": [
      "\u001b[0;36m  File \u001b[0;32m<tokenize>:3\u001b[0;36m\u001b[0m\n\u001b[0;31m    Print(x, y, z)\u001b[0m\n\u001b[0m    ^\u001b[0m\n\u001b[0;31mIndentationError\u001b[0m\u001b[0;31m:\u001b[0m unindent does not match any outer indentation level\n"
     ]
    }
   ],
   "source": [
    "x, y = 3, 4\n",
    "        z = sqrt(x*2 + y**2)\n",
    "    Print(x, y, z)"
   ]
  },
  {
   "cell_type": "code",
   "execution_count": 6,
   "id": "5ff464c7-b36e-4a77-9e33-ed604de63431",
   "metadata": {},
   "outputs": [
    {
     "name": "stdout",
     "output_type": "stream",
     "text": [
      "3 4 5.0\n"
     ]
    }
   ],
   "source": [
    "import numpy as np\n",
    "\n",
    "x, y = 3, 4\n",
    "z = np.sqrt(x**2 + y**2)\n",
    "print(x, y, z)"
   ]
  },
  {
   "cell_type": "markdown",
   "id": "70dffd72-547d-4812-a4d3-e7c2b4ea19e2",
   "metadata": {},
   "source": [
    "# Exercise 3 in own words"
   ]
  },
  {
   "cell_type": "markdown",
   "id": "2621c975-7d62-4dfd-96d6-7331491eab93",
   "metadata": {},
   "source": [
    "| #  | Term         | Description                                                                                               |\n",
    "|----|--------------|-----------------------------------------------------------------------------------------------------------|\n",
    "| 1  | Function     | Functions instruct Python to carry out a specific task.                                                   |\n",
    "| 2  | Arguments    | Argument is the thing being written inside the function.                                                  |\n",
    "| 3  | Comments     | Comments using # are not read as code, allows you to write the code's purpose.                            |\n",
    "| 4  | Indentations | Indentations are important for Python to be able to read the code correctly.                              |\n",
    "| 5  | Packages     | Packages allows Python to do more things by giving it more skills.                                        |\n",
    "| 6  | .            | The dot indicates what the function belongs to.                                                           |\n",
    "| 7  | :            | The : indicates a block of code so Python can read it and know what to do.                                |\n",
    "| 8  | []           | Square brackets are used for lists of data.                                                               |\n",
    "| 9  | [[[]]]       | These square brackets indicate 3D lists, a list within a list within a list (since [[]] is for 2D lists).  |\n",
    "| 10 | {}           | Curly brackets are used to create dictionaries to store data.                                              |"
   ]
  },
  {
   "cell_type": "markdown",
   "id": "413900a1-d1c3-4b56-b3a2-168af669b757",
   "metadata": {},
   "source": [
    "**addressing comments on parameters and arguments**"
   ]
  },
  {
   "cell_type": "markdown",
   "id": "e516c5e9-ae61-43a5-9408-9aa08b9a5999",
   "metadata": {},
   "source": [
    "| #  | Term         | Description                                                                                               |\n",
    "|----|--------------|-----------------------------------------------------------------------------------------------------------|\n",
    "| 1  | Function     | Functions instruct Python to carry out a specific task.                                                   |\n",
    "| 2  | Arguments    | Arguments are the values that are passed to the function when it is called.                |\n",
    "|    | Parameter    | Parameters are variables defined in the function when it is declared, they specify the type of data that the function expects to receive. Parameters can be listed in the () in the function definition. |\n",
    "| 3  | Comments     | Comments using # are not read as code, allows you to write the code's purpose.                            |\n",
    "| 4  | Indentations | Indentations are important for Python to be able to read the code correctly.                              |\n",
    "| 5  | Packages     | Packages allows Python to do more things by giving it more skills.                                        |\n",
    "| 6  | .            | The dot indicates what the function belongs to.                                                           |\n",
    "| 7  | :            | The : indicates a block of code so Python can read it and know what to do.                                |\n",
    "| 8  | []           | Square brackets are used for lists of data.                                                               |\n",
    "| 9  | [[[]]]       | These square brackets indicate 3D lists, a list within a list within a list (since [[]] is for 2D lists).  |\n",
    "| 10 | {}           | Curly brackets are used to create dictionaries to store data.                                              |"
   ]
  },
  {
   "cell_type": "markdown",
   "id": "862cfade-62e5-4185-8639-4742cd68a8bc",
   "metadata": {},
   "source": [
    "- note: there is a settings option to autoclose brackets"
   ]
  },
  {
   "cell_type": "markdown",
   "id": "cd3f9584-eaad-4bb7-b88f-e95236eae879",
   "metadata": {},
   "source": [
    "# Exercise 4 More than 1 way to divide"
   ]
  },
  {
   "cell_type": "code",
   "execution_count": 31,
   "id": "84efb452-04da-4eca-9693-1025fd6c6d18",
   "metadata": {},
   "outputs": [
    {
     "data": {
      "text/plain": [
       "2.5"
      ]
     },
     "execution_count": 31,
     "metadata": {},
     "output_type": "execute_result"
    }
   ],
   "source": [
    "5/2           # What do I do?\n",
    "# / is for division"
   ]
  },
  {
   "cell_type": "code",
   "execution_count": 13,
   "id": "60684282-0baa-40ca-a641-0a5d331b11c6",
   "metadata": {},
   "outputs": [
    {
     "data": {
      "text/plain": [
       "2"
      ]
     },
     "execution_count": 13,
     "metadata": {},
     "output_type": "execute_result"
    }
   ],
   "source": [
    "5//2          # What do I do?"
   ]
  },
  {
   "cell_type": "code",
   "execution_count": 35,
   "id": "1c0212f3-f76d-4bf8-91c2-4098b98eeb7c",
   "metadata": {},
   "outputs": [],
   "source": [
    "# gives the quotient of division"
   ]
  },
  {
   "cell_type": "code",
   "execution_count": 11,
   "id": "ed7d3930-4136-455c-8962-aedc2c6ac926",
   "metadata": {},
   "outputs": [
    {
     "data": {
      "text/plain": [
       "1"
      ]
     },
     "execution_count": 11,
     "metadata": {},
     "output_type": "execute_result"
    }
   ],
   "source": [
    "5%2           # What do I do?"
   ]
  },
  {
   "cell_type": "code",
   "execution_count": 36,
   "id": "14cdf7d3-0605-43f2-ab77-5d8b7111df1b",
   "metadata": {},
   "outputs": [],
   "source": [
    "# % gives the remainder of divison"
   ]
  },
  {
   "cell_type": "markdown",
   "id": "eaf74212-cd8d-4aac-9ca2-b3fd98f5b9ce",
   "metadata": {},
   "source": [
    "**Trial and Error**"
   ]
  },
  {
   "cell_type": "code",
   "execution_count": 25,
   "id": "257021f8-ec8f-4bae-9195-58fb2f7aa767",
   "metadata": {},
   "outputs": [
    {
     "data": {
      "text/plain": [
       "2"
      ]
     },
     "execution_count": 25,
     "metadata": {},
     "output_type": "execute_result"
    }
   ],
   "source": [
    "5%3"
   ]
  },
  {
   "cell_type": "code",
   "execution_count": 26,
   "id": "b86f237b-193c-434c-b599-9038c751c279",
   "metadata": {},
   "outputs": [
    {
     "data": {
      "text/plain": [
       "1"
      ]
     },
     "execution_count": 26,
     "metadata": {},
     "output_type": "execute_result"
    }
   ],
   "source": [
    "5%4"
   ]
  },
  {
   "cell_type": "code",
   "execution_count": 27,
   "id": "221ab438-266d-4194-b8ee-312edccf1dd2",
   "metadata": {},
   "outputs": [
    {
     "data": {
      "text/plain": [
       "0"
      ]
     },
     "execution_count": 27,
     "metadata": {},
     "output_type": "execute_result"
    }
   ],
   "source": [
    "5%5"
   ]
  },
  {
   "cell_type": "code",
   "execution_count": 28,
   "id": "9b0de9d9-19b3-41fe-b8df-7b16a26cfe6c",
   "metadata": {},
   "outputs": [
    {
     "data": {
      "text/plain": [
       "5"
      ]
     },
     "execution_count": 28,
     "metadata": {},
     "output_type": "execute_result"
    }
   ],
   "source": [
    "5%6"
   ]
  },
  {
   "cell_type": "code",
   "execution_count": 14,
   "id": "f651c13c-b326-4140-b1c5-98d2362dae90",
   "metadata": {},
   "outputs": [
    {
     "data": {
      "text/plain": [
       "5.5"
      ]
     },
     "execution_count": 14,
     "metadata": {},
     "output_type": "execute_result"
    }
   ],
   "source": [
    "11/2"
   ]
  },
  {
   "cell_type": "code",
   "execution_count": 15,
   "id": "a99bc209-d537-4fcd-a03d-8630f329719c",
   "metadata": {},
   "outputs": [
    {
     "data": {
      "text/plain": [
       "5"
      ]
     },
     "execution_count": 15,
     "metadata": {},
     "output_type": "execute_result"
    }
   ],
   "source": [
    "11//2"
   ]
  },
  {
   "cell_type": "code",
   "execution_count": 20,
   "id": "448f1548-2b8c-4112-852f-be990f9bcb0c",
   "metadata": {},
   "outputs": [
    {
     "data": {
      "text/plain": [
       "1"
      ]
     },
     "execution_count": 20,
     "metadata": {},
     "output_type": "execute_result"
    }
   ],
   "source": [
    "11%2"
   ]
  },
  {
   "cell_type": "code",
   "execution_count": 21,
   "id": "1bb5f2aa-d6e7-48b1-8626-b6252965e343",
   "metadata": {},
   "outputs": [
    {
     "data": {
      "text/plain": [
       "6.5"
      ]
     },
     "execution_count": 21,
     "metadata": {},
     "output_type": "execute_result"
    }
   ],
   "source": [
    "13/2"
   ]
  },
  {
   "cell_type": "code",
   "execution_count": 22,
   "id": "c4c44851-f9cf-4413-a55f-f0858754f41d",
   "metadata": {},
   "outputs": [
    {
     "data": {
      "text/plain": [
       "6"
      ]
     },
     "execution_count": 22,
     "metadata": {},
     "output_type": "execute_result"
    }
   ],
   "source": [
    "13//2"
   ]
  },
  {
   "cell_type": "code",
   "execution_count": 34,
   "id": "c6bfb62d-309e-437f-8712-84e0cc98de58",
   "metadata": {},
   "outputs": [
    {
     "data": {
      "text/plain": [
       "1"
      ]
     },
     "execution_count": 34,
     "metadata": {},
     "output_type": "execute_result"
    }
   ],
   "source": [
    "13%2"
   ]
  }
 ],
 "metadata": {
  "kernelspec": {
   "display_name": "Python 3 (ipykernel)",
   "language": "python",
   "name": "python3"
  },
  "language_info": {
   "codemirror_mode": {
    "name": "ipython",
    "version": 3
   },
   "file_extension": ".py",
   "mimetype": "text/x-python",
   "name": "python",
   "nbconvert_exporter": "python",
   "pygments_lexer": "ipython3",
   "version": "3.11.5"
  },
  "toc": {
   "base_numbering": 1,
   "nav_menu": {},
   "number_sections": true,
   "sideBar": true,
   "skip_h1_title": false,
   "title_cell": "Table of Contents",
   "title_sidebar": "Contents",
   "toc_cell": false,
   "toc_position": {},
   "toc_section_display": true,
   "toc_window_display": false
  },
  "vscode": {
   "interpreter": {
    "hash": "31f2aee4e71d21fbe5cf8b01ff0e069b9275f58929596ceb00d14d90e3e16cd6"
   }
  }
 },
 "nbformat": 4,
 "nbformat_minor": 5
}
