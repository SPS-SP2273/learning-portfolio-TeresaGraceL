{
 "cells": [
  {
   "attachments": {},
   "cell_type": "markdown",
   "id": "123456",
   "metadata": {},
   "source": [
    "<div style=\"text-align:left;font-size:2em\"><span style=\"font-weight:bolder;font-size:1.25em\">SP2273 | Learning Portfolio</span><br><br><span style=\"font-weight:bold;color:darkred\">Storing Data (Good)</span></div>"
   ]
  },
  {
   "cell_type": "markdown",
   "id": "12cc5541-06e9-4fe0-8187-9dcb447634e5",
   "metadata": {},
   "source": [
    "# Comments"
   ]
  },
  {
   "cell_type": "markdown",
   "id": "9f6de595-2e9c-4d90-924c-b0f864085ae8",
   "metadata": {},
   "source": [
    "**What's good:** All exercises completed. In some parts you tried out your own examples and messing around with the code.\n",
    "\n",
    "**What's not good:** Same problem as in Storing Data (Need)\n",
    "\n",
    "\"NumPy has converted everything into strings\" -- Not entirely correct because (see example below) #1 is not a string but #2 is:\n",
    "\n",
    "np_array_2d[1] #1  \n",
    "np_array_2d[1][0] #2\n",
    "\n",
    "Secondly, an exceedingly large fraction of the work was copied from the 2273 site which makes me hesitant to confirm that you understand all the content in this chapter. While I will pass this notebook once the above error is amended, I strongly encourage trying your own examples in the submitted Jupyter notebook instead of copy-pasting from the website.\n",
    "\n",
    "**Actionable:** Correct the first problem addressed above.\n",
    "\n",
    "Good-to-know (Optional): NIL"
   ]
  },
  {
   "cell_type": "markdown",
   "id": "f885cf98-c87e-40ba-a40e-498ab09f0e1d",
   "metadata": {},
   "source": [
    "Jupiter has 2 modes: one to write stuff and one that is the command mode\n",
    "- if need to undo a deleted cell, press esc + z\n",
    "You can search the functions under help. \n",
    "\n",
    "If you want to centralise math in markdown cell, use it as a block ($$)  \n",
    "other ways of making code look nicer:\n",
    "- \\begin{align}\n",
    "- \\end{align}"
   ]
  },
  {
   "cell_type": "markdown",
   "id": "30e9c052-4775-4402-8c92-b3e64041a58f",
   "metadata": {},
   "source": [
    "$$\\sqrt{b^2-4ac}$$\n",
    "\n",
    "$$\n",
    "\\begin{align}\n",
    "a=b\\\\\n",
    "c=d\\\\\n",
    "e=f\n",
    "\\end{align}\n",
    "$$\n",
    "\n"
   ]
  },
  {
   "cell_type": "markdown",
   "id": "3dda7f5c-de24-4a2c-9833-bc02be31062c",
   "metadata": {},
   "source": [
    "- also where you put the ampersand sign will cause it to each other\n",
    "\n",
    "$$\n",
    "\\begin{align}\n",
    "a=&b\\\\\n",
    "&c=d\\\\\n",
    "e=f\n",
    "\\end{align}\n",
    "$$\n",
    "\n"
   ]
  },
  {
   "attachments": {},
   "cell_type": "markdown",
   "id": "744dce5d",
   "metadata": {},
   "source": [
    "# What to expect in this chapter"
   ]
  },
  {
   "cell_type": "markdown",
   "id": "24891bb1-650c-42d5-a650-5d30f83eb7fd",
   "metadata": {},
   "source": [
    "- accessing and modifying lists, arrays, dictionaries\n",
    "- this is important because most of what you do with programming is related to accessing and changing data.\n",
    "- gain a better understanding of the differences and similarities between lists, NumPy arrays and dictionaries."
   ]
  },
  {
   "cell_type": "code",
   "execution_count": 4,
   "id": "321f5f22-c80b-4213-9c27-93683215db8f",
   "metadata": {},
   "outputs": [],
   "source": [
    "import numpy as np"
   ]
  },
  {
   "attachments": {},
   "cell_type": "markdown",
   "id": "61ba7162",
   "metadata": {},
   "source": [
    "# 1 Subsetting: Indexing and Slicing"
   ]
  },
  {
   "cell_type": "markdown",
   "id": "c1e101be-9fe0-4e96-a822-595339f96959",
   "metadata": {},
   "source": [
    "- **indexing** is picking a single element\n",
    "- **slicing** is selecting a range of elements\n",
    "- **subsetting** means \"to select\""
   ]
  },
  {
   "cell_type": "code",
   "execution_count": 30,
   "id": "490af780-6085-4103-9fff-62dbf36ede32",
   "metadata": {},
   "outputs": [],
   "source": [
    "py_superhero_info = [['Natasha Romanoff', 'Black Widow'],   #0, -3\n",
    "                     ['Tony Stark', 'Iron Man'],            #1, -2\n",
    "                     ['Stephen Strange', 'Doctor Strange']] #2, -1"
   ]
  },
  {
   "attachments": {},
   "cell_type": "markdown",
   "id": "a5128038",
   "metadata": {},
   "source": [
    "## 1.1 Lists & Arrays in 1D | Subsetting & Indexing"
   ]
  },
  {
   "cell_type": "code",
   "execution_count": 34,
   "id": "6f52aeeb-a780-4b10-a582-b0c4e738696a",
   "metadata": {},
   "outputs": [],
   "source": [
    "py_list=[\"a1\", \"b2\", \"c3\", \"d4\", \"e5\",\n",
    "         \"f6\", \"g7\", \"h8\", \"i9\", \"j10\"]"
   ]
  },
  {
   "cell_type": "code",
   "execution_count": 35,
   "id": "bca1be4f-7b0f-4db5-aabd-fe72f2a8eca4",
   "metadata": {},
   "outputs": [
    {
     "data": {
      "text/plain": [
       "'a1'"
      ]
     },
     "execution_count": 35,
     "metadata": {},
     "output_type": "execute_result"
    }
   ],
   "source": [
    "py_list[0]"
   ]
  },
  {
   "cell_type": "code",
   "execution_count": 36,
   "id": "ae07ff4a-15b6-4dd9-9f39-7b25718bd68c",
   "metadata": {},
   "outputs": [
    {
     "data": {
      "text/plain": [
       "'j10'"
      ]
     },
     "execution_count": 36,
     "metadata": {},
     "output_type": "execute_result"
    }
   ],
   "source": [
    "py_list[-1]"
   ]
  },
  {
   "cell_type": "code",
   "execution_count": 37,
   "id": "a4c06a64-0722-440c-b07a-413ea1bb97fe",
   "metadata": {},
   "outputs": [
    {
     "data": {
      "text/plain": [
       "['a1', 'b2', 'c3']"
      ]
     },
     "execution_count": 37,
     "metadata": {},
     "output_type": "execute_result"
    }
   ],
   "source": [
    "py_list[0:3] #slice of list, will get the difference of the number of elements - won't see the last one "
   ]
  },
  {
   "cell_type": "code",
   "execution_count": 38,
   "id": "9065b63e-213d-4fd9-8502-fa09bc24924c",
   "metadata": {},
   "outputs": [
    {
     "data": {
      "text/plain": [
       "['b2', 'c3']"
      ]
     },
     "execution_count": 38,
     "metadata": {},
     "output_type": "execute_result"
    }
   ],
   "source": [
    "py_list[1:3]"
   ]
  },
  {
   "cell_type": "code",
   "execution_count": 46,
   "id": "93ee3fae-a924-4b24-903d-948ca947fcbd",
   "metadata": {},
   "outputs": [
    {
     "data": {
      "text/plain": [
       "['c3', 'd4', 'e5', 'f6', 'g7']"
      ]
     },
     "execution_count": 46,
     "metadata": {},
     "output_type": "execute_result"
    }
   ],
   "source": [
    "py_list[2:-3]"
   ]
  },
  {
   "cell_type": "code",
   "execution_count": 43,
   "id": "cddecf64-6253-4be8-8fef-b85c8391fc37",
   "metadata": {},
   "outputs": [
    {
     "data": {
      "text/plain": [
       "['b2', 'c3', 'd4', 'e5', 'f6']"
      ]
     },
     "execution_count": 43,
     "metadata": {},
     "output_type": "execute_result"
    }
   ],
   "source": [
    "py_list[1:6]"
   ]
  },
  {
   "cell_type": "code",
   "execution_count": 45,
   "id": "767b7b72-444a-4e47-a362-9aeb1a64c256",
   "metadata": {},
   "outputs": [
    {
     "data": {
      "text/plain": [
       "['b2', 'd4', 'f6']"
      ]
     },
     "execution_count": 45,
     "metadata": {},
     "output_type": "execute_result"
    }
   ],
   "source": [
    "py_list[1:6:2] #take steps of 2"
   ]
  },
  {
   "cell_type": "code",
   "execution_count": 49,
   "id": "c4221e3a-7b54-4460-9745-8b47d31a06d0",
   "metadata": {},
   "outputs": [
    {
     "data": {
      "text/plain": [
       "['f6', 'g7', 'h8', 'i9', 'j10']"
      ]
     },
     "execution_count": 49,
     "metadata": {},
     "output_type": "execute_result"
    }
   ],
   "source": [
    "py_list[5:] #get everything up to the end"
   ]
  },
  {
   "cell_type": "code",
   "execution_count": 48,
   "id": "52d3b423-d8e6-4cc1-8d13-0f0a1c48d28d",
   "metadata": {},
   "outputs": [
    {
     "data": {
      "text/plain": [
       "['f6', 'h8', 'j10']"
      ]
     },
     "execution_count": 48,
     "metadata": {},
     "output_type": "execute_result"
    }
   ],
   "source": [
    "py_list[5::2] #get every 2nd number up to the end"
   ]
  },
  {
   "cell_type": "code",
   "execution_count": 50,
   "id": "7f35bd8e-ebcc-45d1-afe7-d61de0eb78d4",
   "metadata": {},
   "outputs": [
    {
     "data": {
      "text/plain": [
       "['a1', 'b2', 'c3', 'd4', 'e5']"
      ]
     },
     "execution_count": 50,
     "metadata": {},
     "output_type": "execute_result"
    }
   ],
   "source": [
    "py_list[:5] #get from the start to the 5th index, likeputting a 0"
   ]
  },
  {
   "cell_type": "code",
   "execution_count": 51,
   "id": "81bdf3e6-a1da-4c8c-970f-ef8c908090bf",
   "metadata": {},
   "outputs": [
    {
     "data": {
      "text/plain": [
       "['f6', 'e5', 'd4']"
      ]
     },
     "execution_count": 51,
     "metadata": {},
     "output_type": "execute_result"
    }
   ],
   "source": [
    "py_list[5:2:-1]"
   ]
  },
  {
   "cell_type": "code",
   "execution_count": 52,
   "id": "916c619c-1306-417b-a156-dfaf5d6f30a2",
   "metadata": {},
   "outputs": [
    {
     "data": {
      "text/plain": [
       "[]"
      ]
     },
     "execution_count": 52,
     "metadata": {},
     "output_type": "execute_result"
    }
   ],
   "source": [
    "py_list[5:2] #does not work because default step size is 1"
   ]
  },
  {
   "cell_type": "markdown",
   "id": "62a21117-0cca-43d8-9288-97abcbee06c3",
   "metadata": {},
   "source": [
    "- cool and useful thing: reverse the list\n",
    "- eg when you are more interested in your last datapoint than the first"
   ]
  },
  {
   "cell_type": "code",
   "execution_count": 54,
   "id": "c2f5f39b-cba7-4d8e-9e21-ad08e1c23811",
   "metadata": {},
   "outputs": [
    {
     "data": {
      "text/plain": [
       "['j10', 'i9', 'h8', 'g7', 'f6', 'e5', 'd4', 'c3', 'b2', 'a1']"
      ]
     },
     "execution_count": 54,
     "metadata": {},
     "output_type": "execute_result"
    }
   ],
   "source": [
    "py_list[::-1]"
   ]
  },
  {
   "attachments": {},
   "cell_type": "markdown",
   "id": "1e921289",
   "metadata": {},
   "source": [
    "## 1.2 Arrays only | Subsetting by masking"
   ]
  },
  {
   "cell_type": "code",
   "execution_count": 55,
   "id": "9fb7cc68-8c84-4414-85c4-79ad03926043",
   "metadata": {},
   "outputs": [],
   "source": [
    "np_array = np.array([1, 2, 3, 4, 5, 6, 7, 8, 9, 10])"
   ]
  },
  {
   "cell_type": "code",
   "execution_count": 56,
   "id": "e6dd0195-c687-4867-a439-a896c7bd793d",
   "metadata": {},
   "outputs": [
    {
     "data": {
      "text/plain": [
       "array([False, False, False,  True,  True,  True,  True,  True,  True,\n",
       "        True])"
      ]
     },
     "execution_count": 56,
     "metadata": {},
     "output_type": "execute_result"
    }
   ],
   "source": [
    "np_array > 3"
   ]
  },
  {
   "cell_type": "markdown",
   "id": "986164dd-ad72-451b-bff9-b02e10272fa1",
   "metadata": {},
   "source": [
    "mask: show me all the true ones and don't show me the false ones\n",
    "- acts like a mask, allowing only the true subset to be seen\n",
    "- subsetting by masking only works w NumPy arrays"
   ]
  },
  {
   "cell_type": "code",
   "execution_count": 59,
   "id": "a934be42-f540-4334-8c9f-f07a257e721a",
   "metadata": {},
   "outputs": [
    {
     "data": {
      "text/plain": [
       "array([ 4,  5,  6,  7,  8,  9, 10])"
      ]
     },
     "execution_count": 59,
     "metadata": {},
     "output_type": "execute_result"
    }
   ],
   "source": [
    "my_mask = np_array > 3\n",
    "np_array[my_mask]"
   ]
  },
  {
   "cell_type": "markdown",
   "id": "9aef69d4-7466-4943-a0e8-51f34aa265af",
   "metadata": {},
   "source": [
    "- instead of creating another variable, there is a more succinct way to do it"
   ]
  },
  {
   "cell_type": "code",
   "execution_count": 61,
   "id": "34bb3c2a-4932-4923-b031-c98360f5a4dc",
   "metadata": {},
   "outputs": [
    {
     "data": {
      "text/plain": [
       "array([ 4,  5,  6,  7,  8,  9, 10])"
      ]
     },
     "execution_count": 61,
     "metadata": {},
     "output_type": "execute_result"
    }
   ],
   "source": [
    "np_array[np_array > 3]"
   ]
  },
  {
   "cell_type": "markdown",
   "id": "16aa76c1-fd10-431e-baea-4ab63f9c961d",
   "metadata": {},
   "source": [
    "**Example 1**  \n",
    "invert our mask by using ~ the Bitwise Not operator"
   ]
  },
  {
   "cell_type": "code",
   "execution_count": 63,
   "id": "5f4a7087-ad0b-4824-8a7d-f5ad87641bf4",
   "metadata": {},
   "outputs": [
    {
     "data": {
      "text/plain": [
       "array([1, 2, 3])"
      ]
     },
     "execution_count": 63,
     "metadata": {},
     "output_type": "execute_result"
    }
   ],
   "source": [
    "np_array[~(np_array > 3)]                 # '~' means 'NOT'"
   ]
  },
  {
   "cell_type": "markdown",
   "id": "bf5af7d1-4aee-4894-a2f8-07e192755951",
   "metadata": {},
   "source": [
    "**Example 2**  \n",
    "combine one mask AND another mask, shows something only if both masks are true\n",
    "- brackets are essential to clarify what you want the mask to do"
   ]
  },
  {
   "cell_type": "code",
   "execution_count": 64,
   "id": "e0ff5c77-b02b-405f-b4d4-c3db6b7e8dd4",
   "metadata": {},
   "outputs": [
    {
     "data": {
      "text/plain": [
       "array([4, 5, 6, 7])"
      ]
     },
     "execution_count": 64,
     "metadata": {},
     "output_type": "execute_result"
    }
   ],
   "source": [
    "np_array[(np_array > 3) & (np_array < 8)] # '&' means 'AND'"
   ]
  },
  {
   "cell_type": "markdown",
   "id": "36c0e742-b240-4a0b-886b-f943273da2cb",
   "metadata": {},
   "source": [
    "**Example 3**  \n",
    "combine one mask OR another mask, shows something if either mask is true"
   ]
  },
  {
   "cell_type": "code",
   "execution_count": 65,
   "id": "bec5ebcc-7e97-4479-be21-d9467f85740c",
   "metadata": {},
   "outputs": [
    {
     "data": {
      "text/plain": [
       "array([ 1,  2,  9, 10])"
      ]
     },
     "execution_count": 65,
     "metadata": {},
     "output_type": "execute_result"
    }
   ],
   "source": [
    "np_array[(np_array < 3) | (np_array > 8)] # '|' means 'OR'"
   ]
  },
  {
   "attachments": {},
   "cell_type": "markdown",
   "id": "0dbd4e34",
   "metadata": {},
   "source": [
    "## 1.3 Lists & Arrays in 2D | Indexing & Slicing"
   ]
  },
  {
   "cell_type": "code",
   "execution_count": 5,
   "id": "1d9a0256-ea3a-4009-b184-db355f00e715",
   "metadata": {},
   "outputs": [],
   "source": [
    "py_list_2d = [[1, \"A\"], [2, \"B\"], [3, \"C\"], [4, \"D\"],\n",
    "              [5, \"E\"], [6, \"F\"], [7, \"G\"], [8, \"H\"],\n",
    "              [9, \"I\"], [10, \"J\"]]\n",
    "\n",
    "np_array_2d = np.array(py_list_2d)"
   ]
  },
  {
   "cell_type": "code",
   "execution_count": 6,
   "id": "2bb717f6-c0c8-4c25-adcc-1e0abc63aa58",
   "metadata": {},
   "outputs": [
    {
     "data": {
      "text/plain": [
       "[[1, 'A'],\n",
       " [2, 'B'],\n",
       " [3, 'C'],\n",
       " [4, 'D'],\n",
       " [5, 'E'],\n",
       " [6, 'F'],\n",
       " [7, 'G'],\n",
       " [8, 'H'],\n",
       " [9, 'I'],\n",
       " [10, 'J']]"
      ]
     },
     "execution_count": 6,
     "metadata": {},
     "output_type": "execute_result"
    }
   ],
   "source": [
    "py_list_2d"
   ]
  },
  {
   "cell_type": "code",
   "execution_count": 7,
   "id": "b3104758-11f3-4d94-bead-437cc61d9c79",
   "metadata": {},
   "outputs": [
    {
     "data": {
      "text/plain": [
       "array([['1', 'A'],\n",
       "       ['2', 'B'],\n",
       "       ['3', 'C'],\n",
       "       ['4', 'D'],\n",
       "       ['5', 'E'],\n",
       "       ['6', 'F'],\n",
       "       ['7', 'G'],\n",
       "       ['8', 'H'],\n",
       "       ['9', 'I'],\n",
       "       ['10', 'J']], dtype='<U21')"
      ]
     },
     "execution_count": 7,
     "metadata": {},
     "output_type": "execute_result"
    }
   ],
   "source": [
    "np_array_2d"
   ]
  },
  {
   "cell_type": "markdown",
   "id": "4a4674ed-4e44-47c0-a782-737c587def79",
   "metadata": {},
   "source": [
    "- **amended based on comment**  \n",
    "NumPy has converted the elements into the same type. "
   ]
  },
  {
   "cell_type": "code",
   "execution_count": 13,
   "id": "0e5a4fb3-95be-4ad4-80e2-474e23d98c3d",
   "metadata": {},
   "outputs": [
    {
     "data": {
      "text/plain": [
       "array(['2', 'B'], dtype='<U21')"
      ]
     },
     "execution_count": 13,
     "metadata": {},
     "output_type": "execute_result"
    }
   ],
   "source": [
    "np_array_2d[1] #this is a slice of the NumPy array"
   ]
  },
  {
   "cell_type": "code",
   "execution_count": 12,
   "id": "db86ef7a-dca0-44fe-8793-cc1010578987",
   "metadata": {},
   "outputs": [
    {
     "data": {
      "text/plain": [
       "'2'"
      ]
     },
     "execution_count": 12,
     "metadata": {},
     "output_type": "execute_result"
    }
   ],
   "source": [
    "np_array_2d[1][0] #this is a string"
   ]
  },
  {
   "cell_type": "markdown",
   "id": "a12326c9-49cc-4049-b0f0-bced87211349",
   "metadata": {},
   "source": [
    "**Example 1** What is at position 4 (index 3)"
   ]
  },
  {
   "cell_type": "code",
   "execution_count": 76,
   "id": "bb6da342-8979-4049-a8e1-50a919c1811d",
   "metadata": {},
   "outputs": [
    {
     "data": {
      "text/plain": [
       "[4, 'D']"
      ]
     },
     "execution_count": 76,
     "metadata": {},
     "output_type": "execute_result"
    }
   ],
   "source": [
    "py_list_2d[3]"
   ]
  },
  {
   "cell_type": "code",
   "execution_count": 77,
   "id": "51638401-f91f-496a-ab14-29e256e8a11a",
   "metadata": {},
   "outputs": [
    {
     "data": {
      "text/plain": [
       "array(['4', 'D'], dtype='<U21')"
      ]
     },
     "execution_count": 77,
     "metadata": {},
     "output_type": "execute_result"
    }
   ],
   "source": [
    "np_array_2d[3]"
   ]
  },
  {
   "cell_type": "markdown",
   "id": "c861b5a5-f630-4ff5-9b6d-7c43835a9e94",
   "metadata": {},
   "source": [
    "**Example 2** What is the FIRST element at position 4 (index 3)"
   ]
  },
  {
   "cell_type": "code",
   "execution_count": 82,
   "id": "5006f3c8-24c4-444b-aa23-aaf8e7f39067",
   "metadata": {},
   "outputs": [
    {
     "data": {
      "text/plain": [
       "4"
      ]
     },
     "execution_count": 82,
     "metadata": {},
     "output_type": "execute_result"
    }
   ],
   "source": [
    "py_list_2d[3][0]"
   ]
  },
  {
   "cell_type": "code",
   "execution_count": 79,
   "id": "b8e185a5-f452-4106-99e4-2ed87ee86516",
   "metadata": {},
   "outputs": [
    {
     "data": {
      "text/plain": [
       "'4'"
      ]
     },
     "execution_count": 79,
     "metadata": {},
     "output_type": "execute_result"
    }
   ],
   "source": [
    "np_array_2d[3, 0]"
   ]
  },
  {
   "cell_type": "markdown",
   "id": "114add0f-ce24-4d8b-8029-2db5f96cbe08",
   "metadata": {},
   "source": [
    "- the array version is easier to play with"
   ]
  },
  {
   "cell_type": "markdown",
   "id": "e56b42bc-037a-42af-9621-3697c5ab7019",
   "metadata": {},
   "source": [
    "**Example 3** What are the first three elements"
   ]
  },
  {
   "cell_type": "code",
   "execution_count": 80,
   "id": "133dbbe6-31d9-432f-8931-6d7249205a43",
   "metadata": {},
   "outputs": [
    {
     "data": {
      "text/plain": [
       "[[1, 'A'], [2, 'B'], [3, 'C']]"
      ]
     },
     "execution_count": 80,
     "metadata": {},
     "output_type": "execute_result"
    }
   ],
   "source": [
    "py_list_2d[:3]"
   ]
  },
  {
   "cell_type": "code",
   "execution_count": 81,
   "id": "b865dd3c-9cb8-4597-b332-df961685083e",
   "metadata": {},
   "outputs": [
    {
     "data": {
      "text/plain": [
       "array([['1', 'A'],\n",
       "       ['2', 'B'],\n",
       "       ['3', 'C']], dtype='<U21')"
      ]
     },
     "execution_count": 81,
     "metadata": {},
     "output_type": "execute_result"
    }
   ],
   "source": [
    "np_array_2d[:3]"
   ]
  },
  {
   "cell_type": "markdown",
   "id": "b44ba152-df27-4097-ae7c-3792937d47a1",
   "metadata": {},
   "source": [
    "**Example 4** NumPy arrays works very differently from lists"
   ]
  },
  {
   "cell_type": "code",
   "execution_count": 83,
   "id": "654596f3-13ab-4ce8-bf59-5e6ed23a7ac7",
   "metadata": {},
   "outputs": [
    {
     "data": {
      "text/plain": [
       "[1, 'A']"
      ]
     },
     "execution_count": 83,
     "metadata": {},
     "output_type": "execute_result"
    }
   ],
   "source": [
    "py_list_2d[:3][0]"
   ]
  },
  {
   "cell_type": "code",
   "execution_count": 85,
   "id": "9ad0929e-8a4f-4f3b-8897-6b5b53e01386",
   "metadata": {},
   "outputs": [
    {
     "data": {
      "text/plain": [
       "array(['1', '2', '3'], dtype='<U21')"
      ]
     },
     "execution_count": 85,
     "metadata": {},
     "output_type": "execute_result"
    }
   ],
   "source": [
    "np_array_2d[:3, 0]"
   ]
  },
  {
   "cell_type": "markdown",
   "id": "0adfba35-4187-480a-b552-1d55cb3a5c59",
   "metadata": {},
   "source": [
    "**Example 5** to get everything, use :"
   ]
  },
  {
   "cell_type": "code",
   "execution_count": 89,
   "id": "8aeff66d-198d-4ac1-81d7-ec443def51e8",
   "metadata": {},
   "outputs": [
    {
     "data": {
      "text/plain": [
       "[4, 'D']"
      ]
     },
     "execution_count": 89,
     "metadata": {},
     "output_type": "execute_result"
    }
   ],
   "source": [
    "py_list_2d[3:6][0]"
   ]
  },
  {
   "cell_type": "code",
   "execution_count": 94,
   "id": "fdb154a4-0c9e-464c-81f6-f881186de55a",
   "metadata": {},
   "outputs": [
    {
     "data": {
      "text/plain": [
       "array(['4', '5', '6'], dtype='<U21')"
      ]
     },
     "execution_count": 94,
     "metadata": {},
     "output_type": "execute_result"
    }
   ],
   "source": [
    "np_array_2d[3:6, 0] #applies it to all the elements in the array"
   ]
  },
  {
   "cell_type": "code",
   "execution_count": 95,
   "id": "66ccef0f-23e1-4adf-9267-4ef0b430c2d6",
   "metadata": {},
   "outputs": [
    {
     "data": {
      "text/plain": [
       "array(['1', '2', '3', '4', '5', '6', '7', '8', '9', '10'], dtype='<U21')"
      ]
     },
     "execution_count": 95,
     "metadata": {},
     "output_type": "execute_result"
    }
   ],
   "source": [
    "np_array_2d[:, 0]"
   ]
  },
  {
   "cell_type": "markdown",
   "id": "839d190f-6bde-45a5-a374-2503320c73e8",
   "metadata": {},
   "source": [
    "- understand the features to implement them when it is necessary"
   ]
  },
  {
   "cell_type": "markdown",
   "id": "7dd3b19b-0f7a-4fe6-aa2f-8faa9023b6f8",
   "metadata": {},
   "source": [
    "### More Examples"
   ]
  },
  {
   "cell_type": "markdown",
   "id": "f2915fd7-6c6d-4966-bf4b-fe5587ace918",
   "metadata": {},
   "source": [
    "**subsetting by masking** for np arrays"
   ]
  },
  {
   "cell_type": "code",
   "execution_count": 25,
   "id": "94e35198-292f-4f05-a73d-36bddac74cd5",
   "metadata": {},
   "outputs": [
    {
     "name": "stdout",
     "output_type": "stream",
     "text": [
      "[13 14 15 16 17 18 19 20 21 22]\n"
     ]
    }
   ],
   "source": [
    "ten_integers = list(range(13,23))\n",
    "int_array = np.array(ten_integers)\n",
    "print(int_array)"
   ]
  },
  {
   "cell_type": "code",
   "execution_count": 26,
   "id": "b1d07f74-adac-4239-8b27-f314f13ee5d5",
   "metadata": {},
   "outputs": [
    {
     "data": {
      "text/plain": [
       "array([16, 17, 18, 19])"
      ]
     },
     "execution_count": 26,
     "metadata": {},
     "output_type": "execute_result"
    }
   ],
   "source": [
    "int_array[(int_array<20) & (int_array>15)] #bitwise AND &"
   ]
  },
  {
   "cell_type": "code",
   "execution_count": 27,
   "id": "be1236af-51ff-497a-a8fa-bf4064ead27f",
   "metadata": {},
   "outputs": [
    {
     "data": {
      "text/plain": [
       "array([13, 14, 15, 16, 17, 18, 19, 20, 21, 22])"
      ]
     },
     "execution_count": 27,
     "metadata": {},
     "output_type": "execute_result"
    }
   ],
   "source": [
    "int_array[(int_array<18) | (int_array>14)] #bitwise OR |"
   ]
  },
  {
   "cell_type": "code",
   "execution_count": 28,
   "id": "42992e5e-80a3-4072-b841-c42483b603f5",
   "metadata": {},
   "outputs": [
    {
     "data": {
      "text/plain": [
       "array([13, 14, 15])"
      ]
     },
     "execution_count": 28,
     "metadata": {},
     "output_type": "execute_result"
    }
   ],
   "source": [
    "int_array[~(int_array>=16)] #bitwise NOT ~"
   ]
  },
  {
   "cell_type": "code",
   "execution_count": 30,
   "id": "d818f777-1392-4ad6-9f1e-382afef85b17",
   "metadata": {},
   "outputs": [
    {
     "data": {
      "text/plain": [
       "array([14, 16, 18, 20, 22])"
      ]
     },
     "execution_count": 30,
     "metadata": {},
     "output_type": "execute_result"
    }
   ],
   "source": [
    "int_array[int_array % 2 == 0] #show only the even numbers"
   ]
  },
  {
   "cell_type": "markdown",
   "id": "91a29c2b-0164-4155-8364-3d51edb440f5",
   "metadata": {},
   "source": [
    "- more subsetting by masking"
   ]
  },
  {
   "cell_type": "code",
   "execution_count": 43,
   "id": "b6257e86-7166-48a3-8211-eb489ae79614",
   "metadata": {},
   "outputs": [
    {
     "name": "stdout",
     "output_type": "stream",
     "text": [
      "[ 91  98 105 112 119 126 133 140 147 154 161 168 175 182 189 196 203]\n"
     ]
    }
   ],
   "source": [
    "more_integers = list(range(91,210,7))\n",
    "sevens = np.array(more_integers)\n",
    "print(sevens)"
   ]
  },
  {
   "cell_type": "code",
   "execution_count": 51,
   "id": "240b51f4-34f3-4c2a-a72f-4b61e87f2b28",
   "metadata": {},
   "outputs": [
    {
     "data": {
      "text/plain": [
       "array([105, 126, 147, 168, 189])"
      ]
     },
     "execution_count": 51,
     "metadata": {},
     "output_type": "execute_result"
    }
   ],
   "source": [
    "sevens[sevens % 3 == 0] #show numbers divisible by 3"
   ]
  },
  {
   "cell_type": "code",
   "execution_count": 57,
   "id": "a507a096-5cc9-46d9-a086-b78e9fc4a1be",
   "metadata": {},
   "outputs": [
    {
     "data": {
      "text/plain": [
       "array([ 98, 112, 140, 154, 182, 196])"
      ]
     },
     "execution_count": 57,
     "metadata": {},
     "output_type": "execute_result"
    }
   ],
   "source": [
    "sevens[(~(sevens % 3 == 0)) & (sevens % 2 == 0)] #show even numbers not divisible by 3"
   ]
  },
  {
   "cell_type": "code",
   "execution_count": 58,
   "id": "3fb65b79-6888-4277-821f-fc5087adaabb",
   "metadata": {},
   "outputs": [
    {
     "data": {
      "text/plain": [
       "array([ 91,  98, 105, 112, 119, 126, 133, 140, 147, 168, 189])"
      ]
     },
     "execution_count": 58,
     "metadata": {},
     "output_type": "execute_result"
    }
   ],
   "source": [
    "sevens[(sevens <= 140) | (sevens % 3 == 0)] #show numbers less than 140 or divisible by 3"
   ]
  },
  {
   "cell_type": "markdown",
   "id": "cc85c594-dcaf-4724-84cb-4ef1883ca847",
   "metadata": {},
   "source": [
    "**indexing and slicing 2d lists and arrays**"
   ]
  },
  {
   "cell_type": "code",
   "execution_count": 62,
   "id": "0d902877-836d-484f-ace1-387ee86f90ce",
   "metadata": {},
   "outputs": [
    {
     "name": "stdout",
     "output_type": "stream",
     "text": [
      "[[3, 'Esplanade'], [4, 'Promenade'], [5, 'Nicoll'], [6, 'Stadium'], [7, 'Mountbatten'], [8, 'Dakota']]\n",
      "---\n",
      "[['3' 'Esplanade']\n",
      " ['4' 'Promenade']\n",
      " ['5' 'Nicoll']\n",
      " ['6' 'Stadium']\n",
      " ['7' 'Mountbatten']\n",
      " ['8' 'Dakota']]\n"
     ]
    }
   ],
   "source": [
    "mrt_2d = [[3, \"Esplanade\"],\n",
    "          [4, \"Promenade\"], \n",
    "          [5, \"Nicoll\"], \n",
    "          [6, \"Stadium\"], \n",
    "          [7, \"Mountbatten\"], \n",
    "          [8, \"Dakota\"]]\n",
    "print(mrt_2d)\n",
    "print('---')\n",
    "mrt2d_array = np.array(mrt_2d)\n",
    "print(mrt2d_array)"
   ]
  },
  {
   "cell_type": "code",
   "execution_count": 81,
   "id": "4f21fcef-b43b-427e-8bf1-5430bcbd2a38",
   "metadata": {},
   "outputs": [
    {
     "name": "stdout",
     "output_type": "stream",
     "text": [
      "['Esplanade' 'Promenade' 'Nicoll' 'Stadium' 'Mountbatten' 'Dakota']\n",
      "['3' '4' '5' '6' '7' '8']\n"
     ]
    }
   ],
   "source": [
    "stations_arr = mrt2d_array[:, 1] #all the station names, which are in the 2nd column 2d array - indexed as column 1\n",
    "print(stations_arr)\n",
    "ccnumbers_arr = mrt2d_array[:, 0] #all the station names, which are in the 2nd column 2d array - indexed as column 1\n",
    "print(ccnumbers_arr)"
   ]
  },
  {
   "cell_type": "code",
   "execution_count": 92,
   "id": "a31c2a4d-2055-481b-b601-74794596f208",
   "metadata": {},
   "outputs": [
    {
     "data": {
      "text/plain": [
       "[[3, 'Esplanade'], [4, 'Promenade'], [5, 'Nicoll']]"
      ]
     },
     "execution_count": 92,
     "metadata": {},
     "output_type": "execute_result"
    }
   ],
   "source": [
    "mrt_2d[0:3] #the first element has index of 0"
   ]
  },
  {
   "cell_type": "code",
   "execution_count": 82,
   "id": "85c5c8b4-8fbf-49e0-bc0d-7320988e7267",
   "metadata": {},
   "outputs": [
    {
     "data": {
      "text/plain": [
       "['Esplanade', 'Promenade', 'Nicoll', 'Stadium', 'Mountbatten', 'Dakota']"
      ]
     },
     "execution_count": 82,
     "metadata": {},
     "output_type": "execute_result"
    }
   ],
   "source": [
    "#using list comprehension (from loops good) to extract the station names from the 2d list\n",
    "\n",
    "[station[1] for station in mrt_2d]"
   ]
  },
  {
   "attachments": {},
   "cell_type": "markdown",
   "id": "c3f53dde",
   "metadata": {},
   "source": [
    "## 1.4 Growing lists"
   ]
  },
  {
   "cell_type": "markdown",
   "id": "ff71e3ea-ce3c-4cdb-b08d-30d1b0928539",
   "metadata": {},
   "source": [
    "- lists are easy and efficient to grow\n",
    "- NumPy arrays are good and have more intuitive slicing syntax, useful for fast math operations if you do not change their size"
   ]
  },
  {
   "cell_type": "markdown",
   "id": "7f3b6c53-5688-4729-a636-545311068e53",
   "metadata": {},
   "source": [
    "**Example 1** creating a larger list from a smaller one"
   ]
  },
  {
   "cell_type": "code",
   "execution_count": 96,
   "id": "468bf960-1194-4c2b-a846-f202138d80fc",
   "metadata": {},
   "outputs": [
    {
     "data": {
      "text/plain": [
       "[1, 2, 1, 2, 1, 2, 1, 2, 1, 2]"
      ]
     },
     "execution_count": 96,
     "metadata": {},
     "output_type": "execute_result"
    }
   ],
   "source": [
    "x=[1, 2]*5\n",
    "x"
   ]
  },
  {
   "cell_type": "markdown",
   "id": "e6339099-f607-46ee-8b8c-825ca4ef8073",
   "metadata": {},
   "source": [
    "**Example 2** 3 ways to grow the list "
   ]
  },
  {
   "cell_type": "code",
   "execution_count": 98,
   "id": "e06b72db-82c8-4444-81d4-616cafc65b98",
   "metadata": {},
   "outputs": [
    {
     "data": {
      "text/plain": [
       "[1, 2, 3, 4]"
      ]
     },
     "execution_count": 98,
     "metadata": {},
     "output_type": "execute_result"
    }
   ],
   "source": [
    "x=[1]\n",
    "x= x + [2]\n",
    "x= x + [3]\n",
    "x= x + [4]\n",
    "x"
   ]
  },
  {
   "cell_type": "code",
   "execution_count": 99,
   "id": "4142c767-f188-4172-b48d-b8af2af83378",
   "metadata": {},
   "outputs": [
    {
     "data": {
      "text/plain": [
       "[1, 2, 3, 4]"
      ]
     },
     "execution_count": 99,
     "metadata": {},
     "output_type": "execute_result"
    }
   ],
   "source": [
    "x=[1]\n",
    "x+= [2]\n",
    "x+= [3]\n",
    "x+= [4]\n",
    "x"
   ]
  },
  {
   "cell_type": "markdown",
   "id": "41051754-5101-415a-a2b0-481fef7f3c19",
   "metadata": {},
   "source": [
    "- different execution speeds\n",
    "- append runs 1.5 times faster than the rest"
   ]
  },
  {
   "cell_type": "code",
   "execution_count": 100,
   "id": "783a9b0c-a5f1-4353-a3af-894709afb53c",
   "metadata": {},
   "outputs": [
    {
     "data": {
      "text/plain": [
       "[1, 2, 3, 4]"
      ]
     },
     "execution_count": 100,
     "metadata": {},
     "output_type": "execute_result"
    }
   ],
   "source": [
    "x=[1]\n",
    "x.append(2)\n",
    "x.append(3)\n",
    "x.append(4)\n",
    "x"
   ]
  },
  {
   "cell_type": "markdown",
   "id": "2d3074f5-0c0c-4e34-a043-d30ed107e67e",
   "metadata": {},
   "source": [
    "**Example 3** 3 ways of incorporating multiple elements.\n",
    "- Notice the difference between the effects of extend() and append()."
   ]
  },
  {
   "cell_type": "code",
   "execution_count": 102,
   "id": "9f0a1551-2309-4f45-aac9-fe57b46f3a1e",
   "metadata": {},
   "outputs": [
    {
     "data": {
      "text/plain": [
       "[1, 2, 3, 4, 5, 6]"
      ]
     },
     "execution_count": 102,
     "metadata": {},
     "output_type": "execute_result"
    }
   ],
   "source": [
    "x = [1, 2, 3]\n",
    "x += [4, 5, 6]\n",
    "x"
   ]
  },
  {
   "cell_type": "code",
   "execution_count": 103,
   "id": "0733d97b-5b39-4a32-80fc-ade13224d04a",
   "metadata": {},
   "outputs": [
    {
     "data": {
      "text/plain": [
       "[1, 2, 3, 4, 5, 6]"
      ]
     },
     "execution_count": 103,
     "metadata": {},
     "output_type": "execute_result"
    }
   ],
   "source": [
    "x=[1, 2, 3]\n",
    "x.extend([4, 5, 6])\n",
    "x"
   ]
  },
  {
   "cell_type": "code",
   "execution_count": 104,
   "id": "02cfefd6-3539-4986-8f44-9941fcb51be9",
   "metadata": {},
   "outputs": [
    {
     "data": {
      "text/plain": [
       "[1, 2, 3, [4, 5, 6]]"
      ]
     },
     "execution_count": 104,
     "metadata": {},
     "output_type": "execute_result"
    }
   ],
   "source": [
    "x=[1, 2, 3]\n",
    "x.append([4, 5, 6])\n",
    "x"
   ]
  },
  {
   "cell_type": "code",
   "execution_count": 105,
   "id": "e47b6752-0dc6-4224-b8cc-d428bbe920cc",
   "metadata": {},
   "outputs": [
    {
     "data": {
      "text/plain": [
       "[1, 4, 5, 1, 2, 3]"
      ]
     },
     "execution_count": 105,
     "metadata": {},
     "output_type": "execute_result"
    }
   ],
   "source": [
    "x=[1,2,3]\n",
    "[1,4,5] + x #add to the front of the list but may be slow"
   ]
  },
  {
   "cell_type": "markdown",
   "id": "ab01d2c2-3c50-4173-b4b5-e4a15eae0b3d",
   "metadata": {},
   "source": [
    "- computer memory is like boxes, adding to the things at the front using .prepend() may be slow because it writes new list\n",
    "- write in a way that makes sense, speed considerations later"
   ]
  },
  {
   "attachments": {},
   "cell_type": "markdown",
   "id": "0b9e3d9b",
   "metadata": {},
   "source": [
    "# Some loose ends"
   ]
  },
  {
   "attachments": {},
   "cell_type": "markdown",
   "id": "1855ffc4",
   "metadata": {},
   "source": [
    "## 1.5 Tuples"
   ]
  },
  {
   "cell_type": "markdown",
   "id": "28aa7296-1c5e-46ba-af19-152ed7b3862a",
   "metadata": {},
   "source": [
    "- another data storage structure\n",
    "- **Tuples** are similar to lists, except they use () and cannot be modified after creation (**immutable**)\n",
    "  - we can access data in the same way but CANNOT CHANGE data"
   ]
  },
  {
   "cell_type": "code",
   "execution_count": 106,
   "id": "590ddc1a-21b5-4cff-b74b-e840a7e5c3f7",
   "metadata": {},
   "outputs": [],
   "source": [
    "a=(1, 2, 3)     # Define tuple"
   ]
  },
  {
   "cell_type": "code",
   "execution_count": 107,
   "id": "02285831-4131-43c8-af12-d146befc996f",
   "metadata": {},
   "outputs": [
    {
     "name": "stdout",
     "output_type": "stream",
     "text": [
      "1\n"
     ]
    }
   ],
   "source": [
    "print(a[0])    # Access data"
   ]
  },
  {
   "cell_type": "code",
   "execution_count": 108,
   "id": "7c9f15aa-3c5c-46e4-9800-4c3b002bca05",
   "metadata": {},
   "outputs": [
    {
     "ename": "TypeError",
     "evalue": "'tuple' object does not support item assignment",
     "output_type": "error",
     "traceback": [
      "\u001b[0;31m---------------------------------------------------------------------------\u001b[0m",
      "\u001b[0;31mTypeError\u001b[0m                                 Traceback (most recent call last)",
      "Cell \u001b[0;32mIn[108], line 2\u001b[0m\n\u001b[1;32m      1\u001b[0m \u001b[38;5;66;03m# The following will NOT work\u001b[39;00m\n\u001b[0;32m----> 2\u001b[0m a[\u001b[38;5;241m0\u001b[39m]\u001b[38;5;241m=\u001b[39m\u001b[38;5;241m-\u001b[39m\u001b[38;5;241m1\u001b[39m\n\u001b[1;32m      3\u001b[0m a[\u001b[38;5;241m0\u001b[39m]\u001b[38;5;241m+\u001b[39m\u001b[38;5;241m=\u001b[39m [\u001b[38;5;241m10\u001b[39m]\n",
      "\u001b[0;31mTypeError\u001b[0m: 'tuple' object does not support item assignment"
     ]
    }
   ],
   "source": [
    "# The following will NOT work\n",
    "a[0]=-1\n",
    "a[0]+= [10]"
   ]
  },
  {
   "cell_type": "code",
   "execution_count": 110,
   "id": "c7c1a38e-cef9-43a0-8568-764bb037cf26",
   "metadata": {},
   "outputs": [],
   "source": [
    "c=[1,2,3,4,5]"
   ]
  },
  {
   "cell_type": "code",
   "execution_count": 114,
   "id": "1c8a964d-3bbf-42f4-bdd6-44398ea67591",
   "metadata": {},
   "outputs": [],
   "source": [
    "c[0]=-100 #change first element to -100"
   ]
  },
  {
   "cell_type": "code",
   "execution_count": 115,
   "id": "18212077-a7be-440b-a9b1-c4ba033f4881",
   "metadata": {},
   "outputs": [
    {
     "data": {
      "text/plain": [
       "[-100, 2, 3, 4, 5]"
      ]
     },
     "execution_count": 115,
     "metadata": {},
     "output_type": "execute_result"
    }
   ],
   "source": [
    "c"
   ]
  },
  {
   "cell_type": "code",
   "execution_count": 117,
   "id": "5c1e97bb-56cc-40e1-83fa-a0a180e765ac",
   "metadata": {},
   "outputs": [],
   "source": [
    "c_tuple=(1,2,3,4,5)"
   ]
  },
  {
   "cell_type": "code",
   "execution_count": 119,
   "id": "2c4ba939-a4ef-4fc6-8298-7749a18b12a2",
   "metadata": {},
   "outputs": [
    {
     "ename": "TypeError",
     "evalue": "'tuple' object does not support item assignment",
     "output_type": "error",
     "traceback": [
      "\u001b[0;31m---------------------------------------------------------------------------\u001b[0m",
      "\u001b[0;31mTypeError\u001b[0m                                 Traceback (most recent call last)",
      "Cell \u001b[0;32mIn[119], line 1\u001b[0m\n\u001b[0;32m----> 1\u001b[0m c_tuple[\u001b[38;5;241m0\u001b[39m] \u001b[38;5;241m=\u001b[39m\u001b[38;5;241m-\u001b[39m\u001b[38;5;241m100\u001b[39m\n",
      "\u001b[0;31mTypeError\u001b[0m: 'tuple' object does not support item assignment"
     ]
    }
   ],
   "source": [
    "c_tuple[0] =-100"
   ]
  },
  {
   "cell_type": "markdown",
   "id": "f20b0de6-ce20-44f0-b0d0-7ba1614bcdc4",
   "metadata": {},
   "source": [
    "- good to have things available to have failsafes for daya"
   ]
  },
  {
   "attachments": {},
   "cell_type": "markdown",
   "id": "27368fff",
   "metadata": {},
   "source": [
    "## 1.6 Be VERY careful when copying"
   ]
  },
  {
   "cell_type": "markdown",
   "id": "593644fb-b9c8-4723-805a-7f35df0c1897",
   "metadata": {},
   "source": [
    "- be particularly mindful when making copies of lists and arrays.\n",
    "- use copy() to be safe"
   ]
  },
  {
   "cell_type": "code",
   "execution_count": 127,
   "id": "640ec767-abec-4a35-83c0-6d76a751d1c4",
   "metadata": {},
   "outputs": [
    {
     "name": "stdout",
     "output_type": "stream",
     "text": [
      "id(x)=4436357888, id(y)=4436357888, id(z)=4436357888\n"
     ]
    }
   ],
   "source": [
    "x=[1, 2, 3]\n",
    "y=x           # DON'T do this!\n",
    "z=x           # DON'T do this!\n",
    "\n",
    "print(f'{id(x)=}, {id(y)=}, {id(z)=}')"
   ]
  },
  {
   "cell_type": "markdown",
   "id": "2547092c-f21e-4a5f-98d2-3457773a3c37",
   "metadata": {},
   "source": [
    "- NEVER do this^^ as far as python is concerned, x y and z are all the same\n",
    "- always use the copy function"
   ]
  },
  {
   "cell_type": "code",
   "execution_count": 129,
   "id": "f71baaaa-57e4-4ee6-9490-b69cfdc3ed01",
   "metadata": {},
   "outputs": [
    {
     "name": "stdout",
     "output_type": "stream",
     "text": [
      "id(x)=4436517312, id(y)=4436367616, id(z)=4436369088\n"
     ]
    }
   ],
   "source": [
    "x=[1, 2, 3]\n",
    "y=x.copy()\n",
    "z=x.copy()\n",
    "\n",
    "print(f'{id(x)=}, {id(y)=}, {id(z)=}')"
   ]
  },
  {
   "cell_type": "markdown",
   "id": "999a7700-b29a-490f-a250-611fe9573b3f",
   "metadata": {},
   "source": [
    "- different variables, working as intended"
   ]
  },
  {
   "attachments": {},
   "cell_type": "markdown",
   "id": "9ca2d9a6",
   "metadata": {},
   "source": [
    "# Exercises & Self-Assessment"
   ]
  },
  {
   "cell_type": "markdown",
   "id": "ec24d43c-d95d-4174-b9dc-efeea9ce00b1",
   "metadata": {},
   "source": [
    "**Growing lists**"
   ]
  },
  {
   "cell_type": "code",
   "execution_count": 108,
   "id": "0df95a5a-7891-425f-978a-fb0ed6b09b72",
   "metadata": {},
   "outputs": [
    {
     "name": "stdout",
     "output_type": "stream",
     "text": [
      "[0, 3, 6, 9, 12, 15, 18, 21, 24, 27]\n"
     ]
    }
   ],
   "source": [
    "threes_list = list(range(0,30,3))\n",
    "print(threes_list)"
   ]
  },
  {
   "cell_type": "code",
   "execution_count": 98,
   "id": "a8d06e80",
   "metadata": {},
   "outputs": [
    {
     "data": {
      "text/plain": [
       "[0, 3, 6, 9, 12, 15, 18, 21, 24, 27, 0, 3, 6, 9, 12, 15, 18, 21, 24, 27]"
      ]
     },
     "execution_count": 98,
     "metadata": {},
     "output_type": "execute_result"
    }
   ],
   "source": [
    "[0, 3, 6, 9, 12, 15, 18, 21, 24, 27] * 2"
   ]
  },
  {
   "cell_type": "code",
   "execution_count": 109,
   "id": "2fe03f34-2347-415b-91ac-6d18cdff26eb",
   "metadata": {},
   "outputs": [
    {
     "data": {
      "text/plain": [
       "[0, 3, 6, 9, 12, 15, 18, 21, 24, 27, 2, 4, 6, 8, 10]"
      ]
     },
     "execution_count": 109,
     "metadata": {},
     "output_type": "execute_result"
    }
   ],
   "source": [
    "threes_list = threes_list + [2,4,6,8,10]\n",
    "threes_list"
   ]
  },
  {
   "cell_type": "code",
   "execution_count": 110,
   "id": "e438cb29-5a17-4f8a-8a36-851af0037e68",
   "metadata": {},
   "outputs": [
    {
     "data": {
      "text/plain": [
       "[0, 3, 6, 9, 12, 15, 18, 21, 24, 27, 2, 4, 6, 8, 10, 7, 14]"
      ]
     },
     "execution_count": 110,
     "metadata": {},
     "output_type": "execute_result"
    }
   ],
   "source": [
    "threes_list+=[7,14]\n",
    "threes_list"
   ]
  },
  {
   "cell_type": "code",
   "execution_count": 115,
   "id": "05f6b99e-eac1-417b-9276-73ea2debcadc",
   "metadata": {},
   "outputs": [
    {
     "data": {
      "text/plain": [
       "[0, 3, 6, 9, 12, 15, 18, 21, 24, 27, 2, 4, 6, 8, 10, 7, 14, 100, 100, 100, 100]"
      ]
     },
     "execution_count": 115,
     "metadata": {},
     "output_type": "execute_result"
    }
   ],
   "source": [
    "threes_list.append(100) #ran the cell 4 times\n",
    "threes_list"
   ]
  },
  {
   "cell_type": "markdown",
   "id": "1c3ce530-2252-41ad-b1d4-97f9f4669251",
   "metadata": {},
   "source": [
    "**multiple elements when growing lists**"
   ]
  },
  {
   "cell_type": "code",
   "execution_count": 118,
   "id": "391165fb-78d9-4e89-bd1d-4c3314803228",
   "metadata": {},
   "outputs": [],
   "source": [
    "randomlist = list(range(15,20))"
   ]
  },
  {
   "cell_type": "code",
   "execution_count": 119,
   "id": "f664b6c5-19ef-4da0-9f8c-5d2cbe68d412",
   "metadata": {},
   "outputs": [
    {
     "data": {
      "text/plain": [
       "[15, 16, 17, 18, 19]"
      ]
     },
     "execution_count": 119,
     "metadata": {},
     "output_type": "execute_result"
    }
   ],
   "source": [
    "randomlist"
   ]
  },
  {
   "cell_type": "code",
   "execution_count": 120,
   "id": "4bc9d058-8b9b-48dc-a8b2-99a52841c46d",
   "metadata": {},
   "outputs": [
    {
     "data": {
      "text/plain": [
       "[15, 16, 17, 18, 19, 'hello', 20, 22]"
      ]
     },
     "execution_count": 120,
     "metadata": {},
     "output_type": "execute_result"
    }
   ],
   "source": [
    "randomlist+=['hello', 20, 22]\n",
    "randomlist"
   ]
  },
  {
   "cell_type": "code",
   "execution_count": 121,
   "id": "88385b30-6225-4e42-a599-76093b6e8c3c",
   "metadata": {},
   "outputs": [],
   "source": [
    "randomlist.extend([23, 24])"
   ]
  },
  {
   "cell_type": "code",
   "execution_count": 122,
   "id": "e2275c68-02c7-4ade-bd9c-b9ca4f164a92",
   "metadata": {},
   "outputs": [
    {
     "data": {
      "text/plain": [
       "[15, 16, 17, 18, 19, 'hello', 20, 22, 23, 24]"
      ]
     },
     "execution_count": 122,
     "metadata": {},
     "output_type": "execute_result"
    }
   ],
   "source": [
    "randomlist"
   ]
  },
  {
   "cell_type": "code",
   "execution_count": 127,
   "id": "f787b211-763d-415a-beb8-9ceb85b7f984",
   "metadata": {},
   "outputs": [],
   "source": [
    "randomlist.append([26,27,28])"
   ]
  },
  {
   "cell_type": "code",
   "execution_count": 128,
   "id": "19f04a71-1382-4f33-8aba-c9d5e51fe81e",
   "metadata": {},
   "outputs": [
    {
     "data": {
      "text/plain": [
       "[15, 16, 17, 18, 19, 'hello', 20, 22, 23, 24, [26, 27, 28]]"
      ]
     },
     "execution_count": 128,
     "metadata": {},
     "output_type": "execute_result"
    }
   ],
   "source": [
    "randomlist"
   ]
  },
  {
   "cell_type": "markdown",
   "id": "a1aded13-8501-4a20-9891-ff3feae10184",
   "metadata": {},
   "source": [
    "- extend and append only work on the end of the list"
   ]
  },
  {
   "cell_type": "markdown",
   "id": "36472508-3a6a-44f6-81a2-7592d6fd56a3",
   "metadata": {},
   "source": [
    "**other edits that can be made to lists**\n",
    "- insert()\n",
    "    - first number is the index, next is whatever element you want inserted\n",
    "- remove.() -- i made a mistake counting the index i was inserting \"25\" so i used it to remove the wrong number\n",
    "    - removes the first occurence of that thing in the list (if it exists)\n",
    "- can replace element by assigning a new thing to its index in the list"
   ]
  },
  {
   "cell_type": "code",
   "execution_count": 135,
   "id": "db3a39a1-5393-477c-904c-df55d7c8f40c",
   "metadata": {},
   "outputs": [],
   "source": [
    "randomlist.insert(10,25)"
   ]
  },
  {
   "cell_type": "code",
   "execution_count": 136,
   "id": "654620fd-4da3-4c91-8144-19c3fb5075d4",
   "metadata": {},
   "outputs": [
    {
     "data": {
      "text/plain": [
       "[15, 16, 17, 18, 19, 'hello', 20, 22, 23, 24, 25, [26, 27, 28]]"
      ]
     },
     "execution_count": 136,
     "metadata": {},
     "output_type": "execute_result"
    }
   ],
   "source": [
    "randomlist"
   ]
  },
  {
   "cell_type": "code",
   "execution_count": 137,
   "id": "9f4de1d7-263d-4e7a-82c3-24d27dbd98e3",
   "metadata": {},
   "outputs": [
    {
     "data": {
      "text/plain": [
       "[15, 16, 17, 18, 19, 'goodbye', 20, 22, 23, 24, 25, [26, 27, 28]]"
      ]
     },
     "execution_count": 137,
     "metadata": {},
     "output_type": "execute_result"
    }
   ],
   "source": [
    "randomlist[5]= \"goodbye\"\n",
    "randomlist"
   ]
  },
  {
   "attachments": {},
   "cell_type": "markdown",
   "id": "5820e069",
   "metadata": {},
   "source": [
    "## Footnotes"
   ]
  }
 ],
 "metadata": {
  "kernelspec": {
   "display_name": "Python 3 (ipykernel)",
   "language": "python",
   "name": "python3"
  },
  "language_info": {
   "codemirror_mode": {
    "name": "ipython",
    "version": 3
   },
   "file_extension": ".py",
   "mimetype": "text/x-python",
   "name": "python",
   "nbconvert_exporter": "python",
   "pygments_lexer": "ipython3",
   "version": "3.11.5"
  },
  "toc": {
   "base_numbering": 1,
   "nav_menu": {},
   "number_sections": true,
   "sideBar": true,
   "skip_h1_title": false,
   "title_cell": "Table of Contents",
   "title_sidebar": "Contents",
   "toc_cell": false,
   "toc_position": {},
   "toc_section_display": true,
   "toc_window_display": false
  },
  "vscode": {
   "interpreter": {
    "hash": "31f2aee4e71d21fbe5cf8b01ff0e069b9275f58929596ceb00d14d90e3e16cd6"
   }
  }
 },
 "nbformat": 4,
 "nbformat_minor": 5
}
