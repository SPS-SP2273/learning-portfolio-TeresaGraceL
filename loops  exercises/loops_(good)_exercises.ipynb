{
 "cells": [
  {
   "attachments": {},
   "cell_type": "markdown",
   "id": "123456",
   "metadata": {},
   "source": [
    "<div style=\"text-align:left;font-size:2em\"><span style=\"font-weight:bolder;font-size:1.25em\">SP2273 | Learning Portfolio</span><br><br><span style=\"font-weight:bold;color:darkred\">Loops (Good) Exercises</span></div>"
   ]
  },
  {
   "cell_type": "markdown",
   "id": "1c7a7b9a-44d1-400d-a806-5a8652eba7cf",
   "metadata": {},
   "source": [
    "# Exercise 1 (Make an odd list)"
   ]
  },
  {
   "cell_type": "code",
   "execution_count": 1,
   "id": "47be2242-d095-4de4-897b-5b8b22280b72",
   "metadata": {},
   "outputs": [
    {
     "name": "stdout",
     "output_type": "stream",
     "text": [
      "the square of 1 is 1\n",
      "the square of 3 is 9\n",
      "the square of 5 is 25\n",
      "the square of 7 is 49\n",
      "the square of 9 is 81\n"
     ]
    }
   ],
   "source": [
    "for number in range(10):\n",
    "    if number % 2 == 0:\n",
    "        continue \n",
    "    square = number**2\n",
    "    print(f'the square of {number} is {square}')"
   ]
  },
  {
   "cell_type": "code",
   "execution_count": 2,
   "id": "a17de8e5-ba3a-48dc-8039-3372012c6dde",
   "metadata": {},
   "outputs": [
    {
     "data": {
      "text/plain": [
       "[1, 9, 25, 49, 81]"
      ]
     },
     "execution_count": 2,
     "metadata": {},
     "output_type": "execute_result"
    }
   ],
   "source": [
    "# need to generate a list for fair comparison\n",
    "odd_numbers = []\n",
    "for number in range(10):\n",
    "    if number % 2 == 0:\n",
    "        continue \n",
    "    square = number**2\n",
    "    odd_numbers.append(square)\n",
    "odd_numbers"
   ]
  },
  {
   "cell_type": "markdown",
   "id": "e89cdec9-b44b-489c-8829-1eded31679ff",
   "metadata": {},
   "source": [
    "# Exercise 2 (Make another odd list)"
   ]
  },
  {
   "cell_type": "code",
   "execution_count": 3,
   "id": "b5f23dac-b470-40e9-a5c9-af45a03288be",
   "metadata": {},
   "outputs": [
    {
     "data": {
      "text/plain": [
       "[1, 9, 25, 49, 81]"
      ]
     },
     "execution_count": 3,
     "metadata": {},
     "output_type": "execute_result"
    }
   ],
   "source": [
    "[number**2 for number in range(10) if number % 2 == 1]"
   ]
  },
  {
   "cell_type": "markdown",
   "id": "e7ccba55-6692-4f46-bc4d-495b9faba0e3",
   "metadata": {},
   "source": [
    "# Exercise 3 (Time me!)"
   ]
  },
  {
   "cell_type": "code",
   "execution_count": 4,
   "id": "b97f157b-3e48-427b-a74c-4dbb3a6428c5",
   "metadata": {},
   "outputs": [
    {
     "name": "stdout",
     "output_type": "stream",
     "text": [
      "387 ns ± 8.22 ns per loop (mean ± std. dev. of 7 runs, 1,000,000 loops each)\n"
     ]
    }
   ],
   "source": [
    "%%timeit \n",
    "[number**2 for number in range(10) if number % 2 == 1]"
   ]
  },
  {
   "cell_type": "code",
   "execution_count": 5,
   "id": "1079ae4c-7699-4e01-86a1-4a5884154eae",
   "metadata": {},
   "outputs": [
    {
     "name": "stdout",
     "output_type": "stream",
     "text": [
      "364 ns ± 5.75 ns per loop (mean ± std. dev. of 7 runs, 1,000,000 loops each)\n"
     ]
    }
   ],
   "source": [
    "%%timeit\n",
    "for number in range(10):\n",
    "    if number % 2 == 0:\n",
    "        continue \n",
    "    square = number**2\n",
    "    odd_numbers.append(square)"
   ]
  },
  {
   "cell_type": "markdown",
   "id": "8e9b3be7-b303-46d5-8192-53c636e60a44",
   "metadata": {},
   "source": [
    "- they are about the same speed, the solution in exercise 1 is very slightly faster"
   ]
  },
  {
   "cell_type": "markdown",
   "id": "4b6804ba-d22b-4c2d-ae60-c0c1c7e0313d",
   "metadata": {},
   "source": [
    "# Exercise 4 (A problem of decay)"
   ]
  },
  {
   "cell_type": "markdown",
   "id": "fe563810-e9e5-4bb4-bc1b-dff998c2047f",
   "metadata": {},
   "source": [
    "The initial quantity of a sample of a radioactive substance is 100 units, and it decays by 5% each year.  \n",
    "Use a while loop to determine how long the sample will take to reduce to half its original amount."
   ]
  },
  {
   "cell_type": "code",
   "execution_count": 6,
   "id": "236e085d-12ef-49dd-bdeb-a3bdbf7de40a",
   "metadata": {},
   "outputs": [
    {
     "name": "stdout",
     "output_type": "stream",
     "text": [
      "0\n",
      "1\n",
      "2\n",
      "3\n",
      "4\n"
     ]
    }
   ],
   "source": [
    "number = 0\n",
    "\n",
    "while number < 5:\n",
    "    print(number)\n",
    "    number += 1"
   ]
  },
  {
   "cell_type": "code",
   "execution_count": 1,
   "id": "2be64d9d-0c0d-47a1-b77c-a898143dfd91",
   "metadata": {},
   "outputs": [],
   "source": [
    "i = 10\n",
    "while (i < 6) and (i>-10):\n",
    "  print(i)\n",
    "  i -= 1"
   ]
  },
  {
   "cell_type": "code",
   "execution_count": 10,
   "id": "89bc470c-77f7-4d5d-b990-4b860d9735f5",
   "metadata": {},
   "outputs": [
    {
     "name": "stdout",
     "output_type": "stream",
     "text": [
      "0 95.0\n",
      "1 94.05\n",
      "2 93.1\n",
      "3 92.14999999999999\n",
      "4 91.19999999999999\n",
      "5 90.25\n",
      "6 89.3\n",
      "7 88.35\n",
      "8 87.39999999999999\n",
      "9 86.45\n",
      "10 85.5\n",
      "11 84.55\n",
      "12 83.6\n",
      "13 82.64999999999999\n",
      "14 81.7\n",
      "15 80.75\n",
      "16 79.8\n",
      "17 78.85\n",
      "18 77.89999999999999\n",
      "19 76.95\n",
      "20 76.0\n",
      "21 75.05\n",
      "22 74.1\n",
      "23 73.14999999999999\n",
      "24 72.2\n",
      "25 71.25\n",
      "26 70.3\n",
      "27 69.35\n",
      "28 68.39999999999999\n",
      "29 67.45\n",
      "30 66.5\n",
      "31 65.55\n",
      "32 64.6\n",
      "33 63.65\n",
      "34 62.699999999999996\n",
      "35 61.75\n",
      "36 60.8\n",
      "37 59.849999999999994\n",
      "38 58.9\n",
      "39 57.949999999999996\n",
      "40 57.0\n",
      "41 56.05\n",
      "42 55.099999999999994\n",
      "43 54.15\n",
      "44 53.199999999999996\n",
      "45 52.25\n",
      "46 51.3\n",
      "47 50.349999999999994\n",
      "48 49.4\n"
     ]
    }
   ],
   "source": [
    "original_substance = 100 \n",
    "\n",
    "while original_substance > 50 : \n",
    "    decayed_substance = original_substance*0.95\n",
    "    year = 100 - original_substance\n",
    "    print(year, decayed_substance)\n",
    "    original_substance -= 1\n",
    "    if decayed_substance < 50:\n",
    "        break"
   ]
  },
  {
   "cell_type": "markdown",
   "id": "e206c07a-b820-48e3-8af6-51cdaadc6314",
   "metadata": {},
   "source": [
    "- the year is the 48th year"
   ]
  },
  {
   "cell_type": "markdown",
   "id": "f2938b8b-029a-47b4-ba61-b9ab8cc75abe",
   "metadata": {},
   "source": [
    "# Exercise 5 (Changes in CO2)"
   ]
  },
  {
   "cell_type": "markdown",
   "id": "3a7df5b9-e95d-4b29-8188-6857d650d110",
   "metadata": {},
   "source": [
    "atmospheric CO2 levels for several years in a (year, CO2_level) format. The units are ppm.  \n",
    "Identify those years that showed an increase of CO2 of 3 ppm or more compared to the previous year. Please print out these years along with the corresponding change in concentration."
   ]
  },
  {
   "cell_type": "code",
   "execution_count": null,
   "id": "63a03f9f-892d-4cde-b26a-7af56b6e5788",
   "metadata": {},
   "outputs": [],
   "source": [
    "co2_data = [\n",
    "    (2000, 369.55), (2001, 371.14), (2002, 373.28), \n",
    "    (2003, 375.80), (2004, 377.52), (2005, 379.80), \n",
    "    (2006, 381.90), (2007, 383.79), (2008, 385.60), \n",
    "    (2009, 387.43), (2010, 389.90), (2011, 391.65), \n",
    "    (2012, 393.85), (2013, 396.52), (2014, 398.65),\n",
    "    (2015, 400.83), (2016, 404.24), (2017, 406.55), \n",
    "    (2018, 408.52), (2019, 411.44), (2020, 414.24)\n",
    "]"
   ]
  },
  {
   "cell_type": "code",
   "execution_count": null,
   "id": "541a96f8-7285-4422-a04d-0ec163195db6",
   "metadata": {},
   "outputs": [],
   "source": [
    "co2_data[10]"
   ]
  },
  {
   "cell_type": "code",
   "execution_count": null,
   "id": "d88628bb-d3ee-4bbc-ba28-3613097382b7",
   "metadata": {},
   "outputs": [],
   "source": []
  }
 ],
 "metadata": {
  "kernelspec": {
   "display_name": "Python 3 (ipykernel)",
   "language": "python",
   "name": "python3"
  },
  "language_info": {
   "codemirror_mode": {
    "name": "ipython",
    "version": 3
   },
   "file_extension": ".py",
   "mimetype": "text/x-python",
   "name": "python",
   "nbconvert_exporter": "python",
   "pygments_lexer": "ipython3",
   "version": "3.11.5"
  },
  "toc": {
   "base_numbering": 1,
   "nav_menu": {},
   "number_sections": true,
   "sideBar": true,
   "skip_h1_title": false,
   "title_cell": "Table of Contents",
   "title_sidebar": "Contents",
   "toc_cell": false,
   "toc_position": {},
   "toc_section_display": true,
   "toc_window_display": false
  },
  "vscode": {
   "interpreter": {
    "hash": "31f2aee4e71d21fbe5cf8b01ff0e069b9275f58929596ceb00d14d90e3e16cd6"
   }
  }
 },
 "nbformat": 4,
 "nbformat_minor": 5
}
