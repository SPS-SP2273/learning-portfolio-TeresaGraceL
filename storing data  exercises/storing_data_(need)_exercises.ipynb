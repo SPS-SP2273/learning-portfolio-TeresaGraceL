{
 "cells": [
  {
   "attachments": {},
   "cell_type": "markdown",
   "id": "123456",
   "metadata": {},
   "source": [
    "<div style=\"text-align:left;font-size:2em\"><span style=\"font-weight:bolder;font-size:1.25em\">SP2273 | Learning Portfolio</span><br><br><span style=\"font-weight:bold;color:darkred\">Storing Data (Need) Exercises</span></div>"
   ]
  },
  {
   "cell_type": "markdown",
   "id": "a75a65f8-c78a-45f1-836b-fa1b7f8d2b17",
   "metadata": {},
   "source": [
    "# Exercise 1 recall"
   ]
  },
  {
   "cell_type": "markdown",
   "id": "ef545bb6-2573-436b-8cf5-d4dc79df716a",
   "metadata": {},
   "source": [
    "**1. Two similarities between lists and arrays**\n",
    "- you can store and access data from both lists and arrays, using indexing and slicing \n",
    "- lists and arrays have some common functions/ can use the Python functions of mean, max and min on them\n",
    "\n",
    "**2. Two differences between lists and arrays**\n",
    "- lists are easier to grow than arrays (because adding them together or multiplying them causes the list to grow) and lists can store more than 1 data type (less fussy than arrays)\n",
    "- arrays are better and faster for mathematical operations (NumPy arrays are optimised for math)\n",
    "  - *you can ask arrays more questions*\n",
    "\n",
    "**3. What is a dictionary?**\n",
    "- A dictionary uses a key - value system to store data and allows data to be accessed easily *using the key*.\n",
    "- Using the items function you can view the keys and values in the dictionary."
   ]
  },
  {
   "cell_type": "markdown",
   "id": "2a6f9a0f-d50e-4a18-bc03-2c9f327e0223",
   "metadata": {},
   "source": [
    "# Exercise 2 Indexing"
   ]
  },
  {
   "cell_type": "code",
   "execution_count": 3,
   "id": "a77d099f-7961-4ef5-82d4-725b19a2ae24",
   "metadata": {},
   "outputs": [
    {
     "name": "stdout",
     "output_type": "stream",
     "text": [
      "['a1', 'c3', 'e5', 'g7', 'i9']\n"
     ]
    }
   ],
   "source": [
    "py_list = [\"a1\", \"b2\", \"c3\", \"d4\", \"e5\", \"f6\", \"g7\", \"h8\", \"i9\", \"j10\"] \n",
    "                    # Prints 'a1'\n",
    "                    # Prints 'c3'\n",
    "                    # Prints 'e5'\n",
    "                    # Prints 'g7'\n",
    "print(py_list[0:10:2])   # Prints 'i9'"
   ]
  },
  {
   "cell_type": "markdown",
   "id": "ce6921e4-3dca-4016-bff3-5039f6c38fdb",
   "metadata": {},
   "source": [
    "# Exercise 3 Indexing again"
   ]
  },
  {
   "cell_type": "code",
   "execution_count": 6,
   "id": "d8bc9fb3-9088-4d50-ab33-af0d98ecd227",
   "metadata": {},
   "outputs": [
    {
     "name": "stdout",
     "output_type": "stream",
     "text": [
      "Boron\n",
      "Boron\n"
     ]
    }
   ],
   "source": [
    "elements = ['Hydrogen',\n",
    "            'Helium', 'Lithium',\n",
    "            'Beryllium', 'Boron', 'Carbon',\n",
    "            'Nitrogen', 'Oxygen',\n",
    "            'Fluorine',\n",
    "            'Neon']\n",
    "\n",
    "print(elements[4])\n",
    "print(elements[-6])"
   ]
  },
  {
   "cell_type": "markdown",
   "id": "9425365e-6c21-49e0-9a8d-56a8e771e4d7",
   "metadata": {},
   "source": [
    "# Exercise 4 How Many Ones"
   ]
  },
  {
   "cell_type": "code",
   "execution_count": 8,
   "id": "83389f3c-347c-4993-88ef-5ab01b6a3d0a",
   "metadata": {},
   "outputs": [],
   "source": [
    "import numpy as np"
   ]
  },
  {
   "cell_type": "code",
   "execution_count": 9,
   "id": "51c6853b-99d2-411b-99ce-73874804e146",
   "metadata": {},
   "outputs": [],
   "source": [
    "numbers=[45, 60, 1, 30, 96, 1, 96, 57, 16, 1,\n",
    "        99, 62, 86, 43, 42, 60, 59, 1, 1, 35,\n",
    "        83, 47, 34, 28, 68, 23, 22, 92, 1, 79,\n",
    "        1, 29, 94, 72, 46, 47, 1, 74, 32, 20,\n",
    "        8, 37, 35, 1, 89, 29, 86, 19, 43, 61]                  "
   ]
  },
  {
   "cell_type": "code",
   "execution_count": 10,
   "id": "3e74e710-a7fb-444f-8fc3-4231b4b84761",
   "metadata": {},
   "outputs": [],
   "source": [
    "np_array_numbers = np.array(numbers)"
   ]
  },
  {
   "cell_type": "code",
   "execution_count": 13,
   "id": "641f502d-72ab-42c3-98e0-890a75211a66",
   "metadata": {},
   "outputs": [
    {
     "data": {
      "text/plain": [
       "50"
      ]
     },
     "execution_count": 13,
     "metadata": {},
     "output_type": "execute_result"
    }
   ],
   "source": [
    "len(np_array_numbers)"
   ]
  },
  {
   "cell_type": "code",
   "execution_count": 14,
   "id": "6fc2bc27-0510-4f44-8f24-a0da3e2b7b4c",
   "metadata": {},
   "outputs": [
    {
     "data": {
      "text/plain": [
       "array([False, False,  True, False, False,  True, False, False, False,\n",
       "        True, False, False, False, False, False, False, False,  True,\n",
       "        True, False, False, False, False, False, False, False, False,\n",
       "       False,  True, False,  True, False, False, False, False, False,\n",
       "        True, False, False, False, False, False, False,  True, False,\n",
       "       False, False, False, False, False])"
      ]
     },
     "execution_count": 14,
     "metadata": {},
     "output_type": "execute_result"
    }
   ],
   "source": [
    "np_array_numbers == 1"
   ]
  },
  {
   "cell_type": "code",
   "execution_count": 23,
   "id": "81df2635-cc6d-4fee-82eb-b1c4fade6799",
   "metadata": {},
   "outputs": [
    {
     "data": {
      "text/plain": [
       "9"
      ]
     },
     "execution_count": 23,
     "metadata": {},
     "output_type": "execute_result"
    }
   ],
   "source": [
    "sum(np_array_numbers == 1)"
   ]
  }
 ],
 "metadata": {
  "kernelspec": {
   "display_name": "Python 3 (ipykernel)",
   "language": "python",
   "name": "python3"
  },
  "language_info": {
   "codemirror_mode": {
    "name": "ipython",
    "version": 3
   },
   "file_extension": ".py",
   "mimetype": "text/x-python",
   "name": "python",
   "nbconvert_exporter": "python",
   "pygments_lexer": "ipython3",
   "version": "3.11.5"
  },
  "toc": {
   "base_numbering": 1,
   "nav_menu": {},
   "number_sections": true,
   "sideBar": true,
   "skip_h1_title": false,
   "title_cell": "Table of Contents",
   "title_sidebar": "Contents",
   "toc_cell": false,
   "toc_position": {},
   "toc_section_display": true,
   "toc_window_display": false
  },
  "vscode": {
   "interpreter": {
    "hash": "31f2aee4e71d21fbe5cf8b01ff0e069b9275f58929596ceb00d14d90e3e16cd6"
   }
  }
 },
 "nbformat": 4,
 "nbformat_minor": 5
}
