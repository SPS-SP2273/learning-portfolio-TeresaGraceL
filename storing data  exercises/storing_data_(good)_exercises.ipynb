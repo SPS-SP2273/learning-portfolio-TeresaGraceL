{
 "cells": [
  {
   "attachments": {},
   "cell_type": "markdown",
   "id": "123456",
   "metadata": {},
   "source": [
    "<div style=\"text-align:left;font-size:2em\"><span style=\"font-weight:bolder;font-size:1.25em\">SP2273 | Learning Portfolio</span><br><br><span style=\"font-weight:bold;color:darkred\">Storing Data (Good) Exercises</span></div>"
   ]
  },
  {
   "cell_type": "markdown",
   "id": "647e129e-ad13-4114-8267-d2384a3fa46e",
   "metadata": {},
   "source": [
    "# Exercise 1 recall"
   ]
  },
  {
   "cell_type": "markdown",
   "id": "b8008f34-a6e2-4b39-9452-65e3efcfb13b",
   "metadata": {},
   "source": [
    "| Term       | Brief Description                                                                                                                                                                                                     |\n",
    "|------------|-----------------------------------------------------------------------------------------------------------------------------------------------------------------------------------------------------------------------|\n",
    "| Subsetting | Subsetting is *selection*                                                                                                                                                                                             |\n",
    "| Indexing   | Indexing is accessing *selecting* an element from the list or array by calling its position with [ ]. The first element has a index of zero, the last element can also be called without knowing the length using -1. |\n",
    "| Slicing    | Slicing is accessing a few *selecting a range of* elements from the list or array [::], the default step is 1 but this can be changed.                                                                                |\n",
    "| Masking    | This can only be done on NumPy arrays - the mask will show only the values that are true *or false, if using the bitwise operator ~*.                                                                                                                  |"
   ]
  },
  {
   "cell_type": "markdown",
   "id": "34328ff0-b780-404f-bbb7-a143113a51e7",
   "metadata": {},
   "source": [
    "# Exercise 2 Show the 'odd' letters"
   ]
  },
  {
   "cell_type": "code",
   "execution_count": 4,
   "id": "c386d614-76d8-4301-86ea-7567bf55bfe2",
   "metadata": {},
   "outputs": [],
   "source": [
    "import numpy as np"
   ]
  },
  {
   "cell_type": "code",
   "execution_count": 5,
   "id": "576419b7-b6bb-49fc-9d56-506229fcc216",
   "metadata": {},
   "outputs": [],
   "source": [
    "np_array_2d = np.array([[1, \"A\"], [3, \"C\"], [2, \"B\"], [4, \"D\"],\n",
    "                        [5, \"E\"], [7, \"G\"], [6, \"F\"], [8, \"H\"],\n",
    "                        [10, \"J\"], [9, \"I\"]])"
   ]
  },
  {
   "cell_type": "code",
   "execution_count": 18,
   "id": "d027e3f3-e087-489a-839c-77ef281e5a65",
   "metadata": {},
   "outputs": [
    {
     "data": {
      "text/plain": [
       "array(['1', '3', '2', '4', '5', '7', '6', '8', '10', '9'], dtype='<U21')"
      ]
     },
     "execution_count": 18,
     "metadata": {},
     "output_type": "execute_result"
    }
   ],
   "source": [
    "np_array_2d[:,0] #subset all first elements"
   ]
  },
  {
   "cell_type": "code",
   "execution_count": 21,
   "id": "7f71d022-c46d-45a2-97ad-10e272c83987",
   "metadata": {},
   "outputs": [
    {
     "data": {
      "text/plain": [
       "array(['1', '3', '2', '4', '5', '7', '6', '8', '10', '9'], dtype='<U21')"
      ]
     },
     "execution_count": 21,
     "metadata": {},
     "output_type": "execute_result"
    }
   ],
   "source": [
    "numbers = np_array_2d[:,0] #subset all first elements\n",
    "numbers"
   ]
  },
  {
   "cell_type": "code",
   "execution_count": 24,
   "id": "b46e9ea1-f9ec-466b-be83-39d38972dc01",
   "metadata": {},
   "outputs": [
    {
     "data": {
      "text/plain": [
       "array([ 1,  3,  2,  4,  5,  7,  6,  8, 10,  9])"
      ]
     },
     "execution_count": 24,
     "metadata": {},
     "output_type": "execute_result"
    }
   ],
   "source": [
    "integers = numbers.astype(int) #convert to integers\n",
    "integers"
   ]
  },
  {
   "cell_type": "code",
   "execution_count": 32,
   "id": "215b202d-7f26-40f1-a2f2-caf8df3720a5",
   "metadata": {},
   "outputs": [
    {
     "data": {
      "text/plain": [
       "array([1, 1, 0, 0, 1, 1, 0, 0, 0, 1])"
      ]
     },
     "execution_count": 32,
     "metadata": {},
     "output_type": "execute_result"
    }
   ],
   "source": [
    "remainder = integers%2 #remainder for division\n",
    "remainder"
   ]
  },
  {
   "cell_type": "code",
   "execution_count": 35,
   "id": "7ce7d170-1ba3-4614-8dfd-ec8aaf7f6b9e",
   "metadata": {},
   "outputs": [
    {
     "data": {
      "text/plain": [
       "array([ True,  True, False, False,  True,  True, False, False, False,\n",
       "        True])"
      ]
     },
     "execution_count": 35,
     "metadata": {},
     "output_type": "execute_result"
    }
   ],
   "source": [
    "mask = remainder == 1 #mask that checks if remainder is zero\n",
    "mask"
   ]
  },
  {
   "cell_type": "code",
   "execution_count": 40,
   "id": "edb366c7-3ffa-4e7e-8c03-5b3ab9c1bfc9",
   "metadata": {},
   "outputs": [],
   "source": [
    "letters = np_array_2d[mask]"
   ]
  },
  {
   "cell_type": "code",
   "execution_count": 44,
   "id": "b40eef32-980f-4c2a-b1e9-6b108129532e",
   "metadata": {},
   "outputs": [
    {
     "data": {
      "text/plain": [
       "array([['1', 'A'],\n",
       "       ['3', 'C'],\n",
       "       ['5', 'E'],\n",
       "       ['7', 'G'],\n",
       "       ['9', 'I']], dtype='<U21')"
      ]
     },
     "execution_count": 44,
     "metadata": {},
     "output_type": "execute_result"
    }
   ],
   "source": [
    "letters"
   ]
  },
  {
   "cell_type": "code",
   "execution_count": 46,
   "id": "6240f071-4469-4459-877a-8a06dd0e7f3b",
   "metadata": {},
   "outputs": [
    {
     "data": {
      "text/plain": [
       "array(['1', 'A'], dtype='<U21')"
      ]
     },
     "execution_count": 46,
     "metadata": {},
     "output_type": "execute_result"
    }
   ],
   "source": [
    "letters[0]"
   ]
  },
  {
   "cell_type": "code",
   "execution_count": 53,
   "id": "231d6ddf-82c9-43bb-8fa2-b83e687b2c46",
   "metadata": {},
   "outputs": [
    {
     "data": {
      "text/plain": [
       "array(['A', 'C', 'E', 'G', 'I'], dtype='<U21')"
      ]
     },
     "execution_count": 53,
     "metadata": {},
     "output_type": "execute_result"
    }
   ],
   "source": [
    "letters[:,1] #mask to extract the corresponding elements - 2nd dimension"
   ]
  }
 ],
 "metadata": {
  "kernelspec": {
   "display_name": "Python 3 (ipykernel)",
   "language": "python",
   "name": "python3"
  },
  "language_info": {
   "codemirror_mode": {
    "name": "ipython",
    "version": 3
   },
   "file_extension": ".py",
   "mimetype": "text/x-python",
   "name": "python",
   "nbconvert_exporter": "python",
   "pygments_lexer": "ipython3",
   "version": "3.11.5"
  },
  "toc": {
   "base_numbering": 1,
   "nav_menu": {},
   "number_sections": true,
   "sideBar": true,
   "skip_h1_title": false,
   "title_cell": "Table of Contents",
   "title_sidebar": "Contents",
   "toc_cell": false,
   "toc_position": {},
   "toc_section_display": true,
   "toc_window_display": false
  },
  "vscode": {
   "interpreter": {
    "hash": "31f2aee4e71d21fbe5cf8b01ff0e069b9275f58929596ceb00d14d90e3e16cd6"
   }
  }
 },
 "nbformat": 4,
 "nbformat_minor": 5
}
