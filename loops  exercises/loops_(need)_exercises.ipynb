{
 "cells": [
  {
   "attachments": {},
   "cell_type": "markdown",
   "id": "123456",
   "metadata": {},
   "source": [
    "<div style=\"text-align:left;font-size:2em\"><span style=\"font-weight:bolder;font-size:1.25em\">SP2273 | Learning Portfolio</span><br><br><span style=\"font-weight:bold;color:darkred\">Loops (Need) Exercises</span></div>"
   ]
  },
  {
   "cell_type": "markdown",
   "id": "a7ea9b0f-cb3d-4686-b854-5ab638523424",
   "metadata": {},
   "source": [
    "# Exercise 1 (Celcius to Farenheit)"
   ]
  },
  {
   "cell_type": "markdown",
   "id": "2f484024-1534-44a3-b3e3-3a9e2462d26d",
   "metadata": {},
   "source": [
    "formula for celcius to farenheit:  \n",
    "(x°C × 9/5) + 32"
   ]
  },
  {
   "cell_type": "code",
   "execution_count": 14,
   "id": "dec1fc74-cba0-48f9-9901-3c6e41739006",
   "metadata": {},
   "outputs": [],
   "source": [
    "temperatures_celsius = [\n",
    "    0, 5, 10, 15, 20, 25,\n",
    "    30, 35, 40, 45, 50\n",
    "]"
   ]
  },
  {
   "cell_type": "code",
   "execution_count": 49,
   "id": "3ff69c5c-fced-4e32-af7c-1fe5f0a568af",
   "metadata": {},
   "outputs": [
    {
     "name": "stdout",
     "output_type": "stream",
     "text": [
      "0 degrees celcius is 32.0 in farenheit\n",
      "5 degrees celcius is 41.0 in farenheit\n",
      "10 degrees celcius is 50.0 in farenheit\n",
      "15 degrees celcius is 59.0 in farenheit\n",
      "20 degrees celcius is 68.0 in farenheit\n",
      "25 degrees celcius is 77.0 in farenheit\n",
      "30 degrees celcius is 86.0 in farenheit\n",
      "35 degrees celcius is 95.0 in farenheit\n",
      "40 degrees celcius is 104.0 in farenheit\n",
      "45 degrees celcius is 113.0 in farenheit\n",
      "50 degrees celcius is 122.0 in farenheit\n"
     ]
    }
   ],
   "source": [
    "for temperature in temperatures_celsius:\n",
    "    f = (temperature * 9/5) + 32\n",
    "    print(f'{temperature} degrees celcius is {f} in farenheit')"
   ]
  },
  {
   "cell_type": "markdown",
   "id": "59d97099-4516-44d2-bee4-433083536c0f",
   "metadata": {},
   "source": [
    "# Exercise 2 Multiplication table"
   ]
  },
  {
   "cell_type": "code",
   "execution_count": 25,
   "id": "cb4c57aa-0d05-4c99-8339-3e4e2507dc9d",
   "metadata": {},
   "outputs": [
    {
     "name": "stdout",
     "output_type": "stream",
     "text": [
      "A1\tA2\tA3\t\n",
      "\n",
      "B1\tB2\tB3\t\n",
      "\n",
      "C1\tC2\tC3\t\n",
      "\n"
     ]
    }
   ],
   "source": [
    "for letter in ['A', 'B', 'C']:\n",
    "    for number in [1, 2, 3]:\n",
    "        print(f'{letter}{number}', end='\\t')\n",
    "    print('\\n')"
   ]
  },
  {
   "cell_type": "code",
   "execution_count": 26,
   "id": "5f7386a5-fd4a-49a6-b69c-b48ad376f0eb",
   "metadata": {},
   "outputs": [
    {
     "name": "stdout",
     "output_type": "stream",
     "text": [
      "A1\tA2\tA3\tA1\tA2\tA3\t\n",
      "\n",
      "B1\tB2\tB3\tB1\tB2\tB3\t\n",
      "\n",
      "C1\tC2\tC3\tC1\tC2\tC3\t\n",
      "\n"
     ]
    }
   ],
   "source": [
    "for letter in ['A', 'B', 'C']:\n",
    "    for number in [1, 2, 3]:\n",
    "        print(f'{letter}{number}', end='\\t')\n",
    "    for number in [1, 2, 3]:\n",
    "        print(f'{letter}{number}', end='\\t')\n",
    "    print('\\n')"
   ]
  },
  {
   "cell_type": "code",
   "execution_count": 50,
   "id": "a7cd7174-7654-4442-83be-68bc4e0f4171",
   "metadata": {},
   "outputs": [
    {
     "name": "stdout",
     "output_type": "stream",
     "text": [
      "A1\tA2\tA3\tA4\tA5\tA6\t\n",
      "\n",
      "B1\tB2\tB3\tB4\tB5\tB6\t\n",
      "\n",
      "C1\tC2\tC3\tC4\tC5\tC6\t\n",
      "\n"
     ]
    }
   ],
   "source": [
    "for letter in ['A', 'B', 'C']:\n",
    "    for number in [1, 2, 3]:\n",
    "        print(f'{letter}{number}', end='\\t')\n",
    "    for number in [4, 5, 6]:\n",
    "        print(f'{letter}{number}', end='\\t')\n",
    "    print('\\n')"
   ]
  },
  {
   "cell_type": "code",
   "execution_count": 28,
   "id": "5b547cec-95c3-44e7-9233-22d5b6d9196c",
   "metadata": {},
   "outputs": [
    {
     "name": "stdout",
     "output_type": "stream",
     "text": [
      "A1\tA2\tA3\tA4\tA5\tA6\tA7\tA8\t\n",
      "\n",
      "B1\tB2\tB3\tB4\tB5\tB6\tB7\tB8\t\n",
      "\n",
      "C1\tC2\tC3\tC4\tC5\tC6\tC7\tC8\t\n",
      "\n",
      "D1\tD2\tD3\tD4\tD5\tD6\tD7\tD8\t\n",
      "\n",
      "E1\tE2\tE3\tE4\tE5\tE6\tE7\tE8\t\n",
      "\n",
      "F1\tF2\tF3\tF4\tF5\tF6\tF7\tF8\t\n",
      "\n"
     ]
    }
   ],
   "source": [
    "for letter in ['A', 'B', 'C', 'D', 'E', 'F']:\n",
    "    for \n",
    "    for number in [1, 2, 3, 4, 5]:\n",
    "        print(f'{letter}{number}', end='\\t')\n",
    "    for number in [6, 7, 8]:\n",
    "        print(f'{letter}{number}', end='\\t')\n",
    "    print('\\n')"
   ]
  },
  {
   "cell_type": "markdown",
   "id": "56c315c5-1208-43f3-91fe-9e726b383385",
   "metadata": {},
   "source": [
    "**Task: Print a multiplication table up to 5 using nested for loops**"
   ]
  },
  {
   "cell_type": "code",
   "execution_count": 53,
   "id": "941e1c9a-e1a2-4f31-8d4e-313c41e74947",
   "metadata": {},
   "outputs": [
    {
     "name": "stdout",
     "output_type": "stream",
     "text": [
      "1 :\t1\t2\t3\t4\t5\t\n",
      "\n",
      "2 :\t2\t4\t6\t8\t10\t\n",
      "\n",
      "3 :\t3\t6\t9\t12\t15\t\n",
      "\n",
      "4 :\t4\t8\t12\t16\t20\t\n",
      "\n",
      "5 :\t5\t10\t15\t20\t25\t\n",
      "\n"
     ]
    }
   ],
   "source": [
    "for first_num in [1, 2, 3, 4, 5]:\n",
    "    print(f'{first_num} :', end='\\t')\n",
    "    for number in [1, 2, 3, 4, 5]:\n",
    "        print(first_num*number, end='\\t')\n",
    "    print('\\n')"
   ]
  }
 ],
 "metadata": {
  "kernelspec": {
   "display_name": "Python 3 (ipykernel)",
   "language": "python",
   "name": "python3"
  },
  "language_info": {
   "codemirror_mode": {
    "name": "ipython",
    "version": 3
   },
   "file_extension": ".py",
   "mimetype": "text/x-python",
   "name": "python",
   "nbconvert_exporter": "python",
   "pygments_lexer": "ipython3",
   "version": "3.11.5"
  },
  "toc": {
   "base_numbering": 1,
   "nav_menu": {},
   "number_sections": true,
   "sideBar": true,
   "skip_h1_title": false,
   "title_cell": "Table of Contents",
   "title_sidebar": "Contents",
   "toc_cell": false,
   "toc_position": {},
   "toc_section_display": true,
   "toc_window_display": false
  },
  "vscode": {
   "interpreter": {
    "hash": "31f2aee4e71d21fbe5cf8b01ff0e069b9275f58929596ceb00d14d90e3e16cd6"
   }
  }
 },
 "nbformat": 4,
 "nbformat_minor": 5
}
