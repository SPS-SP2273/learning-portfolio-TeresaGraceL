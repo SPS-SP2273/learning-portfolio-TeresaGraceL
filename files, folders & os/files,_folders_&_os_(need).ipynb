{
 "cells": [
  {
   "attachments": {},
   "cell_type": "markdown",
   "id": "123456",
   "metadata": {},
   "source": [
    "<div style=\"text-align:left;font-size:2em\"><span style=\"font-weight:bolder;font-size:1.25em\">SP2273 | Learning Portfolio</span><br><br><span style=\"font-weight:bold;color:darkred\">Files, Folders & OS (Need)</span></div>"
   ]
  },
  {
   "cell_type": "code",
   "execution_count": 3,
   "id": "276fc95b-0ca6-4495-942c-2c7e0d3af401",
   "metadata": {},
   "outputs": [
    {
     "name": "stdout",
     "output_type": "stream",
     "text": [
      "zsh:1: command not found: dir\n"
     ]
    }
   ],
   "source": [
    "!dir #windows"
   ]
  },
  {
   "cell_type": "code",
   "execution_count": 5,
   "id": "c97d9f8d-5bc7-4338-ab92-ad2a41c13301",
   "metadata": {},
   "outputs": [
    {
     "name": "stdout",
     "output_type": "stream",
     "text": [
      "/Users/teresaleong/Desktop/learning-portfolio-TeresaGraceL/files, folders & os\n"
     ]
    }
   ],
   "source": [
    "!pwd #mac"
   ]
  },
  {
   "attachments": {},
   "cell_type": "markdown",
   "id": "6fc17d54",
   "metadata": {},
   "source": [
    "# What to expect in this chapter"
   ]
  },
  {
   "cell_type": "markdown",
   "id": "aaefd8cd-dbb5-4a13-bdd3-d48ff91ec255",
   "metadata": {},
   "source": [
    "In programming, you must communicate with the OS to create, modify, move, copy, and delete files and directories (folders). Different types of computers (eg mac, windows) have very different file structures so our code must be able to run on both types. There are many instances where we need to read and write files as well."
   ]
  },
  {
   "attachments": {},
   "cell_type": "markdown",
   "id": "df252aa9",
   "metadata": {},
   "source": [
    "# 1 Important concepts"
   ]
  },
  {
   "cell_type": "markdown",
   "id": "43364744-c7a4-4cc6-95e2-651d68d51881",
   "metadata": {},
   "source": [
    "folder and directory refer to the same thing here"
   ]
  },
  {
   "attachments": {},
   "cell_type": "markdown",
   "id": "5af07f40",
   "metadata": {},
   "source": [
    "## 1.1 Path"
   ]
  },
  {
   "cell_type": "markdown",
   "id": "45a9af8e-934c-4252-ada2-1c9cf141846a",
   "metadata": {},
   "source": [
    "a way to specify the location on the computer (like an address, will take you to file or folder)  \n",
    "\n",
    "tells us how to find a file or folder, can specify it two ways:\n",
    "\n",
    "- absolutely (fixes your file structure)\n",
    "- relatively (easier to use especially if later moving folders about)"
   ]
  },
  {
   "cell_type": "markdown",
   "id": "c0355662-db41-484d-8db7-2045780fde3c",
   "metadata": {},
   "source": [
    "Example: absolute path to a file on desktop on windows  \n",
    "C:\\\\Users\\Chammika\\Desktop\\data-01.txt"
   ]
  },
  {
   "attachments": {},
   "cell_type": "markdown",
   "id": "2c4673e3",
   "metadata": {},
   "source": [
    "## 1.2 More about relative paths"
   ]
  },
  {
   "cell_type": "markdown",
   "id": "ae542b14-f49d-44e2-a2d2-27904c41ae4f",
   "metadata": {},
   "source": [
    ".\t‘this folder’  \n",
    "..\t‘one folder above/ up’\n",
    "\n",
    "eg ../../../data.txt (go 3 folders up and look for this file)\n",
    "- this can cause problems if your file structure is not stable/ things are moved around"
   ]
  },
  {
   "attachments": {},
   "cell_type": "markdown",
   "id": "ef12c8f1",
   "metadata": {},
   "source": [
    "### macOS or Linux"
   ]
  },
  {
   "cell_type": "markdown",
   "id": "c8125470-0e3b-4e72-8d78-837440ec0d53",
   "metadata": {},
   "source": [
    "macOS and Linux allow you to use ~ to refer to your home directory.\n",
    "\n",
    "eg. look for a file on desktop using ~\\Desktop\\data-01.txt"
   ]
  },
  {
   "attachments": {},
   "cell_type": "markdown",
   "id": "a19994de",
   "metadata": {},
   "source": [
    "## 1.3 Path separator"
   ]
  },
  {
   "cell_type": "markdown",
   "id": "e020c02a-91e9-4276-9049-6f17a4021025",
   "metadata": {},
   "source": [
    "Windows uses \\ as the path separator while macOS or Linux uses /.  \n",
    "if you want to code to work on both systems you must not hardcode either path separator.\n",
    "\n",
    "the python os package can fix this problem."
   ]
  },
  {
   "attachments": {},
   "cell_type": "markdown",
   "id": "05db1137",
   "metadata": {},
   "source": [
    "## 1.4 Text files vs. Binary files"
   ]
  },
  {
   "cell_type": "markdown",
   "id": "fc7bf574-0002-4e89-9578-2b3b187feb4a",
   "metadata": {},
   "source": [
    "Text files are simple and can be opened, and their contents examined by almost any software (eg .txt, .md, .csv).  \n",
    "\n",
    "Binary files need some processing to make sense of what they contain. If we look at the raw data like in  a png file cannot understand it directly - we must know the format to be able to extract it. An important reason for binary files is size, because patterns can be compressed and more data can be stored taking less space."
   ]
  },
  {
   "attachments": {},
   "cell_type": "markdown",
   "id": "8918188b",
   "metadata": {},
   "source": [
    "## 1.5 Extensions"
   ]
  },
  {
   "cell_type": "markdown",
   "id": "5c9eef84-8cf5-4282-a032-134c29aa8c69",
   "metadata": {},
   "source": [
    "Files are usually named to end with an extension (name.extension).  \n",
    "This lets the operating system know what software or app to use to extract details.\n",
    "Be careful about changing the file extension because the OS will not know what to do with it."
   ]
  },
  {
   "attachments": {},
   "cell_type": "markdown",
   "id": "b1d54763",
   "metadata": {},
   "source": [
    "# 2 Opening and closing files"
   ]
  },
  {
   "attachments": {},
   "cell_type": "markdown",
   "id": "8478c922",
   "metadata": {},
   "source": [
    "## 2.1 Reading data"
   ]
  },
  {
   "cell_type": "code",
   "execution_count": 6,
   "id": "ca5e33b5-b78b-4783-a41c-ffd2437f82e8",
   "metadata": {},
   "outputs": [
    {
     "ename": "FileNotFoundError",
     "evalue": "[Errno 2] No such file or directory: 'spectrum-01.txt'",
     "output_type": "error",
     "traceback": [
      "\u001b[0;31m---------------------------------------------------------------------------\u001b[0m",
      "\u001b[0;31mFileNotFoundError\u001b[0m                         Traceback (most recent call last)",
      "Cell \u001b[0;32mIn[6], line 1\u001b[0m\n\u001b[0;32m----> 1\u001b[0m \u001b[38;5;28;01mwith\u001b[39;00m \u001b[38;5;28mopen\u001b[39m(\u001b[38;5;124m'\u001b[39m\u001b[38;5;124mspectrum-01.txt\u001b[39m\u001b[38;5;124m'\u001b[39m, \u001b[38;5;124m'\u001b[39m\u001b[38;5;124mr\u001b[39m\u001b[38;5;124m'\u001b[39m) \u001b[38;5;28;01mas\u001b[39;00m file:\n\u001b[1;32m      2\u001b[0m     file_content \u001b[38;5;241m=\u001b[39m file\u001b[38;5;241m.\u001b[39mread()\n\u001b[1;32m      4\u001b[0m \u001b[38;5;28mprint\u001b[39m(file_content)\n",
      "File \u001b[0;32m~/anaconda3/lib/python3.11/site-packages/IPython/core/interactiveshell.py:286\u001b[0m, in \u001b[0;36m_modified_open\u001b[0;34m(file, *args, **kwargs)\u001b[0m\n\u001b[1;32m    279\u001b[0m \u001b[38;5;28;01mif\u001b[39;00m file \u001b[38;5;129;01min\u001b[39;00m {\u001b[38;5;241m0\u001b[39m, \u001b[38;5;241m1\u001b[39m, \u001b[38;5;241m2\u001b[39m}:\n\u001b[1;32m    280\u001b[0m     \u001b[38;5;28;01mraise\u001b[39;00m \u001b[38;5;167;01mValueError\u001b[39;00m(\n\u001b[1;32m    281\u001b[0m         \u001b[38;5;124mf\u001b[39m\u001b[38;5;124m\"\u001b[39m\u001b[38;5;124mIPython won\u001b[39m\u001b[38;5;124m'\u001b[39m\u001b[38;5;124mt let you open fd=\u001b[39m\u001b[38;5;132;01m{\u001b[39;00mfile\u001b[38;5;132;01m}\u001b[39;00m\u001b[38;5;124m by default \u001b[39m\u001b[38;5;124m\"\u001b[39m\n\u001b[1;32m    282\u001b[0m         \u001b[38;5;124m\"\u001b[39m\u001b[38;5;124mas it is likely to crash IPython. If you know what you are doing, \u001b[39m\u001b[38;5;124m\"\u001b[39m\n\u001b[1;32m    283\u001b[0m         \u001b[38;5;124m\"\u001b[39m\u001b[38;5;124myou can use builtins\u001b[39m\u001b[38;5;124m'\u001b[39m\u001b[38;5;124m open.\u001b[39m\u001b[38;5;124m\"\u001b[39m\n\u001b[1;32m    284\u001b[0m     )\n\u001b[0;32m--> 286\u001b[0m \u001b[38;5;28;01mreturn\u001b[39;00m io_open(file, \u001b[38;5;241m*\u001b[39margs, \u001b[38;5;241m*\u001b[39m\u001b[38;5;241m*\u001b[39mkwargs)\n",
      "\u001b[0;31mFileNotFoundError\u001b[0m: [Errno 2] No such file or directory: 'spectrum-01.txt'"
     ]
    }
   ],
   "source": [
    "with open('spectrum-01.txt', 'r') as file:\n",
    "    file_content = file.read()\n",
    "\n",
    "print(file_content)"
   ]
  },
  {
   "cell_type": "markdown",
   "id": "134be799-41a8-40ea-b889-502022c17818",
   "metadata": {},
   "source": [
    "- The open() function ‘opens’ your file.\n",
    "- The 'r' specifies we only want to read from the file. Using with frees us from worrying about closing the file after we are done.\n",
    "- good to be clear so as not to overwrite files.\n",
    "\n"
   ]
  },
  {
   "attachments": {},
   "cell_type": "markdown",
   "id": "aacb25e1",
   "metadata": {},
   "source": [
    "## 2.2 Writing data"
   ]
  },
  {
   "cell_type": "code",
   "execution_count": 7,
   "id": "374dca16-aae2-4e93-b3d7-d2571c2eb673",
   "metadata": {},
   "outputs": [],
   "source": [
    "text = 'Far out in the uncharted backwaters of the unfashionable end of the western spiral arm of the Galaxy lies a small unregarded yellow sun.\\nOrbiting this at a distance of roughly ninety-two million miles is an utterly insignificant little blue green planet whose ape-descended life forms are so amazingly primitive that they still think digital watches are a pretty neat idea.'"
   ]
  },
  {
   "attachments": {},
   "cell_type": "markdown",
   "id": "7754f1ca",
   "metadata": {},
   "source": [
    "### Writing to a file in one go"
   ]
  },
  {
   "cell_type": "code",
   "execution_count": 10,
   "id": "2a129020",
   "metadata": {},
   "outputs": [],
   "source": [
    "with open('my-text-once.txt', 'w') as file:\n",
    "    file.write(text)"
   ]
  },
  {
   "cell_type": "markdown",
   "id": "67388b8b-7fed-42eb-8d79-19eb88f940f5",
   "metadata": {},
   "source": [
    "- w indicates opening the file for writing"
   ]
  },
  {
   "attachments": {},
   "cell_type": "markdown",
   "id": "492048f4",
   "metadata": {},
   "source": [
    "### Writing to a file, line by line"
   ]
  },
  {
   "cell_type": "code",
   "execution_count": 9,
   "id": "eb130442",
   "metadata": {},
   "outputs": [],
   "source": [
    "with open('my-text-lines.txt', 'w') as file:\n",
    "    for line in text.splitlines():\n",
    "        file.writelines(line)"
   ]
  },
  {
   "cell_type": "markdown",
   "id": "3800d16b-b2a4-42c0-bee4-78d002f1d8dc",
   "metadata": {},
   "source": [
    "- useful when dealing with data generated on the fly\n",
    "- writing to a file is a very slow operation, doing it in a loop slows it down\n",
    "- w writes the file - be careful not to overwrite important files\n",
    "- a appends it to the back"
   ]
  },
  {
   "cell_type": "code",
   "execution_count": 11,
   "id": "02042882-1e8e-43d0-8e08-b7ac2d2094a4",
   "metadata": {},
   "outputs": [
    {
     "data": {
      "text/plain": [
       "['Far out in the uncharted backwaters of the unfashionable end of the western spiral arm of the Galaxy lies a small unregarded yellow sun.',\n",
       " 'Orbiting this at a distance of roughly ninety-two million miles is an utterly insignificant little blue green planet whose ape-descended life forms are so amazingly primitive that they still think digital watches are a pretty neat idea.']"
      ]
     },
     "execution_count": 11,
     "metadata": {},
     "output_type": "execute_result"
    }
   ],
   "source": [
    "text.splitlines()"
   ]
  },
  {
   "cell_type": "code",
   "execution_count": 2,
   "id": "39433ca6-20c5-4ac7-b80b-70fb545defd7",
   "metadata": {},
   "outputs": [
    {
     "name": "stdout",
     "output_type": "stream",
     "text": [
      "/Users/teresaleong/Desktop/learning-portfolio-TeresaGraceL/files, folders & os\n"
     ]
    }
   ],
   "source": [
    "!pwd"
   ]
  },
  {
   "attachments": {},
   "cell_type": "markdown",
   "id": "f1ec4f77",
   "metadata": {},
   "source": [
    "# 3 Some useful packages"
   ]
  },
  {
   "cell_type": "code",
   "execution_count": 8,
   "id": "dac39786-0f26-4b1f-b421-7269116abebd",
   "metadata": {},
   "outputs": [],
   "source": [
    "import os\n",
    "import glob\n",
    "import shutil"
   ]
  },
  {
   "attachments": {},
   "cell_type": "markdown",
   "id": "35479a01",
   "metadata": {},
   "source": [
    "# 4 OS safe paths"
   ]
  },
  {
   "cell_type": "code",
   "execution_count": 9,
   "id": "366b748c-7635-45ec-a78e-569d29b952e5",
   "metadata": {},
   "outputs": [
    {
     "name": "stdout",
     "output_type": "stream",
     "text": [
      "./all-data/sg-data/data-01.txt\n"
     ]
    }
   ],
   "source": [
    "path = os.path.join('.', 'all-data', 'sg-data', 'data-01.txt')\n",
    "print(path)"
   ]
  },
  {
   "cell_type": "markdown",
   "id": "3ab43b21-480f-40ab-8692-c40b51f0452a",
   "metadata": {},
   "source": [
    "- best to write paths using this function.  \n",
    "- using os.path.join() will adjust your path with either / or \\ as necessary -- code will seamlessly run on all the OS."
   ]
  },
  {
   "attachments": {},
   "cell_type": "markdown",
   "id": "1f07acb4",
   "metadata": {},
   "source": [
    "# 5 Folders"
   ]
  },
  {
   "attachments": {},
   "cell_type": "markdown",
   "id": "8043e8f8",
   "metadata": {},
   "source": [
    "## 5.1 Creating folders"
   ]
  },
  {
   "cell_type": "markdown",
   "id": "32a8a4f2-e69c-4f61-84bb-fd0bd9938210",
   "metadata": {},
   "source": [
    "- be careful about files exisiting or not existing"
   ]
  },
  {
   "cell_type": "code",
   "execution_count": 10,
   "id": "03c664e7-fc23-4bf7-b782-a514ac7f5e44",
   "metadata": {},
   "outputs": [
    {
     "name": "stdout",
     "output_type": "stream",
     "text": [
      "Creating people/John\n",
      "Creating people/Paul\n",
      "Creating people/Ringo\n"
     ]
    }
   ],
   "source": [
    "os.mkdir('people')\n",
    "\n",
    "for person in ['John', 'Paul', 'Ringo']:\n",
    "    path = os.path.join('people', person)\n",
    "    print(f'Creating {path}')\n",
    "    os.mkdir(path)"
   ]
  },
  {
   "cell_type": "markdown",
   "id": "36e52d60-b15e-4efe-95e1-9a2cc61bfd35",
   "metadata": {},
   "source": [
    "- case sensitive\n",
    "- print statement is included to know what is happening\n",
    "- DO NOT use the os commands until you are sure something correct is happening"
   ]
  },
  {
   "attachments": {},
   "cell_type": "markdown",
   "id": "748c9c28",
   "metadata": {},
   "source": [
    "## 5.2 Checking for existence"
   ]
  },
  {
   "cell_type": "markdown",
   "id": "dd06867b-3079-4eff-a9bc-d1a847b8b7c9",
   "metadata": {},
   "source": [
    "Python refers to folders as files, it will complain if the file already exists. two ways to check if something exists:"
   ]
  },
  {
   "attachments": {},
   "cell_type": "markdown",
   "id": "ea9b976a",
   "metadata": {},
   "source": [
    "### Using try-except"
   ]
  },
  {
   "cell_type": "code",
   "execution_count": 11,
   "id": "8ef438dd",
   "metadata": {},
   "outputs": [
    {
     "name": "stdout",
     "output_type": "stream",
     "text": [
      "people/John already exists; skipping creation.\n",
      "people/Paul already exists; skipping creation.\n",
      "people/Ringo already exists; skipping creation.\n"
     ]
    }
   ],
   "source": [
    "for person in ['John', 'Paul', 'Ringo']:\n",
    "    path = os.path.join('people', person)\n",
    "    try:\n",
    "        os.mkdir(path)\n",
    "        print(f'Creating {path}')\n",
    "    except FileExistsError:\n",
    "        print(f'{path} already exists; skipping creation.')"
   ]
  },
  {
   "attachments": {},
   "cell_type": "markdown",
   "id": "63a31621",
   "metadata": {},
   "source": [
    "### Using os.path.exists()"
   ]
  },
  {
   "cell_type": "code",
   "execution_count": 12,
   "id": "7f6e0cd7",
   "metadata": {},
   "outputs": [
    {
     "name": "stdout",
     "output_type": "stream",
     "text": [
      "people/John already exists; skipping creation.\n",
      "people/Paul already exists; skipping creation.\n",
      "people/Ringo already exists; skipping creation.\n"
     ]
    }
   ],
   "source": [
    "for person in ['John', 'Paul', 'Ringo']:\n",
    "    path = os.path.join('people', person)\n",
    "    if os.path.exists(path):\n",
    "        print(f'{path} already exists; skipping creation.')\n",
    "    else:\n",
    "        os.mkdir(path)\n",
    "        print(f'Creating {path}')"
   ]
  },
  {
   "attachments": {},
   "cell_type": "markdown",
   "id": "180764e9",
   "metadata": {},
   "source": [
    "## 5.3 Copying files"
   ]
  },
  {
   "cell_type": "code",
   "execution_count": 18,
   "id": "8290d0ad-ce15-4ba8-99b7-a6a36a589395",
   "metadata": {},
   "outputs": [
    {
     "name": "stdout",
     "output_type": "stream",
     "text": [
      "Copied file to people/John\n",
      "Copied file to people/Paul\n",
      "Copied file to people/Ringo\n"
     ]
    }
   ],
   "source": [
    "for person in ['John', 'Paul', 'Ringo']:\n",
    "    path_to_destination = os.path.join('people', person)\n",
    "    shutil.copy('sp2273_logo.png', path_to_destination)\n",
    "    print(f'Copied file to {path_to_destination}')"
   ]
  },
  {
   "cell_type": "code",
   "execution_count": 19,
   "id": "9851494f-281a-410c-a361-dd41d92133e9",
   "metadata": {},
   "outputs": [
    {
     "name": "stdout",
     "output_type": "stream",
     "text": [
      "people/Ringo already exists!\n",
      "people/Ringo already exists!\n",
      "people/Ringo already exists!\n"
     ]
    }
   ],
   "source": [
    "file_to_copy = 'sp2273_logo.png'\n",
    "for person in ['John', 'Paul', 'Ringo']:\n",
    "    path_to_destination = os.path.join('people', person)\n",
    "    file_path = os.path.join(path_to_destination, file_to_copy)\n",
    "    \n",
    "    if os.path.exists(path_to_destination):\n",
    "        print(f'{path} already exists!')\n",
    "    else:\n",
    "        shutil.copy('file_to_copy', path_to_destination)\n",
    "        print(f'Copied {file_to_copy} to {path_to_destination}')"
   ]
  },
  {
   "cell_type": "markdown",
   "id": "34569183-7e3b-4268-a32f-30f85046a450",
   "metadata": {},
   "source": [
    "- all the images in a sub-folder called imgs in each person’s directory.\n",
    "- first creating the folders imgs and then moving the logo file into that folder."
   ]
  },
  {
   "cell_type": "code",
   "execution_count": 20,
   "id": "0cbdc0d8-e0e0-4dff-83bd-4f4e5b788870",
   "metadata": {},
   "outputs": [
    {
     "name": "stdout",
     "output_type": "stream",
     "text": [
      "Moved logo from people/John/sp2273_logo.png to people/John/imgs/sp2273_logo.png\n",
      "Moved logo from people/Paul/sp2273_logo.png to people/Paul/imgs/sp2273_logo.png\n",
      "Moved logo from people/Ringo/sp2273_logo.png to people/Ringo/imgs/sp2273_logo.png\n"
     ]
    }
   ],
   "source": [
    "file_to_copy ='sp2273_logo.png'\n",
    "for person in ['John', 'Paul', 'Ringo']:\n",
    "    \n",
    "    # Create folder 'imgs'\n",
    "    path_to_imgs = os.path.join('people', person, 'imgs')\n",
    "    if not os.path.exists(path_to_imgs):\n",
    "        os.mkdir(path_to_imgs)\n",
    "\n",
    "    # Move logo file\n",
    "    current_path_of_logo = os.path.join('people', person, file_to_copy)\n",
    "    new_path_of_logo = os.path.join('people', person, 'imgs', file_to_copy)\n",
    "\n",
    "    shutil.move(current_path_of_logo, new_path_of_logo)\n",
    "    print(f'Moved logo from {current_path_of_logo} to {new_path_of_logo}')"
   ]
  },
  {
   "cell_type": "markdown",
   "id": "c49b9d3d-5a2d-4d23-be2d-a4b264833c7c",
   "metadata": {},
   "source": [
    "- be paranoid because this can mess things up\n",
    "- Mac terminal and loops structure allows you to do things very fast"
   ]
  },
  {
   "attachments": {},
   "cell_type": "markdown",
   "id": "42c02680",
   "metadata": {},
   "source": [
    "# 6 Listing and looking for files"
   ]
  },
  {
   "cell_type": "code",
   "execution_count": 23,
   "id": "ce705b7f-fc61-45b6-96d1-7575e71cbf04",
   "metadata": {},
   "outputs": [
    {
     "name": "stdout",
     "output_type": "stream",
     "text": [
      "/Users/teresaleong/Desktop/learning-portfolio-TeresaGraceL/files, folders & os\n"
     ]
    }
   ],
   "source": [
    "!pwd"
   ]
  },
  {
   "cell_type": "markdown",
   "id": "c1440e91-a054-48a8-8b7b-47ec64b7d74f",
   "metadata": {},
   "source": [
    "**Example 1**\n",
    "- all the files in the current directory.\n",
    "- the asterisk is a wildcard, read as 'anything'."
   ]
  },
  {
   "cell_type": "code",
   "execution_count": 24,
   "id": "8a1e01f5-5238-4c13-9fe6-e9917b21b4ab",
   "metadata": {},
   "outputs": [
    {
     "data": {
      "text/plain": [
       "['my-text-once.txt',\n",
       " 'files,_folders_&_os_(need).ipynb',\n",
       " 'sp2273_logo.png',\n",
       " 'people',\n",
       " 'my-text-lines.txt']"
      ]
     },
     "execution_count": 24,
     "metadata": {},
     "output_type": "execute_result"
    }
   ],
   "source": [
    "glob.glob('*')"
   ]
  },
  {
   "cell_type": "markdown",
   "id": "7f66f477-2ef0-484d-bfe7-7840fa324fda",
   "metadata": {},
   "source": [
    "**Example 2** \n",
    "- files that match 'peo' followed by anything"
   ]
  },
  {
   "cell_type": "code",
   "execution_count": 26,
   "id": "7d4df5e7-352d-45a1-ad07-37de5fc1d8b9",
   "metadata": {},
   "outputs": [
    {
     "data": {
      "text/plain": [
       "['people']"
      ]
     },
     "execution_count": 26,
     "metadata": {},
     "output_type": "execute_result"
    }
   ],
   "source": [
    "glob.glob('peo*')"
   ]
  },
  {
   "cell_type": "markdown",
   "id": "43348ef6-b27b-4d55-9346-309ade3d260e",
   "metadata": {},
   "source": [
    "**Example 3**\n",
    "- what is inside the folders that start with peo"
   ]
  },
  {
   "cell_type": "code",
   "execution_count": 27,
   "id": "51eb2ca3-2da4-459c-b21a-cd28dea3f056",
   "metadata": {},
   "outputs": [
    {
     "data": {
      "text/plain": [
       "['people/Paul', 'people/John', 'people/Ringo']"
      ]
     },
     "execution_count": 27,
     "metadata": {},
     "output_type": "execute_result"
    }
   ],
   "source": [
    "glob.glob('peo*/*')"
   ]
  },
  {
   "cell_type": "markdown",
   "id": "7c362b14-8dda-4b9a-a5c5-1a3fb2cac444",
   "metadata": {},
   "source": [
    "**Example 4**\n",
    "- see the whole, detailed structure of the folder people\n",
    "- need to tell glob to search recursively (i.e. dig through all sub-file directories) by putting recursive=True.\n",
    "    - to be able to show you everything in the sub-file directories\n",
    "- must use two wildcards to say \"to all subdirectories\""
   ]
  },
  {
   "cell_type": "code",
   "execution_count": 28,
   "id": "359f0887-fd8a-48a3-ba74-9aa1f4ce74cf",
   "metadata": {},
   "outputs": [
    {
     "data": {
      "text/plain": [
       "['people/',\n",
       " 'people/Paul',\n",
       " 'people/Paul/imgs',\n",
       " 'people/Paul/imgs/sp2273_logo.png',\n",
       " 'people/John',\n",
       " 'people/John/imgs',\n",
       " 'people/John/imgs/sp2273_logo.png',\n",
       " 'people/Ringo',\n",
       " 'people/Ringo/imgs',\n",
       " 'people/Ringo/imgs/sp2273_logo.png']"
      ]
     },
     "execution_count": 28,
     "metadata": {},
     "output_type": "execute_result"
    }
   ],
   "source": [
    "glob.glob('people/**', recursive=True)"
   ]
  },
  {
   "cell_type": "markdown",
   "id": "dc0fed11-1737-424b-813f-cbfc3b90eb70",
   "metadata": {},
   "source": [
    "**Example 5**\n",
    "- looking only for png files"
   ]
  },
  {
   "cell_type": "code",
   "execution_count": 29,
   "id": "0e9e8f0e-91f9-43fd-bc16-bd27deb89980",
   "metadata": {},
   "outputs": [
    {
     "data": {
      "text/plain": [
       "['people/Paul/imgs/sp2273_logo.png',\n",
       " 'people/John/imgs/sp2273_logo.png',\n",
       " 'people/Ringo/imgs/sp2273_logo.png']"
      ]
     },
     "execution_count": 29,
     "metadata": {},
     "output_type": "execute_result"
    }
   ],
   "source": [
    "glob.glob('people/**/*.png', recursive=True)"
   ]
  },
  {
   "cell_type": "markdown",
   "id": "57034536-273d-4f12-8d5a-4f054d4228ac",
   "metadata": {},
   "source": [
    "- there are also regular expressions which glob is capable of handling\n",
    "- glob function belongs to glob package, glob has a lot of functions"
   ]
  },
  {
   "attachments": {},
   "cell_type": "markdown",
   "id": "c9398bcf",
   "metadata": {},
   "source": [
    "# 7 Extracting file info"
   ]
  },
  {
   "cell_type": "markdown",
   "id": "395b5c2b-b2d9-4bc4-866a-a7e310d019cd",
   "metadata": {},
   "source": [
    "- you can extract the file name, folder and extension by simple string manipulation\n",
    "- using the os.path.sep means that it will work on windows and on mac"
   ]
  },
  {
   "cell_type": "code",
   "execution_count": 32,
   "id": "1f837cc6-ede4-43d9-9f9c-8365a3b5c844",
   "metadata": {},
   "outputs": [
    {
     "name": "stdout",
     "output_type": "stream",
     "text": [
      "sp2273_logo.png has the extension png\n"
     ]
    }
   ],
   "source": [
    "path = 'people/Ringo/imgs/sp2273_logo.png'\n",
    "filename = path.split(os.path.sep)[-1]\n",
    "extension = filename.split('.')[-1]\n",
    "print(filename, 'has the extension', extension)"
   ]
  },
  {
   "cell_type": "markdown",
   "id": "18099f38-8cc2-4ae4-b737-7470dcafd6fc",
   "metadata": {},
   "source": [
    "using the idea of lists to get the file name"
   ]
  },
  {
   "cell_type": "markdown",
   "id": "688ef675-e5d9-43bc-9cba-81b37f6cf32b",
   "metadata": {},
   "source": [
    "**using functions in os**"
   ]
  },
  {
   "cell_type": "code",
   "execution_count": 37,
   "id": "aaf42620-0002-43b5-93c0-89752d5a2271",
   "metadata": {},
   "outputs": [
    {
     "data": {
      "text/plain": [
       "('people/Ringo/imgs', 'sp2273_logo.png')"
      ]
     },
     "execution_count": 37,
     "metadata": {},
     "output_type": "execute_result"
    }
   ],
   "source": [
    "os.path.split(path) #split filename from the rest"
   ]
  },
  {
   "cell_type": "code",
   "execution_count": 38,
   "id": "5a674d09-fbac-48a1-b2dd-0156fdaeea51",
   "metadata": {},
   "outputs": [
    {
     "data": {
      "text/plain": [
       "('people/Ringo/imgs/sp2273_logo', '.png')"
      ]
     },
     "execution_count": 38,
     "metadata": {},
     "output_type": "execute_result"
    }
   ],
   "source": [
    "os.path.splitext(path) #split extension"
   ]
  },
  {
   "cell_type": "code",
   "execution_count": 40,
   "id": "f5fc6e7a-940a-4875-a06d-366bac5f9e3c",
   "metadata": {},
   "outputs": [
    {
     "data": {
      "text/plain": [
       "'people/Ringo/imgs'"
      ]
     },
     "execution_count": 40,
     "metadata": {},
     "output_type": "execute_result"
    }
   ],
   "source": [
    "os.path.dirname(path) #show the directory"
   ]
  },
  {
   "attachments": {},
   "cell_type": "markdown",
   "id": "3dd54c77",
   "metadata": {},
   "source": [
    "# 8 Deleting stuff"
   ]
  },
  {
   "cell_type": "markdown",
   "id": "684d0d24-c17b-43a7-a1ff-c3f52bcfb58c",
   "metadata": {},
   "source": [
    "**be very careful with this** can do some damage"
   ]
  },
  {
   "cell_type": "markdown",
   "id": "3bcb1a09-370d-4f5d-a132-0d84d7716879",
   "metadata": {},
   "source": [
    "- os.remove works with files\n",
    "- os.rmdir works with empty directories\n",
    "- shutil works with directories with files"
   ]
  },
  {
   "cell_type": "code",
   "execution_count": 41,
   "id": "4e8a1419-56c0-45ab-b737-0a302545d07e",
   "metadata": {},
   "outputs": [],
   "source": [
    "os.remove('people/Ringo/imgs/sp2273_logo.png')"
   ]
  },
  {
   "cell_type": "code",
   "execution_count": 46,
   "id": "0dd08faa-bbc5-4eae-a8a1-756cdb055fa9",
   "metadata": {},
   "outputs": [
    {
     "ename": "OSError",
     "evalue": "[Errno 66] Directory not empty: 'people/Ringo'",
     "output_type": "error",
     "traceback": [
      "\u001b[0;31m---------------------------------------------------------------------------\u001b[0m",
      "\u001b[0;31mOSError\u001b[0m                                   Traceback (most recent call last)",
      "Cell \u001b[0;32mIn[46], line 1\u001b[0m\n\u001b[0;32m----> 1\u001b[0m os\u001b[38;5;241m.\u001b[39mrmdir(\u001b[38;5;124m'\u001b[39m\u001b[38;5;124mpeople/Ringo\u001b[39m\u001b[38;5;124m'\u001b[39m)\n",
      "\u001b[0;31mOSError\u001b[0m: [Errno 66] Directory not empty: 'people/Ringo'"
     ]
    }
   ],
   "source": [
    "os.rmdir('people/Ringo')"
   ]
  },
  {
   "cell_type": "code",
   "execution_count": 49,
   "id": "e604e43d-768b-4249-87b1-c2a6df2e8725",
   "metadata": {},
   "outputs": [],
   "source": [
    "shutil.rmtree('people/Ringo')"
   ]
  },
  {
   "cell_type": "markdown",
   "id": "3290f7e6-0a04-43e8-b90a-dc586699dbdd",
   "metadata": {},
   "source": [
    "- side note JPGS are lossy formats\n",
    "- good to know what data format to save data in"
   ]
  }
 ],
 "metadata": {
  "kernelspec": {
   "display_name": "Python 3 (ipykernel)",
   "language": "python",
   "name": "python3"
  },
  "language_info": {
   "codemirror_mode": {
    "name": "ipython",
    "version": 3
   },
   "file_extension": ".py",
   "mimetype": "text/x-python",
   "name": "python",
   "nbconvert_exporter": "python",
   "pygments_lexer": "ipython3",
   "version": "3.11.5"
  },
  "toc": {
   "base_numbering": 1,
   "nav_menu": {},
   "number_sections": true,
   "sideBar": true,
   "skip_h1_title": false,
   "title_cell": "Table of Contents",
   "title_sidebar": "Contents",
   "toc_cell": false,
   "toc_position": {},
   "toc_section_display": true,
   "toc_window_display": false
  },
  "vscode": {
   "interpreter": {
    "hash": "31f2aee4e71d21fbe5cf8b01ff0e069b9275f58929596ceb00d14d90e3e16cd6"
   }
  }
 },
 "nbformat": 4,
 "nbformat_minor": 5
}
